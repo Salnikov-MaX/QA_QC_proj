{
 "cells": [
  {
   "cell_type": "code",
   "execution_count": 8,
   "metadata": {},
   "outputs": [
    {
     "name": "stderr",
     "output_type": "stream",
     "text": [
      "D:\\Work\\QA_QC_proj\\utils\\GRDCL_parser\\GRDECL2VTK.py:23: UserWarning: No vtk module loaded.\n",
      "  warnings.warn(\"No vtk module loaded.\")\n",
      "D:\\Work\\QA_QC_proj\\utils\\GRDCL_parser\\GRDECL_FaultProcess.py:37: UserWarning: No shapely module loaded.\n",
      "  warnings.warn(\"No shapely module loaded.\")\n"
     ]
    }
   ],
   "source": [
    "from GRDECL2VTK import *\n",
    "from GRDECL_Parser_my import GRDECL_Parser_my\n",
    "import fileinput\n",
    "import sys\n",
    "import os"
   ]
  },
  {
   "cell_type": "code",
   "execution_count": 9,
   "metadata": {},
   "outputs": [],
   "source": [
    "def replaceAll(file, searchExp, replaceExp):\n",
    "    for line in fileinput.input(file, inplace=1):\n",
    "        if searchExp in line:\n",
    "            line = line.replace(searchExp,replaceExp)\n",
    "        sys.stdout.write(line)"
   ]
  },
  {
   "cell_type": "code",
   "execution_count": 10,
   "metadata": {},
   "outputs": [],
   "source": [
    "directory = 'input/directly/'"
   ]
  },
  {
   "cell_type": "code",
   "execution_count": 11,
   "metadata": {},
   "outputs": [
    {
     "name": "stdout",
     "output_type": "stream",
     "text": [
      "[Input] Reading ECLIPSE/PETREL file \"input/grid_1.GRDECL\" ....\n",
      "     Grid Type=CornerPoint\n",
      "     Grid Dimension(NX,NY,NZ): (100 x 56 x 30)\n",
      "     NumOfGrids=168000\n",
      "     NumOfKeywords=10\n",
      "     Reading Keywords [SPECGRID] \n",
      "     [Warnning] Unsupport keywords[COORDSYS]\n",
      "     [Warnning] Unsupport keywords[]\n",
      ".....Done!\n"
     ]
    }
   ],
   "source": [
    "grid_file = 'input/' + 'grid_1.GRDECL'\n",
    "\n",
    "replaceAll(grid_file,'-- Generated : Petrel',\" \")\n",
    "model_grid_data_2 = GeologyModel(filename=grid_file)"
   ]
  },
  {
   "cell_type": "code",
   "execution_count": 12,
   "metadata": {},
   "outputs": [
    {
     "data": {
      "text/plain": "['Poro1_2.GRDECL', 'Poro1_3.GRDECL', 'Poro1_4.GRDECL', 'Poro1_5.GRDECL']"
     },
     "execution_count": 12,
     "metadata": {},
     "output_type": "execute_result"
    }
   ],
   "source": [
    "from os import listdir\n",
    "from os.path import isfile, join\n",
    "onlyfiles = [f for f in listdir(directory) if isfile(join(directory, f))]\n",
    "onlyfiles[:]"
   ]
  },
  {
   "cell_type": "code",
   "execution_count": 13,
   "metadata": {},
   "outputs": [
    {
     "name": "stdout",
     "output_type": "stream",
     "text": [
      "Starting custom script!!!\n",
      "[Input] Reading ECLIPSE/PETREL file \"input/directly/Poro1_2.GRDECL\" ....\n",
      ".....Done!\n",
      "Starting custom script!!!\n",
      "[Input] Reading ECLIPSE/PETREL file \"input/directly/Poro1_3.GRDECL\" ....\n",
      ".....Done!\n",
      "Starting custom script!!!\n",
      "[Input] Reading ECLIPSE/PETREL file \"input/directly/Poro1_4.GRDECL\" ....\n",
      ".....Done!\n",
      "Starting custom script!!!\n",
      "[Input] Reading ECLIPSE/PETREL file \"input/directly/Poro1_5.GRDECL\" ....\n",
      ".....Done!\n"
     ]
    }
   ],
   "source": [
    "for i in onlyfiles[:]:\n",
    "    poro_file = directory + i\n",
    "    replaceAll(poro_file,'-- Generated : Petrel',\" \")\n",
    "    poro_data = GRDECL_Parser_my(filename=poro_file, grid_data=False, GRID_type=model_grid_data_2.GRDECL_Data.GRID_type, grid_dim=[\n",
    "                                    model_grid_data_2.GRDECL_Data.NX, model_grid_data_2.GRDECL_Data.NY, model_grid_data_2.GRDECL_Data.NZ])\n",
    "    model_grid_data_2.GRDECL_Data.SpatialDatas[i] = poro_data.PORO"
   ]
  },
  {
   "cell_type": "code",
   "execution_count": 14,
   "metadata": {},
   "outputs": [
    {
     "data": {
      "text/plain": "{'Poro1_2.GRDECL': array([0., 0., 0., ..., 0., 0., 0.]),\n 'Poro1_3.GRDECL': array([0., 0., 0., ..., 0., 0., 0.]),\n 'Poro1_4.GRDECL': array([0.166192, 0.170196, 0.164337, ..., 0.      , 0.      , 0.      ]),\n 'Poro1_5.GRDECL': array([0.      , 0.      , 0.173912, ..., 0.      , 0.      , 0.      ])}"
     },
     "execution_count": 14,
     "metadata": {},
     "output_type": "execute_result"
    }
   ],
   "source": [
    "result = model_grid_data_2.GRDECL_Data.SpatialDatas\n",
    "result"
   ]
  },
  {
   "cell_type": "code",
   "execution_count": 20,
   "metadata": {},
   "outputs": [
    {
     "ename": "NameError",
     "evalue": "name 'k' is not defined",
     "output_type": "error",
     "traceback": [
      "\u001B[1;31m---------------------------------------------------------------------------\u001B[0m",
      "\u001B[1;31mNameError\u001B[0m                                 Traceback (most recent call last)",
      "Cell \u001B[1;32mIn[20], line 1\u001B[0m\n\u001B[1;32m----> 1\u001B[0m mask \u001B[38;5;241m=\u001B[39m result[\u001B[43mk\u001B[49m] \u001B[38;5;241m!=\u001B[39m \u001B[38;5;241m0\u001B[39m\n\u001B[0;32m      2\u001B[0m result[k][mask]\n",
      "\u001B[1;31mNameError\u001B[0m: name 'k' is not defined"
     ]
    }
   ],
   "source": [
    "mask = result[k] != 0\n",
    "result[k][mask]"
   ]
  },
  {
   "cell_type": "code",
   "execution_count": 21,
   "metadata": {},
   "outputs": [],
   "source": [
    "import seaborn as sns\n",
    "import statsmodels.api as sm\n",
    "import matplotlib.pyplot as plt\n"
   ]
  },
  {
   "cell_type": "code",
   "execution_count": 22,
   "metadata": {},
   "outputs": [
    {
     "name": "stdout",
     "output_type": "stream",
     "text": [
      "Poro1_2.GRDECL\n"
     ]
    },
    {
     "ename": "TypeError",
     "evalue": "lineplot() takes from 0 to 1 positional arguments but 2 were given",
     "output_type": "error",
     "traceback": [
      "\u001B[1;31m---------------------------------------------------------------------------\u001B[0m",
      "\u001B[1;31mTypeError\u001B[0m                                 Traceback (most recent call last)",
      "Cell \u001B[1;32mIn[22], line 5\u001B[0m\n\u001B[0;32m      3\u001B[0m mask \u001B[38;5;241m=\u001B[39m result[k] \u001B[38;5;241m!=\u001B[39m \u001B[38;5;241m0\u001B[39m    \n\u001B[0;32m      4\u001B[0m ecdf \u001B[38;5;241m=\u001B[39m sm\u001B[38;5;241m.\u001B[39mdistributions\u001B[38;5;241m.\u001B[39mECDF(result[k][mask]) \n\u001B[1;32m----> 5\u001B[0m \u001B[43msns\u001B[49m\u001B[38;5;241;43m.\u001B[39;49m\u001B[43mlineplot\u001B[49m\u001B[43m(\u001B[49m\u001B[43mecdf\u001B[49m\u001B[38;5;241;43m.\u001B[39;49m\u001B[43mx\u001B[49m\u001B[43m,\u001B[49m\u001B[43m \u001B[49m\u001B[43mecdf\u001B[49m\u001B[38;5;241;43m.\u001B[39;49m\u001B[43my\u001B[49m\u001B[43m,\u001B[49m\u001B[43mlabel\u001B[49m\u001B[43m \u001B[49m\u001B[38;5;241;43m=\u001B[39;49m\u001B[43m \u001B[49m\u001B[43mk\u001B[49m\u001B[43m)\u001B[49m    \n",
      "\u001B[1;31mTypeError\u001B[0m: lineplot() takes from 0 to 1 positional arguments but 2 were given"
     ]
    }
   ],
   "source": [
    "\n",
    "for k in result:\n",
    "    print(k)\n",
    "    mask = result[k] != 0    \n",
    "    ecdf = sm.distributions.ECDF(result[k][mask]) \n",
    "    sns.lineplot(ecdf.x, ecdf.y,label = k)    \n",
    "    "
   ]
  },
  {
   "cell_type": "code",
   "execution_count": 23,
   "metadata": {},
   "outputs": [
    {
     "name": "stdout",
     "output_type": "stream",
     "text": [
      "Poro1_2.GRDECL\n",
      "Poro1_3.GRDECL\n",
      "Poro1_4.GRDECL\n",
      "Poro1_5.GRDECL\n"
     ]
    },
    {
     "data": {
      "text/plain": "<Figure size 640x480 with 1 Axes>",
      "image/png": "[encoded data removed]"
     },
     "metadata": {},
     "output_type": "display_data"
    }
   ],
   "source": [
    "c = ['blue','orange','green','red']\n",
    "count = 0\n",
    "for k in result:\n",
    "    print(k)\n",
    "    mask = result[k] != 0    \n",
    "    sns.histplot(result[k][mask],bins = 35,label = k,color = c[count])   \n",
    "    count +=1\n",
    "plt.show()"
   ]
  },
  {
   "cell_type": "code",
   "execution_count": null,
   "metadata": {},
   "outputs": [],
   "source": []
  }
 ],
 "metadata": {
  "kernelspec": {
   "display_name": "Python 3.10.8 ('DASH_tools')",
   "language": "python",
   "name": "python3"
  },
  "language_info": {
   "codemirror_mode": {
    "name": "ipython",
    "version": 3
   },
   "file_extension": ".py",
   "mimetype": "text/x-python",
   "name": "python",
   "nbconvert_exporter": "python",
   "pygments_lexer": "ipython3",
   "version": "3.10.0"
  },
  "orig_nbformat": 4,
  "vscode": {
   "interpreter": {
    "hash": "673e2afbb6991f160d752500b69c950cc96c13735084dfd25125d6b6526a459f"
   }
  }
 },
 "nbformat": 4,
 "nbformat_minor": 2
}
