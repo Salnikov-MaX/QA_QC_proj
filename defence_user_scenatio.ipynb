{
 "cells": [
  {
   "cell_type": "markdown",
   "source": [
    "Ноутбук для защиты поделенный на акты"
   ],
   "metadata": {
    "collapsed": false
   }
  },
  {
   "cell_type": "markdown",
   "source": [
    "Использование класса qa_qc_kern в ручном режиме"
   ],
   "metadata": {
    "collapsed": false
   }
  },
  {
   "cell_type": "code",
   "execution_count": 5,
   "outputs": [],
   "source": [
    "# Импортируем зависимости\n",
    "import pandas as pd\n",
    "import time\n",
    "\n",
    "# Импортируем классы\n",
    "from qa_qc_lib.qa_qc_kern import QA_QC_kern"
   ],
   "metadata": {
    "collapsed": false
   }
  },
  {
   "cell_type": "markdown",
   "source": [
    "Примеры использования"
   ],
   "metadata": {
    "collapsed": false
   }
  },
  {
   "cell_type": "markdown",
   "source": [
    "Тест предназначен для оценки соответствия типовой\n",
    "для данного кроссплота и полученной аппроксимации.\n",
    "В данном случае зависимость линейная по функции y=a*x+b, при этом a<0"
   ],
   "metadata": {
    "collapsed": false
   }
  },
  {
   "cell_type": "code",
   "execution_count": 6,
   "metadata": {
    "collapsed": true
   },
   "outputs": [
    {
     "name": "stdout",
     "output_type": "stream",
     "text": [
      "     Тест пройден успешно.\n",
      "     Зависимость выполняется. Выпадающие точки ([2], [0, 18, 25])\n",
      "--- 0.13176202774047852 seconds ---\n"
     ]
    },
    {
     "name": "stderr",
     "output_type": "stream",
     "text": [
      "D:\\Work\\QA_QC_proj\\qa_qc_lib\\qa_qc_tools\\kern_tools.py:39: UserWarning: Matplotlib is currently using agg, which is a non-GUI backend, so cannot show the figure.\n",
      "  plt.show()\n"
     ]
    }
   ],
   "source": [
    "#Верные данные\n",
    "start_time = time.time()\n",
    "df=pd.read_excel(\"data/defence_data/kern/Density-PoroOK(J-H).xlsx\")\n",
    "df=df[[\"Density, g/cc\",\"Porosity\"]]\n",
    "x=df[\"Density, g/cc\"].to_numpy()\n",
    "y=df[\"Porosity\"].to_numpy()\n",
    "path=\"report\\\\\"\n",
    "tests = QA_QC_kern(density=x, porosity_open=y,file_path=path)\n",
    "tests.test_kp_density_dependence()\n",
    "tests.generate_test_report()\n",
    "print(\"--- %s seconds ---\" % (time.time() - start_time))"
   ]
  },
  {
   "cell_type": "code",
   "execution_count": 7,
   "outputs": [
    {
     "name": "stdout",
     "output_type": "stream",
     "text": [
      "     Тест не пройден.\n",
      "     Зависимость не выполняется. Выпадающие точки ([2], [])\n",
      "--- 0.09955286979675293 seconds ---\n"
     ]
    },
    {
     "name": "stderr",
     "output_type": "stream",
     "text": [
      "D:\\Work\\QA_QC_proj\\qa_qc_lib\\qa_qc_tools\\kern_tools.py:39: UserWarning: Matplotlib is currently using agg, which is a non-GUI backend, so cannot show the figure.\n",
      "  plt.show()\n"
     ]
    }
   ],
   "source": [
    "#Не верные данные\n",
    "start_time = time.time()\n",
    "df=pd.read_excel(\"data/defence_data/kern/Density-PoroFail(J-H).xlsx\")\n",
    "df=df[[\"Density, g/cc\",\"Porosity\"]]\n",
    "x=df[\"Density, g/cc\"].to_numpy()\n",
    "y=df[\"Porosity\"].to_numpy()\n",
    "path=\"report\\\\\"\n",
    "tests = QA_QC_kern(density=x, porosity_open=y,file_path=path)\n",
    "tests.test_kp_density_dependence()\n",
    "tests.generate_test_report()\n",
    "print(\"--- %s seconds ---\" % (time.time() - start_time))"
   ],
   "metadata": {
    "collapsed": false
   }
  },
  {
   "cell_type": "markdown",
   "source": [
    "Тест проводится для оценки отсутствия монотонности интервалов долбления.\n",
    "Т.е., подошва вышележащего интервала долбления должна быть выше или равна кровле нижележащего"
   ],
   "metadata": {
    "collapsed": false
   }
  },
  {
   "cell_type": "code",
   "execution_count": 8,
   "outputs": [
    {
     "name": "stdout",
     "output_type": "stream",
     "text": [
      "     Тест пройден успешно.\n",
      "     Все данные монотонны\n",
      "--- 0.029023408889770508 seconds ---\n"
     ]
    }
   ],
   "source": [
    "#Верные данные\n",
    "start_time = time.time()\n",
    "df=pd.read_excel(\"data/defence_data/kern/59PObrazOK.xlsx\")\n",
    "df=df[[\"Top\",\"Bottom\"]]\n",
    "x=df[\"Top\"].to_numpy()\n",
    "y=df[\"Bottom\"].to_numpy()\n",
    "path=\"report\\\\\"\n",
    "tests = QA_QC_kern(top=x, bottom=y, file_path=path)\n",
    "tests.test_coring_depths_first()\n",
    "tests.generate_test_report()\n",
    "print(\"--- %s seconds ---\" % (time.time() - start_time))"
   ],
   "metadata": {
    "collapsed": false
   }
  },
  {
   "cell_type": "code",
   "execution_count": 9,
   "outputs": [
    {
     "name": "stdout",
     "output_type": "stream",
     "text": [
      "     Тест не пройден.\n",
      "     ЗИндексы выпадающие из монотонности [38, 40]\n",
      "--- 0.02402019500732422 seconds ---\n"
     ]
    }
   ],
   "source": [
    "#Не верные данные\n",
    "start_time = time.time()\n",
    "df=pd.read_excel(\"data/defence_data/kern/59PObrazFail.xlsx\")\n",
    "df=df[[\"Top\",\"Bottom\"]]\n",
    "x=df[\"Top\"].to_numpy()\n",
    "y=df[\"Bottom\"].to_numpy()\n",
    "path=\"report\\\\\"\n",
    "tests = QA_QC_kern(top=x, bottom=y, file_path=path)\n",
    "tests.test_coring_depths_first()\n",
    "tests.generate_test_report()\n",
    "print(\"--- %s seconds ---\" % (time.time() - start_time))"
   ],
   "metadata": {
    "collapsed": false
   }
  },
  {
   "cell_type": "markdown",
   "source": [
    "Тест оценивает величину суммарную насыщения водой и нефтью, которая не должна привышать 100% или 1 в долях"
   ],
   "metadata": {
    "collapsed": false
   }
  },
  {
   "cell_type": "code",
   "execution_count": 10,
   "outputs": [
    {
     "name": "stdout",
     "output_type": "stream",
     "text": [
      "     Тест пройден успешно.\n",
      "     Все данные корректны\n",
      "--- 0.02502131462097168 seconds ---\n"
     ]
    }
   ],
   "source": [
    "#Верные данные\n",
    "start_time = time.time()\n",
    "df=pd.read_excel(\"data/defence_data/kern/59PObrazOK.xlsx\")\n",
    "df=df[[\"So\",\"Sw\"]]\n",
    "x=df[\"So\"].to_numpy()\n",
    "y=df[\"Sw\"].to_numpy()\n",
    "path=\"report\\\\\"\n",
    "tests = QA_QC_kern(sw_residual=x, kno=y, file_path=path)\n",
    "tests.start_tests([\"test_quo_and_qno\"])\n",
    "tests.generate_test_report()\n",
    "print(\"--- %s seconds ---\" % (time.time() - start_time))"
   ],
   "metadata": {
    "collapsed": false
   }
  },
  {
   "cell_type": "code",
   "execution_count": null,
   "outputs": [
    {
     "name": "stdout",
     "output_type": "stream",
     "text": [
      "     Тест не пройден.\n",
      "     Индексы выпадающих значений[1]\n",
      "--- 0.0647726058959961 seconds ---\n"
     ]
    }
   ],
   "source": [
    "#Не верные данные\n",
    "start_time = time.time()\n",
    "df=pd.read_excel(\"data/defence_data/kern/59PObrazFail.xlsx\")\n",
    "df=df[[\"So\",\"Sw\"]]\n",
    "x=df[\"So\"].to_numpy()\n",
    "y=df[\"Sw\"].to_numpy()\n",
    "path=\"report\\\\\"\n",
    "tests = QA_QC_kern(sw_residual=x, kno=y, file_path=path)\n",
    "tests.start_tests([\"test_quo_and_qno\"])\n",
    "tests.generate_test_report()\n",
    "print(\"--- %s seconds ---\" % (time.time() - start_time))"
   ],
   "metadata": {
    "collapsed": false
   }
  },
  {
   "cell_type": "markdown",
   "source": [
    "Тест предназначен для проверки физичности данных.\n",
    "В данном тесте проверяется соответствие интервалу (0 ; 47,6]"
   ],
   "metadata": {
    "collapsed": false
   }
  },
  {
   "cell_type": "code",
   "execution_count": null,
   "outputs": [],
   "source": [
    "#Верные данные\n",
    "df=pd.read_excel(\"data/defence_data/kern/SwOK(N).xlsx\")\n",
    "arr=df[\"Porosity\"].to_numpy()\n",
    "path=\"report\\\\\"\n",
    "tests = QA_QC_kern(porosity_open=arr,file_path=path)\n",
    "tests.test_open_porosity()\n",
    "tests.generate_test_report()"
   ],
   "metadata": {
    "collapsed": false
   }
  },
  {
   "cell_type": "code",
   "execution_count": null,
   "outputs": [],
   "source": [
    "#Не верные данные\n",
    "df=pd.read_excel(\"data/defence_data/kern/SwFail(N).xlsx\")\n",
    "arr=df[\"Porosity\"].to_numpy()\n",
    "path=\"report\\\\\"\n",
    "tests = QA_QC_kern(porosity_open=arr,file_path=path)\n",
    "tests.test_open_porosity()\n",
    "tests.generate_test_report()"
   ],
   "metadata": {
    "collapsed": false
   }
  },
  {
   "cell_type": "markdown",
   "source": [
    "Использование класса qa_qc_kern в автоматическом режиме"
   ],
   "metadata": {
    "collapsed": false
   }
  },
  {
   "cell_type": "code",
   "execution_count": null,
   "outputs": [],
   "source": [
    "# Импортируем классы\n",
    "from qa_qc_lib.data_preprocessing_kern import DataPreprocessing"
   ],
   "metadata": {
    "collapsed": false
   }
  },
  {
   "cell_type": "code",
   "execution_count": null,
   "outputs": [],
   "source": [
    "columns_mapping = {\n",
    "    \"Лабораторный номер\":[\"data\\\\data_1.xlsx->Number\"],\n",
    "    \"Карбонатность\":[\"data\\\\data_1.xlsx->Carbonate\"],\n",
    "    \"Кп откр\":[\"data\\\\data_1.xlsx->Porosity (open)\"],\n",
    "    \"Открытая пористость по керосину\":[\"data\\\\data_1.xlsx->Porosity (kerosine)\"],\n",
    "    \"Параметр пористости(F)\":[\"data\\\\data_2.xlsx->Рп\"],\n",
    "    \"Плотность абсолютно сухого образца\":[\"data\\\\data_1.xlsx->Density, g/cc\"],\n",
    "    \"Направление\":[\"data\\\\data_1.xlsx->Направление\"]\n",
    "}\n",
    "file_modal = DataPreprocessing()\n",
    "test=file_modal.process_data(columns_mapping)\n",
    "print(test)\n",
    "file_modal.start_tests(test)\n",
    "file_modal.save_to_excel()"
   ],
   "metadata": {
    "collapsed": false
   }
  },
  {
   "cell_type": "markdown",
   "source": [
    "Использование класса qa_qc_cubes в ручном режиме (без коннектора)"
   ],
   "metadata": {
    "collapsed": false
   }
  },
  {
   "cell_type": "code",
   "execution_count": null,
   "outputs": [],
   "source": [
    " # Импортируем зависимости\n",
    "import pandas as pd\n",
    "import time\n",
    "\n",
    "# Импортируем классы\n",
    "from qa_qc_lib.qa_qc_cubes import QA_QC_cubes"
   ],
   "metadata": {
    "collapsed": false
   }
  },
  {
   "cell_type": "markdown",
   "source": [
    "Тесты первого порядка"
   ],
   "metadata": {
    "collapsed": false
   }
  },
  {
   "cell_type": "code",
   "execution_count": null,
   "outputs": [],
   "source": [
    "start_time = time.time()\n",
    "cubes = QA_QC_cubes(\n",
    "    directory_path=\"data/grdecl_data\",\n",
    "    grid_name=\"GRID\",\n",
    "    open_porosity_file_path=\"data/grdecl_data/input/Poro.GRDECL.grdecl\",\n",
    "    save_wrong_data_path=\"report\"\n",
    ")\n",
    "cubes.test_open_porosity()\n",
    "print(\"--- %s seconds ---\" % (time.time() - start_time))"
   ],
   "metadata": {
    "collapsed": false
   }
  },
  {
   "cell_type": "code",
   "execution_count": null,
   "outputs": [],
   "source": [
    "start_time = time.time()\n",
    "cubes = QA_QC_cubes(\n",
    "    directory_path=\"data/grdecl_data\",\n",
    "    grid_name=\"GRID\",\n",
    "    open_perm_x_file_path=\"data/grdecl_data/input/Perm.GRDECL.grdecl\",\n",
    "    save_wrong_data_path=\"report\"\n",
    ")\n",
    "\n",
    "cubes.test_permeability_permX()\n",
    "print(\"--- %s seconds ---\" % (time.time() - start_time))"
   ],
   "metadata": {
    "collapsed": false
   }
  },
  {
   "cell_type": "code",
   "execution_count": null,
   "outputs": [],
   "source": [
    "start_time = time.time()\n",
    "cubes = QA_QC_cubes(\n",
    "    directory_path=\"data/grdecl_data\",\n",
    "    grid_name=\"GRID\",\n",
    "    swl_file_path =\"data/grdecl_data/input/Swl.GRDECL.grdecl\",\n",
    "    save_wrong_data_path=\"report\"\n",
    ")\n",
    "\n",
    "cubes.test_range_data_swl()\n",
    "print(\"--- %s seconds ---\" % (time.time() - start_time))"
   ],
   "metadata": {
    "collapsed": false
   }
  },
  {
   "cell_type": "code",
   "execution_count": null,
   "outputs": [],
   "source": [
    "start_time = time.time()\n",
    "cubes = QA_QC_cubes(\n",
    "    directory_path=\"data/grdecl_data\",\n",
    "    grid_name=\"GRID\",\n",
    "    save_wrong_data_path=\"report\"\n",
    ")\n",
    "\n",
    "cubes.test_right_actnum()\n",
    "print(\"--- %s seconds ---\" % (time.time() - start_time))"
   ],
   "metadata": {
    "collapsed": false
   }
  },
  {
   "cell_type": "code",
   "execution_count": null,
   "outputs": [],
   "source": [
    "start_time = time.time()\n",
    "cubes = QA_QC_cubes(\n",
    "    directory_path=\"data/grdecl_data\",\n",
    "    grid_name=\"GRID\",\n",
    "    litatype_file_path=\"data/grdecl_data/input/litho.GRDECL.grdecl\",\n",
    "    save_wrong_data_path=\"report\"\n",
    ")\n",
    "\n",
    "cubes.test_litatype()\n",
    "print(\"--- %s seconds ---\" % (time.time() - start_time))"
   ],
   "metadata": {
    "collapsed": false
   }
  },
  {
   "cell_type": "code",
   "execution_count": null,
   "outputs": [],
   "source": [
    "start_time = time.time()\n",
    "cubes = QA_QC_cubes(\n",
    "    directory_path=\"data/grdecl_data\",\n",
    "    grid_name=\"GRID\",\n",
    "    save_wrong_data_path=\"report\"\n",
    ")\n",
    "\n",
    "cubes.test_bulk()\n",
    "print(\"--- %s seconds ---\" % (time.time() - start_time))"
   ],
   "metadata": {
    "collapsed": false
   }
  },
  {
   "cell_type": "markdown",
   "source": [
    "Тесты второго порядка"
   ],
   "metadata": {
    "collapsed": false
   }
  },
  {
   "cell_type": "code",
   "execution_count": null,
   "outputs": [],
   "source": [
    "start_time = time.time()\n",
    "cubes = QA_QC_cubes(\n",
    "    directory_path=\"data/grdecl_data\",\n",
    "    grid_name=\"GRID\",\n",
    "    sw_file_path=\"data/grdecl_data/input/Sw.GRDECL.grdecl\",\n",
    "    #sg_file_path=\"data/grdecl_data/input/Sg.GRDECL.grdecl\",\n",
    "    so_file_path=\"data/grdecl_data/input/So.GRDECL.grdecl\",\n",
    "    save_wrong_data_path=\"report\"\n",
    ")\n",
    "\n",
    "cubes.test_sum_cubes()\n",
    "print(\"--- %s seconds ---\" % (time.time() - start_time))"
   ],
   "metadata": {
    "collapsed": false
   }
  },
  {
   "cell_type": "code",
   "execution_count": null,
   "outputs": [],
   "source": [
    "start_time = time.time()\n",
    "cubes = QA_QC_cubes(\n",
    "    directory_path=\"data/grdecl_data\",\n",
    "    grid_name=\"GRID\",\n",
    "    swcr_file_path=\"data/grdecl_data/input/Swcr.GRDECL.grdecl\",\n",
    "    swl_file_path=\"data/grdecl_data/input/Swl.GRDECL.grdecl\",\n",
    "    save_wrong_data_path=\"report\"\n",
    ")\n",
    "\n",
    "cubes.test_affiliation_swcr()\n",
    "print(\"--- %s seconds ---\" % (time.time() - start_time))"
   ],
   "metadata": {
    "collapsed": false
   }
  },
  {
   "cell_type": "code",
   "execution_count": null,
   "outputs": [],
   "source": [
    "start_time = time.time()\n",
    "cubes = QA_QC_cubes(\n",
    "    directory_path=\"data/grdecl_data\",\n",
    "    grid_name=\"GRID\",\n",
    "    sw_file_path=\"data/grdecl_data/input/Sw.GRDECL.grdecl\",\n",
    "    swl_file_path=\"data/grdecl_data/input/Swl.GRDECL.grdecl\",\n",
    "    save_wrong_data_path=\"report\"\n",
    ")\n",
    "\n",
    "cubes.test_swl_sw()\n",
    "print(\"--- %s seconds ---\" % (time.time() - start_time))"
   ],
   "metadata": {
    "collapsed": false
   }
  },
  {
   "cell_type": "markdown",
   "source": [
    "Использование класса qa_qc_cubes в ручном режиме (c коннектора)"
   ],
   "metadata": {
    "collapsed": false
   }
  },
  {
   "cell_type": "code",
   "execution_count": 1,
   "outputs": [],
   "source": [
    "# Импортируем зависимости\n",
    "import pandas as pd\n",
    "import time\n",
    "\n",
    "# Импортируем классы\n",
    "from qa_qc_lib.qa_qc_kern import QA_QC_kern\n",
    "from qa_qc_lib.qa_qc_cubes import QA_QC_cubes"
   ],
   "metadata": {
    "collapsed": false
   }
  },
  {
   "cell_type": "code",
   "execution_count": 2,
   "outputs": [
    {
     "name": "stdout",
     "output_type": "stream",
     "text": [
      "data/grdecl_data/input/Poro.GRDECL.grdecl -> PORO\n",
      "data/grdecl_data/input/Perm.GRDECL.grdecl -> PERMX\n",
      "Скважина lit_none не прошла тест\n",
      "Тест не пройден!!!\n",
      "--- 7.4226672649383545 seconds ---\n"
     ]
    }
   ],
   "source": [
    "start_time = time.time()\n",
    "df = pd.read_excel(\n",
    "    \"data/grdecl_data/test_data_kern-cubes.xlsx\",\n",
    "    sheet_name=\"Лист2\"\n",
    ")\n",
    "kpr = df[\"Кпр_абс\"].to_numpy()\n",
    "kp = df[\"Кп_откр\"].to_numpy()\n",
    "#lit = df[\"Скважина\"].to_numpy()\n",
    "kern = QA_QC_kern(kpr=kpr, porosity_open=kp)#,lithotype=lit)\n",
    "\n",
    "cubes = QA_QC_cubes(\n",
    "    directory_path=\"data/grdecl_data\",\n",
    "    grid_name=\"GRID\",\n",
    "    qa_qc_kern=kern,\n",
    "    open_porosity_file_path=\"data/grdecl_data/input/Poro.GRDECL.grdecl\",\n",
    "    open_perm_x_file_path=\"data/grdecl_data/input/Perm.GRDECL.grdecl\",\n",
    "    #litatype_file_path=\"../data/grdecl_data/input/litho.GRDECL.grdecl\"\n",
    "    )\n",
    "\n",
    "cubes.test_kern_data_dependence_kpr_kp()\n",
    "print(\"--- %s seconds ---\" % (time.time() - start_time))"
   ],
   "metadata": {
    "collapsed": false
   }
  },
  {
   "cell_type": "code",
   "execution_count": null,
   "outputs": [],
   "source": [],
   "metadata": {
    "collapsed": false
   }
  },
  {
   "cell_type": "code",
   "execution_count": null,
   "outputs": [],
   "source": [],
   "metadata": {
    "collapsed": false
   }
  }
 ],
 "metadata": {
  "kernelspec": {
   "display_name": "Python 3",
   "language": "python",
   "name": "python3"
  },
  "language_info": {
   "codemirror_mode": {
    "name": "ipython",
    "version": 2
   },
   "file_extension": ".py",
   "mimetype": "text/x-python",
   "name": "python",
   "nbconvert_exporter": "python",
   "pygments_lexer": "ipython2",
   "version": "2.7.6"
  }
 },
 "nbformat": 4,
 "nbformat_minor": 0
}
