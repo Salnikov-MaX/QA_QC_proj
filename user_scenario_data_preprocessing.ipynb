{
 "cells": [
  {
   "cell_type": "code",
   "execution_count": 1,
   "metadata": {
    "collapsed": true
   },
   "outputs": [],
   "source": [
    "from qa_qc_lib.data_preprocessing_kern import DataPreprocessing"
   ]
  },
  {
   "cell_type": "code",
   "execution_count": 2,
   "metadata": {},
   "outputs": [
    {
     "name": "stdout",
     "output_type": "stream",
     "text": [
      "{'Карбонатность': ['test_carbonation', 'test_correctness_of_p_sk_kp'], 'Плотность абсолютно сухого образца': ['test_correctness_of_p_sk_kp', 'test_kp_density_dependence'], 'Кп откр': ['test_correctness_of_p_sk_kp', 'test_kp_density_dependence', 'test_open_porosity', 'test_rp_kp_dependencies'], 'Открытая пористость по керосину': ['test_porosity_kerosine'], 'Параметр пористости(F)': ['test_rp_kp_dependencies']}\n"
     ]
    }
   ],
   "source": [
    "columns_mapping = {\n",
    "    \"Лабораторный номер\":[\"data\\\\data_1.xlsx->Number\"],\n",
    "    #\"Кровля интервала отбора\":[\"data\\\\test1.xlsx->Кровля интервала отбора\"],\n",
    "    #\"Подошва интервала отбора\":[\"data\\\\test1.xlsx->Подошва интервала отбора\"],\n",
    "    #\"Эффективная проницаемость\":[\"data\\\\test1.xlsx->Эффективная проницаемость Кпр эф мД\"],\n",
    "    #\"Место отбора (ниже кровли), м\":[\"data\\\\data_1.xlsx->Mesto otbora\"],\n",
    "    #\"Глубина отбора, м\":[\"data\\\\data_1.xlsx->Glubina\"],\n",
    "    #\"Вынос керна\":[\"data\\\\test1.xlsx->Вынос керна м\"],\n",
    "    #\"Вынос керна, %\":[\"data\\\\data_1.xlsx->Vynos, %\"],\n",
    "    \"Карбонатность\":[\"data\\\\data_1.xlsx->Carbonate\"],\n",
    "    \"Кп откр\":[\"data\\\\data_1.xlsx->Porosity (open)\"],\n",
    "    #\"Направление измерений(// ⊥)\":[\"data\\\\data_1.xlsx->Направление\"],\n",
    "    #\"Открытая пористость по газу\":[\"data\\\\data_2.xlsx->PoroHe\"],\n",
    "    #\"Кп откр TBU\":[\"data\\\\test1.xlsx->Кп откр TBU\"],\n",
    "    \"Открытая пористость по керосину\":[\"data\\\\data_1.xlsx->Porosity (kerosine)\"],\n",
    "    #\"Кпр_газ(гелий)\":[\"data\\\\data_2.xlsx->PermW\"],\n",
    "    \"Параметр пористости(F)\":[\"data\\\\data_2.xlsx->Рп\"],\n",
    "    #\"So\":[\"data\\\\test1.xlsx->So\"],\n",
    "    #\"Кво\":[\"data\\\\test1.xlsx->Кво\"],\n",
    "    \"Плотность абсолютно сухого образца\":[\"data\\\\data_1.xlsx->Density, g/cc\"],\n",
    "    # \"Рн\":[],# дубль с 6\n",
    "    #\"Sw\":[\"data\\\\test1.xlsx->Sw\"],\n",
    "    # \"Кпр абс\":[\"data\\\\data_1.xlsx->Permeability, mkm2 (parallel)\"],\n",
    "    #  \"Газопроницаемость по Кликенбергу\":[\"data\\\\data_2.xlsx->PermKlinken\"],\n",
    "    #\"Объемная плотность\":[\"data\\\\test1.xlsx->Объемная плотность г/см3\"],\n",
    "    #\"Минералогическая плотность\":[\"data\\\\test1.xlsx->Минералогическая плотность г/см3\"],\n",
    "    # \"Газопроницаемость по воде\":[],\n",
    "    # \"Плотность максимально увлажненного образца\":[],\n",
    "    #\"Эффективная пористость\":[\"data\\\\test1.xlsx->Эффективная пористость Кп эф %\"],\n",
    "    # \"Скорость продольной волны(Vp)\" :[\"data\\\\data_2.xlsx->Vp, km/s\"],\n",
    "    # \"Скорость поперечной волны (Vs)\" :[\"data\\\\data_2.xlsx->Vp, km/s\"],\n",
    "    # \"Критическая нефтенасыщенность\":[],\n",
    "    # \"Sgl\":[],\n",
    "    # \"Sogcr\":[],\n",
    "    # \"Примечание(в керне)\":[\"data\\\\test1.xlsx->Примечание\"],\n",
    "    \"Направление\":[\"data\\\\data_1.xlsx->Направление\"]\n",
    "}\n",
    "file_modal = DataPreprocessing()\n",
    "test=file_modal.process_data(columns_mapping)\n",
    "print(test)\n",
    "file_modal.start_tests(test)\n",
    "file_modal.save_to_excel()"
   ]
  },
  {
   "cell_type": "code",
   "execution_count": 2,
   "metadata": {},
   "outputs": [],
   "source": []
  },
  {
   "cell_type": "code",
   "execution_count": 2,
   "metadata": {
    "collapsed": false
   },
   "outputs": [],
   "source": []
  },
  {
   "cell_type": "code",
   "execution_count": 2,
   "metadata": {
    "collapsed": false
   },
   "outputs": [],
   "source": []
  }
 ],
 "metadata": {
  "kernelspec": {
   "display_name": "Python 3",
   "language": "python",
   "name": "python3"
  },
  "language_info": {
   "codemirror_mode": {
    "name": "ipython",
    "version": 3
   },
   "file_extension": ".py",
   "mimetype": "text/x-python",
   "name": "python",
   "nbconvert_exporter": "python",
   "pygments_lexer": "ipython3",
   "version": "3.10.0"
  }
 },
 "nbformat": 4,
 "nbformat_minor": 0
}
