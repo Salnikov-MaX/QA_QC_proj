{
 "cells": [
  {
   "cell_type": "code",
   "execution_count": null,
   "outputs": [],
   "source": [
    "from qa_qc_lib.kern.qa_qc_kern import QA_QC_kern\n",
    "import numpy as np\n",
    "import pandas as pd\n",
    "import time"
   ],
   "metadata": {
    "collapsed": false
   }
  },
  {
   "cell_type": "code",
   "execution_count": null,
   "outputs": [],
   "source": [
    "start_time = time.time()\n",
    "df=pd.read_excel(\"data/DispersionFail(L-H).xlsx\")\n",
    "df=df[[\"Depth, m\",\"Porosity\"]].dropna()\n",
    "x=df[\"Depth, m\"].dropna().to_numpy()\n",
    "y=df[\"Porosity\"].dropna().to_numpy()\n",
    "path=\"data\\\\\"\n",
    "tests = QA_QC_kern(file_path=path)\n",
    "print(tests.get_method_description(\"test_general_dependency_checking\"))\n",
    "tests.test_general_dependency_checking(x,y)\n",
    "tests.generate_test_report()\n",
    "print(\"--- %s seconds ---\" % (time.time() - start_time))"
   ],
   "metadata": {
    "collapsed": false
   }
  },
  {
   "cell_type": "code",
   "execution_count": null,
   "outputs": [],
   "source": [
    "start_time = time.time()\n",
    "df=pd.read_excel(\"data/DispersionOK(L-H).xlsx\")\n",
    "df=df[[\"Density, g/cc\",\"Porosity\"]].dropna()\n",
    "x=df[\"Density, g/cc\"].dropna().to_numpy()\n",
    "y=df[\"Porosity\"].dropna().to_numpy()\n",
    "path=\"data\\\\\"\n",
    "tests = QA_QC_kern(file_path=path)\n",
    "print(tests.get_method_description(\"test_general_dependency_checking\"))\n",
    "tests.test_general_dependency_checking(x,y)\n",
    "tests.generate_test_report()\n",
    "print(\"--- %s seconds ---\" % (time.time() - start_time))"
   ],
   "metadata": {
    "collapsed": false
   }
  },
  {
   "cell_type": "code",
   "execution_count": null,
   "outputs": [],
   "source": [],
   "metadata": {
    "collapsed": false
   }
  },
  {
   "cell_type": "code",
   "execution_count": null,
   "outputs": [],
   "source": [
    "start_time = time.time()\n",
    "df=pd.read_excel(\"data/Swc-PoroFail(N-H).xlsx\")\n",
    "df=df[[\"Sw\",\"Porosity\"]].dropna()\n",
    "x=df[\"Sw\"].dropna().to_numpy()\n",
    "y=df[\"Porosity\"].dropna().to_numpy()\n",
    "path=\"data\\\\\"\n",
    "tests = QA_QC_kern(sw_residual=x,kp=y,file_path=path)\n",
    "print(tests.get_method_description(\"test_quo_kp_dependence\"))\n",
    "tests.start_tests([\"test_quo_kp_dependence\"])\n",
    "tests.generate_test_report()\n",
    "print(\"--- %s seconds ---\" % (time.time() - start_time))"
   ],
   "metadata": {
    "collapsed": false
   }
  },
  {
   "cell_type": "code",
   "execution_count": null,
   "outputs": [],
   "source": [
    "start_time = time.time()\n",
    "df=pd.read_excel(\"data/Swc-PoroOK(N-H).xlsx\")\n",
    "df=df[[\"Sw\",\"Porosity\"]].dropna()\n",
    "y=df[\"Sw\"].dropna().to_numpy()\n",
    "x=df[\"Porosity\"].dropna().to_numpy()\n",
    "path=\"data\\\\\"\n",
    "tests = QA_QC_kern(sw_residual=x, kp=y,file_path=path)\n",
    "tests.get_method_description(\"test_quo_kp_dependence\")\n",
    "tests.start_tests([\"test_quo_kp_dependence\"])\n",
    "tests.generate_test_report()\n",
    "print(\"--- %s seconds ---\" % (time.time() - start_time))"
   ],
   "metadata": {
    "collapsed": false
   }
  },
  {
   "cell_type": "code",
   "execution_count": null,
   "outputs": [],
   "source": [
    "start_time = time.time()\n",
    "x=np.array([1,2,3,4,5,6,7,50])\n",
    "y=np.array([50,10,9,8,7,6,5,4])\n",
    "path=\"data\\\\\"\n",
    "tests = QA_QC_kern(sw_residual=x, kp=y,file_path=path)\n",
    "tests.get_method_description(\"test_quo_kp_dependence\")\n",
    "tests.start_tests([\"test_quo_kp_dependence\"])\n",
    "tests.generate_test_report()\n",
    "print(\"--- %s seconds ---\" % (time.time() - start_time))"
   ],
   "metadata": {
    "collapsed": false
   }
  },
  {
   "cell_type": "code",
   "execution_count": null,
   "outputs": [],
   "source": [],
   "metadata": {
    "collapsed": false
   }
  },
  {
   "cell_type": "code",
   "execution_count": null,
   "outputs": [],
   "source": [
    "start_time = time.time()\n",
    "df=pd.read_excel(\"data/Density-PoroOK(J-H).xlsx\")\n",
    "df=df[[\"Density, g/cc\",\"Porosity\"]].dropna()\n",
    "x=df[\"Density, g/cc\"].dropna().to_numpy()\n",
    "y=df[\"Porosity\"].dropna().to_numpy()\n",
    "print(len(x), len(y))\n",
    "path=\"data\\\\\"\n",
    "tests = QA_QC_kern(density=x, kp=y,file_path=path)\n",
    "print(tests.get_method_description(\"test_kp_density_dependence\"))\n",
    "tests.start_tests([\"test_kp_density_dependence\"])\n",
    "tests.generate_test_report()\n",
    "print(\"--- %s seconds ---\" % (time.time() - start_time))"
   ],
   "metadata": {
    "collapsed": false
   }
  },
  {
   "cell_type": "code",
   "execution_count": null,
   "outputs": [],
   "source": [
    "start_time = time.time()\n",
    "df=pd.read_excel(\"data/Density-PoroFail(J-H).xlsx\")\n",
    "df=df[[\"Density, g/cc\",\"Porosity\"]].dropna()\n",
    "x=df[\"Density, g/cc\"].dropna().to_numpy()\n",
    "y=df[\"Porosity\"].dropna().to_numpy()\n",
    "path=\"data\\\\\"\n",
    "tests = QA_QC_kern(density=x, kp=y,file_path=path)\n",
    "print(tests.get_method_description(\"test_kp_density_dependence\"))\n",
    "tests.start_tests([\"test_kp_density_dependence\"])\n",
    "tests.generate_test_report()\n",
    "print(\"--- %s seconds ---\" % (time.time() - start_time))"
   ],
   "metadata": {
    "collapsed": false
   }
  },
  {
   "cell_type": "code",
   "execution_count": null,
   "outputs": [],
   "source": [],
   "metadata": {
    "collapsed": false
   }
  },
  {
   "cell_type": "code",
   "execution_count": null,
   "outputs": [],
   "source": [
    "start_time = time.time()\n",
    "# df=pd.read_excel(\"data/file.xlsx\")\n",
    "x=np.array([0.8,0.7,0.6,0.5,0.4,0.3,0.2])\n",
    "y=np.array([0.2,0.3,0.4,0.5,0.6,0.7,0.8])\n",
    "z=np.array([0.1,0.2,0.3,0.4,0.5,0.6,0.7])\n",
    "path=\"data\\\\\"\n",
    "tests = QA_QC_kern(sw_residual=x, porosity_open=y,kno=z,file_path=path)\n",
    "print(tests.get_method_description(\"test_sw_residual_kp_din_dependence\"))\n",
    "tests.start_tests([\"test_sw_residual_kp_din_dependence\"])\n",
    "tests.generate_test_report()\n",
    "print(\"--- %s seconds ---\" % (time.time() - start_time))"
   ],
   "metadata": {
    "collapsed": false
   }
  },
  {
   "cell_type": "code",
   "execution_count": null,
   "outputs": [],
   "source": [
    "start_time = time.time()\n",
    "# df=pd.read_excel(\"data/file.xlsx\")\n",
    "x=np.array([1,442,384,4,5,-6,7,-50])\n",
    "y=np.array([122,-2,-322,-4,5,6,722,50])\n",
    "z=np.array([1,-2,3,488,52,6,7,50])\n",
    "path=\"data\\\\\"\n",
    "tests = QA_QC_kern(sw_residual=x, porosity_open=y,kno=z,file_path=path)\n",
    "print(tests.get_method_description(\"test_sw_residual_kp_din_dependence\"))\n",
    "tests.start_tests([\"test_sw_residual_kp_din_dependence\"])\n",
    "tests.generate_test_report()\n",
    "print(\"--- %s seconds ---\" % (time.time() - start_time))"
   ],
   "metadata": {
    "collapsed": false
   }
  },
  {
   "cell_type": "code",
   "execution_count": null,
   "outputs": [],
   "source": [],
   "metadata": {
    "collapsed": false
   }
  },
  {
   "cell_type": "code",
   "execution_count": null,
   "outputs": [],
   "source": [
    "start_time = time.time()\n",
    "# df=pd.read_excel(\"data/file.xlsx\")\n",
    "x=np.array([1,2,3,4,5,6,7,7])\n",
    "y=np.array([1,2,3,4,5,6,7,10])\n",
    "z=np.array([1,2,3,4,5,6,7,7])\n",
    "path=\"data\\\\\"\n",
    "tests = QA_QC_kern(obplnas=x, pmu=y,kp=z,file_path=path)\n",
    "print(tests.get_method_description(\"test_obblnas_kp_dependence\"))\n",
    "tests.start_tests([\"test_obblnas_kp_dependence\"])\n",
    "tests.generate_test_report()\n",
    "print(\"--- %s seconds ---\" % (time.time() - start_time))"
   ],
   "metadata": {
    "collapsed": false
   }
  },
  {
   "cell_type": "code",
   "execution_count": null,
   "outputs": [],
   "source": [
    "start_time = time.time()\n",
    "# df=pd.read_excel(\"data/file.xlsx\")\n",
    "x=np.array([1,2,3,4,5,6,7,50])\n",
    "y=np.array([50,10,9,8,7,6,5,4])\n",
    "z=np.array([1,2,3,4,5,6,7,50])\n",
    "path=\"data\\\\\"\n",
    "tests = QA_QC_kern(obplnas=x, pmu=y,kp=z,file_path=path)\n",
    "print(tests.get_method_description(\"test_obblnas_kp_dependence\"))\n",
    "tests.start_tests([\"test_obblnas_kp_dependence\"])\n",
    "tests.generate_test_report()\n",
    "print(\"--- %s seconds ---\" % (time.time() - start_time))"
   ],
   "metadata": {
    "collapsed": false
   }
  },
  {
   "cell_type": "code",
   "execution_count": null,
   "outputs": [],
   "source": [],
   "metadata": {
    "collapsed": false
   }
  },
  {
   "cell_type": "code",
   "execution_count": null,
   "outputs": [],
   "source": [
    "start_time = time.time()\n",
    "# df=pd.read_excel(\".../file.xlsx\")\n",
    "x=np.array([0.8,0.7,0.6,0.5,0.4,0.3,0.2])\n",
    "y=np.array([0.2,0.3,0.4,0.5,0.6,0.7,0.8])\n",
    "z=np.array([0.1,0.2,0.3,0.4,0.5,0.6,0.7])\n",
    "path=\"data\\\\\"\n",
    "tests = QA_QC_kern(sw_residual=x, porosity_open=y,kno=z,file_path=path)\n",
    "print(tests.get_method_description(\"test_kp_ef_kpdin_dependence\"))\n",
    "tests.start_tests([\"test_kp_ef_kpdin_dependence\"])\n",
    "tests.generate_test_report()\n",
    "print(\"--- %s seconds ---\" % (time.time() - start_time))"
   ],
   "metadata": {
    "collapsed": false
   }
  },
  {
   "cell_type": "code",
   "execution_count": null,
   "outputs": [],
   "source": [
    "start_time = time.time()\n",
    "# df=pd.read_excel(\".../file.xlsx\")\n",
    "x=np.array([1,442,384,4,5,-6,7,-50])\n",
    "y=np.array([122,-2,-322,-4,5,6,722,50])\n",
    "z=np.array([1,-2,3,488,52,6,7,50])\n",
    "path=\"data\\\\\"\n",
    "tests = QA_QC_kern(sw_residual=x, porosity_open=y,kno=z,file_path=path)\n",
    "print(tests.get_method_description(\"test_kp_ef_kpdin_dependence\"))\n",
    "tests.start_tests([\"test_kp_ef_kpdin_dependence\"])\n",
    "tests.generate_test_report()\n",
    "print(\"--- %s seconds ---\" % (time.time() - start_time))"
   ],
   "metadata": {
    "collapsed": false
   }
  },
  {
   "cell_type": "code",
   "execution_count": null,
   "outputs": [],
   "source": [],
   "metadata": {
    "collapsed": false
   }
  },
  {
   "cell_type": "code",
   "execution_count": null,
   "outputs": [],
   "source": [
    "start_time = time.time()\n",
    "# df=pd.read_excel(\".../file.xlsx\")\n",
    "x=np.array([0.8,0.7,0.6,0.5,0.4,0.3,0.2])\n",
    "y=np.array([0.2,0.3,0.4,0.5,0.6,0.7,0.8])\n",
    "z=np.array([0.1,0.2,0.3,0.4,0.5,0.6,0.7])\n",
    "path=\"data\\\\\"\n",
    "tests = QA_QC_kern(sw_residual=x, porosity_open=y, kp=z,file_path=path)\n",
    "print(tests.get_method_description(\"test_kp_ef_kp_dependence\"))\n",
    "tests.start_tests([\"test_kp_ef_kp_dependence\"])\n",
    "tests.generate_test_report()\n",
    "print(\"--- %s seconds ---\" % (time.time() - start_time))"
   ],
   "metadata": {
    "collapsed": false
   }
  },
  {
   "cell_type": "code",
   "execution_count": null,
   "outputs": [],
   "source": [
    "start_time = time.time()\n",
    "# df=pd.read_excel(\".../file.xlsx\")\n",
    "x=np.array([1,2,22,334,5,6,722,5330])\n",
    "y=np.array([222212,2333,3333,433,5333,6,3,330])\n",
    "z=np.array([1,2,2,2,2,6,72,50])\n",
    "path=\"data\\\\\"\n",
    "tests = QA_QC_kern(sw_residual=x, porosity_open=y, kp=z,file_path=path)\n",
    "print(tests.get_method_description(\"test_kp_ef_kp_dependence\"))\n",
    "tests.start_tests([\"test_kp_ef_kp_dependence\"])\n",
    "tests.generate_test_report()\n",
    "print(\"--- %s seconds ---\" % (time.time() - start_time))"
   ],
   "metadata": {
    "collapsed": false
   }
  },
  {
   "cell_type": "code",
   "execution_count": null,
   "outputs": [],
   "source": [],
   "metadata": {
    "collapsed": false
   }
  },
  {
   "cell_type": "code",
   "execution_count": 20,
   "outputs": [
    {
     "name": "stdout",
     "output_type": "stream",
     "text": [
      "\n",
      "        Тест предназначен для оценки соответствия\n",
      "        типовой для данного кроссплота и полученной\n",
      "        аппроксимации. В данном случае зависимость\n",
      "        линейная по функции y=a*x+b, при этом a>0, b<0\n",
      "\n",
      "        Args:\n",
      "            self.kp (array[int/float]): массив с данными Открытая пористость по жидкости для проверки\n",
      "            self.kp_din (array[int/float]): массив с данными коэффициент динамической пористости для проверки\n",
      "\n",
      "        Returns:\n",
      "            image: визуализация кроссплота\n",
      "            dict[str, bool | datetime | str]: словарь с результатом выполнения теста, датой выполнения теста\n",
      "            file: запись результата теста для сохранения состояния\n",
      "        \n"
     ]
    },
    {
     "data": {
      "text/plain": "<Figure size 640x480 with 1 Axes>",
      "image/png": "[encoded data removed]"
     },
     "metadata": {},
     "output_type": "display_data"
    },
    {
     "name": "stdout",
     "output_type": "stream",
     "text": [
      "--- 0.3211202621459961 seconds ---\n"
     ]
    }
   ],
   "source": [
    "start_time = time.time()\n",
    "# df=pd.read_excel(\".../file.xlsx\")\n",
    "x=np.array([8,7,6,5,4,3,2])\n",
    "y=np.array([-5,-3,-4,-5,-6,-7,-8])\n",
    "z=np.array([1,2,2,2,2,6,72,50])\n",
    "p=np.array([1,2,2,2,2,6,72,50])\n",
    "\n",
    "path=\"data\\\\\"\n",
    "tests = QA_QC_kern(kp=x, porosity_open=y,sw_residual=z,kno=p,file_path=path)\n",
    "print(tests.get_method_description(\"test_kp_kp_din_dependence\"))\n",
    "tests.start_tests([\"test_kp_kp_din_dependence\"])\n",
    "tests.generate_test_report()\n",
    "print(\"--- %s seconds ---\" % (time.time() - start_time))"
   ],
   "metadata": {
    "collapsed": false,
    "ExecuteTime": {
     "end_time": "2023-08-24T04:44:32.985778700Z",
     "start_time": "2023-08-24T04:44:32.615301900Z"
    }
   }
  },
  {
   "cell_type": "code",
   "execution_count": 51,
   "outputs": [
    {
     "name": "stdout",
     "output_type": "stream",
     "text": [
      "\n",
      "        Тест предназначен для оценки соответствия\n",
      "        типовой для данного кроссплота и полученной\n",
      "        аппроксимации. В данном случае зависимость\n",
      "        линейная по функции y=a*x+b, при этом a>0, b<0\n",
      "\n",
      "        Args:\n",
      "            self.kp (array[int/float]): массив с данными Открытая пористость по жидкости для проверки\n",
      "            self.kp_din (array[int/float]): массив с данными коэффициент динамической пористости для проверки\n",
      "\n",
      "        Returns:\n",
      "            image: визуализация кроссплота\n",
      "            dict[str, bool | datetime | str]: словарь с результатом выполнения теста, датой выполнения теста\n",
      "            file: запись результата теста для сохранения состояния\n",
      "        \n"
     ]
    },
    {
     "data": {
      "text/plain": "<Figure size 640x480 with 1 Axes>",
      "image/png": "[encoded data removed]"
     },
     "metadata": {},
     "output_type": "display_data"
    },
    {
     "name": "stdout",
     "output_type": "stream",
     "text": [
      "--- 0.3608109951019287 seconds ---\n"
     ]
    }
   ],
   "source": [
    "start_time = time.time()\n",
    "# df=pd.read_excel(\".../file.xlsx\")\n",
    "x=np.array([ 1,-6,-9,-6,-6,-6,-10,-10])\n",
    "y=np.array([1,2,3,2,2,2,2,2])\n",
    "z=np.array([1,2,2,2,2,2,3,3])\n",
    "p=np.array([1,2,2,2,2,2,3,3])\n",
    "path=\"data\\\\\"\n",
    "tests = QA_QC_kern(kp=x, porosity_open=y,sw_residual=z,kno=p,file_path=path)\n",
    "print(tests.get_method_description(\"test_kp_kp_din_dependence\"))\n",
    "tests.start_tests([\"test_kp_kp_din_dependence\"])\n",
    "tests.generate_test_report()\n",
    "print(\"--- %s seconds ---\" % (time.time() - start_time))"
   ],
   "metadata": {
    "collapsed": false,
    "ExecuteTime": {
     "end_time": "2023-08-24T06:35:26.627996400Z",
     "start_time": "2023-08-24T06:35:26.235744500Z"
    }
   }
  },
  {
   "cell_type": "code",
   "execution_count": null,
   "outputs": [],
   "source": [],
   "metadata": {
    "collapsed": false
   }
  },
  {
   "cell_type": "code",
   "execution_count": 52,
   "outputs": [
    {
     "name": "stdout",
     "output_type": "stream",
     "text": [
      "\n",
      "        Тест предназначен для оценки соответствия\n",
      "        типовой для данного кроссплота и полученной\n",
      "        аппроксимации. В данном случае зависимость по\n",
      "        функции y=a*exp(b*x) при этом b>0\n",
      "\n",
      "        Args:\n",
      "            self.kpr (array[int/float]): массив с данными коэффициент проницаемости для проверки\n",
      "            self.kp (array[int/float]): массив с данными Открытая пористость по жидкости для проверки\n",
      "\n",
      "        Returns:\n",
      "            image: визуализация кроссплота\n",
      "            dict[str, bool | datetime | str]: словарь с результатом выполнения теста, датой выполнения теста\n",
      "            file: запись результата теста для сохранения состояния\n",
      "        \n"
     ]
    },
    {
     "data": {
      "text/plain": "<Figure size 640x480 with 1 Axes>",
      "image/png": "[encoded data removed]"
     },
     "metadata": {},
     "output_type": "display_data"
    },
    {
     "name": "stdout",
     "output_type": "stream",
     "text": [
      "--- 0.4680774211883545 seconds ---\n"
     ]
    }
   ],
   "source": [
    "start_time = time.time()\n",
    "# df=pd.read_excel(\".../file.xlsx\")\n",
    "x=np.array([1,2,3,4,5,6])\n",
    "y=np.array([1,1,1,1,1,1])\n",
    "path=\"data\\\\\"\n",
    "tests = QA_QC_kern(kpr=x, kp=y,file_path=path)\n",
    "print(tests.get_method_description(\"test_dependence_kpr_kp\"))\n",
    "tests.start_tests([\"test_dependence_kpr_kp\"])\n",
    "tests.generate_test_report()\n",
    "print(\"--- %s seconds ---\" % (time.time() - start_time))"
   ],
   "metadata": {
    "collapsed": false,
    "ExecuteTime": {
     "end_time": "2023-08-24T06:35:38.797462600Z",
     "start_time": "2023-08-24T06:35:38.298107Z"
    }
   }
  },
  {
   "cell_type": "code",
   "execution_count": 53,
   "outputs": [
    {
     "name": "stdout",
     "output_type": "stream",
     "text": [
      "\n",
      "        Тест предназначен для оценки соответствия\n",
      "        типовой для данного кроссплота и полученной\n",
      "        аппроксимации. В данном случае зависимость по\n",
      "        функции y=a*exp(b*x) при этом b>0\n",
      "\n",
      "        Args:\n",
      "            self.kpr (array[int/float]): массив с данными коэффициент проницаемости для проверки\n",
      "            self.kp (array[int/float]): массив с данными Открытая пористость по жидкости для проверки\n",
      "\n",
      "        Returns:\n",
      "            image: визуализация кроссплота\n",
      "            dict[str, bool | datetime | str]: словарь с результатом выполнения теста, датой выполнения теста\n",
      "            file: запись результата теста для сохранения состояния\n",
      "        \n"
     ]
    },
    {
     "data": {
      "text/plain": "<Figure size 640x480 with 1 Axes>",
      "image/png": "[encoded data removed]"
     },
     "metadata": {},
     "output_type": "display_data"
    },
    {
     "name": "stdout",
     "output_type": "stream",
     "text": [
      "--- 0.44561171531677246 seconds ---\n"
     ]
    }
   ],
   "source": [
    "start_time = time.time()\n",
    "# df=pd.read_excel(\".../file.xlsx\")\n",
    "x=np.array([1,2,3,4,5,6,7,50])\n",
    "y=np.array([1,2,3,4,5,6,7,50])\n",
    "path=\"data\\\\\"\n",
    "tests = QA_QC_kern(kpr=x, kp=y,file_path=path)\n",
    "print(tests.get_method_description(\"test_dependence_kpr_kp\"))\n",
    "tests.start_tests([\"test_dependence_kpr_kp\"])\n",
    "tests.generate_test_report()\n",
    "print(\"--- %s seconds ---\" % (time.time() - start_time))"
   ],
   "metadata": {
    "collapsed": false,
    "ExecuteTime": {
     "end_time": "2023-08-24T06:35:44.611834Z",
     "start_time": "2023-08-24T06:35:44.137129300Z"
    }
   }
  },
  {
   "cell_type": "code",
   "execution_count": null,
   "outputs": [],
   "source": [],
   "metadata": {
    "collapsed": false
   }
  },
  {
   "cell_type": "code",
   "execution_count": 54,
   "outputs": [
    {
     "name": "stdout",
     "output_type": "stream",
     "text": [
      "\n",
      "        Тест предназначен для оценки соответствия типовой для\n",
      "        данного кроссплота и полученной аппроксимации.\n",
      "        В данном случае зависимость по функции y=a*exp(b*x) при этом b>0\n",
      "\n",
      "        Args:\n",
      "            self.kpr (array[int/float]): массив с данными коэффициента проницаемости для проверки\n",
      "            self.kp_din (array[int/float]): массив с данными коэффициента динамической пористости для проверки\n",
      "\n",
      "        Returns:\n",
      "            image: визуализация кроссплота\n",
      "            dict[str, bool | datetime | str]: словарь с результатом выполнения теста, датой выполнения теста\n",
      "            file: запись результата теста для сохранения состояния\n",
      "        \n"
     ]
    },
    {
     "data": {
      "text/plain": "<Figure size 640x480 with 1 Axes>",
      "image/png": "[encoded data removed]"
     },
     "metadata": {},
     "output_type": "display_data"
    },
    {
     "name": "stdout",
     "output_type": "stream",
     "text": [
      "--- 0.4559805393218994 seconds ---\n"
     ]
    }
   ],
   "source": [
    "start_time = time.time()\n",
    "# df=pd.read_excel(\".../file.xlsx\")\n",
    "x=np.array([1,2,3,4,5,6])\n",
    "y=np.array([1,1,1,1,1,1])\n",
    "z=np.array([0.1,0.2,0.2,0.2,0.2,0.6,0.72,0.50])\n",
    "p=np.array([0.1,0.2,0.2,0.2,0.2,0.1,0.1,0.1])\n",
    "path=\"data\\\\\"\n",
    "tests = QA_QC_kern(kpr=x, porosity_open=y,sw_residual=z,kno=p,file_path=path)\n",
    "print(tests.get_method_description(\"test_dependence_kpr_kp_din\"))\n",
    "tests.start_tests([\"test_dependence_kpr_kp_din\"])\n",
    "tests.generate_test_report()\n",
    "print(\"--- %s seconds ---\" % (time.time() - start_time))"
   ],
   "metadata": {
    "collapsed": false,
    "ExecuteTime": {
     "end_time": "2023-08-24T06:35:53.289044100Z",
     "start_time": "2023-08-24T06:35:52.815736100Z"
    }
   }
  },
  {
   "cell_type": "code",
   "execution_count": 55,
   "outputs": [
    {
     "name": "stdout",
     "output_type": "stream",
     "text": [
      "--- 8.405332088470459 seconds ---\n",
      "\n",
      "        Тест предназначен для оценки соответствия типовой для\n",
      "        данного кроссплота и полученной аппроксимации.\n",
      "        В данном случае зависимость по функции y=a*exp(b*x) при этом b>0\n",
      "\n",
      "        Args:\n",
      "            self.kpr (array[int/float]): массив с данными коэффициента проницаемости для проверки\n",
      "            self.kp_din (array[int/float]): массив с данными коэффициента динамической пористости для проверки\n",
      "\n",
      "        Returns:\n",
      "            image: визуализация кроссплота\n",
      "            dict[str, bool | datetime | str]: словарь с результатом выполнения теста, датой выполнения теста\n",
      "            file: запись результата теста для сохранения состояния\n",
      "        \n"
     ]
    },
    {
     "data": {
      "text/plain": "<Figure size 640x480 with 1 Axes>",
      "image/png": "[encoded data removed]"
     },
     "metadata": {},
     "output_type": "display_data"
    },
    {
     "name": "stdout",
     "output_type": "stream",
     "text": [
      "--- 0.3786180019378662 seconds ---\n"
     ]
    }
   ],
   "source": [
    "print(\"--- %s seconds ---\" % (time.time() - start_time))\n",
    "start_time = time.time()\n",
    "# df=pd.read_excel(\".../file.xlsx\")\n",
    "x = np.array([1, 2, 3, 4, 5, 6, 7, 50])\n",
    "y = np.array([1, 2, 3, 4, 5, 6, 7, 50])\n",
    "z=np.array([0.1,0.2,0.2,0.2,0.2,0.6,0.72,0.50])\n",
    "p=np.array([0.1,0.2,0.2,0.2,0.2,0.1,0.1,0.1])\n",
    "path=\"data\\\\\"\n",
    "tests = QA_QC_kern(kpr=x, porosity_open=y,sw_residual=z,kno=p, file_path=path)\n",
    "print(tests.get_method_description(\"test_dependence_kpr_kp_din\"))\n",
    "tests.start_tests([\"test_dependence_kpr_kp_din\"])\n",
    "tests.generate_test_report()\n",
    "print(\"--- %s seconds ---\" % (time.time() - start_time))"
   ],
   "metadata": {
    "collapsed": false,
    "ExecuteTime": {
     "end_time": "2023-08-24T06:36:01.622134900Z",
     "start_time": "2023-08-24T06:36:01.221068100Z"
    }
   }
  },
  {
   "cell_type": "code",
   "execution_count": null,
   "outputs": [],
   "source": [],
   "metadata": {
    "collapsed": false
   }
  },
  {
   "cell_type": "code",
   "execution_count": 56,
   "outputs": [
    {
     "name": "stdout",
     "output_type": "stream",
     "text": [
      "\n",
      "        Тест предназначен для оценки соответствия типовой\n",
      "        для данного кроссплота и полученной аппроксимации.\n",
      "        В данном случае зависимость по функции y=a*ln(x)+b при этом a>0\n",
      "\n",
      "        Args:\n",
      "            self.sw_residual (array[int/float]): массив с данными коэффициент остаточной водонасыщенности для проверки\n",
      "            self.kpr (array[int/float]): массив с данными коэффициент проницаемости для проверки\n",
      "\n",
      "        Returns:\n",
      "            image: визуализация кроссплота\n",
      "            dict[str, bool | datetime | str]: словарь с результатом выполнения теста, датой выполнения теста\n",
      "            file: запись результата теста для сохранения состояния\n",
      "        \n"
     ]
    },
    {
     "data": {
      "text/plain": "<Figure size 640x480 with 1 Axes>",
      "image/png": "[encoded data removed]"
     },
     "metadata": {},
     "output_type": "display_data"
    },
    {
     "name": "stdout",
     "output_type": "stream",
     "text": [
      "--- 0.4763779640197754 seconds ---\n"
     ]
    }
   ],
   "source": [
    "start_time = time.time()\n",
    "# df=pd.read_excel(\".../file.xlsx\")\n",
    "x = np.array([1, 2, 3, 4, 5, 6, 7, 50])\n",
    "y = np.array([1, 2, 3, 4, 5, 6, 7, 50])\n",
    "path=\"data\\\\\"\n",
    "tests = QA_QC_kern(sw_residual=x, kpr=y, file_path=path)\n",
    "print(tests.get_method_description(\"test_dependence_sw_residual_kpr\"))\n",
    "tests.start_tests([\"test_dependence_sw_residual_kpr\"])\n",
    "tests.generate_test_report()\n",
    "print(\"--- %s seconds ---\" % (time.time() - start_time))"
   ],
   "metadata": {
    "collapsed": false,
    "ExecuteTime": {
     "end_time": "2023-08-24T06:36:08.689358200Z",
     "start_time": "2023-08-24T06:36:08.213160300Z"
    }
   }
  },
  {
   "cell_type": "code",
   "execution_count": null,
   "outputs": [],
   "source": [
    "start_time = time.time()\n",
    "# df=pd.read_excel(\".../file.xlsx\")\n",
    "x = np.array([10, 9, 8, 7, 6, 5, 4, 3])\n",
    "y = np.array([1, 2, 3, 4, 5, 6, 7, 8])\n",
    "path=\"data\\\\\"\n",
    "tests = QA_QC_kern(sw_residual=x, kpr=y, file_path=path)\n",
    "print(tests.get_method_description(\"test_dependence_sw_residual_kpr\"))\n",
    "tests.start_tests([\"test_dependence_sw_residual_kpr\"])\n",
    "tests.generate_test_report()\n",
    "print(\"--- %s seconds ---\" % (time.time() - start_time))"
   ],
   "metadata": {
    "collapsed": false
   }
  },
  {
   "cell_type": "code",
   "execution_count": null,
   "outputs": [],
   "source": [],
   "metadata": {
    "collapsed": false
   }
  },
  {
   "cell_type": "code",
   "execution_count": null,
   "outputs": [],
   "source": [
    "start_time = time.time()\n",
    "# df=pd.read_excel(\".../file.xlsx\")\n",
    "x = np.array([10, 9, 8, 7, 6, 5, 4, 3])\n",
    "y = np.array([1, 2, 3, 4, 5, 6, 7, 8])\n",
    "path=\"data\\\\\"\n",
    "tests = QA_QC_kern(rn=x, sw_residual=y, file_path=path)\n",
    "print(tests.get_method_description(\"test_rn_sw_residual_dependence\"))\n",
    "tests.start_tests([\"test_rn_sw_residual_dependence\"])\n",
    "tests.generate_test_report()\n",
    "print(\"--- %s seconds ---\" % (time.time() - start_time))"
   ],
   "metadata": {
    "collapsed": false
   }
  },
  {
   "cell_type": "code",
   "execution_count": null,
   "outputs": [],
   "source": [
    "start_time = time.time()\n",
    "# df=pd.read_excel(\".../file.xlsx\")\n",
    "x = np.array([1, 2, 3, 4, 5, 6, 7,8, 12,7,6,5,4,3,2])\n",
    "y = np.array([1, 2, 3, 4, 5, 6, 7,8, 12,91,113,10,5,4,3])\n",
    "path=\"data\\\\\"\n",
    "tests = QA_QC_kern(rn=x, sw_residual=y, file_path=path)\n",
    "print(tests.get_method_description(\"test_rn_sw_residual_dependence\"))\n",
    "tests.start_tests([\"test_rn_sw_residual_dependence\"])\n",
    "tests.generate_test_report()\n",
    "print(\"--- %s seconds ---\" % (time.time() - start_time))"
   ],
   "metadata": {
    "collapsed": false
   }
  },
  {
   "cell_type": "code",
   "execution_count": null,
   "outputs": [],
   "source": [],
   "metadata": {
    "collapsed": false
   }
  },
  {
   "cell_type": "code",
   "execution_count": null,
   "outputs": [],
   "source": [
    "start_time = time.time()\n",
    "# df=pd.read_excel(\".../file.xlsx\")\n",
    "x = np.array([1, 2, 3, 4, 5])\n",
    "y = np.array([2.0, 1.0, 0.5, 0.3, 0.2])\n",
    "path=\"data\\\\\"\n",
    "tests = QA_QC_kern(rp=x, kp=y, file_path=path)\n",
    "print(tests.get_method_description(\"test_rp_kp_dependencies\"))\n",
    "tests.start_tests([\"test_rp_kp_dependencies\"])\n",
    "tests.generate_test_report()\n",
    "print(\"--- %s seconds ---\" % (time.time() - start_time))"
   ],
   "metadata": {
    "collapsed": false
   }
  },
  {
   "cell_type": "code",
   "execution_count": null,
   "outputs": [],
   "source": [
    "start_time = time.time()\n",
    "# df=pd.read_excel(\".../file.xlsx\")\n",
    "x = np.array([1, 2, 3, 4, 5])\n",
    "y = np.array([0.2, 0.3, 0.5, 1.0, 2.0])\n",
    "path=\"data\\\\\"\n",
    "tests = QA_QC_kern(rp=x, kp=y, file_path=path)\n",
    "print(tests.get_method_description(\"test_rp_kp_dependencies\"))\n",
    "tests.start_tests([\"test_rp_kp_dependencies\"])\n",
    "tests.generate_test_report()\n",
    "print(\"--- %s seconds ---\" % (time.time() - start_time))"
   ],
   "metadata": {
    "collapsed": false
   }
  },
  {
   "cell_type": "code",
   "execution_count": null,
   "outputs": [],
   "source": [],
   "metadata": {
    "collapsed": false
   }
  },
  {
   "cell_type": "code",
   "execution_count": null,
   "outputs": [],
   "source": [
    "start_time = time.time()\n",
    "# df=pd.read_excel(\".../file.xlsx\")\n",
    "x = np.array([1, 2, 3, 4, 5])\n",
    "y = np.array([0.2, 0.3, 0.5, 1.0, 2.0])\n",
    "path=\"data\\\\\"\n",
    "tests = QA_QC_kern(roof=x, sole=y, file_path=path)\n",
    "print(tests.get_method_description(\"test_coring_depths_first\"))\n",
    "tests.start_tests([\"test_coring_depths_first\"])\n",
    "tests.generate_test_report()\n",
    "print(\"--- %s seconds ---\" % (time.time() - start_time))"
   ],
   "metadata": {
    "collapsed": false
   }
  },
  {
   "cell_type": "code",
   "execution_count": null,
   "outputs": [],
   "source": [
    "start_time = time.time()\n",
    "# df=pd.read_excel(\".../file.xlsx\")\n",
    "x = np.array([1, 2, 3, 4, 5])\n",
    "y = np.array([2, 3, 4, 5, 6])\n",
    "path=\"data\\\\\"\n",
    "tests = QA_QC_kern(roof=x, sole=y, file_path=path)\n",
    "print(tests.get_method_description(\"test_coring_depths_first\"))\n",
    "tests.start_tests([\"test_coring_depths_first\"])\n",
    "tests.generate_test_report()\n",
    "print(\"--- %s seconds ---\" % (time.time() - start_time))"
   ],
   "metadata": {
    "collapsed": false
   }
  },
  {
   "cell_type": "code",
   "execution_count": null,
   "outputs": [],
   "source": [],
   "metadata": {
    "collapsed": false
   }
  },
  {
   "cell_type": "code",
   "execution_count": 57,
   "outputs": [
    {
     "name": "stdout",
     "output_type": "stream",
     "text": [
      "\n",
      "        Тест проводится для оценкци соответствия интервала долбления: подошва-кровля ≥ выносу в метрах\n",
      "\n",
      "            Args:\n",
      "                self.roof (array[int/float]): массив с данными кровли для проверки\n",
      "                self.sole (array[int/float]): массив с данными подошвы для проверки\n",
      "                self.core_removal_in_meters (array[int/float]): массив с данными выноса в метрах для проверки\n",
      "\n",
      "            Returns:\n",
      "                bool: результат выполнения теста\n",
      "                file: запись результата теста для сохранения состояния\n",
      "        \n",
      "--- 0.0 seconds ---\n"
     ]
    }
   ],
   "source": [
    "start_time = time.time()\n",
    "# df=pd.read_excel(\".../file.xlsx\")\n",
    "x = np.array([10, 11, 12, 13, 14])\n",
    "y = np.array([2, 3, 4, 5, 6])\n",
    "z= np.array([7, 6, 5, 4, 3])\n",
    "path=\"data\\\\\"\n",
    "tests = QA_QC_kern(sole=x, roof=y,core_removal_in_meters=z, file_path=path)\n",
    "print(tests.get_method_description(\"test_coring_depths_second\"))\n",
    "tests.start_tests([\"test_coring_depths_second\"])\n",
    "tests.generate_test_report()\n",
    "print(\"--- %s seconds ---\" % (time.time() - start_time))"
   ],
   "metadata": {
    "collapsed": false,
    "ExecuteTime": {
     "end_time": "2023-08-24T06:36:19.639628100Z",
     "start_time": "2023-08-24T06:36:19.570526300Z"
    }
   }
  },
  {
   "cell_type": "code",
   "execution_count": null,
   "outputs": [],
   "source": [
    "start_time = time.time()\n",
    "# df=pd.read_excel(\".../file.xlsx\")\n",
    "x = np.array([10, 11, 12, 13, 14])\n",
    "y = np.array([2, 3, 4, 5, 6])\n",
    "z= np.array([17, 16, 15, 14, 13])\n",
    "path=\"data\\\\\"\n",
    "tests = QA_QC_kern(roof=x, sole=y,core_removal_in_meters=z, file_path=path)\n",
    "print(tests.get_method_description(\"test_coring_depths_second\"))\n",
    "tests.start_tests([\"test_coring_depths_second\"])\n",
    "tests.generate_test_report()\n",
    "print(\"--- %s seconds ---\" % (time.time() - start_time))"
   ],
   "metadata": {
    "collapsed": false
   }
  },
  {
   "cell_type": "code",
   "execution_count": null,
   "outputs": [],
   "source": [],
   "metadata": {
    "collapsed": false
   }
  },
  {
   "cell_type": "code",
   "execution_count": null,
   "outputs": [],
   "source": [
    "start_time = time.time()\n",
    "# df=pd.read_excel(\".../file.xlsx\")\n",
    "x = np.array([[10,13], [1,11]])\n",
    "y = np.array([1,10])\n",
    "z=np.array([33,100])\n",
    "path=\"data\\\\\"\n",
    "tests = QA_QC_kern(intervals=x, percent_core_removal=z, outreach_in_meters=y, file_path=path)\n",
    "print(tests.get_method_description(\"test_coring_depths_third\"))\n",
    "tests.start_tests([\"test_coring_depths_third\"])\n",
    "tests.generate_test_report()\n",
    "print(\"--- %s seconds ---\" % (time.time() - start_time))"
   ],
   "metadata": {
    "collapsed": false
   }
  },
  {
   "cell_type": "code",
   "execution_count": null,
   "outputs": [],
   "source": [
    "start_time = time.time()\n",
    "# df=pd.read_excel(\".../file.xlsx\")\n",
    "x = np.array([[10,13], [1,11]])\n",
    "y = np.array([1,10])\n",
    "z=np.array([33.333,100.0])\n",
    "path=\"data\\\\\"\n",
    "tests = QA_QC_kern(intervals=x, percent_core_removal=z, outreach_in_meters=y, file_path=path)\n",
    "print(tests.get_method_description(\"test_coring_depths_third\"))\n",
    "tests.start_tests([\"test_coring_depths_third\"])\n",
    "tests.generate_test_report()\n",
    "print(\"--- %s seconds ---\" % (time.time() - start_time))"
   ],
   "metadata": {
    "collapsed": false
   }
  },
  {
   "cell_type": "code",
   "execution_count": null,
   "outputs": [],
   "source": [],
   "metadata": {
    "collapsed": false
   }
  },
  {
   "cell_type": "code",
   "execution_count": null,
   "outputs": [],
   "source": [
    "start_time = time.time()\n",
    "# df=pd.read_excel(\".../file.xlsx\")\n",
    "x = np.array([1, 2, 3, 4, 5])\n",
    "y = np.array([0.2, 0.3, 0.5, 1.0, 2.0])\n",
    "z=np.array([0.2, 0.3, 0.5, 1.0, 2.0])\n",
    "path=\"data\\\\\"\n",
    "tests = QA_QC_kern(core_removal_in_meters=x, core_sampling=y,sole=z, file_path=path)\n",
    "print(tests.get_method_description(\"test_coring_depths_four\"))\n",
    "tests.start_tests([\"test_coring_depths_four\"])\n",
    "tests.generate_test_report()\n",
    "print(\"--- %s seconds ---\" % (time.time() - start_time))"
   ],
   "metadata": {
    "collapsed": false
   }
  },
  {
   "cell_type": "code",
   "execution_count": null,
   "outputs": [],
   "source": [
    "start_time = time.time()\n",
    "# df=pd.read_excel(\".../file.xlsx\")\n",
    "x = np.array([1, 2, 3, 4, 5])\n",
    "y = np.array([5, 6, 7, 1.0, 2.0])\n",
    "z=np.array([92, 39, 59, 19, 29])\n",
    "path=\"data\\\\\"\n",
    "tests = QA_QC_kern(core_removal_in_meters=x, core_sampling=y,sole=z, file_path=path)\n",
    "print(tests.get_method_description(\"test_coring_depths_four\"))\n",
    "tests.start_tests([\"test_coring_depths_four\"])\n",
    "tests.generate_test_report()\n",
    "print(\"--- %s seconds ---\" % (time.time() - start_time))"
   ],
   "metadata": {
    "collapsed": false
   }
  },
  {
   "cell_type": "code",
   "execution_count": null,
   "outputs": [],
   "source": [],
   "metadata": {
    "collapsed": false
   }
  },
  {
   "cell_type": "code",
   "execution_count": null,
   "outputs": [],
   "source": [
    "start_time = time.time()\n",
    "# df=pd.read_excel(\".../file.xlsx\")\n",
    "x = np.array([\"Скол\", np.nan, np.nan, np.nan, \"Трещина\"])\n",
    "path=\"data\\\\\"\n",
    "tests = QA_QC_kern(note=x,file_path=path)\n",
    "print(tests.get_method_description(\"test_table_notes\"))\n",
    "tests.start_tests([\"test_table_notes\"])\n",
    "tests.generate_test_report()\n",
    "print(\"--- %s seconds ---\" % (time.time() - start_time))"
   ],
   "metadata": {
    "collapsed": false
   }
  },
  {
   "cell_type": "code",
   "execution_count": null,
   "outputs": [],
   "source": [
    "start_time = time.time()\n",
    "# df=pd.read_excel(\".../file.xlsx\")\n",
    "x = np.array([np.nan, np.nan, np.nan])\n",
    "path=\"data\\\\\"\n",
    "tests = QA_QC_kern(note=x, file_path=path)\n",
    "print(tests.get_method_description(\"test_table_notes\"))\n",
    "tests.start_tests([\"test_table_notes\"])\n",
    "tests.generate_test_report()\n",
    "print(\"--- %s seconds ---\" % (time.time() - start_time))"
   ],
   "metadata": {
    "collapsed": false
   }
  },
  {
   "cell_type": "code",
   "execution_count": null,
   "outputs": [],
   "source": [],
   "metadata": {
    "collapsed": false
   }
  },
  {
   "cell_type": "code",
   "execution_count": null,
   "outputs": [],
   "source": [
    "start_time = time.time()\n",
    "# df=pd.read_excel(\".../file.xlsx\")\n",
    "x=np.array([1,2,3])\n",
    "y=np.array([1,2,3])\n",
    "a=np.array([1,2,3])\n",
    "b=np.array([1,2,3])\n",
    "c=np.array([1,2,3])\n",
    "v=np.array([1,2,3])\n",
    "n=np.array([1,2,3])\n",
    "path=\"data\\\\\"\n",
    "tests = QA_QC_kern(kpr=x, kp=y,rp=a,sw_residual=b,density=c,rn=v,water_permeability=n, file_path=path)\n",
    "print(tests.get_method_description(\"test_data_tampering\"))\n",
    "tests.start_tests([\"test_data_tampering\"])\n",
    "tests.generate_test_report()\n",
    "print(\"--- %s seconds ---\" % (time.time() - start_time))"
   ],
   "metadata": {
    "collapsed": false
   }
  },
  {
   "cell_type": "code",
   "execution_count": null,
   "outputs": [],
   "source": [
    "start_time = time.time()\n",
    "# df=pd.read_excel(\".../file.xlsx\")\n",
    "x=np.array([1,2,3])\n",
    "y=np.array([4,5,6])\n",
    "a=np.array([7,8,9])\n",
    "b=np.array([10,11,12])\n",
    "c=np.array([13,14,15])\n",
    "v=np.array([16,17,18])\n",
    "n=np.array([19,20,21])\n",
    "path=\"data\\\\\"\n",
    "tests = QA_QC_kern(kpr=x, kp=y,rp=a,sw_residual=b,density=c,rn=v,water_permeability=n, file_path=path)\n",
    "print(tests.get_method_description(\"test_data_tampering\"))\n",
    "tests.start_tests([\"test_data_tampering\"])\n",
    "tests.generate_test_report()\n",
    "print(\"--- %s seconds ---\" % (time.time() - start_time))"
   ],
   "metadata": {
    "collapsed": false
   }
  },
  {
   "cell_type": "code",
   "execution_count": null,
   "outputs": [],
   "source": [],
   "metadata": {
    "collapsed": false
   }
  },
  {
   "cell_type": "code",
   "execution_count": null,
   "outputs": [],
   "source": [
    "start_time = time.time()\n",
    "# df=pd.read_excel(\".../file.xlsx\")\n",
    "x = np.array([1, 2, 3, 4, 5])\n",
    "y = np.array([5, 6, 7, 1.0, 2.0])\n",
    "path=\"data\\\\\"\n",
    "tests = QA_QC_kern(kp_plast=x, kp_pov=y, file_path=path)\n",
    "print(tests.get_method_description(\"test_kp_in_surface_and_reservoir_conditions\"))\n",
    "tests.start_tests([\"test_kp_in_surface_and_reservoir_conditions\"])\n",
    "tests.generate_test_report()\n",
    "print(\"--- %s seconds ---\" % (time.time() - start_time))"
   ],
   "metadata": {
    "collapsed": false
   }
  },
  {
   "cell_type": "code",
   "execution_count": null,
   "outputs": [],
   "source": [
    "start_time = time.time()\n",
    "# df=pd.read_excel(\".../file.xlsx\")\n",
    "x = np.array([5, 6, 7, 5, 6])\n",
    "y = np.array([1, 2, 3, 4, 5])\n",
    "path=\"data\\\\\"\n",
    "tests = QA_QC_kern(kp_plast=x, kp_pov=y, file_path=path)\n",
    "print(tests.get_method_description(\"test_kp_in_surface_and_reservoir_conditions\"))\n",
    "tests.start_tests([\"test_kp_in_surface_and_reservoir_conditions\"])\n",
    "tests.generate_test_report()\n",
    "print(\"--- %s seconds ---\" % (time.time() - start_time))"
   ],
   "metadata": {
    "collapsed": false
   }
  },
  {
   "cell_type": "code",
   "execution_count": null,
   "outputs": [],
   "source": [],
   "metadata": {
    "collapsed": false
   }
  },
  {
   "cell_type": "code",
   "execution_count": null,
   "outputs": [],
   "source": [
    "start_time = time.time()\n",
    "# df=pd.read_excel(\".../file.xlsx\")\n",
    "x = np.array([0.2, 0.1, 0.5, 0.3, 0.3])\n",
    "y = np.array([0.2, 0.1, 0.2, 0.3, 0.3])\n",
    "path=\"data\\\\\"\n",
    "tests = QA_QC_kern(sw_residual=x, kno=y, file_path=path)\n",
    "print(tests.get_method_description(\"test_quo_and_qno\"))\n",
    "tests.start_tests([\"test_quo_and_qno\"])\n",
    "tests.generate_test_report()\n",
    "print(\"--- %s seconds ---\" % (time.time() - start_time))"
   ],
   "metadata": {
    "collapsed": false
   }
  },
  {
   "cell_type": "code",
   "execution_count": null,
   "outputs": [],
   "source": [
    "start_time = time.time()\n",
    "# df=pd.read_excel(\".../file.xlsx\")\n",
    "x = np.array([0.2, 0.1, 0.5, 0.3, 0.3])\n",
    "y = np.array([0.2, 0.1, 0.5, 0.3, 0.3])\n",
    "path=\"data\\\\\"\n",
    "tests = QA_QC_kern(sw_residual=x, kno=y, file_path=path)\n",
    "print(tests.get_method_description(\"test_quo_and_qno\"))\n",
    "tests.start_tests([\"test_quo_and_qno\"])\n",
    "tests.generate_test_report()\n",
    "print(\"--- %s seconds ---\" % (time.time() - start_time))"
   ],
   "metadata": {
    "collapsed": false
   }
  },
  {
   "cell_type": "code",
   "execution_count": null,
   "outputs": [],
   "source": [],
   "metadata": {
    "collapsed": false
   }
  },
  {
   "cell_type": "code",
   "execution_count": null,
   "outputs": [],
   "source": [
    "arr=np.array([1,2,3,4,5,6,7,50])\n",
    "path=\"data\\\\\"\n",
    "tests = QA_QC_kern(porosity_open=arr,file_path=path)\n",
    "tests.start_tests([\"test_open_porosity\"])\n",
    "tests.generate_test_report()"
   ],
   "metadata": {
    "collapsed": false
   }
  },
  {
   "cell_type": "code",
   "execution_count": null,
   "outputs": [],
   "source": [
    "arr=np.array([1,2,3,4,5,6,7,13])\n",
    "path=\"data\\\\\"\n",
    "tests = QA_QC_kern(porosity_open=arr,file_path=path)\n",
    "tests.start_tests([\"test_open_porosity\"])\n",
    "tests.generate_test_report()"
   ],
   "metadata": {
    "collapsed": false
   }
  },
  {
   "cell_type": "code",
   "execution_count": null,
   "outputs": [],
   "source": [],
   "metadata": {
    "collapsed": false
   }
  },
  {
   "cell_type": "code",
   "execution_count": null,
   "outputs": [],
   "source": [
    "arr=np.array([1,2,3,4,5,6,7,50])\n",
    "path=\"data\\\\\"\n",
    "tests = QA_QC_kern(poroHe=arr,file_path=path)\n",
    "tests.start_tests([\"test_porosity_HE\"])\n",
    "tests.generate_test_report()"
   ],
   "metadata": {
    "collapsed": false
   }
  },
  {
   "cell_type": "code",
   "execution_count": null,
   "outputs": [],
   "source": [
    "arr=np.array([1,2,3,4,5,6,7,13])\n",
    "path=\"data\\\\\"\n",
    "tests = QA_QC_kern(poroHe=arr,file_path=path)\n",
    "tests.start_tests([\"test_porosity_HE\"])\n",
    "tests.generate_test_report()"
   ],
   "metadata": {
    "collapsed": false
   }
  },
  {
   "cell_type": "code",
   "execution_count": null,
   "outputs": [],
   "source": [],
   "metadata": {
    "collapsed": false
   }
  },
  {
   "cell_type": "code",
   "execution_count": null,
   "outputs": [],
   "source": [
    "arr=np.array([1,2,3,4,5,6,7,50])\n",
    "path=\"data\\\\\"\n",
    "tests = QA_QC_kern(poroTBU=arr,file_path=path)\n",
    "tests.start_tests([\"test_porosity_TBU\"])\n",
    "tests.generate_test_report()"
   ],
   "metadata": {
    "collapsed": false
   }
  },
  {
   "cell_type": "code",
   "execution_count": null,
   "outputs": [],
   "source": [
    "arr=np.array([1,2,3,4,5,6,7,13])\n",
    "path=\"data\\\\\"\n",
    "tests = QA_QC_kern(poroTBU=arr,file_path=path)\n",
    "tests.start_tests([\"test_porosity_TBU\"])\n",
    "tests.generate_test_report()"
   ],
   "metadata": {
    "collapsed": false
   }
  },
  {
   "cell_type": "code",
   "execution_count": null,
   "outputs": [],
   "source": [],
   "metadata": {
    "collapsed": false
   }
  },
  {
   "cell_type": "code",
   "execution_count": null,
   "outputs": [],
   "source": [
    "arr=np.array([1,2,3,4,5,6,7,50])\n",
    "path=\"data\\\\\"\n",
    "tests = QA_QC_kern(porosity_kerosine=arr,file_path=path)\n",
    "tests.start_tests([\"test_porosity_kerosine\"])\n",
    "tests.generate_test_report()"
   ],
   "metadata": {
    "collapsed": false
   }
  },
  {
   "cell_type": "code",
   "execution_count": null,
   "outputs": [],
   "source": [
    "arr=np.array([1,2,3,4,5,6,7,13])\n",
    "path=\"data\\\\\"\n",
    "tests = QA_QC_kern(porosity_kerosine=arr,file_path=path)\n",
    "tests.start_tests([\"test_porosity_kerosine\"])\n",
    "tests.generate_test_report()"
   ],
   "metadata": {
    "collapsed": false
   }
  },
  {
   "cell_type": "code",
   "execution_count": null,
   "outputs": [],
   "source": [],
   "metadata": {
    "collapsed": false
   }
  },
  {
   "cell_type": "code",
   "execution_count": null,
   "outputs": [],
   "source": [
    "arr=np.array([1,2,3,4,5,6,7,50])\n",
    "path=\"data\\\\\"\n",
    "tests = QA_QC_kern(porosity_effective=arr,file_path=path)\n",
    "tests.start_tests([\"test_porosity_effective\"])\n",
    "tests.generate_test_report()"
   ],
   "metadata": {
    "collapsed": false
   }
  },
  {
   "cell_type": "code",
   "execution_count": null,
   "outputs": [],
   "source": [
    "arr=np.array([1,2,3,4,5,6,7,13])\n",
    "path=\"data\\\\\"\n",
    "tests = QA_QC_kern(porosity_effective=arr,file_path=path)\n",
    "tests.start_tests([\"test_porosity_effective\"])\n",
    "tests.generate_test_report()"
   ],
   "metadata": {
    "collapsed": false
   }
  },
  {
   "cell_type": "code",
   "execution_count": null,
   "outputs": [],
   "source": [],
   "metadata": {
    "collapsed": false
   }
  },
  {
   "cell_type": "code",
   "execution_count": null,
   "outputs": [],
   "source": [
    "start_time = time.time()\n",
    "df=pd.read_excel(\"data/SwFail(N).xlsx\")\n",
    "arr=df[\"Sw\"].dropna().to_numpy()\n",
    "path=\"data\\\\\"\n",
    "tests = QA_QC_kern(sw=arr,file_path=path)\n",
    "tests.start_tests([\"test_water_saturation\"])\n",
    "tests.generate_test_report()\n",
    "print(\"--- %s seconds ---\" % (time.time() - start_time))"
   ],
   "metadata": {
    "collapsed": false
   }
  },
  {
   "cell_type": "code",
   "execution_count": null,
   "outputs": [],
   "source": [
    "start_time = time.time()\n",
    "df=pd.read_excel(\"data/SwOK(N).xlsx\")\n",
    "arr=df[\"Sw\"].dropna().to_numpy()\n",
    "path=\"data\\\\\"\n",
    "tests = QA_QC_kern(sw=arr,file_path=path, file_name=\"SwOK(N).xlsx\")\n",
    "tests.start_tests([\"test_water_saturation\"])\n",
    "tests.generate_test_report()\n",
    "print(\"--- %s seconds ---\" % (time.time() - start_time))"
   ],
   "metadata": {
    "collapsed": false
   }
  },
  {
   "cell_type": "code",
   "execution_count": null,
   "outputs": [],
   "source": [],
   "metadata": {
    "collapsed": false
   }
  },
  {
   "cell_type": "code",
   "execution_count": null,
   "outputs": [],
   "source": [
    "start_time = time.time()\n",
    "df=pd.read_excel(\"data/SwFail(N).xlsx\")\n",
    "arr=df[\"Sw\"].dropna().to_numpy()\n",
    "path=\"data\\\\\"\n",
    "tests = QA_QC_kern(sw_residual=arr,file_path=path)\n",
    "tests.start_tests([\"test_residual_water_saturation\"])\n",
    "tests.generate_test_report()\n",
    "print(\"--- %s seconds ---\" % (time.time() - start_time))"
   ],
   "metadata": {
    "collapsed": false
   }
  },
  {
   "cell_type": "code",
   "execution_count": null,
   "outputs": [],
   "source": [
    "start_time = time.time()\n",
    "df=pd.read_excel(\"data/SwOK(N).xlsx\")\n",
    "arr=df[\"Sw\"].dropna().to_numpy()\n",
    "path=\"data\\\\\"\n",
    "tests = QA_QC_kern(sw_residual=arr,file_path=path, file_name=\"SwOK(N).xlsx\")\n",
    "tests.start_tests([\"test_residual_water_saturation\"])\n",
    "tests.generate_test_report()\n",
    "print(\"--- %s seconds ---\" % (time.time() - start_time))"
   ],
   "metadata": {
    "collapsed": false
   }
  },
  {
   "cell_type": "code",
   "execution_count": null,
   "outputs": [],
   "source": [],
   "metadata": {
    "collapsed": false
   }
  },
  {
   "cell_type": "code",
   "execution_count": null,
   "outputs": [],
   "source": [
    "start_time = time.time()\n",
    "df=pd.read_excel(\"data/PermeabilityKlinkenFail(R).xlsx\")\n",
    "arr=df[\"PermKlinken\"].dropna().to_numpy()\n",
    "path=\"data\\\\\"\n",
    "tests = QA_QC_kern(klickenberg_permeability=arr,file_path=path)\n",
    "tests.start_tests([\"test_klickenberg_permeability\"])\n",
    "tests.generate_test_report()\n",
    "print(\"--- %s seconds ---\" % (time.time() - start_time))"
   ],
   "metadata": {
    "collapsed": false
   }
  },
  {
   "cell_type": "code",
   "execution_count": null,
   "outputs": [],
   "source": [
    "start_time = time.time()\n",
    "df=pd.read_excel(\"data/PermeabilityKlinkenOK(R).xlsx\")\n",
    "arr=df[\"PermKlinken\"].dropna().to_numpy()\n",
    "path=\"data\\\\\"\n",
    "tests = QA_QC_kern(klickenberg_permeability=arr,file_path=path)\n",
    "tests.start_tests([\"test_klickenberg_permeability\"])\n",
    "tests.generate_test_report()\n",
    "print(\"--- %s seconds ---\" % (time.time() - start_time))"
   ],
   "metadata": {
    "collapsed": false
   }
  },
  {
   "cell_type": "code",
   "execution_count": null,
   "outputs": [],
   "source": [],
   "metadata": {
    "collapsed": false
   }
  },
  {
   "cell_type": "code",
   "execution_count": null,
   "outputs": [],
   "source": [
    "start_time = time.time()\n",
    "df=pd.read_excel(\"data/PermeabilityParallelFail(L).xlsx\")\n",
    "arr=df[\"Permeabilty, mkm2\"].dropna().to_numpy()\n",
    "path=\"data\\\\\"\n",
    "tests = QA_QC_kern(parallel_permeability=arr,file_path=path)\n",
    "tests.start_tests([\"test_parallel_permeability\"])\n",
    "tests.generate_test_report()\n",
    "print(\"--- %s seconds ---\" % (time.time() - start_time))"
   ],
   "metadata": {
    "collapsed": false
   }
  },
  {
   "cell_type": "code",
   "execution_count": null,
   "outputs": [],
   "source": [
    "start_time = time.time()\n",
    "df=pd.read_excel(\"data/PermeabilityParallelOK(L).xlsx\")\n",
    "arr=df[\"Permeabilty, mkm2\"].dropna().to_numpy()\n",
    "path=\"data\\\\\"\n",
    "tests = QA_QC_kern(parallel_permeability=arr,file_path=path)\n",
    "tests.start_tests([\"test_parallel_permeability\"])\n",
    "tests.generate_test_report()\n",
    "print(\"--- %s seconds ---\" % (time.time() - start_time))"
   ],
   "metadata": {
    "collapsed": false
   }
  },
  {
   "cell_type": "code",
   "execution_count": null,
   "outputs": [],
   "source": [],
   "metadata": {
    "collapsed": false
   }
  },
  {
   "cell_type": "code",
   "execution_count": null,
   "outputs": [],
   "source": [
    "start_time = time.time()\n",
    "df=pd.read_excel(\"data/PermeabilityEffOK(R).xlsx\")\n",
    "arr=df[\"PermEFF\"].dropna().to_numpy()\n",
    "path=\"data\\\\\"\n",
    "tests = QA_QC_kern(effective_permeability=arr,file_path=path)\n",
    "tests.start_tests([\"test_effective_permeability\"])\n",
    "tests.generate_test_report()\n",
    "print(\"--- %s seconds ---\" % (time.time() - start_time))"
   ],
   "metadata": {
    "collapsed": false
   }
  },
  {
   "cell_type": "code",
   "execution_count": null,
   "outputs": [],
   "source": [
    "start_time = time.time()\n",
    "df=pd.read_excel(\"data/PermeabilityEffFail(R).xlsx\")\n",
    "arr=df[\"PermEFF\"].dropna().to_numpy()\n",
    "path=\"data\\\\\"\n",
    "tests = QA_QC_kern(effective_permeability=arr,file_path=path)\n",
    "tests.start_tests([\"test_effective_permeability\"])\n",
    "tests.generate_test_report()\n",
    "print(\"--- %s seconds ---\" % (time.time() - start_time))"
   ],
   "metadata": {
    "collapsed": false
   }
  },
  {
   "cell_type": "code",
   "execution_count": null,
   "outputs": [],
   "source": [],
   "metadata": {
    "collapsed": false
   }
  },
  {
   "cell_type": "code",
   "execution_count": null,
   "outputs": [],
   "source": [
    "start_time = time.time()\n",
    "df=pd.read_excel(\"data/PermeabilityWOK(R).xlsx\")\n",
    "arr=df[\"PermW\"].dropna().to_numpy()\n",
    "path=\"data\\\\\"\n",
    "tests = QA_QC_kern(water_permeability=arr,file_path=path)\n",
    "tests.start_tests([\"test_water_permeability\"])\n",
    "tests.generate_test_report()\n",
    "print(\"--- %s seconds ---\" % (time.time() - start_time))"
   ],
   "metadata": {
    "collapsed": false
   }
  },
  {
   "cell_type": "code",
   "execution_count": null,
   "outputs": [],
   "source": [
    "start_time = time.time()\n",
    "df=pd.read_excel(\"data/PermeabilityWFail(R).xlsx\")\n",
    "arr=df[\"PermW\"].dropna().to_numpy()\n",
    "path=\"data\\\\\"\n",
    "tests = QA_QC_kern(water_permeability=arr,file_path=path)\n",
    "tests.start_tests([\"test_water_permeability\"])\n",
    "tests.generate_test_report()\n",
    "print(\"--- %s seconds ---\" % (time.time() - start_time))"
   ],
   "metadata": {
    "collapsed": false
   }
  },
  {
   "cell_type": "code",
   "execution_count": null,
   "outputs": [],
   "source": [],
   "metadata": {
    "collapsed": false
   }
  },
  {
   "cell_type": "code",
   "execution_count": null,
   "outputs": [],
   "source": [
    "start_time = time.time()\n",
    "df=pd.read_excel(\"data/NumbersFail.xlsx\")\n",
    "arr=df[\"dT, km/s\"].dropna().to_numpy()\n",
    "path=\"data\\\\\"\n",
    "tests = QA_QC_kern(water_permeability=arr,file_path=path)\n",
    "tests.start_tests([\"test_water_permeability\"])\n",
    "tests.generate_test_report()\n",
    "print(\"--- %s seconds ---\" % (time.time() - start_time))"
   ],
   "metadata": {
    "collapsed": false
   }
  },
  {
   "cell_type": "code",
   "execution_count": null,
   "outputs": [],
   "source": [
    "start_time = time.time()\n",
    "df=pd.read_excel(\"data/NumbersOK.xlsx\")\n",
    "arr=df[\"dT, km/s\"].dropna().to_numpy()\n",
    "path=\"data\\\\\"\n",
    "tests = QA_QC_kern(water_permeability=arr,file_path=path)\n",
    "tests.start_tests([\"test_water_permeability\"])\n",
    "tests.generate_test_report()\n",
    "print(\"--- %s seconds ---\" % (time.time() - start_time))"
   ],
   "metadata": {
    "collapsed": false
   }
  },
  {
   "cell_type": "code",
   "execution_count": null,
   "outputs": [],
   "source": [],
   "metadata": {
    "collapsed": false
   }
  },
  {
   "cell_type": "code",
   "execution_count": null,
   "outputs": [],
   "source": [
    "start_time = time.time()\n",
    "df=pd.read_excel(\"data/MonotonousOK(F).xlsx\")\n",
    "arr=df[\"Depth, m\"].dropna().to_numpy()\n",
    "path=\"data\\\\\"\n",
    "tests = QA_QC_kern(md=arr,file_path=path)\n",
    "tests.start_tests([\"test_monotony\"])\n",
    "tests.generate_test_report()\n",
    "print(\"--- %s seconds ---\" % (time.time() - start_time))"
   ],
   "metadata": {
    "collapsed": false
   }
  },
  {
   "cell_type": "code",
   "execution_count": null,
   "outputs": [],
   "source": [
    "start_time = time.time()\n",
    "df=pd.read_excel(\"data/MonotonousFail(F).xlsx\")\n",
    "arr=df[\"Depth, m\"].dropna().to_numpy()\n",
    "path=\"data\\\\\"\n",
    "tests = QA_QC_kern(md=arr,file_path=path)\n",
    "tests.start_tests([\"test_monotony\"])\n",
    "tests.generate_test_report()\n",
    "print(\"--- %s seconds ---\" % (time.time() - start_time))"
   ],
   "metadata": {
    "collapsed": false
   }
  },
  {
   "cell_type": "code",
   "execution_count": null,
   "outputs": [],
   "source": [],
   "metadata": {
    "collapsed": false
   }
  }
 ],
 "metadata": {
  "kernelspec": {
   "display_name": "Python 3",
   "language": "python",
   "name": "python3"
  },
  "language_info": {
   "codemirror_mode": {
    "name": "ipython",
    "version": 2
   },
   "file_extension": ".py",
   "mimetype": "text/x-python",
   "name": "python",
   "nbconvert_exporter": "python",
   "pygments_lexer": "ipython2",
   "version": "2.7.6"
  }
 },
 "nbformat": 4,
 "nbformat_minor": 0
}
