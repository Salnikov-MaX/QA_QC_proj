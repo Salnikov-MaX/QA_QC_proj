{
 "cells": [
  {
   "cell_type": "code",
   "execution_count": null,
   "outputs": [],
   "source": [
    "from qa_qc_lib.kern.qa_qc_kern import QA_QC_kern\n",
    "import numpy as np\n",
    "import pandas as pd\n",
    "import time"
   ],
   "metadata": {
    "collapsed": false,
    "is_executing": true
   }
  },
  {
   "cell_type": "markdown",
   "source": [
    "Тест предназначен для оценки дисперсии входных данных.\n",
    "Он проводится по следующему алгоритму: изначально,\n",
    "используя статистические методы, детектируются и удаляются\n",
    "выбросные точки, затем полученное облако точек  аппроксимируется\n",
    "и считается коэффициент детерминации R2. Если его значение больше\n",
    "0.7, то тест считается пройденным. Если значение меньше 0.7, то\n",
    "точки сортируются по удаленности от линии тренда, и запускается\n",
    "цикл, за одну итерацию которого удаляется самая отдаленная от\n",
    "линии аппроксимации точка, и считается R2, если значение больше\n",
    "0.7, и удалено менее 10% точек, то тест пройден, иначе - нет.\n",
    "\n",
    "Args:\n",
    "    x (array[int/float]): массив с данными для проверки\n",
    "    y (array[int/float]): массив с данными для проверки\n",
    "\n",
    "Returns:\n",
    "    dict[str, bool | str | Any] | dict[str, bool | str | Any]: словарь с результатом теста, значением\n",
    "                                                              Коэффициента r2, датой выполнения теста\n",
    "    file: запись результата теста для сохранения состояния"
   ],
   "metadata": {
    "collapsed": false
   }
  },
  {
   "cell_type": "code",
   "execution_count": null,
   "outputs": [],
   "source": [
    "start_time = time.time()\n",
    "df=pd.read_excel(\"data/DispersionFail(L-H).xlsx\")\n",
    "df=df[[\"Depth, m\",\"Porosity\"]].dropna()\n",
    "x=df[\"Depth, m\"].dropna().to_numpy()\n",
    "y=df[\"Porosity\"].dropna().to_numpy()\n",
    "path=\"data\\\\\"\n",
    "tests = QA_QC_kern(file_path=path)\n",
    "tests.test_general_dependency_checking(x,y)\n",
    "tests.generate_test_report()\n",
    "print(\"--- %s seconds ---\" % (time.time() - start_time))"
   ],
   "metadata": {
    "collapsed": false,
    "is_executing": true
   }
  },
  {
   "cell_type": "code",
   "execution_count": null,
   "outputs": [],
   "source": [
    "start_time = time.time()\n",
    "df=pd.read_excel(\"data/DispersionOK(L-H).xlsx\")\n",
    "df=df[[\"Density, g/cc\",\"Porosity\"]].dropna()\n",
    "x=df[\"Density, g/cc\"].dropna().to_numpy()\n",
    "y=df[\"Porosity\"].dropna().to_numpy()\n",
    "path=\"data\\\\\"\n",
    "tests = QA_QC_kern(file_path=path)\n",
    "tests.test_general_dependency_checking(x,y)\n",
    "tests.generate_test_report()\n",
    "print(\"--- %s seconds ---\" % (time.time() - start_time))"
   ],
   "metadata": {
    "collapsed": false,
    "is_executing": true
   }
  },
  {
   "cell_type": "markdown",
   "source": [
    "Тест предназначен для оценки соответствия типовой\n",
    "для данного кроссплота и полученной аппроксимации.\n",
    "В данном случае зависимость линейная по функции\n",
    "y=a*x+b, при этом a<0\n",
    "\n",
    "Args:\n",
    "    self.sw_residual (array[int/float]): массив с данными коэффициент остаточной водонасыщенности для проверки\n",
    "    self.kp (array[int/float]): массив с данными Открытая пористость по жидкости для проверки\n",
    "\n",
    "Returns:\n",
    "    image: визуализация кроссплота\n",
    "    dict[str, bool | datetime | str]: словарь с результатом выполнения теста, датой выполнения теста\n",
    "    file: запись результата теста для сохранения состояния"
   ],
   "metadata": {
    "collapsed": false
   }
  },
  {
   "cell_type": "code",
   "execution_count": null,
   "outputs": [],
   "source": [
    "start_time = time.time()\n",
    "df=pd.read_excel(\"data/Swc-PoroFail(N-H).xlsx\")\n",
    "df=df[[\"Sw\",\"Porosity\"]].dropna()\n",
    "x=df[\"Sw\"].dropna().to_numpy()\n",
    "y=df[\"Porosity\"].dropna().to_numpy()\n",
    "path=\"data\\\\\"\n",
    "tests = QA_QC_kern(sw_residual=x,kp=y,file_path=path)\n",
    "tests.start_tests([\"test_quo_kp_dependence\"])\n",
    "tests.generate_test_report()\n",
    "print(\"--- %s seconds ---\" % (time.time() - start_time))"
   ],
   "metadata": {
    "collapsed": false,
    "is_executing": true
   }
  },
  {
   "cell_type": "code",
   "execution_count": null,
   "outputs": [],
   "source": [
    "start_time = time.time()\n",
    "df=pd.read_excel(\"data/Swc-PoroOK(N-H).xlsx\")\n",
    "df=df[[\"Sw\",\"Porosity\"]].dropna()\n",
    "y=df[\"Sw\"].dropna().to_numpy()\n",
    "x=df[\"Porosity\"].dropna().to_numpy()\n",
    "path=\"data\\\\\"\n",
    "tests = QA_QC_kern(sw_residual=x, kp=y,file_path=path)\n",
    "tests.start_tests([\"test_quo_kp_dependence\"])\n",
    "tests.generate_test_report()\n",
    "print(\"--- %s seconds ---\" % (time.time() - start_time))"
   ],
   "metadata": {
    "collapsed": false,
    "is_executing": true
   }
  },
  {
   "cell_type": "code",
   "execution_count": null,
   "outputs": [],
   "source": [
    "start_time = time.time()\n",
    "x=np.array([1,2,3,4,5,6,7,50])\n",
    "y=np.array([50,10,9,8,7,6,5,4])\n",
    "path=\"data\\\\\"\n",
    "tests = QA_QC_kern(sw_residual=x, kp=y,file_path=path)\n",
    "tests.start_tests([\"test_quo_kp_dependence\"])\n",
    "tests.generate_test_report()\n",
    "print(\"--- %s seconds ---\" % (time.time() - start_time))"
   ],
   "metadata": {
    "collapsed": false,
    "is_executing": true
   }
  },
  {
   "cell_type": "markdown",
   "source": [
    "Тест предназначен для оценки соответствия типовой\n",
    "для данного кроссплота и полученной аппроксимации.\n",
    "В данном случае зависимость линейная по функции y=a*x+b, при этом a<0\n",
    "\n",
    "Args:\n",
    "    self.kp (array[int/float]): массив с данными коэффициента пористости для проверки\n",
    "    self.density (array[int/float]): массив с данными плотности для проверки\n",
    "\n",
    "Returns:\n",
    "    image: визуализация кроссплота\n",
    "    dict[str, bool | datetime | str]: словарь с результатом выполнения теста, датой выполнения теста\n",
    "    file: запись результата теста для сохранения состояния"
   ],
   "metadata": {
    "collapsed": false
   }
  },
  {
   "cell_type": "code",
   "execution_count": null,
   "outputs": [],
   "source": [
    "start_time = time.time()\n",
    "df=pd.read_excel(\"data/Density-PoroOK(J-H).xlsx\")\n",
    "df=df[[\"Density, g/cc\",\"Porosity\"]].dropna()\n",
    "x=df[\"Density, g/cc\"].dropna().to_numpy()\n",
    "y=df[\"Porosity\"].dropna().to_numpy()\n",
    "path=\"data\\\\\"\n",
    "tests = QA_QC_kern(density=x, kp=y,file_path=path)\n",
    "tests.start_tests([\"test_kp_density_dependence\"])\n",
    "tests.generate_test_report()\n",
    "print(\"--- %s seconds ---\" % (time.time() - start_time))"
   ],
   "metadata": {
    "collapsed": false,
    "is_executing": true
   }
  },
  {
   "cell_type": "code",
   "execution_count": null,
   "outputs": [],
   "source": [
    "start_time = time.time()\n",
    "df=pd.read_excel(\"data/Density-PoroFail(J-H).xlsx\")\n",
    "df=df[[\"Density, g/cc\",\"Porosity\"]].dropna()\n",
    "x=df[\"Density, g/cc\"].dropna().to_numpy()\n",
    "y=df[\"Porosity\"].dropna().to_numpy()\n",
    "path=\"data\\\\\"\n",
    "tests = QA_QC_kern(density=x, kp=y,file_path=path)\n",
    "tests.start_tests([\"test_kp_density_dependence\"])\n",
    "tests.generate_test_report()\n",
    "print(\"--- %s seconds ---\" % (time.time() - start_time))"
   ],
   "metadata": {
    "collapsed": false,
    "is_executing": true
   }
  },
  {
   "cell_type": "markdown",
   "source": [
    " Тест предназначен для оценки соответствия типовой\n",
    " для данного кроссплота и полученной аппроксимации.\n",
    " В данном случае зависимость линейная по функции y=a*x+b, при этом a<0\n",
    "\n",
    " Args:\n",
    "     self.sw_residual (array[int/float]): массив с данными коэффициент остаточной водонасыщенности для проверки\n",
    "     self.kp_din (array[int/float]): массив с данными коэффициент динамической пористости для проверки\n",
    "\n",
    " Returns:\n",
    "     image: визуализация кроссплота\n",
    "     dict[str, bool | datetime | str]: словарь с результатом выполнения теста, датой выполнения теста\n",
    "     file: запись результата теста для сохранения состояния"
   ],
   "metadata": {
    "collapsed": false
   }
  },
  {
   "cell_type": "code",
   "execution_count": null,
   "outputs": [],
   "source": [
    "start_time = time.time()\n",
    "# df=pd.read_excel(\"data/file.xlsx\")\n",
    "x=np.array([0.8,0.7,0.6,0.5,0.4,0.3,0.2])\n",
    "y=np.array([0.2,0.3,0.4,0.5,0.6,0.7,0.8])\n",
    "z=np.array([0.1,0.2,0.3,0.4,0.5,0.6,0.7])\n",
    "path=\"data\\\\\"\n",
    "tests = QA_QC_kern(sw_residual=x, porosity_open=y,kno=z,file_path=path)\n",
    "tests.start_tests([\"test_sw_residual_kp_din_dependence\"])\n",
    "tests.generate_test_report()\n",
    "print(\"--- %s seconds ---\" % (time.time() - start_time))"
   ],
   "metadata": {
    "collapsed": false,
    "is_executing": true
   }
  },
  {
   "cell_type": "code",
   "execution_count": null,
   "outputs": [],
   "source": [
    "start_time = time.time()\n",
    "# df=pd.read_excel(\"data/file.xlsx\")\n",
    "x=np.array([1,442,384,4,5,-6,7,-50])\n",
    "y=np.array([122,-2,-322,-4,5,6,722,50])\n",
    "z=np.array([1,-2,3,488,52,6,7,50])\n",
    "path=\"data\\\\\"\n",
    "tests = QA_QC_kern(sw_residual=x, porosity_open=y,kno=z,file_path=path)\n",
    "tests.start_tests([\"test_sw_residual_kp_din_dependence\"])\n",
    "tests.generate_test_report()\n",
    "print(\"--- %s seconds ---\" % (time.time() - start_time))"
   ],
   "metadata": {
    "collapsed": false,
    "is_executing": true
   }
  },
  {
   "cell_type": "markdown",
   "source": [
    "Тест предназначен для проверки физичности\n",
    "взаимосвязи двух кроссплотов - Обплнас-Кп и\n",
    "Минпл-Кп. Пусть первый аппроксимируется\n",
    "линией тренда y=a1*x+b1, а второй - y=a2*x+b2, при этом a1<a2\n",
    "\n",
    "Args:\n",
    "    self.kp (array[int/float]): массив с данными коэффициента пористости для проверки\n",
    "    self.obblnas (array[int/float]): массив с данными объемная плотность для проверки\n",
    "    self.pmu (array[int/float]): массив с данными минералогическая плотность для проверки\n",
    "\n",
    "Returns:\n",
    "    image: визуализация кроссплота\n",
    "    dict[str, bool | datetime | str]: словарь с результатом выполнения теста, датой выполнения теста\n",
    "    file: запись результата теста для сохранения состояния"
   ],
   "metadata": {
    "collapsed": false
   }
  },
  {
   "cell_type": "code",
   "execution_count": null,
   "outputs": [],
   "source": [
    "start_time = time.time()\n",
    "# df=pd.read_excel(\"data/file.xlsx\")\n",
    "x=np.array([1,2,3,4,5,6,7,7])\n",
    "y=np.array([1,2,3,4,5,6,7,10])\n",
    "z=np.array([1,2,3,4,5,6,7,7])\n",
    "path=\"data\\\\\"\n",
    "tests = QA_QC_kern(obplnas=x, pmu=y,kp=z,file_path=path)\n",
    "tests.start_tests([\"test_obblnas_kp_dependence\"])\n",
    "tests.generate_test_report()\n",
    "print(\"--- %s seconds ---\" % (time.time() - start_time))"
   ],
   "metadata": {
    "collapsed": false,
    "is_executing": true
   }
  },
  {
   "cell_type": "code",
   "execution_count": null,
   "outputs": [],
   "source": [
    "start_time = time.time()\n",
    "# df=pd.read_excel(\"data/file.xlsx\")\n",
    "x=np.array([1,2,3,4,5,6,7,50])\n",
    "y=np.array([50,10,9,8,7,6,5,4])\n",
    "z=np.array([1,2,3,4,5,6,7,50])\n",
    "path=\"data\\\\\"\n",
    "tests = QA_QC_kern(obplnas=x, pmu=y,kp=z,file_path=path)\n",
    "tests.start_tests([\"test_obblnas_kp_dependence\"])\n",
    "tests.generate_test_report()\n",
    "print(\"--- %s seconds ---\" % (time.time() - start_time))"
   ],
   "metadata": {
    "collapsed": false,
    "is_executing": true
   }
  },
  {
   "cell_type": "markdown",
   "source": [
    "Тест предназначен для оценки соответствия\n",
    "типовой для данного кроссплота и полученной\n",
    "аппроксимации. В данном случае зависимость\n",
    "линейная по функции y=a*x+b, при этом a>0, b>0\n",
    "\n",
    "Args:\n",
    "    self.kp_ef (array[int/float]): массив с данными коэффициент эффективной пористости для проверки\n",
    "    self.kp_din (array[int/float]): массив с данными коэффициент динамической пористости для проверки\n",
    "\n",
    "Returns:\n",
    "    image: визуализация кроссплота\n",
    "    dict[str, bool | datetime | str]: словарь с результатом выполнения теста, датой выполнения теста\n",
    "    file: запись результата теста для сохранения состояния"
   ],
   "metadata": {
    "collapsed": false
   }
  },
  {
   "cell_type": "code",
   "execution_count": null,
   "outputs": [],
   "source": [
    "start_time = time.time()\n",
    "# df=pd.read_excel(\".../file.xlsx\")\n",
    "x=np.array([0.8,0.7,0.6,0.5,0.4,0.3,0.2])\n",
    "y=np.array([0.2,0.3,0.4,0.5,0.6,0.7,0.8])\n",
    "z=np.array([0.1,0.2,0.3,0.4,0.5,0.6,0.7])\n",
    "path=\"data\\\\\"\n",
    "tests = QA_QC_kern(sw_residual=x, porosity_open=y,kno=z,file_path=path)\n",
    "tests.start_tests([\"test_kp_ef_kpdin_dependence\"])\n",
    "tests.generate_test_report()\n",
    "print(\"--- %s seconds ---\" % (time.time() - start_time))"
   ],
   "metadata": {
    "collapsed": false,
    "is_executing": true
   }
  },
  {
   "cell_type": "code",
   "execution_count": null,
   "outputs": [],
   "source": [
    "start_time = time.time()\n",
    "# df=pd.read_excel(\".../file.xlsx\")\n",
    "x=np.array([1,442,384,4,5,-6,7,-50])\n",
    "y=np.array([122,-2,-322,-4,5,6,722,50])\n",
    "z=np.array([1,-2,3,488,52,6,7,50])\n",
    "path=\"data\\\\\"\n",
    "tests = QA_QC_kern(sw_residual=x, porosity_open=y,kno=z,file_path=path)\n",
    "tests.start_tests([\"test_kp_ef_kpdin_dependence\"])\n",
    "tests.generate_test_report()\n",
    "print(\"--- %s seconds ---\" % (time.time() - start_time))"
   ],
   "metadata": {
    "collapsed": false,
    "is_executing": true
   }
  },
  {
   "cell_type": "markdown",
   "source": [
    "Тест предназначен для оценки соответствия\n",
    "типовой для данного кроссплота и полученной\n",
    "аппроксимации. В данном случае зависимость\n",
    "линейная по функции y=a*x+b, при этом a>0, b<0\n",
    "\n",
    "Args:\n",
    "    self.kp_ef (array[int/float]): массив с данными коэффициента эффективной пористости для проверки\n",
    "    self.kp (array[int/float]): массив с данными коэффициента пористости для проверки\n",
    "\n",
    "Returns:\n",
    "    image: визуализация кроссплота\n",
    "    dict[str, bool | datetime | str]: словарь с результатом выполнения теста, датой выполнения теста\n",
    "    file: запись результата теста для сохранения состояния"
   ],
   "metadata": {
    "collapsed": false
   }
  },
  {
   "cell_type": "code",
   "execution_count": null,
   "outputs": [],
   "source": [
    "start_time = time.time()\n",
    "# df=pd.read_excel(\".../file.xlsx\")\n",
    "x=np.array([0.8,0.7,0.6,0.5,0.4,0.3,0.2])\n",
    "y=np.array([0.2,0.3,0.4,0.5,0.6,0.7,0.8])\n",
    "z=np.array([0.1,0.2,0.3,0.4,0.5,0.6,0.7])\n",
    "path=\"data\\\\\"\n",
    "tests = QA_QC_kern(sw_residual=x, porosity_open=y, kp=z,file_path=path)\n",
    "tests.start_tests([\"test_kp_ef_kp_dependence\"])\n",
    "tests.generate_test_report()\n",
    "print(\"--- %s seconds ---\" % (time.time() - start_time))"
   ],
   "metadata": {
    "collapsed": false,
    "is_executing": true
   }
  },
  {
   "cell_type": "code",
   "execution_count": null,
   "outputs": [],
   "source": [
    "start_time = time.time()\n",
    "# df=pd.read_excel(\".../file.xlsx\")\n",
    "x=np.array([1,2,22,334,5,6,722,5330])\n",
    "y=np.array([222212,2333,3333,433,5333,6,3,330])\n",
    "z=np.array([1,2,2,2,2,6,72,50])\n",
    "path=\"data\\\\\"\n",
    "tests = QA_QC_kern(sw_residual=x, porosity_open=y, kp=z,file_path=path)\n",
    "tests.start_tests([\"test_kp_ef_kp_dependence\"])\n",
    "tests.generate_test_report()\n",
    "print(\"--- %s seconds ---\" % (time.time() - start_time))"
   ],
   "metadata": {
    "collapsed": false,
    "is_executing": true
   }
  },
  {
   "cell_type": "markdown",
   "source": [
    "Тест предназначен для оценки соответствия\n",
    "типовой для данного кроссплота и полученной\n",
    "аппроксимации. В данном случае зависимость\n",
    "линейная по функции y=a*x+b, при этом a>0, b<0\n",
    "\n",
    "Args:\n",
    "    self.kp (array[int/float]): массив с данными Открытая пористость по жидкости для проверки\n",
    "    self.kp_din (array[int/float]): массив с данными коэффициент динамической пористости для проверки\n",
    "\n",
    "Returns:\n",
    "    image: визуализация кроссплота\n",
    "    dict[str, bool | datetime | str]: словарь с результатом выполнения теста, датой выполнения теста\n",
    "    file: запись результата теста для сохранения состояния"
   ],
   "metadata": {
    "collapsed": false
   }
  },
  {
   "cell_type": "code",
   "execution_count": null,
   "outputs": [],
   "source": [
    "start_time = time.time()\n",
    "# df=pd.read_excel(\".../file.xlsx\")\n",
    "x=np.array([8,7,6,5,4,3,2])\n",
    "y=np.array([-5,-3,-4,-5,-6,-7,-8])\n",
    "z=np.array([1,2,2,2,2,6,72,50])\n",
    "p=np.array([1,2,2,2,2,6,72,50])\n",
    "path=\"data\\\\\"\n",
    "tests = QA_QC_kern(kp=x, porosity_open=y,sw_residual=z,kno=p,file_path=path)\n",
    "tests.start_tests([\"test_kp_kp_din_dependence\"])\n",
    "tests.generate_test_report()\n",
    "print(\"--- %s seconds ---\" % (time.time() - start_time))"
   ],
   "metadata": {
    "collapsed": false,
    "is_executing": true
   }
  },
  {
   "cell_type": "code",
   "execution_count": null,
   "outputs": [],
   "source": [
    "start_time = time.time()\n",
    "# df=pd.read_excel(\".../file.xlsx\")\n",
    "x=np.array([ 1,-6,-9,-6,-6,-6,-10,-10])\n",
    "y=np.array([1,2,3,2,2,2,2,2])\n",
    "z=np.array([1,2,2,2,2,2,3,3])\n",
    "p=np.array([1,2,2,2,2,2,3,3])\n",
    "path=\"data\\\\\"\n",
    "tests = QA_QC_kern(kp=x, porosity_open=y,sw_residual=z,kno=p,file_path=path)\n",
    "tests.start_tests([\"test_kp_kp_din_dependence\"])\n",
    "tests.generate_test_report()\n",
    "print(\"--- %s seconds ---\" % (time.time() - start_time))"
   ],
   "metadata": {
    "collapsed": false,
    "is_executing": true
   }
  },
  {
   "cell_type": "markdown",
   "source": [
    "Тест предназначен для оценки соответствия\n",
    "типовой для данного кроссплота и полученной\n",
    "аппроксимации. В данном случае зависимость по\n",
    "функции y=a*exp(b*x) при этом b>0\n",
    "\n",
    "Args:\n",
    "    self.kpr (array[int/float]): массив с данными коэффициент проницаемости для проверки\n",
    "    self.kp (array[int/float]): массив с данными Открытая пористость по жидкости для проверки\n",
    "\n",
    "Returns:\n",
    "    image: визуализация кроссплота\n",
    "    dict[str, bool | datetime | str]: словарь с результатом выполнения теста, датой выполнения теста\n",
    "    file: запись результата теста для сохранения состояния"
   ],
   "metadata": {
    "collapsed": false
   }
  },
  {
   "cell_type": "code",
   "execution_count": null,
   "outputs": [],
   "source": [
    "start_time = time.time()\n",
    "# df=pd.read_excel(\".../file.xlsx\")\n",
    "x=np.array([1,2,3,4,5,6])\n",
    "y=np.array([1,1,1,1,1,1])\n",
    "path=\"data\\\\\"\n",
    "tests = QA_QC_kern(kpr=x, kp=y,file_path=path)\n",
    "tests.start_tests([\"test_dependence_kpr_kp\"])\n",
    "tests.generate_test_report()\n",
    "print(\"--- %s seconds ---\" % (time.time() - start_time))"
   ],
   "metadata": {
    "collapsed": false,
    "is_executing": true
   }
  },
  {
   "cell_type": "code",
   "execution_count": null,
   "outputs": [],
   "source": [
    "start_time = time.time()\n",
    "# df=pd.read_excel(\".../file.xlsx\")\n",
    "x=np.array([1,2,3,4,5,6,7,50])\n",
    "y=np.array([1,2,3,4,5,6,7,50])\n",
    "path=\"data\\\\\"\n",
    "tests = QA_QC_kern(kpr=x, kp=y,file_path=path)\n",
    "tests.start_tests([\"test_dependence_kpr_kp\"])\n",
    "tests.generate_test_report()\n",
    "print(\"--- %s seconds ---\" % (time.time() - start_time))"
   ],
   "metadata": {
    "collapsed": false,
    "is_executing": true
   }
  },
  {
   "cell_type": "markdown",
   "source": [
    "Тест предназначен для оценки соответствия типовой для\n",
    "данного кроссплота и полученной аппроксимации.\n",
    "В данном случае зависимость по функции y=a*exp(b*x) при этом b>0\n",
    "\n",
    "Args:\n",
    "    self.kpr (array[int/float]): массив с данными коэффициента проницаемости для проверки\n",
    "    self.kp_din (array[int/float]): массив с данными коэффициента динамической пористости для проверки\n",
    "\n",
    "Returns:\n",
    "    image: визуализация кроссплота\n",
    "    dict[str, bool | datetime | str]: словарь с результатом выполнения теста, датой выполнения теста\n",
    "    file: запись результата теста для сохранения состояния"
   ],
   "metadata": {
    "collapsed": false
   }
  },
  {
   "cell_type": "code",
   "execution_count": null,
   "outputs": [],
   "source": [
    "start_time = time.time()\n",
    "# df=pd.read_excel(\".../file.xlsx\")\n",
    "x=np.array([1,2,3,4,5,6])\n",
    "y=np.array([1,1,1,1,1,1])\n",
    "z=np.array([0.1,0.2,0.2,0.2,0.2,0.6,0.72,0.50])\n",
    "p=np.array([0.1,0.2,0.2,0.2,0.2,0.1,0.1,0.1])\n",
    "path=\"data\\\\\"\n",
    "tests = QA_QC_kern(kpr=x, porosity_open=y,sw_residual=z,kno=p,file_path=path)\n",
    "tests.start_tests([\"test_dependence_kpr_kp_din\"])\n",
    "tests.generate_test_report()\n",
    "print(\"--- %s seconds ---\" % (time.time() - start_time))"
   ],
   "metadata": {
    "collapsed": false,
    "is_executing": true
   }
  },
  {
   "cell_type": "code",
   "execution_count": null,
   "outputs": [],
   "source": [
    "print(\"--- %s seconds ---\" % (time.time() - start_time))\n",
    "start_time = time.time()\n",
    "# df=pd.read_excel(\".../file.xlsx\")\n",
    "x = np.array([1, 2, 3, 4, 5, 6, 7, 50])\n",
    "y = np.array([1, 2, 3, 4, 5, 6, 7, 50])\n",
    "z=np.array([0.1,0.2,0.2,0.2,0.2,0.6,0.72,0.50])\n",
    "p=np.array([0.1,0.2,0.2,0.2,0.2,0.1,0.1,0.1])\n",
    "path=\"data\\\\\"\n",
    "tests = QA_QC_kern(kpr=x, porosity_open=y,sw_residual=z,kno=p, file_path=path)\n",
    "tests.start_tests([\"test_dependence_kpr_kp_din\"])\n",
    "tests.generate_test_report()\n",
    "print(\"--- %s seconds ---\" % (time.time() - start_time))"
   ],
   "metadata": {
    "collapsed": false,
    "is_executing": true
   }
  },
  {
   "cell_type": "markdown",
   "source": [
    "Тест предназначен для оценки соответствия типовой\n",
    "для данного кроссплота и полученной аппроксимации.\n",
    "В данном случае зависимость по функции y=a*ln(x)+b при этом a>0\n",
    "\n",
    "Args:\n",
    "    self.sw_residual (array[int/float]): массив с данными коэффициент остаточной водонасыщенности для проверки\n",
    "    self.kpr (array[int/float]): массив с данными коэффициент проницаемости для проверки\n",
    "\n",
    "Returns:\n",
    "    image: визуализация кроссплота\n",
    "    dict[str, bool | datetime | str]: словарь с результатом выполнения теста, датой выполнения теста\n",
    "    file: запись результата теста для сохранения состояния"
   ],
   "metadata": {
    "collapsed": false
   }
  },
  {
   "cell_type": "code",
   "execution_count": null,
   "outputs": [],
   "source": [
    "start_time = time.time()\n",
    "# df=pd.read_excel(\".../file.xlsx\")\n",
    "x = np.array([1, 2, 3, 4, 5, 6, 7, 50])\n",
    "y = np.array([1, 2, 3, 4, 5, 6, 7, 50])\n",
    "path=\"data\\\\\"\n",
    "tests = QA_QC_kern(sw_residual=x, kpr=y, file_path=path)\n",
    "tests.start_tests([\"test_dependence_sw_residual_kpr\"])\n",
    "tests.generate_test_report()\n",
    "print(\"--- %s seconds ---\" % (time.time() - start_time))"
   ],
   "metadata": {
    "collapsed": false,
    "is_executing": true
   }
  },
  {
   "cell_type": "code",
   "execution_count": null,
   "outputs": [],
   "source": [
    "start_time = time.time()\n",
    "# df=pd.read_excel(\".../file.xlsx\")\n",
    "x = np.array([10, 9, 8, 7, 6, 5, 4, 3])\n",
    "y = np.array([1, 2, 3, 4, 5, 6, 7, 8])\n",
    "path=\"data\\\\\"\n",
    "tests = QA_QC_kern(sw_residual=x, kpr=y, file_path=path)\n",
    "tests.start_tests([\"test_dependence_sw_residual_kpr\"])\n",
    "tests.generate_test_report()\n",
    "print(\"--- %s seconds ---\" % (time.time() - start_time))"
   ],
   "metadata": {
    "collapsed": false,
    "is_executing": true
   }
  },
  {
   "cell_type": "markdown",
   "source": [
    "Тест предназначен для оценки соответствия типовой\n",
    "для данного кроссплота и полученной аппроксимации.\n",
    "В данном случае зависимость по функции y=b/(kв^n) при этом 1,1<n<5\n",
    "\n",
    "Args:\n",
    "    self.rn (array[int/float]): массив с данными параметр насыщенности для проверки\n",
    "    self.sw_residual (array[int/float]): массив с данными коэффициент водонасыщенности для проверки\n",
    "\n",
    "Returns:\n",
    "    image: визуализация кроссплота\n",
    "    dict[str, bool | datetime | str]: словарь с результатом выполнения теста, датой выполнения теста\n",
    "    file: запись результата теста для сохранения состояния"
   ],
   "metadata": {
    "collapsed": false
   }
  },
  {
   "cell_type": "code",
   "execution_count": null,
   "outputs": [],
   "source": [
    "start_time = time.time()\n",
    "# df=pd.read_excel(\".../file.xlsx\")\n",
    "x = np.array([10, 9, 8, 7, 6, 5, 4, 3])\n",
    "y = np.array([1, 2, 3, 4, 5, 6, 7, 8])\n",
    "path=\"data\\\\\"\n",
    "tests = QA_QC_kern(rn=x, sw_residual=y, file_path=path)\n",
    "tests.start_tests([\"test_rn_sw_residual_dependence\"])\n",
    "tests.generate_test_report()\n",
    "print(\"--- %s seconds ---\" % (time.time() - start_time))"
   ],
   "metadata": {
    "collapsed": false,
    "is_executing": true
   }
  },
  {
   "cell_type": "code",
   "execution_count": null,
   "outputs": [],
   "source": [
    "start_time = time.time()\n",
    "# df=pd.read_excel(\".../file.xlsx\")\n",
    "x = np.array([1, 2, 3, 4, 5, 6, 7,8, 12,7,6,5,4,3,2])\n",
    "y = np.array([1, 2, 3, 4, 5, 6, 7,8, 12,91,113,10,5,4,3])\n",
    "path=\"data\\\\\"\n",
    "tests = QA_QC_kern(rn=x, sw_residual=y, file_path=path)\n",
    "tests.start_tests([\"test_rn_sw_residual_dependence\"])\n",
    "tests.generate_test_report()\n",
    "print(\"--- %s seconds ---\" % (time.time() - start_time))"
   ],
   "metadata": {
    "collapsed": false,
    "is_executing": true
   }
  },
  {
   "cell_type": "markdown",
   "source": [
    "Тест предназначен для оценки соответствия типовой\n",
    "для данного кроссплота и полученной аппроксимации.\n",
    "В данном случае зависимость по функции y=a/(kп^m)\n",
    "при этом m>0. a>0 и a<2,5, 1,1<m<3,8\n",
    "\n",
    "Args:\n",
    "    self.rp (array[int/float]): массив с данными параметр пористости для проверки\n",
    "    self.kp (array[int/float]): массив с данными Открытая пористость по жидкости для проверки\n",
    "\n",
    "Returns:\n",
    "    image: визуализация кроссплота\n",
    "    dict[str, bool | datetime | str]: словарь с результатом выполнения теста, датой выполнения теста\n",
    "    file: запись результата теста для сохранения состояния"
   ],
   "metadata": {
    "collapsed": false
   }
  },
  {
   "cell_type": "code",
   "execution_count": null,
   "outputs": [],
   "source": [
    "start_time = time.time()\n",
    "# df=pd.read_excel(\".../file.xlsx\")\n",
    "x = np.array([1, 2, 3, 4, 5])\n",
    "y = np.array([2.0, 1.0, 0.5, 0.3, 0.2])\n",
    "path=\"data\\\\\"\n",
    "tests = QA_QC_kern(rp=x, kp=y, file_path=path)\n",
    "tests.start_tests([\"test_rp_kp_dependencies\"])\n",
    "tests.generate_test_report()\n",
    "print(\"--- %s seconds ---\" % (time.time() - start_time))"
   ],
   "metadata": {
    "collapsed": false,
    "is_executing": true
   }
  },
  {
   "cell_type": "code",
   "execution_count": null,
   "outputs": [],
   "source": [
    "start_time = time.time()\n",
    "# df=pd.read_excel(\".../file.xlsx\")\n",
    "x = np.array([1, 2, 3, 4, 5])\n",
    "y = np.array([0.2, 0.3, 0.5, 1.0, 2.0])\n",
    "path=\"data\\\\\"\n",
    "tests = QA_QC_kern(rp=x, kp=y, file_path=path)\n",
    "tests.start_tests([\"test_rp_kp_dependencies\"])\n",
    "tests.generate_test_report()\n",
    "print(\"--- %s seconds ---\" % (time.time() - start_time))"
   ],
   "metadata": {
    "collapsed": false,
    "is_executing": true
   }
  },
  {
   "cell_type": "markdown",
   "source": [
    "Тест проводится для оценки отсутствия монотонности интервалов долбления. Т.е.,\n",
    "подошва вышележащего интервала долбления должна быть выше или равна кровле нижележащего\n",
    "\n",
    "Args:\n",
    "    self.top (array[int/float]): массив с данными кровли для проверки\n",
    "    self.bottom (array[int/float]): массив с данными подошвы для проверки\n",
    "\n",
    "Returns:\n",
    "    bool: результат выполнения теста\n",
    "    file: запись результата теста для сохранения состояния"
   ],
   "metadata": {
    "collapsed": false
   }
  },
  {
   "cell_type": "code",
   "execution_count": null,
   "outputs": [],
   "source": [
    "start_time = time.time()\n",
    "# df=pd.read_excel(\".../file.xlsx\")\n",
    "x = np.array([1, 2, 3, 4, 5])\n",
    "y = np.array([0.2, 0.3, 0.5, 1.0, 2.0])\n",
    "path=\"data\\\\\"\n",
    "tests = QA_QC_kern(top=x, bottom=y, file_path=path)\n",
    "tests.start_tests([\"test_coring_depths_first\"])\n",
    "tests.generate_test_report()\n",
    "print(\"--- %s seconds ---\" % (time.time() - start_time))"
   ],
   "metadata": {
    "collapsed": false,
    "is_executing": true
   }
  },
  {
   "cell_type": "code",
   "execution_count": null,
   "outputs": [],
   "source": [
    "start_time = time.time()\n",
    "# df=pd.read_excel(\".../file.xlsx\")\n",
    "x = np.array([1, 2, 3, 4, 5])\n",
    "y = np.array([2, 3, 4, 5, 6])\n",
    "path=\"data\\\\\"\n",
    "tests = QA_QC_kern(top=x, bottom=y, file_path=path)\n",
    "tests.start_tests([\"test_coring_depths_first\"])\n",
    "tests.generate_test_report()\n",
    "print(\"--- %s seconds ---\" % (time.time() - start_time))"
   ],
   "metadata": {
    "collapsed": false,
    "is_executing": true
   }
  },
  {
   "cell_type": "markdown",
   "source": [
    "Тест проводится для оценкци соответствия интервала долбления: подошва-кровля ≥ выносу в метрах\n",
    "\n",
    "Args:\n",
    "    self.top (array[int/float]): массив с данными кровли для проверки\n",
    "    self.bottom (array[int/float]): массив с данными подошвы для проверки\n",
    "    self.core_removal_in_meters (array[int/float]): массив с данными выноса в метрах для проверки\n",
    "\n",
    "Returns:\n",
    "    bool: результат выполнения теста\n",
    "    file: запись результата теста для сохранения состояния"
   ],
   "metadata": {
    "collapsed": false
   }
  },
  {
   "cell_type": "code",
   "execution_count": null,
   "outputs": [],
   "source": [
    "start_time = time.time()\n",
    "# df=pd.read_excel(\".../file.xlsx\")\n",
    "x = np.array([10, 11, 12, 13, 14])\n",
    "y = np.array([2, 3, 4, 5, 6])\n",
    "z= np.array([7, 6, 5, 4, 3])\n",
    "path=\"data\\\\\"\n",
    "tests = QA_QC_kern(bottom=x, top=y,core_removal_in_meters=z, file_path=path)\n",
    "tests.start_tests([\"test_coring_depths_second\"])\n",
    "tests.generate_test_report()\n",
    "print(\"--- %s seconds ---\" % (time.time() - start_time))"
   ],
   "metadata": {
    "collapsed": false,
    "is_executing": true
   }
  },
  {
   "cell_type": "code",
   "execution_count": null,
   "outputs": [],
   "source": [
    "start_time = time.time()\n",
    "# df=pd.read_excel(\".../file.xlsx\")\n",
    "x = np.array([10, 11, 12, 13, 14])\n",
    "y = np.array([2, 3, 4, 5, 6])\n",
    "z= np.array([17, 16, 15, 14, 13])\n",
    "path=\"data\\\\\"\n",
    "tests = QA_QC_kern(top=x, bottom=y,core_removal_in_meters=z, file_path=path)\n",
    "tests.start_tests([\"test_coring_depths_second\"])\n",
    "tests.generate_test_report()\n",
    "print(\"--- %s seconds ---\" % (time.time() - start_time))"
   ],
   "metadata": {
    "collapsed": false,
    "is_executing": true
   }
  },
  {
   "cell_type": "markdown",
   "source": [
    "Тест оценивает соответствие значений выноса керна в метрах и в процентах\n",
    "\n",
    "Args:\n",
    "    self.intervals (array[[int/float]]): массив с массивамими,\n",
    "                                        содержашими начало интервала и конец интервала\n",
    "    self.percent_core_removal (array[int/float]): массив со значениями выноса в процентах\n",
    "    self.outreach_in_meters(array[int/float]): массив со значениями выноса в метрах\n",
    "\n",
    "Returns:\n",
    "    bool: результат выполнения теста\n",
    "    file: запись результата теста для сохранения состояния"
   ],
   "metadata": {
    "collapsed": false
   }
  },
  {
   "cell_type": "code",
   "execution_count": null,
   "outputs": [],
   "source": [
    "start_time = time.time()\n",
    "# df=pd.read_excel(\".../file.xlsx\")\n",
    "x = np.array([[10,13], [1,11]])\n",
    "y = np.array([1,10])\n",
    "z=np.array([33,100])\n",
    "path=\"data\\\\\"\n",
    "tests = QA_QC_kern(intervals=x, percent_core_removal=z, outreach_in_meters=y, file_path=path)\n",
    "tests.start_tests([\"test_coring_depths_third\"])\n",
    "tests.generate_test_report()\n",
    "print(\"--- %s seconds ---\" % (time.time() - start_time))"
   ],
   "metadata": {
    "collapsed": false,
    "is_executing": true
   }
  },
  {
   "cell_type": "code",
   "execution_count": null,
   "outputs": [],
   "source": [
    "start_time = time.time()\n",
    "# df=pd.read_excel(\".../file.xlsx\")\n",
    "x = np.array([[10,13], [1,11]])\n",
    "y = np.array([1,10])\n",
    "z=np.array([33.333,100.0])\n",
    "path=\"data\\\\\"\n",
    "tests = QA_QC_kern(intervals=x, percent_core_removal=z, outreach_in_meters=y, file_path=path)\n",
    "tests.start_tests([\"test_coring_depths_third\"])\n",
    "tests.generate_test_report()\n",
    "print(\"--- %s seconds ---\" % (time.time() - start_time))"
   ],
   "metadata": {
    "collapsed": false
   }
  },
  {
   "cell_type": "markdown",
   "source": [
    "Тест проводится с целью соответствия глубин отбора образцов с глубинами выноса керна\n",
    "\n",
    "Args:\n",
    "    self.core_removal_in_meters (array[int/float]): массив с выносом керна в метрах\n",
    "    self.core_sampling (array[int/float]): массив с глубинами отбора образцов\n",
    "    self.bottom(array[int/float]): массив с подошвой отбора образцов\n",
    "\n",
    "Returns:\n",
    "    bool: результат выполнения теста\n",
    "    file: запись результата теста для сохранения состояния"
   ],
   "metadata": {
    "collapsed": false
   }
  },
  {
   "cell_type": "code",
   "execution_count": null,
   "outputs": [],
   "source": [
    "start_time = time.time()\n",
    "# df=pd.read_excel(\".../file.xlsx\")\n",
    "x = np.array([1, 2, 3, 4, 5])\n",
    "y = np.array([0.2, 0.3, 0.5, 1.0, 2.0])\n",
    "z=np.array([0.2, 0.3, 0.5, 1.0, 2.0])\n",
    "path=\"data\\\\\"\n",
    "tests = QA_QC_kern(core_removal_in_meters=x, core_sampling=y,bottom=z, file_path=path)\n",
    "tests.start_tests([\"test_coring_depths_four\"])\n",
    "tests.generate_test_report()\n",
    "print(\"--- %s seconds ---\" % (time.time() - start_time))"
   ],
   "metadata": {
    "collapsed": false
   }
  },
  {
   "cell_type": "code",
   "execution_count": null,
   "outputs": [],
   "source": [
    "start_time = time.time()\n",
    "# df=pd.read_excel(\".../file.xlsx\")\n",
    "x = np.array([1, 2, 3, 4, 5])\n",
    "y = np.array([5, 6, 7, 1.0, 2.0])\n",
    "z=np.array([92, 39, 59, 19, 29])\n",
    "path=\"data\\\\\"\n",
    "tests = QA_QC_kern(core_removal_in_meters=x, core_sampling=y,bottom=z, file_path=path)\n",
    "tests.start_tests([\"test_coring_depths_four\"])\n",
    "tests.generate_test_report()\n",
    "print(\"--- %s seconds ---\" % (time.time() - start_time))"
   ],
   "metadata": {
    "collapsed": false
   }
  },
  {
   "cell_type": "markdown",
   "source": [
    "Тест проводится с целью ранее установленных несоответствий/аномалий\n",
    "при лаборатоном анализе керна, указанных в “примечаниях”\n",
    "\n",
    "Args:\n",
    "    self.table (array[int/float]): массив с данными из таблицы с\n",
    "    примечанием, при наличии ошибки в массиве будет находиться 1,\n",
    "    при отсутсвии 0\n",
    "\n",
    "Returns:\n",
    "    array[int]: индексы на которых находятся дефекты\n",
    "    file: запись результата теста для сохранения состояния"
   ],
   "metadata": {
    "collapsed": false
   }
  },
  {
   "cell_type": "code",
   "execution_count": null,
   "outputs": [],
   "source": [
    "start_time = time.time()\n",
    "# df=pd.read_excel(\".../file.xlsx\")\n",
    "x = np.array([\"Скол\", np.nan, np.nan, np.nan, \"Трещина\"])\n",
    "path=\"data\\\\\"\n",
    "tests = QA_QC_kern(note=x,file_path=path)\n",
    "tests.start_tests([\"test_table_notes\"])\n",
    "tests.generate_test_report()\n",
    "print(\"--- %s seconds ---\" % (time.time() - start_time))"
   ],
   "metadata": {
    "collapsed": false
   }
  },
  {
   "cell_type": "code",
   "execution_count": null,
   "outputs": [],
   "source": [
    "start_time = time.time()\n",
    "# df=pd.read_excel(\".../file.xlsx\")\n",
    "x = np.array([np.nan, np.nan, np.nan])\n",
    "path=\"data\\\\\"\n",
    "tests = QA_QC_kern(note=x, file_path=path)\n",
    "tests.start_tests([\"test_table_notes\"])\n",
    "tests.generate_test_report()\n",
    "print(\"--- %s seconds ---\" % (time.time() - start_time))"
   ],
   "metadata": {
    "collapsed": false
   }
  },
  {
   "cell_type": "markdown",
   "source": [
    "Тест выполняется с целью фиксации подлога измерений.\n",
    "Подлог заключается в том, что существуют значения параметров,\n",
    "схожие вплоть до 3-его знака после запятой\n",
    "\n",
    "Args:\n",
    "    self.kpr (array[int/float]): массив с данными коэффициент проницаемости для сравнения\n",
    "    self.kp (array[int/float]): массив с данными Открытая пористость по жидкости для сравнения\n",
    "    self.sw_residual (array[int/float]): массив с данными коэффициент остаточной водонасыщенности для сравнения\n",
    "    self.rp (array[int/float]): массив с данными параметр пористости для сравнения\n",
    "    self.density (array[int/float]): массив с данными всех плотностей для сравнения\n",
    "    self.rn (array[int/float]): массив с данными параметр насыщенности для сравнения\n",
    "    self.water_permeability (array[int/float]): массив с данными коэффициент водонасыщенности для сравнения\n",
    "\n",
    "Returns:\n",
    "    bool: результат выполнения теста\n",
    "    file: запись результата теста для сохранения состояния"
   ],
   "metadata": {
    "collapsed": false
   }
  },
  {
   "cell_type": "code",
   "execution_count": null,
   "outputs": [],
   "source": [
    "start_time = time.time()\n",
    "# df=pd.read_excel(\".../file.xlsx\")\n",
    "x=np.array([1,2,3])\n",
    "y=np.array([1,2,3])\n",
    "a=np.array([1,2,3])\n",
    "b=np.array([1,2,3])\n",
    "c=np.array([1,2,3])\n",
    "v=np.array([1,2,3])\n",
    "n=np.array([1,2,3])\n",
    "path=\"data\\\\\"\n",
    "tests = QA_QC_kern(kpr=x, kp=y,rp=a,sw_residual=b,density=c,rn=v,water_permeability=n, file_path=path)\n",
    "tests.start_tests([\"test_data_tampering\"])\n",
    "tests.generate_test_report()\n",
    "print(\"--- %s seconds ---\" % (time.time() - start_time))"
   ],
   "metadata": {
    "collapsed": false
   }
  },
  {
   "cell_type": "code",
   "execution_count": null,
   "outputs": [],
   "source": [
    "start_time = time.time()\n",
    "# df=pd.read_excel(\".../file.xlsx\")\n",
    "x=np.array([1,2,3])\n",
    "y=np.array([4,5,6])\n",
    "a=np.array([7,8,9])\n",
    "b=np.array([10,11,12])\n",
    "c=np.array([13,14,15])\n",
    "v=np.array([16,17,18])\n",
    "n=np.array([19,20,21])\n",
    "path=\"data\\\\\"\n",
    "tests = QA_QC_kern(kpr=x, kp=y,rp=a,sw_residual=b,density=c,rn=v,water_permeability=n, file_path=path)\n",
    "tests.start_tests([\"test_data_tampering\"])\n",
    "tests.generate_test_report()\n",
    "print(\"--- %s seconds ---\" % (time.time() - start_time))"
   ],
   "metadata": {
    "collapsed": false
   }
  },
  {
   "cell_type": "markdown",
   "source": [
    "Тест выполянется для сравнения коэффициентов пористости, оцененных пластовых\n",
    "и атмосферных условиях. Кп в атмосферных условиях всегда больше чем Кп в пластовых условиях.\n",
    "\n",
    "Args:\n",
    "    self.kp_pov (array[int/float]): массив с данными Открытая пористость по жидкости в\n",
    "                                    поверхностных условиях для проверки\n",
    "    self.kp_plast (array[int/float]): массив с данными Открытая пористость по жидкости\n",
    "                                    в пластовых условиях для проверки\n",
    "\n",
    "Returns:\n",
    "    bool: результат выполнения теста\n",
    "    file: запись результата теста для сохранения состояния"
   ],
   "metadata": {
    "collapsed": false
   }
  },
  {
   "cell_type": "code",
   "execution_count": null,
   "outputs": [],
   "source": [
    "start_time = time.time()\n",
    "# df=pd.read_excel(\".../file.xlsx\")\n",
    "x = np.array([1, 2, 3, 4, 5])\n",
    "y = np.array([5, 6, 7, 1.0, 2.0])\n",
    "path=\"data\\\\\"\n",
    "tests = QA_QC_kern(kp_plast=x, kp_pov=y, file_path=path)\n",
    "tests.start_tests([\"test_kp_in_surface_and_reservoir_conditions\"])\n",
    "tests.generate_test_report()\n",
    "print(\"--- %s seconds ---\" % (time.time() - start_time))"
   ],
   "metadata": {
    "collapsed": false
   }
  },
  {
   "cell_type": "code",
   "execution_count": null,
   "outputs": [],
   "source": [
    "start_time = time.time()\n",
    "# df=pd.read_excel(\".../file.xlsx\")\n",
    "x = np.array([5, 6, 7, 5, 6])\n",
    "y = np.array([1, 2, 3, 4, 5])\n",
    "path=\"data\\\\\"\n",
    "tests = QA_QC_kern(kp_plast=x, kp_pov=y, file_path=path)\n",
    "tests.start_tests([\"test_kp_in_surface_and_reservoir_conditions\"])\n",
    "tests.generate_test_report()\n",
    "print(\"--- %s seconds ---\" % (time.time() - start_time))"
   ],
   "metadata": {
    "collapsed": false
   }
  },
  {
   "cell_type": "markdown",
   "source": [
    "Тест оценивает величину суммарную насыщения водой и нефтью,\n",
    "которая не должна привышать 100% или 1 в долях\n",
    "\n",
    "Args:\n",
    "    self.water_permeability (array[int/float]): массив с данными коэффиент водонасыщенности для проверки\n",
    "    self.kno (array[int/float]): массив с данными коэффициент нефтенащенности для проверки\n",
    "\n",
    "Returns:\n",
    "    bool: результат выполнения теста\n",
    "    file: запись результата теста для сохранения состояния"
   ],
   "metadata": {
    "collapsed": false
   }
  },
  {
   "cell_type": "code",
   "execution_count": null,
   "outputs": [],
   "source": [
    "start_time = time.time()\n",
    "# df=pd.read_excel(\".../file.xlsx\")\n",
    "x = np.array([0.2, 0.1, 0.5, 0.3, 0.3])\n",
    "y = np.array([0.2, 0.1, 0.2, 0.3, 0.3])\n",
    "path=\"data\\\\\"\n",
    "tests = QA_QC_kern(sw_residual=x, kno=y, file_path=path)\n",
    "tests.start_tests([\"test_quo_and_qno\"])\n",
    "tests.generate_test_report()\n",
    "print(\"--- %s seconds ---\" % (time.time() - start_time))"
   ],
   "metadata": {
    "collapsed": false
   }
  },
  {
   "cell_type": "code",
   "execution_count": null,
   "outputs": [],
   "source": [
    "start_time = time.time()\n",
    "# df=pd.read_excel(\".../file.xlsx\")\n",
    "x = np.array([0.2, 0.1, 0.5, 0.3, 0.3])\n",
    "y = np.array([0.2, 0.1, 0.5, 0.3, 0.3])\n",
    "path=\"data\\\\\"\n",
    "tests = QA_QC_kern(sw_residual=x, kno=y, file_path=path)\n",
    "tests.start_tests([\"test_quo_and_qno\"])\n",
    "tests.generate_test_report()\n",
    "print(\"--- %s seconds ---\" % (time.time() - start_time))"
   ],
   "metadata": {
    "collapsed": false
   }
  },
  {
   "cell_type": "markdown",
   "source": [
    "Тест предназначен для проверки физичности данных.\n",
    "В данном тесте проверяется соответствие интервалу (0 ; 47,6]\n",
    "\n",
    "Args:\n",
    "    self.porosity_open (array[int/float]): массив с открытой пористостью в атмосферных условия для проверки\n",
    "\n",
    "Returns:\n",
    "    bool: результат выполнения теста\n",
    "    file: запись результата теста для сохранения состояния"
   ],
   "metadata": {
    "collapsed": false
   }
  },
  {
   "cell_type": "code",
   "execution_count": null,
   "outputs": [],
   "source": [
    "arr=np.array([1,2,3,4,5,6,7,50])\n",
    "path=\"data\\\\\"\n",
    "tests = QA_QC_kern(porosity_open=arr,file_path=path)\n",
    "tests.start_tests([\"test_open_porosity\"])\n",
    "tests.generate_test_report()"
   ],
   "metadata": {
    "collapsed": false
   }
  },
  {
   "cell_type": "code",
   "execution_count": null,
   "outputs": [],
   "source": [
    "arr=np.array([1,2,3,4,5,6,7,13])\n",
    "path=\"data\\\\\"\n",
    "tests = QA_QC_kern(porosity_open=arr,file_path=path)\n",
    "tests.start_tests([\"test_open_porosity\"])\n",
    "tests.generate_test_report()"
   ],
   "metadata": {
    "collapsed": false
   }
  },
  {
   "cell_type": "markdown",
   "source": [
    "Тест предназначен для проверки физичности данных.\n",
    "В данном тесте проверяется соответствие интервалу (0 ; 47,6]\n",
    "\n",
    "Args:\n",
    "    self.poroHe (array[int/float]): массив с открытой пористостью по гелию для проверки\n",
    "\n",
    "Returns:\n",
    "    bool: результат выполнения теста\n",
    "    file: запись результата теста для сохранения состояния"
   ],
   "metadata": {
    "collapsed": false
   }
  },
  {
   "cell_type": "code",
   "execution_count": null,
   "outputs": [],
   "source": [
    "arr=np.array([1,2,3,4,5,6,7,50])\n",
    "path=\"data\\\\\"\n",
    "tests = QA_QC_kern(poroHe=arr,file_path=path)\n",
    "tests.start_tests([\"test_porosity_HE\"])\n",
    "tests.generate_test_report()"
   ],
   "metadata": {
    "collapsed": false
   }
  },
  {
   "cell_type": "code",
   "execution_count": null,
   "outputs": [],
   "source": [
    "arr=np.array([1,2,3,4,5,6,7,13])\n",
    "path=\"data\\\\\"\n",
    "tests = QA_QC_kern(poroHe=arr,file_path=path)\n",
    "tests.start_tests([\"test_porosity_HE\"])\n",
    "tests.generate_test_report()"
   ],
   "metadata": {
    "collapsed": false
   }
  },
  {
   "cell_type": "markdown",
   "source": [
    "Тест предназначен для проверки физичности данных.\n",
    "В данном тесте проверяется соответствие интервалу (0 ; 47,6]\n",
    "\n",
    "Args:\n",
    "    self.poro_tbu (array[int/float]): массив с открытой пористостью в пластовых условиях для проверки\n",
    "\n",
    "Returns:\n",
    "    bool: результат выполнения теста\n",
    "    file: запись результата теста для сохранения состояния"
   ],
   "metadata": {
    "collapsed": false
   }
  },
  {
   "cell_type": "code",
   "execution_count": null,
   "outputs": [],
   "source": [
    "arr=np.array([1,2,3,4,5,6,7,50])\n",
    "path=\"data\\\\\"\n",
    "tests = QA_QC_kern(poroTBU=arr,file_path=path)\n",
    "tests.start_tests([\"test_porosity_TBU\"])\n",
    "tests.generate_test_report()"
   ],
   "metadata": {
    "collapsed": false
   }
  },
  {
   "cell_type": "code",
   "execution_count": null,
   "outputs": [],
   "source": [
    "arr=np.array([1,2,3,4,5,6,7,13])\n",
    "path=\"data\\\\\"\n",
    "tests = QA_QC_kern(poroTBU=arr,file_path=path)\n",
    "tests.start_tests([\"test_porosity_TBU\"])\n",
    "tests.generate_test_report()"
   ],
   "metadata": {
    "collapsed": false
   }
  },
  {
   "cell_type": "markdown",
   "source": [
    "Тест предназначен для проверки физичности данных.\n",
    "В данном тесте проверяется соответствие интервалу (0 ; 47,6]\n",
    "\n",
    "Args:\n",
    "    self.porosity_kerosine (array[int/float]): массив с открытой пористостью по керосину для проверки\n",
    "\n",
    "Returns:\n",
    "    bool: результат выполнения теста\n",
    "    file: запись результата теста для сохранения состояния"
   ],
   "metadata": {
    "collapsed": false
   }
  },
  {
   "cell_type": "code",
   "execution_count": null,
   "outputs": [],
   "source": [
    "arr=np.array([1,2,3,4,5,6,7,50])\n",
    "path=\"data\\\\\"\n",
    "tests = QA_QC_kern(porosity_kerosine=arr,file_path=path)\n",
    "tests.start_tests([\"test_porosity_kerosine\"])\n",
    "tests.generate_test_report()"
   ],
   "metadata": {
    "collapsed": false
   }
  },
  {
   "cell_type": "code",
   "execution_count": null,
   "outputs": [],
   "source": [
    "arr=np.array([1,2,3,4,5,6,7,13])\n",
    "path=\"data\\\\\"\n",
    "tests = QA_QC_kern(porosity_kerosine=arr,file_path=path)\n",
    "tests.start_tests([\"test_porosity_kerosine\"])\n",
    "tests.generate_test_report()"
   ],
   "metadata": {
    "collapsed": false
   }
  },
  {
   "cell_type": "markdown",
   "source": [
    "Тест предназначен для проверки физичности данных.\n",
    "В данном тесте проверяется соответствие интервалу (0 ; 47,6]\n",
    "\n",
    "Args:\n",
    "    self.porosity_effective (array[int/float]): массив с эффективной пористостью для проверки\n",
    "\n",
    "Returns:\n",
    "    bool: результат выполнения теста\n",
    "    file: запись результата теста для сохранения состояния"
   ],
   "metadata": {
    "collapsed": false
   }
  },
  {
   "cell_type": "code",
   "execution_count": null,
   "outputs": [],
   "source": [
    "arr=np.array([1,2,3,4,5,6,7,50])\n",
    "path=\"data\\\\\"\n",
    "tests = QA_QC_kern(porosity_effective=arr,file_path=path)\n",
    "tests.start_tests([\"test_porosity_effective\"])\n",
    "tests.generate_test_report()"
   ],
   "metadata": {
    "collapsed": false
   }
  },
  {
   "cell_type": "code",
   "execution_count": null,
   "outputs": [],
   "source": [
    "arr=np.array([1,2,3,4,5,6,7,13])\n",
    "path=\"data\\\\\"\n",
    "tests = QA_QC_kern(porosity_effective=arr,file_path=path)\n",
    "tests.start_tests([\"test_porosity_effective\"])\n",
    "tests.generate_test_report()"
   ],
   "metadata": {
    "collapsed": false
   }
  },
  {
   "cell_type": "markdown",
   "source": [
    "Тест предназначен для проверки физичности данных.\n",
    "В данном тесте проверяется соответствие интервалу (0 ; 1]\n",
    "\n",
    "Args:\n",
    "    self.water_saturation (array[int/float]): массив с водонасыщенностью для проверки\n",
    "\n",
    "Returns:\n",
    "    bool: результат выполнения теста\n",
    "    file: запись результата теста для сохранения состояния"
   ],
   "metadata": {
    "collapsed": false
   }
  },
  {
   "cell_type": "code",
   "execution_count": null,
   "outputs": [],
   "source": [
    "start_time = time.time()\n",
    "df=pd.read_excel(\"data/SwFail(N).xlsx\")\n",
    "arr=df[\"Sw\"].dropna().to_numpy()\n",
    "path=\"data\\\\\"\n",
    "tests = QA_QC_kern(sw=arr,file_path=path)\n",
    "tests.start_tests([\"test_water_saturation\"])\n",
    "tests.generate_test_report()\n",
    "print(\"--- %s seconds ---\" % (time.time() - start_time))"
   ],
   "metadata": {
    "collapsed": false
   }
  },
  {
   "cell_type": "code",
   "execution_count": null,
   "outputs": [],
   "source": [
    "start_time = time.time()\n",
    "df=pd.read_excel(\"data/SwOK(N).xlsx\")\n",
    "arr=df[\"Sw\"].dropna().to_numpy()\n",
    "path=\"data\\\\\"\n",
    "tests = QA_QC_kern(sw=arr,file_path=path, file_name=\"SwOK(N).xlsx\")\n",
    "tests.start_tests([\"test_water_saturation\"])\n",
    "tests.generate_test_report()\n",
    "print(\"--- %s seconds ---\" % (time.time() - start_time))"
   ],
   "metadata": {
    "collapsed": false
   }
  },
  {
   "cell_type": "markdown",
   "source": [
    "Тест предназначен для проверки физичности данных.\n",
    "В данном тесте проверяется соответствие интервалу (0 ; 1]\n",
    "\n",
    "Args:\n",
    "    self.residual_water_saturation (array[int/float]): массив с остаточной водонасыщенностью для проверки\n",
    "\n",
    "Returns:\n",
    "    bool: результат выполнения теста\n",
    "    file: запись результата теста для сохранения состояния"
   ],
   "metadata": {
    "collapsed": false
   }
  },
  {
   "cell_type": "code",
   "execution_count": null,
   "outputs": [],
   "source": [
    "start_time = time.time()\n",
    "df=pd.read_excel(\"data/SwFail(N).xlsx\")\n",
    "arr=df[\"Sw\"].dropna().to_numpy()\n",
    "path=\"data\\\\\"\n",
    "tests = QA_QC_kern(sw_residual=arr,file_path=path)\n",
    "tests.start_tests([\"test_residual_water_saturation\"])\n",
    "tests.generate_test_report()\n",
    "print(\"--- %s seconds ---\" % (time.time() - start_time))"
   ],
   "metadata": {
    "collapsed": false
   }
  },
  {
   "cell_type": "code",
   "execution_count": null,
   "outputs": [],
   "source": [
    "start_time = time.time()\n",
    "df=pd.read_excel(\"data/SwOK(N).xlsx\")\n",
    "arr=df[\"Sw\"].dropna().to_numpy()\n",
    "path=\"data\\\\\"\n",
    "tests = QA_QC_kern(sw_residual=arr,file_path=path, file_name=\"SwOK(N).xlsx\")\n",
    "tests.start_tests([\"test_residual_water_saturation\"])\n",
    "tests.generate_test_report()\n",
    "print(\"--- %s seconds ---\" % (time.time() - start_time))"
   ],
   "metadata": {
    "collapsed": false
   }
  },
  {
   "cell_type": "markdown",
   "source": [
    "Тест предназначен для проверки физичности данных.\n",
    "Значение должно быть больше 0\n",
    "\n",
    "Args:\n",
    "    self.klickenberg_permeability (array[int/float]): массив с газопроницаемостью\n",
    "                                                                  с поправкой по Кликенбергу для проверки\n",
    "\n",
    "Returns:\n",
    "    bool: результат выполнения теста\n",
    "    file: запись результата теста для сохранения состояния"
   ],
   "metadata": {
    "collapsed": false
   }
  },
  {
   "cell_type": "code",
   "execution_count": null,
   "outputs": [],
   "source": [
    "start_time = time.time()\n",
    "df=pd.read_excel(\"data/PermeabilityKlinkenFail(R).xlsx\")\n",
    "arr=df[\"PermKlinken\"].dropna().to_numpy()\n",
    "path=\"data\\\\\"\n",
    "tests = QA_QC_kern(klickenberg_permeability=arr,file_path=path)\n",
    "tests.start_tests([\"test_klickenberg_permeability\"])\n",
    "tests.generate_test_report()\n",
    "print(\"--- %s seconds ---\" % (time.time() - start_time))"
   ],
   "metadata": {
    "collapsed": false
   }
  },
  {
   "cell_type": "code",
   "execution_count": null,
   "outputs": [],
   "source": [
    "start_time = time.time()\n",
    "df=pd.read_excel(\"data/PermeabilityKlinkenOK(R).xlsx\")\n",
    "arr=df[\"PermKlinken\"].dropna().to_numpy()\n",
    "path=\"data\\\\\"\n",
    "tests = QA_QC_kern(klickenberg_permeability=arr,file_path=path)\n",
    "tests.start_tests([\"test_klickenberg_permeability\"])\n",
    "tests.generate_test_report()\n",
    "print(\"--- %s seconds ---\" % (time.time() - start_time))"
   ],
   "metadata": {
    "collapsed": false
   }
  },
  {
   "cell_type": "markdown",
   "source": [
    "Тест предназначен для проверки физичности данных.\n",
    "Значение должно быть больше 0\n",
    "\n",
    "Args:\n",
    "    self.parallel_permeability (array[int/float]): массив с газопроницаемостью\n",
    "                                                   параллельно напластованию для проверки\n",
    "\n",
    "Returns:\n",
    "    bool: результат выполнения теста\n",
    "    file: запись результата теста для сохранения состояния"
   ],
   "metadata": {
    "collapsed": false
   }
  },
  {
   "cell_type": "code",
   "execution_count": null,
   "outputs": [],
   "source": [
    "start_time = time.time()\n",
    "df=pd.read_excel(\"data/PermeabilityParallelFail(L).xlsx\")\n",
    "arr=df[\"Permeabilty, mkm2\"].dropna().to_numpy()\n",
    "path=\"data\\\\\"\n",
    "tests = QA_QC_kern(parallel_permeability=arr,file_path=path)\n",
    "tests.start_tests([\"test_parallel_permeability\"])\n",
    "tests.generate_test_report()\n",
    "print(\"--- %s seconds ---\" % (time.time() - start_time))"
   ],
   "metadata": {
    "collapsed": false
   }
  },
  {
   "cell_type": "code",
   "execution_count": null,
   "outputs": [],
   "source": [
    "start_time = time.time()\n",
    "df=pd.read_excel(\"data/PermeabilityParallelOK(L).xlsx\")\n",
    "arr=df[\"Permeabilty, mkm2\"].dropna().to_numpy()\n",
    "path=\"data\\\\\"\n",
    "tests = QA_QC_kern(parallel_permeability=arr,file_path=path)\n",
    "tests.start_tests([\"test_parallel_permeability\"])\n",
    "tests.generate_test_report()\n",
    "print(\"--- %s seconds ---\" % (time.time() - start_time))"
   ],
   "metadata": {
    "collapsed": false
   }
  },
  {
   "cell_type": "markdown",
   "source": [
    "Тест предназначен для проверки физичности данных.\n",
    "Значение должно быть больше 0\n",
    "\n",
    "Args:\n",
    "    self.effective_permeability (array[int/float]): массив с эффективной проницаемостью для проверки\n",
    "\n",
    "Returns:\n",
    "    bool: результат выполнения теста\n",
    "    file: запись результата теста для сохранения состояния"
   ],
   "metadata": {
    "collapsed": false
   }
  },
  {
   "cell_type": "code",
   "execution_count": null,
   "outputs": [],
   "source": [
    "start_time = time.time()\n",
    "df=pd.read_excel(\"data/PermeabilityEffOK(R).xlsx\")\n",
    "arr=df[\"PermEFF\"].dropna().to_numpy()\n",
    "path=\"data\\\\\"\n",
    "tests = QA_QC_kern(effective_permeability=arr,file_path=path)\n",
    "tests.start_tests([\"test_effective_permeability\"])\n",
    "tests.generate_test_report()\n",
    "print(\"--- %s seconds ---\" % (time.time() - start_time))"
   ],
   "metadata": {
    "collapsed": false
   }
  },
  {
   "cell_type": "code",
   "execution_count": null,
   "outputs": [],
   "source": [
    "start_time = time.time()\n",
    "df=pd.read_excel(\"data/PermeabilityEffFail(R).xlsx\")\n",
    "arr=df[\"PermEFF\"].dropna().to_numpy()\n",
    "path=\"data\\\\\"\n",
    "tests = QA_QC_kern(effective_permeability=arr,file_path=path)\n",
    "tests.start_tests([\"test_effective_permeability\"])\n",
    "tests.generate_test_report()\n",
    "print(\"--- %s seconds ---\" % (time.time() - start_time))"
   ],
   "metadata": {
    "collapsed": false
   }
  },
  {
   "cell_type": "markdown",
   "source": [
    "Тест предназначен для проверки физичности данных.\n",
    "Значение должно быть больше 0\n",
    "\n",
    "Args:\n",
    "    self.water_permeability (array[int/float]): массив с газопроницаемостью по воде для проверки\n",
    "\n",
    "Returns:\n",
    "    bool: результат выполнения теста\n",
    "    file: запись результата теста для сохранения состояния"
   ],
   "metadata": {
    "collapsed": false
   }
  },
  {
   "cell_type": "code",
   "execution_count": null,
   "outputs": [],
   "source": [
    "start_time = time.time()\n",
    "df=pd.read_excel(\"data/PermeabilityWOK(R).xlsx\")\n",
    "arr=df[\"PermW\"].dropna().to_numpy()\n",
    "path=\"data\\\\\"\n",
    "tests = QA_QC_kern(water_permeability=arr,file_path=path)\n",
    "tests.start_tests([\"test_water_permeability\"])\n",
    "tests.generate_test_report()\n",
    "print(\"--- %s seconds ---\" % (time.time() - start_time))"
   ],
   "metadata": {
    "collapsed": false
   }
  },
  {
   "cell_type": "code",
   "execution_count": null,
   "outputs": [],
   "source": [
    "start_time = time.time()\n",
    "df=pd.read_excel(\"data/PermeabilityWFail(R).xlsx\")\n",
    "arr=df[\"PermW\"].dropna().to_numpy()\n",
    "path=\"data\\\\\"\n",
    "tests = QA_QC_kern(water_permeability=arr,file_path=path)\n",
    "tests.start_tests([\"test_water_permeability\"])\n",
    "tests.generate_test_report()\n",
    "print(\"--- %s seconds ---\" % (time.time() - start_time))"
   ],
   "metadata": {
    "collapsed": false
   }
  },
  {
   "cell_type": "markdown",
   "source": [
    "Тест предназначен для проверки условия - все элементы массива должны быть числовыми.\n",
    "\n",
    "Args:\n",
    "    self.data (array[T]): входной массив для проверки данных\n",
    "\n",
    "Returns:\n",
    "    bool: результат выполнения теста"
   ],
   "metadata": {
    "collapsed": false
   }
  },
  {
   "cell_type": "code",
   "execution_count": null,
   "outputs": [],
   "source": [
    "start_time = time.time()\n",
    "df=pd.read_excel(\"data/NumbersFail.xlsx\")\n",
    "arr=df[\"dT, km/s\"].dropna().to_numpy()\n",
    "path=\"data\\\\\"\n",
    "tests = QA_QC_kern(water_permeability=arr,file_path=path)\n",
    "tests.start_tests([\"test_water_permeability\"])\n",
    "tests.generate_test_report()\n",
    "print(\"--- %s seconds ---\" % (time.time() - start_time))"
   ],
   "metadata": {
    "collapsed": false
   }
  },
  {
   "cell_type": "code",
   "execution_count": null,
   "outputs": [],
   "source": [
    "start_time = time.time()\n",
    "df=pd.read_excel(\"data/NumbersOK.xlsx\")\n",
    "arr=df[\"dT, km/s\"].dropna().to_numpy()\n",
    "path=\"data\\\\\"\n",
    "tests = QA_QC_kern(water_permeability=arr,file_path=path)\n",
    "tests.start_tests([\"test_water_permeability\"])\n",
    "tests.generate_test_report()\n",
    "print(\"--- %s seconds ---\" % (time.time() - start_time))"
   ],
   "metadata": {
    "collapsed": false
   }
  },
  {
   "cell_type": "markdown",
   "source": [
    "Тест предназначен для проверки монотонности возрастания значения глубины\n",
    "\n",
    "Args:\n",
    "    self.core_sampling (array[int/float]): массив с местом отбора для проверки\n",
    "\n",
    "Returns:\n",
    "    bool: результат выполнения теста\n",
    "    file: запись результата теста для сохранения состояния"
   ],
   "metadata": {
    "collapsed": false
   }
  },
  {
   "cell_type": "code",
   "execution_count": null,
   "outputs": [],
   "source": [
    "start_time = time.time()\n",
    "df=pd.read_excel(\"data/MonotonousOK(F).xlsx\")\n",
    "arr=df[\"Depth, m\"].dropna().to_numpy()\n",
    "path=\"data\\\\\"\n",
    "tests = QA_QC_kern(md=arr,file_path=path)\n",
    "tests.start_tests([\"test_monotony\"])\n",
    "tests.generate_test_report()\n",
    "print(\"--- %s seconds ---\" % (time.time() - start_time))"
   ],
   "metadata": {
    "collapsed": false
   }
  },
  {
   "cell_type": "code",
   "execution_count": null,
   "outputs": [],
   "source": [
    "start_time = time.time()\n",
    "df=pd.read_excel(\"data/MonotonousFail(F).xlsx\")\n",
    "arr=df[\"Depth, m\"].dropna().to_numpy()\n",
    "path=\"data\\\\\"\n",
    "tests = QA_QC_kern(md=arr,file_path=path)\n",
    "tests.start_tests([\"test_monotony\"])\n",
    "tests.generate_test_report()\n",
    "print(\"--- %s seconds ---\" % (time.time() - start_time))"
   ],
   "metadata": {
    "collapsed": false
   }
  },
  {
   "cell_type": "code",
   "execution_count": null,
   "outputs": [],
   "source": [],
   "metadata": {
    "collapsed": false
   }
  }
 ],
 "metadata": {
  "kernelspec": {
   "display_name": "Python 3",
   "language": "python",
   "name": "python3"
  },
  "language_info": {
   "codemirror_mode": {
    "name": "ipython",
    "version": 2
   },
   "file_extension": ".py",
   "mimetype": "text/x-python",
   "name": "python",
   "nbconvert_exporter": "python",
   "pygments_lexer": "ipython2",
   "version": "2.7.6"
  }
 },
 "nbformat": 4,
 "nbformat_minor": 0
}
