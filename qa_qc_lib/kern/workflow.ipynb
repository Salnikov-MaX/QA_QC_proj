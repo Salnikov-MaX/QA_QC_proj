{
 "cells": [
  {
   "cell_type": "code",
   "execution_count": 1,
   "outputs": [],
   "source": [
    "from qa_qc_lib.kern.qa_qc_kern import QA_QC_kern\n",
    "import numpy as np\n",
    "import pandas as pd\n",
    "import time"
   ],
   "metadata": {
    "collapsed": false,
    "ExecuteTime": {
     "end_time": "2023-08-17T06:31:22.251710500Z",
     "start_time": "2023-08-17T06:31:17.857960800Z"
    }
   }
  },
  {
   "cell_type": "code",
   "execution_count": 2,
   "outputs": [
    {
     "name": "stdout",
     "output_type": "stream",
     "text": [
      "\n",
      "        Тест предназначен для оценки дисперсии входных данных.\n",
      "        Он проводится по следующему алгоритму: изначально,\n",
      "        используя статистические методы, детектируются и удаляются\n",
      "        выбросные точки, затем полученное облако точек  аппроксимируется\n",
      "        и считается коэффициент детерминации R2. Если его значение больше\n",
      "        0.7, то тест считается пройденным. Если значение меньше 0.7, то\n",
      "        точки сортируются по удаленности от линии тренда, и запускается\n",
      "        цикл, за одну итерацию которого удаляется самая отдаленная от\n",
      "        линии аппроксимации точка, и считается R2, если значение больше\n",
      "        0.7, и удалено менее 10% точек, то тест пройден, иначе - нет.\n",
      "\n",
      "            Args:\n",
      "                x (array[int/float]): массив с данными для проверки\n",
      "                y (array[int/float]): массив с данными для проверки\n",
      "\n",
      "            Returns:\n",
      "                dict[str, bool | str | Any] | dict[str, bool | str | Any]: словарь с результатом теста, значением\n",
      "                                                                          Коэффициента r2, датой выполнения теста\n",
      "                file: запись результата теста для сохранения состояния\n",
      "        \n",
      "--- 0.3968508243560791 seconds ---\n"
     ]
    }
   ],
   "source": [
    "start_time = time.time()\n",
    "df=pd.read_excel(\"data/DispersionFail(L-H).xlsx\")\n",
    "df=df[[\"Depth, m\",\"Porosity\"]].dropna()\n",
    "x=df[\"Depth, m\"].dropna().to_numpy()\n",
    "y=df[\"Porosity\"].dropna().to_numpy()\n",
    "path=\"data\\\\\"\n",
    "tests = QA_QC_kern(file_path=path)\n",
    "print(tests.get_method_description(\"test_general_dependency_checking\"))\n",
    "tests.test_general_dependency_checking(x,y)\n",
    "tests.generate_test_report()\n",
    "print(\"--- %s seconds ---\" % (time.time() - start_time))"
   ],
   "metadata": {
    "collapsed": false,
    "ExecuteTime": {
     "end_time": "2023-08-17T06:31:22.675561200Z",
     "start_time": "2023-08-17T06:31:22.259712500Z"
    }
   }
  },
  {
   "cell_type": "code",
   "execution_count": 3,
   "outputs": [
    {
     "name": "stdout",
     "output_type": "stream",
     "text": [
      "\n",
      "        Тест предназначен для оценки дисперсии входных данных.\n",
      "        Он проводится по следующему алгоритму: изначально,\n",
      "        используя статистические методы, детектируются и удаляются\n",
      "        выбросные точки, затем полученное облако точек  аппроксимируется\n",
      "        и считается коэффициент детерминации R2. Если его значение больше\n",
      "        0.7, то тест считается пройденным. Если значение меньше 0.7, то\n",
      "        точки сортируются по удаленности от линии тренда, и запускается\n",
      "        цикл, за одну итерацию которого удаляется самая отдаленная от\n",
      "        линии аппроксимации точка, и считается R2, если значение больше\n",
      "        0.7, и удалено менее 10% точек, то тест пройден, иначе - нет.\n",
      "\n",
      "            Args:\n",
      "                x (array[int/float]): массив с данными для проверки\n",
      "                y (array[int/float]): массив с данными для проверки\n",
      "\n",
      "            Returns:\n",
      "                dict[str, bool | str | Any] | dict[str, bool | str | Any]: словарь с результатом теста, значением\n",
      "                                                                          Коэффициента r2, датой выполнения теста\n",
      "                file: запись результата теста для сохранения состояния\n",
      "        \n",
      "--- 0.06499242782592773 seconds ---\n"
     ]
    }
   ],
   "source": [
    "start_time = time.time()\n",
    "df=pd.read_excel(\"data/DispersionOK(L-H).xlsx\")\n",
    "df=df[[\"Density, g/cc\",\"Porosity\"]].dropna()\n",
    "x=df[\"Density, g/cc\"].dropna().to_numpy()\n",
    "y=df[\"Porosity\"].dropna().to_numpy()\n",
    "path=\"data\\\\\"\n",
    "tests = QA_QC_kern(file_path=path)\n",
    "print(tests.get_method_description(\"test_general_dependency_checking\"))\n",
    "tests.test_general_dependency_checking(x,y)\n",
    "tests.generate_test_report()\n",
    "print(\"--- %s seconds ---\" % (time.time() - start_time))"
   ],
   "metadata": {
    "collapsed": false,
    "ExecuteTime": {
     "end_time": "2023-08-17T06:31:22.858553200Z",
     "start_time": "2023-08-17T06:31:22.680566600Z"
    }
   }
  },
  {
   "cell_type": "code",
   "execution_count": 3,
   "outputs": [],
   "source": [],
   "metadata": {
    "collapsed": false,
    "ExecuteTime": {
     "end_time": "2023-08-17T06:31:22.858553200Z",
     "start_time": "2023-08-17T06:31:22.765572800Z"
    }
   }
  },
  {
   "cell_type": "code",
   "execution_count": 4,
   "outputs": [
    {
     "name": "stdout",
     "output_type": "stream",
     "text": [
      "\n",
      "        Тест предназначен для оценки соответствия типовой\n",
      "        для данного кроссплота и полученной аппроксимации.\n",
      "        В данном случае зависимость линейная по функции\n",
      "        y=a*x+b, при этом a<0\n",
      "\n",
      "            Args:\n",
      "                self.sw_residual (array[int/float]): массив с данными коэффициент остаточной водонасыщенности для проверки\n",
      "                self.kp (array[int/float]): массив с данными коэффициент пористости для проверки\n",
      "\n",
      "            Returns:\n",
      "                image: визуализация кроссплота\n",
      "                dict[str, bool | datetime | str]: словарь с результатом выполнения теста, датой выполнения теста\n",
      "                file: запись результата теста для сохранения состояния\n",
      "        \n"
     ]
    },
    {
     "data": {
      "text/plain": "<Figure size 640x480 with 1 Axes>",
      "image/png": "[encoded data removed]"
     },
     "metadata": {},
     "output_type": "display_data"
    },
    {
     "name": "stdout",
     "output_type": "stream",
     "text": [
      "--- 0.5172317028045654 seconds ---\n"
     ]
    }
   ],
   "source": [
    "start_time = time.time()\n",
    "df=pd.read_excel(\"data/Swc-PoroFail(N-H).xlsx\")\n",
    "df=df[[\"Sw\",\"Porosity\"]].dropna()\n",
    "x=df[\"Sw\"].dropna().to_numpy()\n",
    "y=df[\"Porosity\"].dropna().to_numpy()\n",
    "path=\"data\\\\\"\n",
    "tests = QA_QC_kern(sw_residual=x,kp=y,file_path=path)\n",
    "print(tests.get_method_description(\"test_quo_kp_dependence\"))\n",
    "tests.start_tests([\"test_quo_kp_dependence\"])\n",
    "tests.generate_test_report()\n",
    "print(\"--- %s seconds ---\" % (time.time() - start_time))"
   ],
   "metadata": {
    "collapsed": false,
    "ExecuteTime": {
     "end_time": "2023-08-17T06:31:23.362315300Z",
     "start_time": "2023-08-17T06:31:22.829579800Z"
    }
   }
  },
  {
   "cell_type": "code",
   "execution_count": 5,
   "outputs": [
    {
     "data": {
      "text/plain": "<Figure size 640x480 with 1 Axes>",
      "image/png": "[encoded data removed]"
     },
     "metadata": {},
     "output_type": "display_data"
    },
    {
     "name": "stdout",
     "output_type": "stream",
     "text": [
      "--- 0.3645801544189453 seconds ---\n"
     ]
    }
   ],
   "source": [
    "start_time = time.time()\n",
    "df=pd.read_excel(\"data/Swc-PoroOK(N-H).xlsx\")\n",
    "df=df[[\"Sw\",\"Porosity\"]].dropna()\n",
    "y=df[\"Sw\"].dropna().to_numpy()\n",
    "x=df[\"Porosity\"].dropna().to_numpy()\n",
    "path=\"data\\\\\"\n",
    "tests = QA_QC_kern(sw_residual=x, kp=y,file_path=path)\n",
    "tests.get_method_description(\"test_quo_kp_dependence\")\n",
    "tests.start_tests([\"test_quo_kp_dependence\"])\n",
    "tests.generate_test_report()\n",
    "print(\"--- %s seconds ---\" % (time.time() - start_time))"
   ],
   "metadata": {
    "collapsed": false,
    "ExecuteTime": {
     "end_time": "2023-08-17T06:31:23.749284200Z",
     "start_time": "2023-08-17T06:31:23.368314500Z"
    }
   }
  },
  {
   "cell_type": "code",
   "execution_count": 6,
   "outputs": [
    {
     "data": {
      "text/plain": "<Figure size 640x480 with 1 Axes>",
      "image/png": "[encoded data removed]"
     },
     "metadata": {},
     "output_type": "display_data"
    },
    {
     "name": "stdout",
     "output_type": "stream",
     "text": [
      "--- 0.34008216857910156 seconds ---\n"
     ]
    }
   ],
   "source": [
    "start_time = time.time()\n",
    "x=np.array([1,2,3,4,5,6,7,50])\n",
    "y=np.array([50,10,9,8,7,6,5,4])\n",
    "path=\"data\\\\\"\n",
    "tests = QA_QC_kern(sw_residual=x, kp=y,file_path=path)\n",
    "tests.get_method_description(\"test_quo_kp_dependence\")\n",
    "tests.start_tests([\"test_quo_kp_dependence\"])\n",
    "tests.generate_test_report()\n",
    "print(\"--- %s seconds ---\" % (time.time() - start_time))"
   ],
   "metadata": {
    "collapsed": false,
    "ExecuteTime": {
     "end_time": "2023-08-17T06:31:24.108660Z",
     "start_time": "2023-08-17T06:31:23.752284400Z"
    }
   }
  },
  {
   "cell_type": "code",
   "execution_count": 6,
   "outputs": [],
   "source": [],
   "metadata": {
    "collapsed": false,
    "ExecuteTime": {
     "end_time": "2023-08-17T06:31:24.243844500Z",
     "start_time": "2023-08-17T06:31:24.110698400Z"
    }
   }
  },
  {
   "cell_type": "code",
   "execution_count": 7,
   "outputs": [
    {
     "name": "stdout",
     "output_type": "stream",
     "text": [
      "45 45\n",
      "\n",
      "        Тест предназначен для оценки соответствия типовой\n",
      "        для данного кроссплота и полученной аппроксимации.\n",
      "        В данном случае зависимость линейная по функции y=a*x+b, при этом a<0\n",
      "\n",
      "        Args:\n",
      "            self.kp (array[int/float]): массив с данными коэффициента пористости для проверки\n",
      "            self.density (array[int/float]): массив с данными плотности для проверки\n",
      "\n",
      "        Returns:\n",
      "            image: визуализация кроссплота\n",
      "            dict[str, bool | datetime | str]: словарь с результатом выполнения теста, датой выполнения теста\n",
      "            file: запись результата теста для сохранения состояния\n",
      "        \n"
     ]
    },
    {
     "data": {
      "text/plain": "<Figure size 640x480 with 1 Axes>",
      "image/png": "[encoded data removed]"
     },
     "metadata": {},
     "output_type": "display_data"
    },
    {
     "name": "stdout",
     "output_type": "stream",
     "text": [
      "--- 0.36686038970947266 seconds ---\n"
     ]
    }
   ],
   "source": [
    "start_time = time.time()\n",
    "df=pd.read_excel(\"data/Density-PoroOK(J-H).xlsx\")\n",
    "df=df[[\"Density, g/cc\",\"Porosity\"]].dropna()\n",
    "x=df[\"Density, g/cc\"].dropna().to_numpy()\n",
    "y=df[\"Porosity\"].dropna().to_numpy()\n",
    "print(len(x), len(y))\n",
    "path=\"data\\\\\"\n",
    "tests = QA_QC_kern(density=x, kp=y,file_path=path)\n",
    "print(tests.get_method_description(\"test_kp_density_dependence\"))\n",
    "tests.start_tests([\"test_kp_density_dependence\"])\n",
    "tests.generate_test_report()\n",
    "print(\"--- %s seconds ---\" % (time.time() - start_time))"
   ],
   "metadata": {
    "collapsed": false,
    "ExecuteTime": {
     "end_time": "2023-08-17T06:31:24.513524700Z",
     "start_time": "2023-08-17T06:31:24.130666600Z"
    }
   }
  },
  {
   "cell_type": "code",
   "execution_count": 8,
   "outputs": [
    {
     "name": "stdout",
     "output_type": "stream",
     "text": [
      "\n",
      "        Тест предназначен для оценки соответствия типовой\n",
      "        для данного кроссплота и полученной аппроксимации.\n",
      "        В данном случае зависимость линейная по функции y=a*x+b, при этом a<0\n",
      "\n",
      "        Args:\n",
      "            self.kp (array[int/float]): массив с данными коэффициента пористости для проверки\n",
      "            self.density (array[int/float]): массив с данными плотности для проверки\n",
      "\n",
      "        Returns:\n",
      "            image: визуализация кроссплота\n",
      "            dict[str, bool | datetime | str]: словарь с результатом выполнения теста, датой выполнения теста\n",
      "            file: запись результата теста для сохранения состояния\n",
      "        \n"
     ]
    },
    {
     "data": {
      "text/plain": "<Figure size 640x480 with 1 Axes>",
      "image/png": "[encoded data removed]"
     },
     "metadata": {},
     "output_type": "display_data"
    },
    {
     "name": "stdout",
     "output_type": "stream",
     "text": [
      "--- 0.3064234256744385 seconds ---\n"
     ]
    }
   ],
   "source": [
    "start_time = time.time()\n",
    "df=pd.read_excel(\"data/Density-PoroFail(J-H).xlsx\")\n",
    "df=df[[\"Density, g/cc\",\"Porosity\"]].dropna()\n",
    "x=df[\"Density, g/cc\"].dropna().to_numpy()\n",
    "y=df[\"Porosity\"].dropna().to_numpy()\n",
    "path=\"data\\\\\"\n",
    "tests = QA_QC_kern(density=x, kp=y,file_path=path)\n",
    "print(tests.get_method_description(\"test_kp_density_dependence\"))\n",
    "tests.start_tests([\"test_kp_density_dependence\"])\n",
    "tests.generate_test_report()\n",
    "print(\"--- %s seconds ---\" % (time.time() - start_time))"
   ],
   "metadata": {
    "collapsed": false,
    "ExecuteTime": {
     "end_time": "2023-08-17T06:31:24.842939400Z",
     "start_time": "2023-08-17T06:31:24.523530100Z"
    }
   }
  },
  {
   "cell_type": "code",
   "execution_count": 8,
   "outputs": [],
   "source": [],
   "metadata": {
    "collapsed": false,
    "ExecuteTime": {
     "end_time": "2023-08-17T06:31:24.856934Z",
     "start_time": "2023-08-17T06:31:24.842939400Z"
    }
   }
  },
  {
   "cell_type": "code",
   "execution_count": 9,
   "outputs": [
    {
     "name": "stdout",
     "output_type": "stream",
     "text": [
      "[0.01999999999999999] [0.2 0.3 0.4 0.5 0.6 0.7 0.8] [0.8 0.7 0.6 0.5 0.4 0.3 0.2] [0.1 0.2 0.3 0.4 0.5 0.6 0.7]\n",
      "[0.01999999999999999, 0.03000000000000001] [0.2 0.3 0.4 0.5 0.6 0.7 0.8] [0.8 0.7 0.6 0.5 0.4 0.3 0.2] [0.1 0.2 0.3 0.4 0.5 0.6 0.7]\n",
      "[0.01999999999999999, 0.03000000000000001, 0.040000000000000015] [0.2 0.3 0.4 0.5 0.6 0.7 0.8] [0.8 0.7 0.6 0.5 0.4 0.3 0.2] [0.1 0.2 0.3 0.4 0.5 0.6 0.7]\n",
      "[0.01999999999999999, 0.03000000000000001, 0.040000000000000015, 0.04999999999999999] [0.2 0.3 0.4 0.5 0.6 0.7 0.8] [0.8 0.7 0.6 0.5 0.4 0.3 0.2] [0.1 0.2 0.3 0.4 0.5 0.6 0.7]\n",
      "[0.01999999999999999, 0.03000000000000001, 0.040000000000000015, 0.04999999999999999, 0.059999999999999984] [0.2 0.3 0.4 0.5 0.6 0.7 0.8] [0.8 0.7 0.6 0.5 0.4 0.3 0.2] [0.1 0.2 0.3 0.4 0.5 0.6 0.7]\n",
      "[0.01999999999999999, 0.03000000000000001, 0.040000000000000015, 0.04999999999999999, 0.059999999999999984, 0.06999999999999998] [0.2 0.3 0.4 0.5 0.6 0.7 0.8] [0.8 0.7 0.6 0.5 0.4 0.3 0.2] [0.1 0.2 0.3 0.4 0.5 0.6 0.7]\n",
      "[0.01999999999999999, 0.03000000000000001, 0.040000000000000015, 0.04999999999999999, 0.059999999999999984, 0.06999999999999998, 0.08000000000000007] [0.2 0.3 0.4 0.5 0.6 0.7 0.8] [0.8 0.7 0.6 0.5 0.4 0.3 0.2] [0.1 0.2 0.3 0.4 0.5 0.6 0.7]\n",
      "\n",
      "        Тест предназначен для оценки соответствия типовой\n",
      "        для данного кроссплота и полученной аппроксимации.\n",
      "        В данном случае зависимость линейная по функции y=a*x+b, при этом a<0\n",
      "\n",
      "        Args:\n",
      "            self.sw_residual (array[int/float]): массив с данными коэффициент остаточной водонасыщенности для проверки\n",
      "            self.kp_din (array[int/float]): массив с данными коэффициент динамической пористости для проверки\n",
      "\n",
      "        Returns:\n",
      "            image: визуализация кроссплота\n",
      "            dict[str, bool | datetime | str]: словарь с результатом выполнения теста, датой выполнения теста\n",
      "            file: запись результата теста для сохранения состояния\n",
      "        \n"
     ]
    },
    {
     "data": {
      "text/plain": "<Figure size 640x480 with 1 Axes>",
      "image/png": "[encoded data removed]"
     },
     "metadata": {},
     "output_type": "display_data"
    },
    {
     "name": "stdout",
     "output_type": "stream",
     "text": [
      "--- 0.32694077491760254 seconds ---\n"
     ]
    }
   ],
   "source": [
    "start_time = time.time()\n",
    "# df=pd.read_excel(\"data/file.xlsx\")\n",
    "x=np.array([0.8,0.7,0.6,0.5,0.4,0.3,0.2])\n",
    "y=np.array([0.2,0.3,0.4,0.5,0.6,0.7,0.8])\n",
    "z=np.array([0.1,0.2,0.3,0.4,0.5,0.6,0.7])\n",
    "path=\"data\\\\\"\n",
    "tests = QA_QC_kern(sw_residual=x, porosity_open=y,kno=z,file_path=path)\n",
    "print(tests.get_method_description(\"test_sw_residual_kp_din_dependence\"))\n",
    "tests.start_tests([\"test_sw_residual_kp_din_dependence\"])\n",
    "tests.generate_test_report()\n",
    "print(\"--- %s seconds ---\" % (time.time() - start_time))"
   ],
   "metadata": {
    "collapsed": false,
    "ExecuteTime": {
     "end_time": "2023-08-17T06:31:25.197084600Z",
     "start_time": "2023-08-17T06:31:24.861943100Z"
    }
   }
  },
  {
   "cell_type": "code",
   "execution_count": 10,
   "outputs": [
    {
     "name": "stderr",
     "output_type": "stream",
     "text": [
      "Exception ignored in: <function QA_QC_kern.__del__ at 0x00000214A02020E0>\n",
      "Traceback (most recent call last):\n",
      "  File \"C:\\Users\\nikit\\PycharmProjects\\QA_QC_proj\\qa_qc_lib\\kern\\qa_qc_kern.py\", line 82, in __del__\n",
      "    self.file.close()\n",
      "AttributeError: 'QA_QC_kern' object has no attribute 'file'\n"
     ]
    },
    {
     "ename": "TypeError",
     "evalue": "QA_QC_kern.__init__() got an unexpected keyword argument 'kp_din'",
     "output_type": "error",
     "traceback": [
      "\u001B[1;31m---------------------------------------------------------------------------\u001B[0m",
      "\u001B[1;31mTypeError\u001B[0m                                 Traceback (most recent call last)",
      "Cell \u001B[1;32mIn[10], line 6\u001B[0m\n\u001B[0;32m      4\u001B[0m y\u001B[38;5;241m=\u001B[39mnp\u001B[38;5;241m.\u001B[39marray([\u001B[38;5;241m1\u001B[39m,\u001B[38;5;241m2\u001B[39m,\u001B[38;5;241m3\u001B[39m,\u001B[38;5;241m4\u001B[39m,\u001B[38;5;241m5\u001B[39m,\u001B[38;5;241m6\u001B[39m,\u001B[38;5;241m7\u001B[39m,\u001B[38;5;241m50\u001B[39m])\n\u001B[0;32m      5\u001B[0m path\u001B[38;5;241m=\u001B[39m\u001B[38;5;124m\"\u001B[39m\u001B[38;5;124mdata\u001B[39m\u001B[38;5;130;01m\\\\\u001B[39;00m\u001B[38;5;124m\"\u001B[39m\n\u001B[1;32m----> 6\u001B[0m tests \u001B[38;5;241m=\u001B[39m \u001B[43mQA_QC_kern\u001B[49m\u001B[43m(\u001B[49m\u001B[43msw_residual\u001B[49m\u001B[38;5;241;43m=\u001B[39;49m\u001B[43mx\u001B[49m\u001B[43m,\u001B[49m\u001B[43m \u001B[49m\u001B[43mkp_din\u001B[49m\u001B[38;5;241;43m=\u001B[39;49m\u001B[43my\u001B[49m\u001B[43m,\u001B[49m\u001B[43mfile_path\u001B[49m\u001B[38;5;241;43m=\u001B[39;49m\u001B[43mpath\u001B[49m\u001B[43m)\u001B[49m\n\u001B[0;32m      7\u001B[0m \u001B[38;5;28mprint\u001B[39m(tests\u001B[38;5;241m.\u001B[39mget_method_description(\u001B[38;5;124m\"\u001B[39m\u001B[38;5;124mtest_sw_residual_kp_din_dependence\u001B[39m\u001B[38;5;124m\"\u001B[39m))\n\u001B[0;32m      8\u001B[0m tests\u001B[38;5;241m.\u001B[39mstart_tests([\u001B[38;5;124m\"\u001B[39m\u001B[38;5;124mtest_sw_residual_kp_din_dependence\u001B[39m\u001B[38;5;124m\"\u001B[39m])\n",
      "\u001B[1;31mTypeError\u001B[0m: QA_QC_kern.__init__() got an unexpected keyword argument 'kp_din'"
     ]
    }
   ],
   "source": [
    "start_time = time.time()\n",
    "# df=pd.read_excel(\"data/file.xlsx\")\n",
    "x=np.array([1,2,3,4,5,6,7,50])\n",
    "y=np.array([1,2,3,4,5,6,7,50])\n",
    "path=\"data\\\\\"\n",
    "tests = QA_QC_kern(sw_residual=x, kp_din=y,file_path=path)\n",
    "print(tests.get_method_description(\"test_sw_residual_kp_din_dependence\"))\n",
    "tests.start_tests([\"test_sw_residual_kp_din_dependence\"])\n",
    "tests.generate_test_report()\n",
    "print(\"--- %s seconds ---\" % (time.time() - start_time))"
   ],
   "metadata": {
    "collapsed": false,
    "ExecuteTime": {
     "end_time": "2023-08-17T06:31:26.095279700Z",
     "start_time": "2023-08-17T06:31:25.201087500Z"
    }
   }
  },
  {
   "cell_type": "code",
   "execution_count": null,
   "outputs": [],
   "source": [],
   "metadata": {
    "collapsed": false
   }
  },
  {
   "cell_type": "code",
   "execution_count": null,
   "outputs": [],
   "source": [
    "start_time = time.time()\n",
    "# df=pd.read_excel(\"data/file.xlsx\")\n",
    "x=np.array([1,2,3,4,5,6,7,50])\n",
    "y=np.array([1,2,3,4,5,6,7,50])\n",
    "z=np.array([1,2,3,4,5,6,7,50])\n",
    "path=\"data\\\\\"\n",
    "tests = QA_QC_kern(obplnas=x, minple=y,kp=z,file_path=path)\n",
    "print(tests.get_method_description(\"test_obblnas_kp_dependence\"))\n",
    "tests.start_tests([\"test_obblnas_kp_dependence\"])\n",
    "tests.generate_test_report()\n",
    "print(\"--- %s seconds ---\" % (time.time() - start_time))"
   ],
   "metadata": {
    "collapsed": false
   }
  },
  {
   "cell_type": "code",
   "execution_count": null,
   "outputs": [],
   "source": [
    "start_time = time.time()\n",
    "# df=pd.read_excel(\"data/file.xlsx\")\n",
    "x=np.array([1,2,3,4,5,6,7,50])\n",
    "y=np.array([50,10,9,8,7,6,5,4])\n",
    "z=np.array([1,2,3,4,5,6,7,50])\n",
    "path=\"data\\\\\"\n",
    "tests = QA_QC_kern(obplnas=x, minple=y,kp=z,file_path=path)\n",
    "print(tests.get_method_description(\"test_obblnas_kp_dependence\"))\n",
    "tests.start_tests([\"test_obblnas_kp_dependence\"])\n",
    "tests.generate_test_report()\n",
    "print(\"--- %s seconds ---\" % (time.time() - start_time))"
   ],
   "metadata": {
    "collapsed": false
   }
  },
  {
   "cell_type": "code",
   "execution_count": null,
   "outputs": [],
   "source": [],
   "metadata": {
    "collapsed": false
   }
  },
  {
   "cell_type": "code",
   "execution_count": null,
   "outputs": [],
   "source": [
    "start_time = time.time()\n",
    "# df=pd.read_excel(\".../file.xlsx\")\n",
    "x=np.array([8,7,6,5,4,3,2])\n",
    "y=np.array([2,3,4,5,6,7,8])\n",
    "path=\"data\\\\\"\n",
    "tests = QA_QC_kern(kp_ef=x, kp_din=y,file_path=path)\n",
    "print(tests.get_method_description(\"test_kp_ef_kpdin_dependence\"))\n",
    "tests.start_tests([\"test_kp_ef_kpdin_dependence\"])\n",
    "tests.generate_test_report()\n",
    "print(\"--- %s seconds ---\" % (time.time() - start_time))"
   ],
   "metadata": {
    "collapsed": false
   }
  },
  {
   "cell_type": "code",
   "execution_count": null,
   "outputs": [],
   "source": [
    "start_time = time.time()\n",
    "# df=pd.read_excel(\".../file.xlsx\")\n",
    "x=np.array([1,2,3,4,5,6,7,50])\n",
    "y=np.array([1,2,3,4,5,6,7,50])\n",
    "path=\"data\\\\\"\n",
    "tests = QA_QC_kern(kp_ef=x, kp_din=y,file_path=path)\n",
    "print(tests.get_method_description(\"test_kp_ef_kpdin_dependence\"))\n",
    "tests.start_tests([\"test_kp_ef_kpdin_dependence\"])\n",
    "tests.generate_test_report()\n",
    "print(\"--- %s seconds ---\" % (time.time() - start_time))"
   ],
   "metadata": {
    "collapsed": false
   }
  },
  {
   "cell_type": "code",
   "execution_count": null,
   "outputs": [],
   "source": [],
   "metadata": {
    "collapsed": false
   }
  },
  {
   "cell_type": "code",
   "execution_count": null,
   "outputs": [],
   "source": [
    "start_time = time.time()\n",
    "# df=pd.read_excel(\".../file.xlsx\")\n",
    "x=np.array([1,2,3,4,5,6,7,50])\n",
    "y=np.array([1,2,3,4,5,6,7,50])\n",
    "path=\"data\\\\\"\n",
    "tests = QA_QC_kern(kp_ef=x, kp=y,file_path=path)\n",
    "print(tests.get_method_description(\"test_kp_ef_kp_dependence\"))\n",
    "tests.start_tests([\"test_kp_ef_kp_dependence\"])\n",
    "tests.generate_test_report()\n",
    "print(\"--- %s seconds ---\" % (time.time() - start_time))"
   ],
   "metadata": {
    "collapsed": false
   }
  },
  {
   "cell_type": "code",
   "execution_count": null,
   "outputs": [],
   "source": [
    "start_time = time.time()\n",
    "# df=pd.read_excel(\".../file.xlsx\")\n",
    "x=np.array([8,7,6,5,4,3,2])\n",
    "y=np.array([-5,-3,-4,-5,-6,-7,-8])\n",
    "path=\"data\\\\\"\n",
    "tests = QA_QC_kern(kp_ef=x, kp=y,file_path=path)\n",
    "print(tests.get_method_description(\"test_kp_ef_kp_dependence\"))\n",
    "tests.start_tests([\"test_kp_ef_kp_dependence\"])\n",
    "tests.generate_test_report()\n",
    "print(\"--- %s seconds ---\" % (time.time() - start_time))"
   ],
   "metadata": {
    "collapsed": false
   }
  },
  {
   "cell_type": "code",
   "execution_count": null,
   "outputs": [],
   "source": [],
   "metadata": {
    "collapsed": false
   }
  },
  {
   "cell_type": "code",
   "execution_count": null,
   "outputs": [],
   "source": [
    "start_time = time.time()\n",
    "# df=pd.read_excel(\".../file.xlsx\")\n",
    "x=np.array([8,7,6,5,4,3,2])\n",
    "y=np.array([-5,-3,-4,-5,-6,-7,-8])\n",
    "path=\"data\\\\\"\n",
    "tests = QA_QC_kern(kp=x, kp_din=y,file_path=path)\n",
    "print(tests.get_method_description(\"test_kp_kp_din_dependence\"))\n",
    "tests.start_tests([\"test_kp_kp_din_dependence\"])\n",
    "tests.generate_test_report()\n",
    "print(\"--- %s seconds ---\" % (time.time() - start_time))"
   ],
   "metadata": {
    "collapsed": false
   }
  },
  {
   "cell_type": "code",
   "execution_count": null,
   "outputs": [],
   "source": [
    "start_time = time.time()\n",
    "# df=pd.read_excel(\".../file.xlsx\")\n",
    "x=np.array([1,2,3,4,5,6,7,50])\n",
    "y=np.array([1,2,3,4,5,6,7,50])\n",
    "path=\"data\\\\\"\n",
    "tests = QA_QC_kern(kp=x, kp_din=y,file_path=path)\n",
    "print(tests.get_method_description(\"test_kp_kp_din_dependence\"))\n",
    "tests.start_tests([\"test_kp_kp_din_dependence\"])\n",
    "tests.generate_test_report()\n",
    "print(\"--- %s seconds ---\" % (time.time() - start_time))"
   ],
   "metadata": {
    "collapsed": false
   }
  },
  {
   "cell_type": "code",
   "execution_count": null,
   "outputs": [],
   "source": [],
   "metadata": {
    "collapsed": false
   }
  },
  {
   "cell_type": "code",
   "execution_count": null,
   "outputs": [],
   "source": [
    "start_time = time.time()\n",
    "# df=pd.read_excel(\".../file.xlsx\")\n",
    "x=np.array([1,2,3,4,5,6])\n",
    "y=np.array([1,1,1,1,1,1])\n",
    "path=\"data\\\\\"\n",
    "tests = QA_QC_kern(kpr=x, kp=y,file_path=path)\n",
    "print(tests.get_method_description(\"test_dependence_kpr_kp\"))\n",
    "tests.start_tests([\"test_dependence_kpr_kp\"])\n",
    "tests.generate_test_report()\n",
    "print(\"--- %s seconds ---\" % (time.time() - start_time))"
   ],
   "metadata": {
    "collapsed": false
   }
  },
  {
   "cell_type": "code",
   "execution_count": null,
   "outputs": [],
   "source": [
    "start_time = time.time()\n",
    "# df=pd.read_excel(\".../file.xlsx\")\n",
    "x=np.array([1,2,3,4,5,6,7,50])\n",
    "y=np.array([1,2,3,4,5,6,7,50])\n",
    "path=\"data\\\\\"\n",
    "tests = QA_QC_kern(kpr=x, kp=y,file_path=path)\n",
    "print(tests.get_method_description(\"test_dependence_kpr_kp\"))\n",
    "tests.start_tests([\"test_dependence_kpr_kp\"])\n",
    "tests.generate_test_report()\n",
    "print(\"--- %s seconds ---\" % (time.time() - start_time))"
   ],
   "metadata": {
    "collapsed": false
   }
  },
  {
   "cell_type": "code",
   "execution_count": null,
   "outputs": [],
   "source": [],
   "metadata": {
    "collapsed": false
   }
  },
  {
   "cell_type": "code",
   "execution_count": null,
   "outputs": [],
   "source": [
    "start_time = time.time()\n",
    "# df=pd.read_excel(\".../file.xlsx\")\n",
    "x=np.array([1,2,3,4,5,6])\n",
    "y=np.array([1,1,1,1,1,1])\n",
    "path=\"data\\\\\"\n",
    "tests = QA_QC_kern(kpr=x, kp_din=y,file_path=path)\n",
    "print(tests.get_method_description(\"test_dependence_kpr_kp_din\"))\n",
    "tests.start_tests([\"test_dependence_kpr_kp_din\"])\n",
    "tests.generate_test_report()\n",
    "print(\"--- %s seconds ---\" % (time.time() - start_time))"
   ],
   "metadata": {
    "collapsed": false
   }
  },
  {
   "cell_type": "code",
   "execution_count": null,
   "outputs": [],
   "source": [
    "print(\"--- %s seconds ---\" % (time.time() - start_time))\n",
    "start_time = time.time()\n",
    "# df=pd.read_excel(\".../file.xlsx\")\n",
    "x = np.array([1, 2, 3, 4, 5, 6, 7, 50])\n",
    "y = np.array([1, 2, 3, 4, 5, 6, 7, 50])\n",
    "path=\"data\\\\\"\n",
    "tests = QA_QC_kern(kpr=x, kp_din=y, file_path=path)\n",
    "print(tests.get_method_description(\"test_dependence_kpr_kp_din\"))\n",
    "tests.start_tests([\"test_dependence_kpr_kp_din\"])\n",
    "tests.generate_test_report()\n",
    "print(\"--- %s seconds ---\" % (time.time() - start_time))"
   ],
   "metadata": {
    "collapsed": false
   }
  },
  {
   "cell_type": "code",
   "execution_count": null,
   "outputs": [],
   "source": [],
   "metadata": {
    "collapsed": false
   }
  },
  {
   "cell_type": "code",
   "execution_count": null,
   "outputs": [],
   "source": [
    "start_time = time.time()\n",
    "# df=pd.read_excel(\".../file.xlsx\")\n",
    "x = np.array([1, 2, 3, 4, 5, 6, 7, 50])\n",
    "y = np.array([1, 2, 3, 4, 5, 6, 7, 50])\n",
    "path=\"data\\\\\"\n",
    "tests = QA_QC_kern(sw_residual=x, kpr=y, file_path=path)\n",
    "print(tests.get_method_description(\"test_dependence_sw_residual_kpr\"))\n",
    "tests.start_tests([\"test_dependence_sw_residual_kpr\"])\n",
    "tests.generate_test_report()\n",
    "print(\"--- %s seconds ---\" % (time.time() - start_time))"
   ],
   "metadata": {
    "collapsed": false
   }
  },
  {
   "cell_type": "code",
   "execution_count": null,
   "outputs": [],
   "source": [
    "start_time = time.time()\n",
    "# df=pd.read_excel(\".../file.xlsx\")\n",
    "x = np.array([10, 9, 8, 7, 6, 5, 4, 3])\n",
    "y = np.array([1, 2, 3, 4, 5, 6, 7, 8])\n",
    "path=\"data\\\\\"\n",
    "tests = QA_QC_kern(sw_residual=x, kpr=y, file_path=path)\n",
    "print(tests.get_method_description(\"test_dependence_sw_residual_kpr\"))\n",
    "tests.start_tests([\"test_dependence_sw_residual_kpr\"])\n",
    "tests.generate_test_report()\n",
    "print(\"--- %s seconds ---\" % (time.time() - start_time))"
   ],
   "metadata": {
    "collapsed": false
   }
  },
  {
   "cell_type": "code",
   "execution_count": null,
   "outputs": [],
   "source": [],
   "metadata": {
    "collapsed": false
   }
  },
  {
   "cell_type": "code",
   "execution_count": null,
   "outputs": [],
   "source": [
    "start_time = time.time()\n",
    "# df=pd.read_excel(\".../file.xlsx\")\n",
    "x = np.array([10, 9, 8, 7, 6, 5, 4, 3])\n",
    "y = np.array([1, 2, 3, 4, 5, 6, 7, 8])\n",
    "path=\"data\\\\\"\n",
    "tests = QA_QC_kern(rn=x, kv=y, file_path=path)\n",
    "print(tests.get_method_description(\"test_rn_kv_dependencies\"))\n",
    "tests.start_tests([\"test_rn_kv_dependencies\"])\n",
    "tests.generate_test_report()\n",
    "print(\"--- %s seconds ---\" % (time.time() - start_time))"
   ],
   "metadata": {
    "collapsed": false
   }
  },
  {
   "cell_type": "code",
   "execution_count": null,
   "outputs": [],
   "source": [
    "start_time = time.time()\n",
    "# df=pd.read_excel(\".../file.xlsx\")\n",
    "x = np.array([1, 2, 3, 4, 5, 6, 7,8, 12,7,6,5,4,3,2])\n",
    "y = np.array([1, 2, 3, 4, 5, 6, 7,8, 12,91,113,10,5,4,3])\n",
    "path=\"data\\\\\"\n",
    "tests = QA_QC_kern(rn=x, kv=y, file_path=path)\n",
    "print(tests.get_method_description(\"test_rn_kv_dependencies\"))\n",
    "tests.start_tests([\"test_rn_kv_dependencies\"])\n",
    "tests.generate_test_report()\n",
    "print(\"--- %s seconds ---\" % (time.time() - start_time))"
   ],
   "metadata": {
    "collapsed": false
   }
  },
  {
   "cell_type": "code",
   "execution_count": null,
   "outputs": [],
   "source": [],
   "metadata": {
    "collapsed": false
   }
  },
  {
   "cell_type": "code",
   "execution_count": null,
   "outputs": [],
   "source": [
    "start_time = time.time()\n",
    "# df=pd.read_excel(\".../file.xlsx\")\n",
    "x = np.array([1, 2, 3, 4, 5])\n",
    "y = np.array([2.0, 1.0, 0.5, 0.3, 0.2])\n",
    "path=\"data\\\\\"\n",
    "tests = QA_QC_kern(rp=x, kp=y, file_path=path)\n",
    "print(tests.get_method_description(\"test_rp_kp_dependencies\"))\n",
    "tests.start_tests([\"test_rp_kp_dependencies\"])\n",
    "tests.generate_test_report()\n",
    "print(\"--- %s seconds ---\" % (time.time() - start_time))"
   ],
   "metadata": {
    "collapsed": false
   }
  },
  {
   "cell_type": "code",
   "execution_count": null,
   "outputs": [],
   "source": [
    "start_time = time.time()\n",
    "# df=pd.read_excel(\".../file.xlsx\")\n",
    "x = np.array([1, 2, 3, 4, 5])\n",
    "y = np.array([0.2, 0.3, 0.5, 1.0, 2.0])\n",
    "path=\"data\\\\\"\n",
    "tests = QA_QC_kern(rp=x, kp=y, file_path=path)\n",
    "print(tests.get_method_description(\"test_rp_kp_dependencies\"))\n",
    "tests.start_tests([\"test_rp_kp_dependencies\"])\n",
    "tests.generate_test_report()\n",
    "print(\"--- %s seconds ---\" % (time.time() - start_time))"
   ],
   "metadata": {
    "collapsed": false
   }
  },
  {
   "cell_type": "code",
   "execution_count": null,
   "outputs": [],
   "source": [],
   "metadata": {
    "collapsed": false
   }
  },
  {
   "cell_type": "code",
   "execution_count": null,
   "outputs": [],
   "source": [
    "start_time = time.time()\n",
    "# df=pd.read_excel(\".../file.xlsx\")\n",
    "x = np.array([1, 2, 3, 4, 5])\n",
    "y = np.array([0.2, 0.3, 0.5, 1.0, 2.0])\n",
    "path=\"data\\\\\"\n",
    "tests = QA_QC_kern(roof=x, sole=y, file_path=path)\n",
    "print(tests.get_method_description(\"test_coring_depths_first\"))\n",
    "tests.start_tests([\"test_coring_depths_first\"])\n",
    "tests.generate_test_report()\n",
    "print(\"--- %s seconds ---\" % (time.time() - start_time))"
   ],
   "metadata": {
    "collapsed": false
   }
  },
  {
   "cell_type": "code",
   "execution_count": null,
   "outputs": [],
   "source": [
    "start_time = time.time()\n",
    "# df=pd.read_excel(\".../file.xlsx\")\n",
    "x = np.array([1, 2, 3, 4, 5])\n",
    "y = np.array([2, 3, 4, 5, 6])\n",
    "path=\"data\\\\\"\n",
    "tests = QA_QC_kern(roof=x, sole=y, file_path=path)\n",
    "print(tests.get_method_description(\"test_coring_depths_first\"))\n",
    "tests.start_tests([\"test_coring_depths_first\"])\n",
    "tests.generate_test_report()\n",
    "print(\"--- %s seconds ---\" % (time.time() - start_time))"
   ],
   "metadata": {
    "collapsed": false
   }
  },
  {
   "cell_type": "code",
   "execution_count": null,
   "outputs": [],
   "source": [],
   "metadata": {
    "collapsed": false
   }
  },
  {
   "cell_type": "code",
   "execution_count": null,
   "outputs": [],
   "source": [
    "start_time = time.time()\n",
    "# df=pd.read_excel(\".../file.xlsx\")\n",
    "x = np.array([10, 11, 12, 13, 14])\n",
    "y = np.array([2, 3, 4, 5, 6])\n",
    "z= np.array([7, 6, 5, 4, 3])\n",
    "path=\"data\\\\\"\n",
    "tests = QA_QC_kern(sole=x, roof=y,takeout=z, file_path=path)\n",
    "print(tests.get_method_description(\"test_coring_depths_second\"))\n",
    "tests.start_tests([\"test_coring_depths_second\"])\n",
    "tests.generate_test_report()\n",
    "print(\"--- %s seconds ---\" % (time.time() - start_time))"
   ],
   "metadata": {
    "collapsed": false
   }
  },
  {
   "cell_type": "code",
   "execution_count": null,
   "outputs": [],
   "source": [
    "start_time = time.time()\n",
    "# df=pd.read_excel(\".../file.xlsx\")\n",
    "x = np.array([10, 11, 12, 13, 14])\n",
    "y = np.array([2, 3, 4, 5, 6])\n",
    "z= np.array([17, 16, 15, 14, 13])\n",
    "path=\"data\\\\\"\n",
    "tests = QA_QC_kern(roof=x, sole=y,takeout=z, file_path=path)\n",
    "print(tests.get_method_description(\"test_coring_depths_second\"))\n",
    "tests.start_tests([\"test_coring_depths_second\"])\n",
    "tests.generate_test_report()\n",
    "print(\"--- %s seconds ---\" % (time.time() - start_time))"
   ],
   "metadata": {
    "collapsed": false
   }
  },
  {
   "cell_type": "code",
   "execution_count": null,
   "outputs": [],
   "source": [],
   "metadata": {
    "collapsed": false
   }
  },
  {
   "cell_type": "code",
   "execution_count": null,
   "outputs": [],
   "source": [
    "start_time = time.time()\n",
    "# df=pd.read_excel(\".../file.xlsx\")\n",
    "x = np.array([[10,13], [1,11]])\n",
    "y = np.array([1,10])\n",
    "z=np.array([33,100])\n",
    "path=\"data\\\\\"\n",
    "tests = QA_QC_kern(intervals=x, percentage=z, outreach_in_meters=y, file_path=path)\n",
    "print(tests.get_method_description(\"test_coring_depths_third\"))\n",
    "tests.start_tests([\"test_coring_depths_third\"])\n",
    "tests.generate_test_report()\n",
    "print(\"--- %s seconds ---\" % (time.time() - start_time))"
   ],
   "metadata": {
    "collapsed": false
   }
  },
  {
   "cell_type": "code",
   "execution_count": null,
   "outputs": [],
   "source": [
    "start_time = time.time()\n",
    "# df=pd.read_excel(\".../file.xlsx\")\n",
    "x = np.array([[10,13], [1,11]])\n",
    "y = np.array([1,10])\n",
    "z=np.array([33.333,100.0])\n",
    "path=\"data\\\\\"\n",
    "tests = QA_QC_kern(intervals=x, percentage=z, outreach_in_meters=y, file_path=path)\n",
    "print(tests.get_method_description(\"test_coring_depths_third\"))\n",
    "tests.start_tests([\"test_coring_depths_third\"])\n",
    "tests.generate_test_report()\n",
    "print(\"--- %s seconds ---\" % (time.time() - start_time))"
   ],
   "metadata": {
    "collapsed": false
   }
  },
  {
   "cell_type": "code",
   "execution_count": null,
   "outputs": [],
   "source": [],
   "metadata": {
    "collapsed": false
   }
  },
  {
   "cell_type": "code",
   "execution_count": null,
   "outputs": [],
   "source": [
    "start_time = time.time()\n",
    "# df=pd.read_excel(\".../file.xlsx\")\n",
    "x = np.array([1, 2, 3, 4, 5])\n",
    "y = np.array([0.2, 0.3, 0.5, 1.0, 2.0])\n",
    "path=\"data\\\\\"\n",
    "tests = QA_QC_kern(sampling_depth=x, core_sampling=y, file_path=path)\n",
    "print(tests.get_method_description(\"test_coring_depths_four\"))\n",
    "tests.start_tests([\"test_coring_depths_four\"])\n",
    "tests.generate_test_report()\n",
    "print(\"--- %s seconds ---\" % (time.time() - start_time))"
   ],
   "metadata": {
    "collapsed": false
   }
  },
  {
   "cell_type": "code",
   "execution_count": null,
   "outputs": [],
   "source": [
    "start_time = time.time()\n",
    "# df=pd.read_excel(\".../file.xlsx\")\n",
    "x = np.array([1, 2, 3, 4, 5])\n",
    "y = np.array([5, 6, 7, 1.0, 2.0])\n",
    "path=\"data\\\\\"\n",
    "tests = QA_QC_kern(sampling_depth=x, core_sampling=y, file_path=path)\n",
    "print(tests.get_method_description(\"test_coring_depths_four\"))\n",
    "tests.start_tests([\"test_coring_depths_four\"])\n",
    "tests.generate_test_report()\n",
    "print(\"--- %s seconds ---\" % (time.time() - start_time))"
   ],
   "metadata": {
    "collapsed": false
   }
  },
  {
   "cell_type": "code",
   "execution_count": null,
   "outputs": [],
   "source": [],
   "metadata": {
    "collapsed": false
   }
  },
  {
   "cell_type": "code",
   "execution_count": null,
   "outputs": [],
   "source": [
    "start_time = time.time()\n",
    "# df=pd.read_excel(\".../file.xlsx\")\n",
    "x = np.array([\"Скол\", np.nan, np.nan, np.nan, \"Трещина\"])\n",
    "path=\"data\\\\\"\n",
    "tests = QA_QC_kern(note=x,file_path=path)\n",
    "print(tests.get_method_description(\"test_table_notes\"))\n",
    "tests.start_tests([\"test_table_notes\"])\n",
    "tests.generate_test_report()\n",
    "print(\"--- %s seconds ---\" % (time.time() - start_time))"
   ],
   "metadata": {
    "collapsed": false
   }
  },
  {
   "cell_type": "code",
   "execution_count": null,
   "outputs": [],
   "source": [
    "start_time = time.time()\n",
    "# df=pd.read_excel(\".../file.xlsx\")\n",
    "x = np.array([np.nan, np.nan, np.nan])\n",
    "path=\"data\\\\\"\n",
    "tests = QA_QC_kern(note=x, file_path=path)\n",
    "print(tests.get_method_description(\"test_table_notes\"))\n",
    "tests.start_tests([\"test_table_notes\"])\n",
    "tests.generate_test_report()\n",
    "print(\"--- %s seconds ---\" % (time.time() - start_time))"
   ],
   "metadata": {
    "collapsed": false
   }
  },
  {
   "cell_type": "code",
   "execution_count": null,
   "outputs": [],
   "source": [],
   "metadata": {
    "collapsed": false
   }
  },
  {
   "cell_type": "code",
   "execution_count": null,
   "outputs": [],
   "source": [
    "start_time = time.time()\n",
    "# df=pd.read_excel(\".../file.xlsx\")\n",
    "x=np.array([1,2,3])\n",
    "y=np.array([1,2,3])\n",
    "a=np.array([1,2,3])\n",
    "b=np.array([1,2,3])\n",
    "c=np.array([1,2,3])\n",
    "v=np.array([1,2,3])\n",
    "n=np.array([1,2,3])\n",
    "path=\"data\\\\\"\n",
    "tests = QA_QC_kern(kpr=x, kp=y,rp=a,sw_residual=b,density=c,rn=v,kv=n, file_path=path)\n",
    "print(tests.get_method_description(\"test_data_tampering\"))\n",
    "tests.start_tests([\"test_data_tampering\"])\n",
    "tests.generate_test_report()\n",
    "print(\"--- %s seconds ---\" % (time.time() - start_time))"
   ],
   "metadata": {
    "collapsed": false
   }
  },
  {
   "cell_type": "code",
   "execution_count": null,
   "outputs": [],
   "source": [
    "start_time = time.time()\n",
    "# df=pd.read_excel(\".../file.xlsx\")\n",
    "x=np.array([1,2,3])\n",
    "y=np.array([4,5,6])\n",
    "a=np.array([7,8,9])\n",
    "b=np.array([10,11,12])\n",
    "c=np.array([13,14,15])\n",
    "v=np.array([16,17,18])\n",
    "n=np.array([19,20,21])\n",
    "path=\"data\\\\\"\n",
    "tests = QA_QC_kern(kpr=x, kp=y,rp=a,sw_residual=b,density=c,rn=v,kv=n, file_path=path)\n",
    "print(tests.get_method_description(\"test_data_tampering\"))\n",
    "tests.start_tests([\"test_data_tampering\"])\n",
    "tests.generate_test_report()\n",
    "print(\"--- %s seconds ---\" % (time.time() - start_time))"
   ],
   "metadata": {
    "collapsed": false
   }
  },
  {
   "cell_type": "code",
   "execution_count": null,
   "outputs": [],
   "source": [],
   "metadata": {
    "collapsed": false
   }
  },
  {
   "cell_type": "code",
   "execution_count": null,
   "outputs": [],
   "source": [
    "start_time = time.time()\n",
    "# df=pd.read_excel(\".../file.xlsx\")\n",
    "x=np.array([0.7])\n",
    "y=np.array([0.2])\n",
    "a=np.array([0.1])\n",
    "b=np.array([2.0])\n",
    "f=np.array([0.56])\n",
    "r=np.array([0.49])\n",
    "t=np.array([2.7])\n",
    "path=\"data\\\\\"\n",
    "tests = QA_QC_kern(kp=x, sw_residual=y,kno=a,pas=b,kp_ef=f, kp_din=r,pmu=t,file_path=path)\n",
    "print(tests.get_method_description(\"test_estimated_values_in_core_data\"))\n",
    "tests.start_tests([\"test_estimated_values_in_core_data\"])\n",
    "tests.generate_test_report()\n",
    "print(\"--- %s seconds ---\" % (time.time() - start_time))"
   ],
   "metadata": {
    "collapsed": false
   }
  },
  {
   "cell_type": "code",
   "execution_count": null,
   "outputs": [],
   "source": [
    "start_time = time.time()\n",
    "# df=pd.read_excel(\".../file.xlsx\")\n",
    "x=np.array([5])\n",
    "y=np.array([52])\n",
    "a=np.array([11])\n",
    "b=np.array([2.0])\n",
    "f=np.array([0.56])\n",
    "r=np.array([0.49])\n",
    "t=np.array([2.7])\n",
    "path=\"data\\\\\"\n",
    "tests = QA_QC_kern(kp=x, sw_residual=y,kno=a,pas=b,kp_ef=f, kp_din=r,pmu=t,file_path=path)\n",
    "print(tests.get_method_description(\"test_estimated_values_in_core_data\"))\n",
    "tests.start_tests([\"test_estimated_values_in_core_data\"])\n",
    "tests.generate_test_report()\n",
    "print(\"--- %s seconds ---\" % (time.time() - start_time))"
   ],
   "metadata": {
    "collapsed": false
   }
  },
  {
   "cell_type": "code",
   "execution_count": null,
   "outputs": [],
   "source": [],
   "metadata": {
    "collapsed": false
   }
  },
  {
   "cell_type": "code",
   "execution_count": null,
   "outputs": [],
   "source": [
    "start_time = time.time()\n",
    "# df=pd.read_excel(\".../file.xlsx\")\n",
    "x = np.array([1, 2, 3, 4, 5])\n",
    "y = np.array([5, 6, 7, 1.0, 2.0])\n",
    "path=\"data\\\\\"\n",
    "tests = QA_QC_kern(kp_plast=x, kp_pov=y, file_path=path)\n",
    "print(tests.get_method_description(\"test_kp_in_surface_and_reservoir_conditions\"))\n",
    "tests.start_tests([\"test_kp_in_surface_and_reservoir_conditions\"])\n",
    "tests.generate_test_report()\n",
    "print(\"--- %s seconds ---\" % (time.time() - start_time))"
   ],
   "metadata": {
    "collapsed": false
   }
  },
  {
   "cell_type": "code",
   "execution_count": null,
   "outputs": [],
   "source": [
    "start_time = time.time()\n",
    "# df=pd.read_excel(\".../file.xlsx\")\n",
    "x = np.array([5, 6, 7, 5, 6])\n",
    "y = np.array([1, 2, 3, 4, 5])\n",
    "path=\"data\\\\\"\n",
    "tests = QA_QC_kern(kp_plast=x, kp_pov=y, file_path=path)\n",
    "print(tests.get_method_description(\"test_kp_in_surface_and_reservoir_conditions\"))\n",
    "tests.start_tests([\"test_kp_in_surface_and_reservoir_conditions\"])\n",
    "tests.generate_test_report()\n",
    "print(\"--- %s seconds ---\" % (time.time() - start_time))"
   ],
   "metadata": {
    "collapsed": false
   }
  },
  {
   "cell_type": "code",
   "execution_count": null,
   "outputs": [],
   "source": [],
   "metadata": {
    "collapsed": false
   }
  },
  {
   "cell_type": "code",
   "execution_count": null,
   "outputs": [],
   "source": [
    "start_time = time.time()\n",
    "# df=pd.read_excel(\".../file.xlsx\")\n",
    "x = np.array([0.2, 0.1, 0.5, 0.3, 0.3])\n",
    "y = np.array([0.2, 0.1, 0.2, 0.3, 0.3])\n",
    "path=\"data\\\\\"\n",
    "tests = QA_QC_kern(sw_residual=x, kno=y, file_path=path)\n",
    "print(tests.get_method_description(\"test_quo_and_qno\"))\n",
    "tests.start_tests([\"test_quo_and_qno\"])\n",
    "tests.generate_test_report()\n",
    "print(\"--- %s seconds ---\" % (time.time() - start_time))"
   ],
   "metadata": {
    "collapsed": false
   }
  },
  {
   "cell_type": "code",
   "execution_count": null,
   "outputs": [],
   "source": [
    "start_time = time.time()\n",
    "# df=pd.read_excel(\".../file.xlsx\")\n",
    "x = np.array([0.2, 0.1, 0.5, 0.3, 0.3])\n",
    "y = np.array([0.2, 0.1, 0.5, 0.3, 0.3])\n",
    "path=\"data\\\\\"\n",
    "tests = QA_QC_kern(sw_residual=x, kno=y, file_path=path)\n",
    "print(tests.get_method_description(\"test_quo_and_qno\"))\n",
    "tests.start_tests([\"test_quo_and_qno\"])\n",
    "tests.generate_test_report()\n",
    "print(\"--- %s seconds ---\" % (time.time() - start_time))"
   ],
   "metadata": {
    "collapsed": false
   }
  },
  {
   "cell_type": "code",
   "execution_count": null,
   "outputs": [],
   "source": [],
   "metadata": {
    "collapsed": false
   }
  },
  {
   "cell_type": "code",
   "execution_count": null,
   "outputs": [],
   "source": [
    "start_time = time.time()\n",
    "# df=pd.read_excel(\".../file.xlsx\")\n",
    "path=\"data\\\\\"\n",
    "tests = QA_QC_kern(parallel=None,parallel_density=None,parallel_carbonate=None,parallel_porosity=None,perpendicular=None,perpendicular_density=None,perpendicular_carbonate=None,perpendicular_porosity=None, file_path=path)\n",
    "print(tests.get_method_description(\"test_correctness_of_p_sk_kp\"))\n",
    "tests.start_tests([\"test_correctness_of_p_sk_kp\"])\n",
    "tests.generate_test_report()\n",
    "print(\"--- %s seconds ---\" % (time.time() - start_time))"
   ],
   "metadata": {
    "collapsed": false
   }
  },
  {
   "cell_type": "code",
   "execution_count": null,
   "outputs": [],
   "source": [],
   "metadata": {
    "collapsed": false
   }
  },
  {
   "cell_type": "code",
   "execution_count": null,
   "outputs": [],
   "source": [
    "arr=np.array([1,2,3,4,5,6,7,50])\n",
    "path=\"data\\\\\"\n",
    "tests = QA_QC_kern(porosity_open=arr,file_path=path)\n",
    "tests.start_tests([\"test_open_porosity\"])\n",
    "tests.generate_test_report()"
   ],
   "metadata": {
    "collapsed": false
   }
  },
  {
   "cell_type": "code",
   "execution_count": null,
   "outputs": [],
   "source": [
    "arr=np.array([1,2,3,4,5,6,7,13])\n",
    "path=\"data\\\\\"\n",
    "tests = QA_QC_kern(porosity_open=arr,file_path=path)\n",
    "tests.start_tests([\"test_open_porosity\"])\n",
    "tests.generate_test_report()"
   ],
   "metadata": {
    "collapsed": false
   }
  },
  {
   "cell_type": "code",
   "execution_count": null,
   "outputs": [],
   "source": [],
   "metadata": {
    "collapsed": false
   }
  },
  {
   "cell_type": "code",
   "execution_count": null,
   "outputs": [],
   "source": [
    "arr=np.array([1,2,3,4,5,6,7,50])\n",
    "path=\"data\\\\\"\n",
    "tests = QA_QC_kern(poroHe=arr,file_path=path)\n",
    "tests.start_tests([\"test_porosity_HE\"])\n",
    "tests.generate_test_report()"
   ],
   "metadata": {
    "collapsed": false
   }
  },
  {
   "cell_type": "code",
   "execution_count": null,
   "outputs": [],
   "source": [
    "arr=np.array([1,2,3,4,5,6,7,13])\n",
    "path=\"data\\\\\"\n",
    "tests = QA_QC_kern(poroHe=arr,file_path=path)\n",
    "tests.start_tests([\"test_porosity_HE\"])\n",
    "tests.generate_test_report()"
   ],
   "metadata": {
    "collapsed": false
   }
  },
  {
   "cell_type": "code",
   "execution_count": null,
   "outputs": [],
   "source": [],
   "metadata": {
    "collapsed": false
   }
  },
  {
   "cell_type": "code",
   "execution_count": null,
   "outputs": [],
   "source": [
    "arr=np.array([1,2,3,4,5,6,7,50])\n",
    "path=\"data\\\\\"\n",
    "tests = QA_QC_kern(poroTBU=arr,file_path=path)\n",
    "tests.start_tests([\"test_porosity_TBU\"])\n",
    "tests.generate_test_report()"
   ],
   "metadata": {
    "collapsed": false
   }
  },
  {
   "cell_type": "code",
   "execution_count": null,
   "outputs": [],
   "source": [
    "arr=np.array([1,2,3,4,5,6,7,13])\n",
    "path=\"data\\\\\"\n",
    "tests = QA_QC_kern(poroTBU=arr,file_path=path)\n",
    "tests.start_tests([\"test_porosity_TBU\"])\n",
    "tests.generate_test_report()"
   ],
   "metadata": {
    "collapsed": false
   }
  },
  {
   "cell_type": "code",
   "execution_count": null,
   "outputs": [],
   "source": [],
   "metadata": {
    "collapsed": false
   }
  },
  {
   "cell_type": "code",
   "execution_count": null,
   "outputs": [],
   "source": [
    "arr=np.array([1,2,3,4,5,6,7,50])\n",
    "path=\"data\\\\\"\n",
    "tests = QA_QC_kern(porosity_kerosine=arr,file_path=path)\n",
    "tests.start_tests([\"test_porosity_kerosine\"])\n",
    "tests.generate_test_report()"
   ],
   "metadata": {
    "collapsed": false
   }
  },
  {
   "cell_type": "code",
   "execution_count": null,
   "outputs": [],
   "source": [
    "arr=np.array([1,2,3,4,5,6,7,13])\n",
    "path=\"data\\\\\"\n",
    "tests = QA_QC_kern(porosity_kerosine=arr,file_path=path)\n",
    "tests.start_tests([\"test_porosity_kerosine\"])\n",
    "tests.generate_test_report()"
   ],
   "metadata": {
    "collapsed": false
   }
  },
  {
   "cell_type": "code",
   "execution_count": null,
   "outputs": [],
   "source": [],
   "metadata": {
    "collapsed": false
   }
  },
  {
   "cell_type": "code",
   "execution_count": null,
   "outputs": [],
   "source": [
    "arr=np.array([1,2,3,4,5,6,7,50])\n",
    "path=\"data\\\\\"\n",
    "tests = QA_QC_kern(porosity_effective=arr,file_path=path)\n",
    "tests.start_tests([\"test_porosity_effective\"])\n",
    "tests.generate_test_report()"
   ],
   "metadata": {
    "collapsed": false
   }
  },
  {
   "cell_type": "code",
   "execution_count": null,
   "outputs": [],
   "source": [
    "arr=np.array([1,2,3,4,5,6,7,13])\n",
    "path=\"data\\\\\"\n",
    "tests = QA_QC_kern(porosity_effective=arr,file_path=path)\n",
    "tests.start_tests([\"test_porosity_effective\"])\n",
    "tests.generate_test_report()"
   ],
   "metadata": {
    "collapsed": false
   }
  },
  {
   "cell_type": "code",
   "execution_count": null,
   "outputs": [],
   "source": [],
   "metadata": {
    "collapsed": false
   }
  },
  {
   "cell_type": "code",
   "execution_count": null,
   "outputs": [],
   "source": [
    "start_time = time.time()\n",
    "df=pd.read_excel(\"data/SwFail(N).xlsx\")\n",
    "arr=df[\"Sw\"].dropna().to_numpy()\n",
    "path=\"data\\\\\"\n",
    "tests = QA_QC_kern(sw=arr,file_path=path)\n",
    "tests.start_tests([\"test_water_saturation\"])\n",
    "tests.generate_test_report()\n",
    "print(\"--- %s seconds ---\" % (time.time() - start_time))"
   ],
   "metadata": {
    "collapsed": false
   }
  },
  {
   "cell_type": "code",
   "execution_count": null,
   "outputs": [],
   "source": [
    "start_time = time.time()\n",
    "df=pd.read_excel(\"data/SwOK(N).xlsx\")\n",
    "arr=df[\"Sw\"].dropna().to_numpy()\n",
    "path=\"data\\\\\"\n",
    "tests = QA_QC_kern(sw=arr,file_path=path, file_name=\"SwOK(N).xlsx\")\n",
    "tests.start_tests([\"test_water_saturation\"])\n",
    "tests.generate_test_report()\n",
    "print(\"--- %s seconds ---\" % (time.time() - start_time))"
   ],
   "metadata": {
    "collapsed": false
   }
  },
  {
   "cell_type": "code",
   "execution_count": null,
   "outputs": [],
   "source": [],
   "metadata": {
    "collapsed": false
   }
  },
  {
   "cell_type": "code",
   "execution_count": null,
   "outputs": [],
   "source": [
    "start_time = time.time()\n",
    "df=pd.read_excel(\"data/SwFail(N).xlsx\")\n",
    "arr=df[\"Sw\"].dropna().to_numpy()\n",
    "path=\"data\\\\\"\n",
    "tests = QA_QC_kern(sw_residual=arr,file_path=path)\n",
    "tests.start_tests([\"test_residual_water_saturation\"])\n",
    "tests.generate_test_report()\n",
    "print(\"--- %s seconds ---\" % (time.time() - start_time))"
   ],
   "metadata": {
    "collapsed": false
   }
  },
  {
   "cell_type": "code",
   "execution_count": null,
   "outputs": [],
   "source": [
    "start_time = time.time()\n",
    "df=pd.read_excel(\"data/SwOK(N).xlsx\")\n",
    "arr=df[\"Sw\"].dropna().to_numpy()\n",
    "path=\"data\\\\\"\n",
    "tests = QA_QC_kern(sw_residual=arr,file_path=path, file_name=\"SwOK(N).xlsx\")\n",
    "tests.start_tests([\"test_residual_water_saturation\"])\n",
    "tests.generate_test_report()\n",
    "print(\"--- %s seconds ---\" % (time.time() - start_time))"
   ],
   "metadata": {
    "collapsed": false
   }
  },
  {
   "cell_type": "code",
   "execution_count": null,
   "outputs": [],
   "source": [],
   "metadata": {
    "collapsed": false
   }
  },
  {
   "cell_type": "code",
   "execution_count": null,
   "outputs": [],
   "source": [
    "start_time = time.time()\n",
    "df=pd.read_excel(\"data/PermeabilityKlinkenFail(R).xlsx\")\n",
    "arr=df[\"PermKlinken\"].dropna().to_numpy()\n",
    "path=\"data\\\\\"\n",
    "tests = QA_QC_kern(klickenberg_permeability=arr,file_path=path)\n",
    "tests.start_tests([\"test_klickenberg_permeability\"])\n",
    "tests.generate_test_report()\n",
    "print(\"--- %s seconds ---\" % (time.time() - start_time))"
   ],
   "metadata": {
    "collapsed": false
   }
  },
  {
   "cell_type": "code",
   "execution_count": null,
   "outputs": [],
   "source": [
    "start_time = time.time()\n",
    "df=pd.read_excel(\"data/PermeabilityKlinkenOK(R).xlsx\")\n",
    "arr=df[\"PermKlinken\"].dropna().to_numpy()\n",
    "path=\"data\\\\\"\n",
    "tests = QA_QC_kern(klickenberg_permeability=arr,file_path=path)\n",
    "tests.start_tests([\"test_klickenberg_permeability\"])\n",
    "tests.generate_test_report()\n",
    "print(\"--- %s seconds ---\" % (time.time() - start_time))"
   ],
   "metadata": {
    "collapsed": false
   }
  },
  {
   "cell_type": "code",
   "execution_count": null,
   "outputs": [],
   "source": [],
   "metadata": {
    "collapsed": false
   }
  },
  {
   "cell_type": "code",
   "execution_count": null,
   "outputs": [],
   "source": [
    "start_time = time.time()\n",
    "df=pd.read_excel(\"data/PermeabilityParallelFail(L).xlsx\")\n",
    "arr=df[\"Permeabilty, mkm2\"].dropna().to_numpy()\n",
    "path=\"data\\\\\"\n",
    "tests = QA_QC_kern(parallel_permeability=arr,file_path=path)\n",
    "tests.start_tests([\"test_parallel_permeability\"])\n",
    "tests.generate_test_report()\n",
    "print(\"--- %s seconds ---\" % (time.time() - start_time))"
   ],
   "metadata": {
    "collapsed": false
   }
  },
  {
   "cell_type": "code",
   "execution_count": null,
   "outputs": [],
   "source": [
    "start_time = time.time()\n",
    "df=pd.read_excel(\"data/PermeabilityParallelOK(L).xlsx\")\n",
    "arr=df[\"Permeabilty, mkm2\"].dropna().to_numpy()\n",
    "path=\"data\\\\\"\n",
    "tests = QA_QC_kern(parallel_permeability=arr,file_path=path)\n",
    "tests.start_tests([\"test_parallel_permeability\"])\n",
    "tests.generate_test_report()\n",
    "print(\"--- %s seconds ---\" % (time.time() - start_time))"
   ],
   "metadata": {
    "collapsed": false
   }
  },
  {
   "cell_type": "code",
   "execution_count": null,
   "outputs": [],
   "source": [],
   "metadata": {
    "collapsed": false
   }
  },
  {
   "cell_type": "code",
   "execution_count": null,
   "outputs": [],
   "source": [
    "start_time = time.time()\n",
    "df=pd.read_excel(\"data/PermeabilityEffOK(R).xlsx\")\n",
    "arr=df[\"PermEFF\"].dropna().to_numpy()\n",
    "path=\"data\\\\\"\n",
    "tests = QA_QC_kern(effective_permeability=arr,file_path=path)\n",
    "tests.start_tests([\"test_effective_permeability\"])\n",
    "tests.generate_test_report()\n",
    "print(\"--- %s seconds ---\" % (time.time() - start_time))"
   ],
   "metadata": {
    "collapsed": false
   }
  },
  {
   "cell_type": "code",
   "execution_count": null,
   "outputs": [],
   "source": [
    "start_time = time.time()\n",
    "df=pd.read_excel(\"data/PermeabilityEffFail(R).xlsx\")\n",
    "arr=df[\"PermEFF\"].dropna().to_numpy()\n",
    "path=\"data\\\\\"\n",
    "tests = QA_QC_kern(effective_permeability=arr,file_path=path)\n",
    "tests.start_tests([\"test_effective_permeability\"])\n",
    "tests.generate_test_report()\n",
    "print(\"--- %s seconds ---\" % (time.time() - start_time))"
   ],
   "metadata": {
    "collapsed": false
   }
  },
  {
   "cell_type": "code",
   "execution_count": null,
   "outputs": [],
   "source": [],
   "metadata": {
    "collapsed": false
   }
  },
  {
   "cell_type": "code",
   "execution_count": null,
   "outputs": [],
   "source": [
    "start_time = time.time()\n",
    "df=pd.read_excel(\"data/PermeabilityWOK(R).xlsx\")\n",
    "arr=df[\"PermW\"].dropna().to_numpy()\n",
    "path=\"data\\\\\"\n",
    "tests = QA_QC_kern(water_permeability=arr,file_path=path)\n",
    "tests.start_tests([\"test_water_permeability\"])\n",
    "tests.generate_test_report()\n",
    "print(\"--- %s seconds ---\" % (time.time() - start_time))"
   ],
   "metadata": {
    "collapsed": false
   }
  },
  {
   "cell_type": "code",
   "execution_count": null,
   "outputs": [],
   "source": [
    "start_time = time.time()\n",
    "df=pd.read_excel(\"data/PermeabilityWFail(R).xlsx\")\n",
    "arr=df[\"PermW\"].dropna().to_numpy()\n",
    "path=\"data\\\\\"\n",
    "tests = QA_QC_kern(water_permeability=arr,file_path=path)\n",
    "tests.start_tests([\"test_water_permeability\"])\n",
    "tests.generate_test_report()\n",
    "print(\"--- %s seconds ---\" % (time.time() - start_time))"
   ],
   "metadata": {
    "collapsed": false
   }
  },
  {
   "cell_type": "code",
   "execution_count": null,
   "outputs": [],
   "source": [],
   "metadata": {
    "collapsed": false
   }
  },
  {
   "cell_type": "code",
   "execution_count": null,
   "outputs": [],
   "source": [
    "start_time = time.time()\n",
    "df=pd.read_excel(\"data/NumbersFail.xlsx\")\n",
    "arr=df[\"dT, km/s\"].dropna().to_numpy()\n",
    "path=\"data\\\\\"\n",
    "tests = QA_QC_kern(water_permeability=arr,file_path=path)\n",
    "tests.start_tests([\"test_water_permeability\"])\n",
    "tests.generate_test_report()\n",
    "print(\"--- %s seconds ---\" % (time.time() - start_time))"
   ],
   "metadata": {
    "collapsed": false
   }
  },
  {
   "cell_type": "code",
   "execution_count": null,
   "outputs": [],
   "source": [
    "start_time = time.time()\n",
    "df=pd.read_excel(\"data/NumbersOK.xlsx\")\n",
    "arr=df[\"dT, km/s\"].dropna().to_numpy()\n",
    "path=\"data\\\\\"\n",
    "tests = QA_QC_kern(water_permeability=arr,file_path=path)\n",
    "tests.start_tests([\"test_water_permeability\"])\n",
    "tests.generate_test_report()\n",
    "print(\"--- %s seconds ---\" % (time.time() - start_time))"
   ],
   "metadata": {
    "collapsed": false
   }
  },
  {
   "cell_type": "code",
   "execution_count": null,
   "outputs": [],
   "source": [],
   "metadata": {
    "collapsed": false
   }
  },
  {
   "cell_type": "code",
   "execution_count": null,
   "outputs": [],
   "source": [
    "start_time = time.time()\n",
    "df=pd.read_excel(\"data/MonotonousOK(F).xlsx\")\n",
    "arr=df[\"Depth, m\"].dropna().to_numpy()\n",
    "path=\"data\\\\\"\n",
    "tests = QA_QC_kern(md=arr,file_path=path)\n",
    "tests.start_tests([\"test_monotony\"])\n",
    "tests.generate_test_report()\n",
    "print(\"--- %s seconds ---\" % (time.time() - start_time))"
   ],
   "metadata": {
    "collapsed": false
   }
  },
  {
   "cell_type": "code",
   "execution_count": null,
   "outputs": [],
   "source": [
    "start_time = time.time()\n",
    "df=pd.read_excel(\"data/MonotonousFail(F).xlsx\")\n",
    "arr=df[\"Depth, m\"].dropna().to_numpy()\n",
    "path=\"data\\\\\"\n",
    "tests = QA_QC_kern(md=arr,file_path=path)\n",
    "tests.start_tests([\"test_monotony\"])\n",
    "tests.generate_test_report()\n",
    "print(\"--- %s seconds ---\" % (time.time() - start_time))"
   ],
   "metadata": {
    "collapsed": false
   }
  },
  {
   "cell_type": "code",
   "execution_count": null,
   "outputs": [],
   "source": [],
   "metadata": {
    "collapsed": false
   }
  }
 ],
 "metadata": {
  "kernelspec": {
   "display_name": "Python 3",
   "language": "python",
   "name": "python3"
  },
  "language_info": {
   "codemirror_mode": {
    "name": "ipython",
    "version": 2
   },
   "file_extension": ".py",
   "mimetype": "text/x-python",
   "name": "python",
   "nbconvert_exporter": "python",
   "pygments_lexer": "ipython2",
   "version": "2.7.6"
  }
 },
 "nbformat": 4,
 "nbformat_minor": 0
}
