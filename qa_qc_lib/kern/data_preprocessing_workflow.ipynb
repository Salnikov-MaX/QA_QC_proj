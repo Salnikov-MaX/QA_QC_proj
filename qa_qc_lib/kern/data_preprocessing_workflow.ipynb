{
 "cells": [
  {
   "cell_type": "code",
   "execution_count": 1,
   "metadata": {
    "collapsed": true,
    "ExecuteTime": {
     "end_time": "2023-09-04T17:59:37.302899300Z",
     "start_time": "2023-09-04T17:59:34.655469500Z"
    }
   },
   "outputs": [
    {
     "name": "stdout",
     "output_type": "stream",
     "text": [
      "{'Глубина отбора, м': ['test_monotony'], 'Открытая пористость в пластовых условиях': ['test_porosity_TBU'], 'Открытая пористость по керосину': ['test_porosity_kerosine'], 'Примечание': ['test_table_notes']}\n"
     ]
    }
   ],
   "source": [
    "from qa_qc_lib.kern.data_preprocessing import DataPreprocessing"
   ]
  },
  {
   "cell_type": "code",
   "execution_count": 2,
   "outputs": [
    {
     "name": "stdout",
     "output_type": "stream",
     "text": [
      "{'Глубина отбора, м': ['test_monotony'], 'Открытая пористость в пластовых условиях': ['test_porosity_TBU'], 'Открытая пористость по керосину': ['test_porosity_kerosine']}\n"
     ]
    }
   ],
   "source": [
    "dic = {\n",
    "    # \"Ск\": \"Carbonate\",\n",
    "    # \"Эффективная проницаемость\": \"PermEf\",\n",
    "    \"59PObraz.xlsx\": \"MD\",\n",
    "    \"Direction.xlsx\": \"Глубина\",\n",
    "    'Плотность абсолютно сухого образца': \"Плотность\",\n",
    "    # \"Параметр пористости\": \"RI\",\n",
    "    # \"Направление\": \"Направление\",\n",
    "    \"Лабораторный номер\": \"Ном\",\n",
    "    \"Открытая пористость по жидкости\": \"Porosity (open)\",\n",
    "    \"Открытая пористость по газу\": \"PoroHe\",\n",
    "    \"Открытая пористость в пластовых условиях\": \"Porosity (open)\",\n",
    "    \"Открытая пористость по керосину\": \"Porosity (kerosine)\",\n",
    "    # \"Кпр_газ(гелий)\": \"Permeability (perpendicular)\",\n",
    "    # \"Параметр пористости\": \"So\",\n",
    "    # \"So\": \"So\",\n",
    "    # \"Кво\": \"Sw\",\n",
    "    # \"Плотность абсолютно сухого образца\": \"Density, g/cc\",\n",
    "    # \"Рн\": \"PoroTBU\",\n",
    "    # \"Sw\": \"Sw\",\n",
    "    # \"Газопроницаемость по Кликенбергу\": \"PoroTBU\",\n",
    "    \"Подошва интервала отбора\": \"Bottom\",\n",
    "    \"Кровля интервала отбора\": \"Top\",\n",
    "    \"Вынос керна, м\": \"Vynos, m\",\n",
    "    \"Газопроницаемость, mkm2 (parallel)\": \"Permeability, mkm2 (parallel)\",\n",
    "    # \"Вынос керна, %\": \"Vynos, %\",\n",
    "    # \"Газопроницаемость Кликенбергу\": \"PoroTBU\",\n",
    "    # \"Объемная плотность\": \"PoroTBU\",\n",
    "    # \"Минералогическая плотность\": \"PoroTBU\",\n",
    "    # \"Параметр насыщения\": \"PoroTBU\",\n",
    "    # \"Газопроницаемость по воде\": \"PoroTBU\",\n",
    "    # \"Плотность максимально увлажненного образца\": \"PoroTBU\",\n",
    "    # \"Упругие свойства\": \"PoroTBU\",\n",
    "    \"Примечание\": \"Примечание\"\n",
    "}\n",
    "\n",
    "file_modal = DataPreprocessing()\n",
    "data_folder = \"C:\\\\Users\\\\nikit\\PycharmProjects\\\\QA_QC_proj\\\\qa_qc_lib\\\\kern\\\\data\"\n",
    "columns_mapping = {\n",
    "    \"Глубина отбора, м\": [\"C:\\\\Users\\\\nikit\\PycharmProjects\\\\QA_QC_proj\\\\qa_qc_lib\\\\kern\\\\data\\\\59PObraz.xlsx->MD\"],\n",
    "    \"Открытая пористость в пластовых условиях\": [\n",
    "        \"C:\\\\Users\\\\nikit\\PycharmProjects\\\\QA_QC_proj\\\\qa_qc_lib\\\\kern\\\\data\\\\59PObraz.xlsx->Porosity (open)\"],\n",
    "    \"Ск\": [\n",
    "        \"C:\\\\Users\\\\nikit\\PycharmProjects\\\\QA_QC_proj\\\\qa_qc_lib\\\\kern\\\\data\\\\59PObraz.xlsx->Porosity (total)\"],\n",
    "    \"Открытая пористость по керосину\":[\n",
    "        \"C:\\\\Users\\\\nikit\\PycharmProjects\\\\QA_QC_proj\\\\qa_qc_lib\\\\kern\\\\data\\\\Direction.xlsx->Ск\"\n",
    "    ],\n",
    "     \"Примечание\":[\n",
    "        \"C:\\\\Users\\\\nikit\\PycharmProjects\\\\QA_QC_proj\\\\qa_qc_lib\\\\kern\\\\data\\\\Direction.xlsx->Примечание\"\n",
    "    ]\n",
    "}\n",
    "test=file_modal.process_data(columns_mapping)\n",
    "print(test)"
   ],
   "metadata": {
    "collapsed": false,
    "ExecuteTime": {
     "end_time": "2023-09-04T16:44:28.664506700Z",
     "start_time": "2023-09-04T16:44:28.444512200Z"
    }
   }
  },
  {
   "cell_type": "code",
   "execution_count": 3,
   "outputs": [],
   "source": [
    "file_modal.start_tests(test)\n",
    "file_modal.save_to_excel()"
   ],
   "metadata": {
    "collapsed": false,
    "ExecuteTime": {
     "end_time": "2023-09-04T16:44:32.537775100Z",
     "start_time": "2023-09-04T16:44:32.268259700Z"
    }
   }
  },
  {
   "cell_type": "code",
   "execution_count": null,
   "outputs": [],
   "source": [],
   "metadata": {
    "collapsed": false
   }
  }
 ],
 "metadata": {
  "kernelspec": {
   "display_name": "Python 3",
   "language": "python",
   "name": "python3"
  },
  "language_info": {
   "codemirror_mode": {
    "name": "ipython",
    "version": 2
   },
   "file_extension": ".py",
   "mimetype": "text/x-python",
   "name": "python",
   "nbconvert_exporter": "python",
   "pygments_lexer": "ipython2",
   "version": "2.7.6"
  }
 },
 "nbformat": 4,
 "nbformat_minor": 0
}
