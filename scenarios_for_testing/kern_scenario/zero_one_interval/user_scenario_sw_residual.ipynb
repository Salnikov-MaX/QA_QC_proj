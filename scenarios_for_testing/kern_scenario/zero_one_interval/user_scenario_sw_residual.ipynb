{
 "cells": [
  {
   "cell_type": "code",
   "execution_count": 5,
   "metadata": {
    "collapsed": true,
    "pycharm": {
     "name": "#%%\n"
    }
   },
   "outputs": [],
   "source": [
    "import numpy as np\n",
    "from qa_qc_lib.tests.kern_tests.kern import QA_QC_kern"
   ]
  },
  {
   "cell_type": "code",
   "execution_count": 6,
   "outputs": [
    {
     "name": "stdout",
     "output_type": "stream",
     "text": [
      "     Тест пройден успешно.\n",
      "     Все данные лежат в интервале от 0 до 1\n"
     ]
    }
   ],
   "source": [
    "x=np.array([0.1,0.1,0.2,0.4,1])\n",
    "tests = QA_QC_kern(sw_residual=x,file_path=\"test/test\")\n",
    "tests.test_residual_water_saturation()\n",
    "tests.generate_test_report()"
   ],
   "metadata": {
    "collapsed": false,
    "pycharm": {
     "name": "#%%\n"
    }
   }
  },
  {
   "cell_type": "code",
   "execution_count": 7,
   "outputs": [
    {
     "name": "stdout",
     "output_type": "stream",
     "text": [
      "     Тест не пройден.\n",
      "     Данные не лежат в интервале от 0 до1\n"
     ]
    }
   ],
   "source": [
    "x=np.array([0.1,0.1,0.2,0.4,0])\n",
    "tests = QA_QC_kern(sw_residual=x,file_path=\"test/test\")\n",
    "tests.test_residual_water_saturation()\n",
    "tests.generate_test_report()"
   ],
   "metadata": {
    "collapsed": false,
    "pycharm": {
     "name": "#%%\n"
    }
   }
  },
  {
   "cell_type": "code",
   "execution_count": 8,
   "outputs": [
    {
     "name": "stdout",
     "output_type": "stream",
     "text": [
      "     Тест не пройден.\n",
      "     Данные не лежат в интервале от 0 до1\n"
     ]
    }
   ],
   "source": [
    "x=np.array([0.1,0.1,0.2,0.4,4])\n",
    "tests = QA_QC_kern(sw_residual=x,file_path=\"test/test\")\n",
    "tests.test_residual_water_saturation()\n",
    "tests.generate_test_report()"
   ],
   "metadata": {
    "collapsed": false,
    "pycharm": {
     "name": "#%%\n"
    }
   }
  }
 ],
 "metadata": {
  "kernelspec": {
   "display_name": "Python 3",
   "language": "python",
   "name": "python3"
  },
  "language_info": {
   "codemirror_mode": {
    "name": "ipython",
    "version": 2
   },
   "file_extension": ".py",
   "mimetype": "text/x-python",
   "name": "python",
   "nbconvert_exporter": "python",
   "pygments_lexer": "ipython2",
   "version": "2.7.6"
  }
 },
 "nbformat": 4,
 "nbformat_minor": 0
}