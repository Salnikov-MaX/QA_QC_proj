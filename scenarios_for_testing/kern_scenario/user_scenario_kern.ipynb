{
 "cells": [
  {
   "cell_type": "code",
   "execution_count": 4,
   "outputs": [],
   "source": [
    "import numpy as np\n",
    "from qa_qc_lib.tests.kern_tests.kern import QA_QC_kern"
   ],
   "metadata": {
    "collapsed": false,
    "pycharm": {
     "name": "#%%\n"
    }
   }
  },
  {
   "cell_type": "code",
   "execution_count": 5,
   "outputs": [
    {
     "name": "stdout",
     "output_type": "stream",
     "text": [
      "\n",
      "     Тест не пройден.\n",
      "     Нарушена монотонность глубины\n",
      "------------------------------------------------------------------------------------\n"
     ]
    }
   ],
   "source": [
    "a=np.array([1,1,1,1])\n",
    "tests = QA_QC_kern(depth=a, file_path=\"test/test\")\n",
    "tests.start_tests([\"test_monotony\"])\n",
    "tests.generate_test_report()"
   ],
   "metadata": {
    "collapsed": false,
    "pycharm": {
     "name": "#%%\n"
    }
   }
  },
  {
   "cell_type": "code",
   "execution_count": 8,
   "outputs": [
    {
     "name": "stdout",
     "output_type": "stream",
     "text": [
      "\n",
      "     Тест не был запущен.\n",
      "     Передан не массив\n",
      "------------------------------------------------------------------------------------\n"
     ]
    }
   ],
   "source": [
    "a=None\n",
    "tests = QA_QC_kern(depth=a, file_path=\"test/test\")\n",
    "tests.start_tests([\"test_monotony\"])\n",
    "tests.generate_test_report()"
   ],
   "metadata": {
    "collapsed": false,
    "pycharm": {
     "name": "#%%\n"
    }
   }
  },
  {
   "cell_type": "code",
   "execution_count": 9,
   "outputs": [
    {
     "name": "stdout",
     "output_type": "stream",
     "text": [
      "\n",
      "     Тест не был запущен.\n",
      "     Передан пустой массив\n",
      "------------------------------------------------------------------------------------\n"
     ]
    }
   ],
   "source": [
    "a=np.array([])\n",
    "tests = QA_QC_kern(depth=a, file_path=\"test/test\")\n",
    "tests.start_tests([\"test_monotony\"])\n",
    "tests.generate_test_report()"
   ],
   "metadata": {
    "collapsed": false,
    "pycharm": {
     "name": "#%%\n"
    }
   }
  },
  {
   "cell_type": "code",
   "execution_count": 10,
   "outputs": [
    {
     "name": "stdout",
     "output_type": "stream",
     "text": [
      "\n",
      "     Тест не был запущен.\n",
      "     Содержит nan\n",
      "------------------------------------------------------------------------------------\n"
     ]
    }
   ],
   "source": [
    "a=np.array([1,np.nan,2])\n",
    "tests = QA_QC_kern(depth=a, file_path=\"test/test\")\n",
    "tests.start_tests([\"test_monotony\"])\n",
    "tests.generate_test_report()"
   ],
   "metadata": {
    "collapsed": false,
    "pycharm": {
     "name": "#%%\n"
    }
   }
  },
  {
   "cell_type": "code",
   "execution_count": 11,
   "outputs": [
    {
     "name": "stdout",
     "output_type": "stream",
     "text": [
      "\n",
      "     Тест пройден успешно.\n",
      "     Глубина монотонно возрастает\n",
      "------------------------------------------------------------------------------------\n"
     ]
    }
   ],
   "source": [
    "a=np.array([1,2,3,4,5])\n",
    "tests = QA_QC_kern(depth=a, file_path=\"test/test\")\n",
    "tests.start_tests([\"test_monotony\"])\n",
    "tests.generate_test_report()\n"
   ],
   "metadata": {
    "collapsed": false,
    "pycharm": {
     "name": "#%%\n"
    }
   }
  },
  {
   "cell_type": "code",
   "execution_count": null,
   "outputs": [],
   "source": [],
   "metadata": {
    "collapsed": false,
    "pycharm": {
     "name": "#%%\n"
    }
   }
  }
 ],
 "metadata": {
  "kernelspec": {
   "display_name": "Python 3",
   "language": "python",
   "name": "python3"
  },
  "language_info": {
   "codemirror_mode": {
    "name": "ipython",
    "version": 2
   },
   "file_extension": ".py",
   "mimetype": "text/x-python",
   "name": "python",
   "nbconvert_exporter": "python",
   "pygments_lexer": "ipython2",
   "version": "2.7.6"
  }
 },
 "nbformat": 4,
 "nbformat_minor": 0
}