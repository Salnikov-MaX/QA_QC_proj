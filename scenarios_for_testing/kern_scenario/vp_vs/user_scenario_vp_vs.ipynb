{
 "cells": [
  {
   "cell_type": "code",
   "execution_count": 1,
   "metadata": {
    "collapsed": true,
    "pycharm": {
     "name": "#%%\n"
    }
   },
   "outputs": [],
   "source": [
    "from qa_qc_lib.tests.kern_tests.kern import QA_QC_kern\n",
    "from qa_qc_lib.tests.kern_tests.data_preprocessing_kern import DataPreprocessing"
   ]
  },
  {
   "cell_type": "code",
   "execution_count": 2,
   "outputs": [],
   "source": [
    "file = r\"..\\..\\..\\data\\core_data\\post_test_table.xlsx\"\n",
    "\n",
    "columns_mapping = {\n",
    "    \"Скорость_продольной_волны(Vp)\": r\"..\\..\\..\\data\\core_data\\59PObraz.xlsx->Vp, km/s\",\n",
    "    \"Скважина\": r\"..\\..\\..\\data\\core_data\\59PObraz.xlsx->Well\",\n",
    "    \"MD\": r\"..\\..\\..\\data\\core_data\\59PObraz.xlsx->MD\",\n",
    "}\n",
    "file_modal = DataPreprocessing()\n",
    "test = file_modal.process_data(columns_mapping, file)"
   ],
   "metadata": {
    "collapsed": false,
    "pycharm": {
     "name": "#%%\n"
    }
   }
  },
  {
   "cell_type": "code",
   "execution_count": 3,
   "outputs": [
    {
     "name": "stdout",
     "output_type": "stream",
     "text": [
      "     Тест пройден успешно.\n",
      "     Все данные лежат в интервале от 0.3 до 10 км/с\n"
     ]
    }
   ],
   "source": [
    "file = r\"..\\..\\..\\data\\core_data\\post_test_table.xlsx\"\n",
    "tests = QA_QC_kern(file_path=\"test/test\", data_file_path=file)\n",
    "tests.test_vp()\n",
    "tests.generate_test_report()\n",
    "tests.data_kern.mark_errors()"
   ],
   "metadata": {
    "collapsed": false,
    "pycharm": {
     "name": "#%%\n"
    }
   }
  },
  {
   "cell_type": "code",
   "execution_count": 3,
   "outputs": [],
   "source": [],
   "metadata": {
    "collapsed": false,
    "pycharm": {
     "name": "#%%\n"
    }
   }
  }
 ],
 "metadata": {
  "kernelspec": {
   "display_name": "Python 3",
   "language": "python",
   "name": "python3"
  },
  "language_info": {
   "codemirror_mode": {
    "name": "ipython",
    "version": 2
   },
   "file_extension": ".py",
   "mimetype": "text/x-python",
   "name": "python",
   "nbconvert_exporter": "python",
   "pygments_lexer": "ipython2",
   "version": "2.7.6"
  }
 },
 "nbformat": 4,
 "nbformat_minor": 0
}