{
 "cells": [
  {
   "cell_type": "code",
   "execution_count": null,
   "outputs": [],
   "source": [
    "import numpy as np\n",
    "from qa_qc_lib.tests.kern_tests.kern import QA_QC_kern"
   ],
   "metadata": {
    "collapsed": false,
    "pycharm": {
     "name": "#%%\n"
    }
   }
  },
  {
   "cell_type": "code",
   "execution_count": null,
   "outputs": [],
   "source": [
    "#вариант без удаления точек\n",
    "x=np.array([1, 2, 3, 10, 11])\n",
    "y=np.array([5, 6, 7, 8, 11])\n",
    "tests = QA_QC_kern(file_path=\"test/test\")\n",
    "tests.test_general_dependency_checking(x,y)\n",
    "tests.generate_test_report()"
   ],
   "metadata": {
    "collapsed": false,
    "pycharm": {
     "name": "#%%\n"
    }
   }
  },
  {
   "cell_type": "code",
   "execution_count": null,
   "outputs": [],
   "source": [
    "x=np.array([1,1,1,1])\n",
    "y=np.array([1,1,1,1])\n",
    "tests = QA_QC_kern(file_path=\"test/test\")\n",
    "tests.test_general_dependency_checking(x,y)\n",
    "tests.generate_test_report()"
   ],
   "metadata": {
    "collapsed": false,
    "pycharm": {
     "name": "#%%\n"
    }
   }
  },
  {
   "cell_type": "code",
   "execution_count": null,
   "outputs": [],
   "source": [
    "#вариант с удаление точек\n",
    "x=np.array([1,1,1,1])\n",
    "y=np.array([10,10,10,1])\n",
    "tests = QA_QC_kern(file_path=\"test/test\")\n",
    "tests.test_general_dependency_checking(x,y)\n",
    "tests.generate_test_report()"
   ],
   "metadata": {
    "collapsed": false,
    "pycharm": {
     "name": "#%%\n"
    }
   }
  },
  {
   "cell_type": "code",
   "execution_count": null,
   "outputs": [],
   "source": [],
   "metadata": {
    "collapsed": false,
    "pycharm": {
     "name": "#%%\n"
    }
   }
  }
 ],
 "metadata": {
  "kernelspec": {
   "display_name": "Python 3",
   "language": "python",
   "name": "python3"
  },
  "language_info": {
   "codemirror_mode": {
    "name": "ipython",
    "version": 2
   },
   "file_extension": ".py",
   "mimetype": "text/x-python",
   "name": "python",
   "nbconvert_exporter": "python",
   "pygments_lexer": "ipython2",
   "version": "2.7.6"
  }
 },
 "nbformat": 4,
 "nbformat_minor": 0
}