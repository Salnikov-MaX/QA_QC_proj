{
 "cells": [
  {
   "cell_type": "code",
   "execution_count": 1,
   "metadata": {
    "collapsed": true,
    "pycharm": {
     "name": "#%%\n"
    }
   },
   "outputs": [],
   "source": [
    "from qa_qc_lib.tests.kern_tests.data_preprocessing_kern import DataPreprocessing\n",
    "from qa_qc_lib.tests.kern_tests.data_kern import DataKern"
   ]
  },
  {
   "cell_type": "markdown",
   "source": [
    "Генерация таблицы через DataPreprocessing и фильтрация через DataKern"
   ],
   "metadata": {
    "collapsed": false,
    "pycharm": {
     "name": "#%% md\n"
    }
   }
  },
  {
   "cell_type": "code",
   "execution_count": 2,
   "outputs": [
    {
     "name": "stdout",
     "output_type": "stream",
     "text": [
      "    Кп_откр Скважина\n",
      "0     0.052      58P\n",
      "2     0.018      58P\n",
      "13    0.146      58P\n"
     ]
    }
   ],
   "source": [
    "file = r\"..\\..\\data\\post_test_table.xlsx\"\n",
    "\n",
    "columns_mapping = {\n",
    "    \"Кп_откр\": r\"..\\..\\data\\data_1.xlsx->Porosity (open)\",\n",
    "    \"Скважина\": r\"..\\..\\data\\data_1.xlsx->Well\",\n",
    "    \"MD\": r\"..\\..\\data\\data_1.xlsx->MD\",\n",
    "}\n",
    "file_modal = DataPreprocessing()\n",
    "test = file_modal.process_data(columns_mapping)\n",
    "filters = [\n",
    "{\n",
    "\"name\": \"Скважина\",\n",
    "\"value\": \"58P\",\n",
    "\"operation\": \"=\"\n",
    "},\n",
    "]\n",
    "data_kern = DataKern(file_path=file)\n",
    "print(data_kern.get_attributes([\"Кп_откр\",\"Скважина\"], filters))"
   ],
   "metadata": {
    "collapsed": false,
    "pycharm": {
     "name": "#%%\n"
    }
   }
  },
  {
   "cell_type": "code",
   "execution_count": 3,
   "outputs": [
    {
     "name": "stdout",
     "output_type": "stream",
     "text": [
      "   Кп_откр      MD\n",
      "1    0.053  2879.4\n"
     ]
    }
   ],
   "source": [
    "\n",
    "\n",
    "file = r\"..\\..\\data\\post_test_table.xlsx\"\n",
    "filters = [\n",
    "    {\n",
    "    \"name\": \"MD\",\n",
    "    \"value\": 2879.85,\n",
    "    \"operation\": \"<\"\n",
    "},\n",
    "    {\n",
    "    \"name\": \"MD\",\n",
    "    \"value\": 2878.55,\n",
    "    \"operation\": \">\"\n",
    "},\n",
    "]\n",
    "data_kern = DataKern(file_path=file)\n",
    "print(data_kern.get_attributes([\"Кп_откр\",\"MD\"], filters))"
   ],
   "metadata": {
    "collapsed": false,
    "pycharm": {
     "name": "#%%\n"
    }
   }
  },
  {
   "cell_type": "code",
   "execution_count": 4,
   "outputs": [
    {
     "name": "stdout",
     "output_type": "stream",
     "text": [
      "   Кп_откр       MD\n",
      "0    0.052  2878.55\n",
      "1    0.053  2879.40\n",
      "2    0.018  2879.85\n"
     ]
    }
   ],
   "source": [
    "\n",
    "\n",
    "file = r\"..\\..\\data\\post_test_table.xlsx\"\n",
    "filters = [\n",
    "    {\n",
    "    \"name\": \"MD\",\n",
    "    \"value\": 2879.85,\n",
    "    \"operation\": \"<=\"\n",
    "},\n",
    "    {\n",
    "    \"name\": \"MD\",\n",
    "    \"value\": 2878.55,\n",
    "    \"operation\": \">=\"\n",
    "},\n",
    "]\n",
    "data_kern = DataKern(file_path=file)\n",
    "print(data_kern.get_attributes([\"Кп_откр\",\"MD\"], filters))"
   ],
   "metadata": {
    "collapsed": false,
    "pycharm": {
     "name": "#%%\n"
    }
   }
  },
  {
   "cell_type": "code",
   "execution_count": 5,
   "outputs": [
    {
     "name": "stdout",
     "output_type": "stream",
     "text": [
      "    Кп_откр Скважина\n",
      "0     0.052      58P\n",
      "2     0.018      58P\n",
      "13    0.146      58P\n"
     ]
    }
   ],
   "source": [
    "filters = [\n",
    "{\n",
    "\"name\": \"Скважина\",\n",
    "\"value\": \"59P\",\n",
    "\"operation\": \"!=\"\n",
    "},\n",
    "]\n",
    "file = r\"..\\..\\data\\post_test_table.xlsx\"\n",
    "data_kern = DataKern(file_path=file)\n",
    "print(data_kern.get_attributes([\"Кп_откр\",\"Скважина\"], filters))"
   ],
   "metadata": {
    "collapsed": false,
    "pycharm": {
     "name": "#%%\n"
    }
   }
  },
  {
   "cell_type": "code",
   "execution_count": 6,
   "outputs": [
    {
     "name": "stdout",
     "output_type": "stream",
     "text": [
      "   Кп_откр       MD\n",
      "2    0.018  2879.85\n"
     ]
    }
   ],
   "source": [
    "filters = [\n",
    "{\n",
    "\"name\": \"MD\",\n",
    "\"value\": 2879.85,\n",
    "\"operation\": \"=\"\n",
    "},\n",
    "]\n",
    "file = r\"..\\..\\data\\post_test_table.xlsx\"\n",
    "data_kern = DataKern(file_path=file)\n",
    "print(data_kern.get_attributes([\"Кп_откр\",\"MD\"], filters))"
   ],
   "metadata": {
    "collapsed": false,
    "pycharm": {
     "name": "#%%\n"
    }
   }
  },
  {
   "cell_type": "code",
   "execution_count": 6,
   "outputs": [],
   "source": [],
   "metadata": {
    "collapsed": false,
    "pycharm": {
     "name": "#%%\n"
    }
   }
  }
 ],
 "metadata": {
  "kernelspec": {
   "display_name": "Python 3",
   "language": "python",
   "name": "python3"
  },
  "language_info": {
   "codemirror_mode": {
    "name": "ipython",
    "version": 2
   },
   "file_extension": ".py",
   "mimetype": "text/x-python",
   "name": "python",
   "nbconvert_exporter": "python",
   "pygments_lexer": "ipython2",
   "version": "2.7.6"
  }
 },
 "nbformat": 4,
 "nbformat_minor": 0
}
