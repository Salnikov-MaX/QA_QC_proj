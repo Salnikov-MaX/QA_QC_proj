{
 "cells": [
  {
   "cell_type": "code",
   "execution_count": null,
   "outputs": [],
   "source": [
    "from qa_qc_lib.tests.kern_tests.kern import QA_QC_kern\n",
    "from qa_qc_lib.tests.kern_tests.data_preprocessing_kern import DataPreprocessing"
   ],
   "metadata": {
    "collapsed": false,
    "pycharm": {
     "name": "#%%\n"
    }
   }
  },
  {
   "cell_type": "code",
   "execution_count": null,
   "outputs": [],
   "source": [
    "file = r\"..\\..\\data\\post_test_table.xlsx\"\n",
    "\n",
    "columns_mapping = {\n",
    "    \"Кп_откр\": [r\"..\\..\\..\\data\\data_final_kern.xlsx->Кп_откр\"],\n",
    "    \"Скважина\": [r\"..\\..\\..\\data\\data_final_kern.xlsx->Скважина\"],\n",
    "    \"MD\": [r\"..\\..\\..\\data\\data_final_kern.xlsx->MD\"],\n",
    "}\n",
    "file_modal = DataPreprocessing()\n",
    "test = file_modal.process_data(columns_mapping)"
   ],
   "metadata": {
    "collapsed": false,
    "pycharm": {
     "name": "#%%\n"
    }
   }
  },
  {
   "cell_type": "code",
   "execution_count": null,
   "outputs": [],
   "source": [
    "filters = [\n",
    "{\n",
    "\"name\": \"Скважина\",\n",
    "\"value\": \"5144PL\",\n",
    "\"operation\": \"=\"\n",
    "},\n",
    "]\n",
    "tests = QA_QC_kern(file_path=\"test/test\")\n",
    "tests.test_porosity_open(filters=filters)\n",
    "tests.generate_test_report()"
   ],
   "metadata": {
    "collapsed": false,
    "pycharm": {
     "name": "#%%\n"
    }
   }
  },
  {
   "cell_type": "code",
   "execution_count": null,
   "outputs": [],
   "source": [
    "filters = [\n",
    "{\n",
    "\"name\": \"Скважина\",\n",
    "\"value\": \"9281PL\",\n",
    "\"operation\": \"=\"\n",
    "},\n",
    "]\n",
    "tests = QA_QC_kern(file_path=\"test/test\")\n",
    "tests.test_porosity_open(filters=filters)\n",
    "tests.generate_test_report()"
   ],
   "metadata": {
    "collapsed": false,
    "pycharm": {
     "name": "#%%\n"
    }
   }
  },
  {
   "cell_type": "code",
   "execution_count": null,
   "outputs": [],
   "source": [
    "filters = [\n",
    "{\n",
    "\"name\": \"MD\",\n",
    "\"value\": 2879.85,\n",
    "\"operation\": \"<=\"\n",
    "},\n",
    "]\n",
    "tests = QA_QC_kern(file_path=\"test/test\")\n",
    "tests.test_porosity_open(filters=filters)\n",
    "tests.generate_test_report()"
   ],
   "metadata": {
    "collapsed": false,
    "pycharm": {
     "name": "#%%\n"
    }
   }
  },
  {
   "cell_type": "code",
   "execution_count": null,
   "outputs": [],
   "source": [],
   "metadata": {
    "collapsed": false,
    "pycharm": {
     "name": "#%%\n"
    }
   }
  }
 ],
 "metadata": {
  "kernelspec": {
   "display_name": "Python 3",
   "language": "python",
   "name": "python3"
  },
  "language_info": {
   "codemirror_mode": {
    "name": "ipython",
    "version": 2
   },
   "file_extension": ".py",
   "mimetype": "text/x-python",
   "name": "python",
   "nbconvert_exporter": "python",
   "pygments_lexer": "ipython2",
   "version": "2.7.6"
  }
 },
 "nbformat": 4,
 "nbformat_minor": 0
}