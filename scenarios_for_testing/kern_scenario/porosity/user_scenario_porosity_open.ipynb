{
 "cells": [
  {
   "cell_type": "code",
   "execution_count": 6,
   "metadata": {
    "collapsed": true,
    "pycharm": {
     "name": "#%%\n"
    }
   },
   "outputs": [],
   "source": [
    "import numpy as np\n",
    "from qa_qc_lib.tests.kern_tests.kern import QA_QC_kern"
   ]
  },
  {
   "cell_type": "code",
   "execution_count": 7,
   "outputs": [
    {
     "name": "stdout",
     "output_type": "stream",
     "text": [
      "     Тест не пройден.\n",
      "     Данные не лежат в интервале от 0 до 47.6\n",
      "     Тест не пройден.\n",
      "     Данные не лежат в интервале от 0 до 47.6\n"
     ]
    }
   ],
   "source": [
    "x=np.array([0.43,0.3,4])\n",
    "tests = QA_QC_kern(porosity_open=x,file_path=\"test/test\")\n",
    "tests.test_porosity_open()\n",
    "tests.generate_test_report()"
   ],
   "metadata": {
    "collapsed": false,
    "pycharm": {
     "name": "#%%\n"
    }
   }
  },
  {
   "cell_type": "code",
   "execution_count": 8,
   "outputs": [
    {
     "name": "stdout",
     "output_type": "stream",
     "text": [
      "     Тест не пройден.\n",
      "     Данные не лежат в интервале от 0 до 47.6\n",
      "     Тест не пройден.\n",
      "     Данные не лежат в интервале от 0 до 47.6\n"
     ]
    }
   ],
   "source": [
    "x=np.array([0.43,0.3,0.5])\n",
    "tests = QA_QC_kern(porosity_open=x,file_path=\"test/test\")\n",
    "tests.test_porosity_open()\n",
    "tests.generate_test_report()"
   ],
   "metadata": {
    "collapsed": false,
    "pycharm": {
     "name": "#%%\n"
    }
   }
  },
  {
   "cell_type": "code",
   "execution_count": 9,
   "outputs": [
    {
     "name": "stdout",
     "output_type": "stream",
     "text": [
      "     Тест пройден успешно.\n",
      "     Все данные лежат в интервале от 0 до 47.6\n",
      "     Тест пройден успешно.\n",
      "     Все данные лежат в интервале от 0 до 47.6\n"
     ]
    }
   ],
   "source": [
    "x=np.array([43,33,0.5])\n",
    "tests = QA_QC_kern(porosity_open=x,file_path=\"test/test\")\n",
    "tests.test_porosity_open()\n",
    "tests.generate_test_report()"
   ],
   "metadata": {
    "collapsed": false,
    "pycharm": {
     "name": "#%%\n"
    }
   }
  },
  {
   "cell_type": "code",
   "execution_count": 10,
   "outputs": [
    {
     "name": "stdout",
     "output_type": "stream",
     "text": [
      "     Тест пройден успешно.\n",
      "     Все данные лежат в интервале от 0 до 47.6\n",
      "     Тест пройден успешно.\n",
      "     Все данные лежат в интервале от 0 до 47.6\n"
     ]
    }
   ],
   "source": [
    "x=np.array([43,33,0.5])\n",
    "tests = QA_QC_kern(porosity_open=x,file_path=\"test/test\")\n",
    "tests.test_porosity_open()\n",
    "tests.generate_test_report()"
   ],
   "metadata": {
    "collapsed": false,
    "pycharm": {
     "name": "#%%\n"
    }
   }
  }
 ],
 "metadata": {
  "kernelspec": {
   "display_name": "Python 3",
   "language": "python",
   "name": "python3"
  },
  "language_info": {
   "codemirror_mode": {
    "name": "ipython",
    "version": 2
   },
   "file_extension": ".py",
   "mimetype": "text/x-python",
   "name": "python",
   "nbconvert_exporter": "python",
   "pygments_lexer": "ipython2",
   "version": "2.7.6"
  }
 },
 "nbformat": 4,
 "nbformat_minor": 0
}