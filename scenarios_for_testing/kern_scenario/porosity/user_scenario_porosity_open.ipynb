{
 "cells": [
  {
   "cell_type": "code",
   "execution_count": 1,
   "outputs": [],
   "source": [
    "from qa_qc_lib.tests.kern_tests.kern import QA_QC_kern\n",
    "from qa_qc_lib.tests.kern_tests.data_preprocessing_kern import DataPreprocessing"
   ],
   "metadata": {
    "collapsed": false,
    "pycharm": {
     "name": "#%%\n"
    }
   }
  },
  {
   "cell_type": "code",
   "execution_count": 2,
   "outputs": [],
   "source": [
    "file = r\"..\\..\\..\\data\\core_data\\post_test_table.xlsx\"\n",
    "\n",
    "columns_mapping = {\n",
    "    \"Кп_откр\": r\"..\\..\\..\\data\\core_data\\data_final_kern.xlsx->Кп_откр\",\n",
    "    \"Кп_абс\": r\"..\\..\\..\\data\\core_data\\data_final_kern.xlsx->Кпр_абс\",\n",
    "    \"Скважина\": r\"..\\..\\..\\data\\core_data\\data_final_kern.xlsx->Скважина\",\n",
    "    \"MD\": r\"..\\..\\..\\data\\core_data\\data_final_kern.xlsx->MD\",\n",
    "}\n",
    "file_modal = DataPreprocessing()\n",
    "test = file_modal.process_data(columns_mapping,file)"
   ],
   "metadata": {
    "collapsed": false,
    "pycharm": {
     "name": "#%%\n"
    }
   }
  },
  {
   "cell_type": "code",
   "execution_count": 3,
   "outputs": [
    {
     "name": "stdout",
     "output_type": "stream",
     "text": [
      "     Тест пройден успешно.\n",
      "     Все данные лежат в интервале от 0 до 47.6\n",
      "     Тест не пройден.\n",
      "     Данные не лежат в интервале от 0 до 47.6\n"
     ]
    }
   ],
   "source": [
    "\n",
    "file = r\"..\\..\\..\\data\\core_data\\post_test_table.xlsx\"\n",
    "filters = [\n",
    "{\n",
    "\"name\": \"Скважина\",\n",
    "\"value\": \"5144PL\",\n",
    "\"operation\": \"=\"\n",
    "},\n",
    "]\n",
    "tests = QA_QC_kern(file_path=\"test/test\",data_file_path=file)\n",
    "tests.test_porosity_open(filters=filters)\n",
    "tests.test_porosity_abs(filters=filters)\n",
    "tests.generate_test_report()\n",
    "tests.data_kern.mark_errors()"
   ],
   "metadata": {
    "collapsed": false,
    "pycharm": {
     "name": "#%%\n"
    }
   }
  },
  {
   "cell_type": "code",
   "execution_count": 4,
   "outputs": [
    {
     "name": "stdout",
     "output_type": "stream",
     "text": [
      "     Тест пройден успешно.\n",
      "     Все данные лежат в интервале от 0 до 47.6\n"
     ]
    }
   ],
   "source": [
    "file = r\"..\\..\\..\\data\\core_data\\post_test_table.xlsx\"\n",
    "\n",
    "filters = [\n",
    "{\n",
    "\"name\": \"Скважина\",\n",
    "\"value\": \"9281PL\",\n",
    "\"operation\": \"=\"\n",
    "},\n",
    "]\n",
    "tests = QA_QC_kern(file_path=\"test/test\",data_file_path=file)\n",
    "tests.test_porosity_open(filters=filters)\n",
    "tests.generate_test_report()\n",
    "tests.data_kern.mark_errors()\n"
   ],
   "metadata": {
    "collapsed": false,
    "pycharm": {
     "name": "#%%\n"
    }
   }
  },
  {
   "cell_type": "code",
   "execution_count": 5,
   "outputs": [
    {
     "name": "stdout",
     "output_type": "stream",
     "text": [
      "     Тест пройден успешно.\n",
      "     Все данные лежат в интервале от 0 до 47.6\n"
     ]
    }
   ],
   "source": [
    "file = r\"..\\..\\..\\data\\core_data\\post_test_table.xlsx\"\n",
    "\n",
    "filters = [\n",
    "{\n",
    "\"name\": \"MD\",\n",
    "\"value\": 2879.85,\n",
    "\"operation\": \"<=\"\n",
    "},\n",
    "]\n",
    "tests = QA_QC_kern(file_path=\"test/test\",data_file_path=file)\n",
    "tests.test_porosity_open(filters=filters)\n",
    "tests.generate_test_report()\n",
    "tests.data_kern.mark_errors()\n"
   ],
   "metadata": {
    "collapsed": false,
    "pycharm": {
     "name": "#%%\n"
    }
   }
  },
  {
   "cell_type": "code",
   "execution_count": 5,
   "outputs": [],
   "source": [],
   "metadata": {
    "collapsed": false,
    "pycharm": {
     "name": "#%%\n"
    }
   }
  }
 ],
 "metadata": {
  "kernelspec": {
   "display_name": "Python 3",
   "language": "python",
   "name": "python3"
  },
  "language_info": {
   "codemirror_mode": {
    "name": "ipython",
    "version": 2
   },
   "file_extension": ".py",
   "mimetype": "text/x-python",
   "name": "python",
   "nbconvert_exporter": "python",
   "pygments_lexer": "ipython2",
   "version": "2.7.6"
  }
 },
 "nbformat": 4,
 "nbformat_minor": 0
}