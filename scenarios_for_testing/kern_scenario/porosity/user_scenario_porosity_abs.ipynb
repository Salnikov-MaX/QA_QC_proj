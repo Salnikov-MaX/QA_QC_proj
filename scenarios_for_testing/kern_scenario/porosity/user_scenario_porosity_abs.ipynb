{
 "cells": [
  {
   "cell_type": "code",
   "execution_count": 1,
   "outputs": [],
   "source": [
    "import numpy as np\n",
    "from qa_qc_lib.tests.kern_tests.kern import QA_QC_kern"
   ],
   "metadata": {
    "collapsed": false,
    "pycharm": {
     "name": "#%%\n"
    }
   }
  },
  {
   "cell_type": "code",
   "execution_count": 2,
   "outputs": [
    {
     "name": "stdout",
     "output_type": "stream",
     "text": [
      "     Тест не пройден.\n",
      "     Данные не лежат в интервале от 0 до 47.6\n"
     ]
    }
   ],
   "source": [
    "x=np.array([0.43,0.3,4])\n",
    "tests = QA_QC_kern(porosity_abs=x,file_path=\"test/test\")\n",
    "tests.test_porosity_abs()\n",
    "tests.generate_test_report()"
   ],
   "metadata": {
    "collapsed": false,
    "pycharm": {
     "name": "#%%\n"
    }
   }
  },
  {
   "cell_type": "code",
   "execution_count": 3,
   "outputs": [
    {
     "name": "stdout",
     "output_type": "stream",
     "text": [
      "     Тест не пройден.\n",
      "     Данные не лежат в интервале от 0 до 47.6\n"
     ]
    }
   ],
   "source": [
    "x=np.array([0.43,0.3,0.5])\n",
    "tests = QA_QC_kern(porosity_abs=x,file_path=\"test/test\")\n",
    "tests.test_porosity_abs()\n",
    "tests.generate_test_report()"
   ],
   "metadata": {
    "collapsed": false,
    "pycharm": {
     "name": "#%%\n"
    }
   }
  },
  {
   "cell_type": "code",
   "execution_count": 4,
   "outputs": [
    {
     "name": "stdout",
     "output_type": "stream",
     "text": [
      "     Тест пройден успешно.\n",
      "     Все данные лежат в интервале от 0 до 47.6\n"
     ]
    }
   ],
   "source": [
    "x=np.array([43,33,0.5])\n",
    "tests = QA_QC_kern(porosity_abs=x,file_path=\"test/test\")\n",
    "tests.test_porosity_abs()\n",
    "tests.generate_test_report()"
   ],
   "metadata": {
    "collapsed": false,
    "pycharm": {
     "name": "#%%\n"
    }
   }
  },
  {
   "cell_type": "code",
   "execution_count": 5,
   "outputs": [
    {
     "name": "stdout",
     "output_type": "stream",
     "text": [
      "     Тест пройден успешно.\n",
      "     Все данные лежат в интервале от 0 до 47.6\n"
     ]
    }
   ],
   "source": [
    "x=np.array([43,33,0.5])\n",
    "tests = QA_QC_kern(porosity_abs=x,file_path=\"test/test\")\n",
    "tests.test_porosity_abs()\n",
    "tests.generate_test_report()"
   ],
   "metadata": {
    "collapsed": false,
    "pycharm": {
     "name": "#%%\n"
    }
   }
  }
 ],
 "metadata": {
  "kernelspec": {
   "display_name": "Python 3",
   "language": "python",
   "name": "python3"
  },
  "language_info": {
   "codemirror_mode": {
    "name": "ipython",
    "version": 2
   },
   "file_extension": ".py",
   "mimetype": "text/x-python",
   "name": "python",
   "nbconvert_exporter": "python",
   "pygments_lexer": "ipython2",
   "version": "2.7.6"
  }
 },
 "nbformat": 4,
 "nbformat_minor": 0
}