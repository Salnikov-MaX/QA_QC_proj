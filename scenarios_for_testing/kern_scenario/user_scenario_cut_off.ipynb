{
 "cells": [
  {
   "cell_type": "code",
   "execution_count": null,
   "metadata": {
    "collapsed": true,
    "pycharm": {
     "name": "#%%\n"
    }
   },
   "outputs": [],
   "source": [
    "from qa_qc_lib.tests.kern_tests.kern import QA_QC_kern\n",
    "from qa_qc_lib.tests.kern_tests.data_preprocessing_kern import DataPreprocessing"
   ]
  },
  {
   "cell_type": "code",
   "execution_count": null,
   "outputs": [],
   "source": [
    "file = r\"..\\..\\data\\post_test_table.xlsx\"\n",
    "\n",
    "columns_mapping = {\n",
    "    \"Кп_откр\": r\"..\\..\\data\\data_final_kern.xlsx->Кп_откр\",\n",
    "    \"Cut-off_пористость\": r\"..\\..\\data\\data_final_kern.xlsx->Cut_off->Cut-off_пористость\",\n",
    "    \"Cut-off_проницаемость\": r\"..\\..\\data\\data_final_kern.xlsx->Cut_off->Cut-off_проницаемость\",\n",
    "    \"Кпр_абс\":r\"..\\..\\data\\data_final_kern.xlsx->Кпр_абс\",\n",
    "    \"Скважина\": r\"..\\..\\data\\data_final_kern.xlsx->Скважина\",\n",
    "    \"MD\": r\"..\\..\\data\\data_final_kern.xlsx->MD\",\n",
    "}\n",
    "file_modal = DataPreprocessing()\n",
    "test = file_modal.process_data(columns_mapping)"
   ],
   "metadata": {
    "collapsed": false,
    "pycharm": {
     "name": "#%%\n"
    }
   }
  },
  {
   "cell_type": "code",
   "execution_count": null,
   "outputs": [],
   "source": [
    "filters = [\n",
    "{\n",
    "\"name\": \"Скважина\",\n",
    "\"value\": \"5144PL\",\n",
    "\"operation\": \"=\"\n",
    "},\n",
    "]\n",
    "tests = QA_QC_kern(file_path=\"test/test\")\n",
    "tests.test_cut_off_kp_open(filters=filters)\n",
    "tests.generate_test_report()"
   ],
   "metadata": {
    "collapsed": false,
    "pycharm": {
     "name": "#%%\n"
    }
   }
  },
  {
   "cell_type": "code",
   "execution_count": null,
   "outputs": [],
   "source": [
    "filters = [\n",
    "{\n",
    "\"name\": \"Скважина\",\n",
    "\"value\": \"9281PL\",\n",
    "\"operation\": \"=\"\n",
    "},\n",
    "]\n",
    "tests = QA_QC_kern(file_path=\"test/test\")\n",
    "tests.test_cut_off_kp_open(filters=filters)\n",
    "tests.generate_test_report()"
   ],
   "metadata": {
    "collapsed": false,
    "pycharm": {
     "name": "#%%\n"
    }
   }
  },
  {
   "cell_type": "code",
   "execution_count": null,
   "outputs": [],
   "source": [],
   "metadata": {
    "collapsed": false,
    "pycharm": {
     "name": "#%%\n"
    }
   }
  }
 ],
 "metadata": {
  "kernelspec": {
   "display_name": "Python 3",
   "language": "python",
   "name": "python3"
  },
  "language_info": {
   "codemirror_mode": {
    "name": "ipython",
    "version": 2
   },
   "file_extension": ".py",
   "mimetype": "text/x-python",
   "name": "python",
   "nbconvert_exporter": "python",
   "pygments_lexer": "ipython2",
   "version": "2.7.6"
  }
 },
 "nbformat": 4,
 "nbformat_minor": 0
}