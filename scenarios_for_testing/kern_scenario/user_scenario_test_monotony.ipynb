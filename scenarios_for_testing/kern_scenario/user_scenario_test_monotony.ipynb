{
 "cells": [
  {
   "cell_type": "code",
   "execution_count": 1,
   "metadata": {
    "collapsed": true,
    "pycharm": {
     "name": "#%%\n"
    }
   },
   "outputs": [],
   "source": [
    "import numpy as np\n",
    "from qa_qc_lib.tests.kern_tests.kern import QA_QC_kern"
   ]
  },
  {
   "cell_type": "code",
   "execution_count": 2,
   "outputs": [
    {
     "name": "stdout",
     "output_type": "stream",
     "text": [
      "     Тест не пройден.\n",
      "     Глубина монотонно возрастает\n"
     ]
    }
   ],
   "source": [
    "a=np.array([1,1,1,1])\n",
    "tests = QA_QC_kern(depth=a, file_path=\"test/test\")\n",
    "tests.start_tests([\"test_monotony\"])\n",
    "tests.generate_test_report()"
   ],
   "metadata": {
    "collapsed": false,
    "pycharm": {
     "name": "#%%\n"
    }
   }
  },
  {
   "cell_type": "code",
   "execution_count": 3,
   "outputs": [
    {
     "name": "stdout",
     "output_type": "stream",
     "text": [
      "     Тест не был запущен.\n",
      "     Передан не массив\n"
     ]
    }
   ],
   "source": [
    "a=None\n",
    "tests = QA_QC_kern(depth=a, file_path=\"test/test\")\n",
    "tests.start_tests([\"test_monotony\"])\n",
    "tests.generate_test_report()"
   ],
   "metadata": {
    "collapsed": false,
    "pycharm": {
     "name": "#%%\n"
    }
   }
  },
  {
   "cell_type": "code",
   "execution_count": 4,
   "outputs": [
    {
     "name": "stdout",
     "output_type": "stream",
     "text": [
      "     Тест не был запущен.\n",
      "     Передан пустой массив\n"
     ]
    }
   ],
   "source": [
    "a=np.array([])\n",
    "tests = QA_QC_kern(depth=a, file_path=\"test/test\")\n",
    "tests.start_tests([\"test_monotony\"])\n",
    "tests.generate_test_report()"
   ],
   "metadata": {
    "collapsed": false,
    "pycharm": {
     "name": "#%%\n"
    }
   }
  },
  {
   "cell_type": "code",
   "execution_count": 5,
   "outputs": [
    {
     "name": "stdout",
     "output_type": "stream",
     "text": [
      "     Тест не был запущен.\n",
      "     Содержит nan\n"
     ]
    }
   ],
   "source": [
    "a=np.array([1,np.nan,2])\n",
    "tests = QA_QC_kern(depth=a, file_path=\"test/test\")\n",
    "tests.start_tests([\"test_monotony\"])\n",
    "tests.generate_test_report()"
   ],
   "metadata": {
    "collapsed": false,
    "pycharm": {
     "name": "#%%\n"
    }
   }
  },
  {
   "cell_type": "code",
   "execution_count": 6,
   "outputs": [
    {
     "name": "stdout",
     "output_type": "stream",
     "text": [
      "     Тест пройден успешно.\n",
      "     Нарушена монотонность глубины\n"
     ]
    }
   ],
   "source": [
    "a=np.array([1,2,3,4,5])\n",
    "tests = QA_QC_kern(depth=a, file_path=\"test/test\")\n",
    "tests.start_tests([\"test_monotony\"])\n",
    "tests.generate_test_report()"
   ],
   "metadata": {
    "collapsed": false,
    "pycharm": {
     "name": "#%%\n"
    }
   }
  }
 ],
 "metadata": {
  "kernelspec": {
   "display_name": "Python 3",
   "language": "python",
   "name": "python3"
  },
  "language_info": {
   "codemirror_mode": {
    "name": "ipython",
    "version": 2
   },
   "file_extension": ".py",
   "mimetype": "text/x-python",
   "name": "python",
   "nbconvert_exporter": "python",
   "pygments_lexer": "ipython2",
   "version": "2.7.6"
  }
 },
 "nbformat": 4,
 "nbformat_minor": 0
}