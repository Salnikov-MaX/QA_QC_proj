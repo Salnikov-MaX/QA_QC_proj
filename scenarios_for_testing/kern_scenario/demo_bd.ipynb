{
 "cells": [
  {
   "cell_type": "code",
   "execution_count": 2,
   "outputs": [
    {
     "name": "stdout",
     "output_type": "stream",
     "text": [
      "     Тест не пройден.\n",
      "     Данные не лежат в интервале от 0 до 1\n"
     ]
    }
   ],
   "source": [
    "from qa_qc_lib.tests.kern_tests.core_bd import CoreData\n",
    "from qa_qc_lib.tests.kern_tests.kern import QA_QC_kern\n",
    "\n",
    "file = r\"..\\..\\data\\core_data\\post_test_table.xlsx\"\n",
    "\n",
    "columns_mapping = {\n",
    "    \"Кво\": r\"..\\..\\data\\core_data\\data_final_kern.xlsx->Swl(Кво)\",\n",
    "    \"Скважина\": r\"..\\..\\data\\core_data\\data_final_kern.xlsx->Скважина\",\n",
    "    \"MD\": r\"..\\..\\data\\core_data\\data_final_kern.xlsx->MD\",\n",
    "}\n",
    "\n",
    "filters = [\n",
    "{\n",
    "\"name\": \"Скважина\",\n",
    "\"value\": \"5144PL\",\n",
    "\"operation\": \"=\"\n",
    "},\n",
    "]\n",
    "\n",
    "core_bd = CoreData(columns_mapping,file, get_report=False)\n",
    "tests = QA_QC_kern(file_path=\"test/test\",data_file_path=file)\n",
    "node=core_bd.getNode(\"Кво\", filters)\n",
    "data=core_bd.getAllData()\n",
    "tests.test_zero_to_one_interval(node)\n",
    "core_bd.delete_file()\n",
    "tests.data_kern.mark_errors()"
   ],
   "metadata": {
    "collapsed": false,
    "pycharm": {
     "name": "#%%\n"
    }
   }
  },
  {
   "cell_type": "code",
   "execution_count": 1,
   "outputs": [],
   "source": [],
   "metadata": {
    "collapsed": false,
    "pycharm": {
     "name": "#%%\n"
    }
   }
  }
 ],
 "metadata": {
  "kernelspec": {
   "display_name": "Python 3",
   "language": "python",
   "name": "python3"
  },
  "language_info": {
   "codemirror_mode": {
    "name": "ipython",
    "version": 2
   },
   "file_extension": ".py",
   "mimetype": "text/x-python",
   "name": "python",
   "nbconvert_exporter": "python",
   "pygments_lexer": "ipython2",
   "version": "2.7.6"
  }
 },
 "nbformat": 4,
 "nbformat_minor": 0
}