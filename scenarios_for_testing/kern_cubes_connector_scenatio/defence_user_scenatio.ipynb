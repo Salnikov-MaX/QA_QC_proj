{
 "cells": [
  {
   "cell_type": "markdown",
   "source": [
    "Использование класса qa_qc_cubes в ручном режиме (c коннектора)"
   ],
   "metadata": {
    "collapsed": false
   }
  },
  {
   "cell_type": "code",
   "execution_count": 4,
   "outputs": [],
   "source": [
    "# Импортируем зависимости\n",
    "import pandas as pd\n",
    "import time\n",
    "\n",
    "# Импортируем классы\n",
    "from qa_qc_lib.tests.kern_tests.kern import QA_QC_kern\n",
    "from qa_qc_lib.tests.cubes_tests.cubes import QA_QC_cubes\n",
    "from qa_qc_lib.tests.kern_cubes_tests.connector_kern_cubes import Connector_kern_cubes"
   ],
   "metadata": {
    "collapsed": false
   }
  },
  {
   "cell_type": "code",
   "execution_count": 5,
   "outputs": [
    {
     "ename": "TypeError",
     "evalue": "__init__() got an unexpected keyword argument 'kpr'",
     "output_type": "error",
     "traceback": [
      "\u001B[1;31m---------------------------------------------------------------------------\u001B[0m",
      "\u001B[1;31mTypeError\u001B[0m                                 Traceback (most recent call last)",
      "Cell \u001B[1;32mIn[5], line 10\u001B[0m\n\u001B[0;32m      8\u001B[0m kp \u001B[38;5;241m=\u001B[39m df[\u001B[38;5;124m\"\u001B[39m\u001B[38;5;124mКп_откр\u001B[39m\u001B[38;5;124m\"\u001B[39m]\u001B[38;5;241m.\u001B[39mto_numpy()\u001B[38;5;241m/\u001B[39m\u001B[38;5;241m100\u001B[39m\n\u001B[0;32m      9\u001B[0m lit \u001B[38;5;241m=\u001B[39m df[\u001B[38;5;124m\"\u001B[39m\u001B[38;5;124mСкважина\u001B[39m\u001B[38;5;124m\"\u001B[39m]\u001B[38;5;241m.\u001B[39mto_numpy()\n\u001B[1;32m---> 10\u001B[0m kern \u001B[38;5;241m=\u001B[39m \u001B[43mQA_QC_kern\u001B[49m\u001B[43m(\u001B[49m\u001B[43mkpr\u001B[49m\u001B[38;5;241;43m=\u001B[39;49m\u001B[43mkpr\u001B[49m\u001B[43m,\u001B[49m\u001B[43m \u001B[49m\u001B[43mporosity_open\u001B[49m\u001B[38;5;241;43m=\u001B[39;49m\u001B[43mkp\u001B[49m\u001B[43m,\u001B[49m\u001B[43mlithotype\u001B[49m\u001B[38;5;241;43m=\u001B[39;49m\u001B[43mlit\u001B[49m\u001B[43m)\u001B[49m\n\u001B[0;32m     12\u001B[0m cubes \u001B[38;5;241m=\u001B[39m QA_QC_cubes(\n\u001B[0;32m     13\u001B[0m     directory_path\u001B[38;5;241m=\u001B[39m\u001B[38;5;124m\"\u001B[39m\u001B[38;5;124m../../data/grdecl_data\u001B[39m\u001B[38;5;124m\"\u001B[39m,\n\u001B[0;32m     14\u001B[0m     grid_name\u001B[38;5;241m=\u001B[39m\u001B[38;5;124m\"\u001B[39m\u001B[38;5;124mGRID\u001B[39m\u001B[38;5;124m\"\u001B[39m,\n\u001B[1;32m   (...)\u001B[0m\n\u001B[0;32m     17\u001B[0m     litatype_file_path\u001B[38;5;241m=\u001B[39m\u001B[38;5;124m\"\u001B[39m\u001B[38;5;124m../../data/grdecl_data/input/litho.GRDECL.grdecl\u001B[39m\u001B[38;5;124m\"\u001B[39m\n\u001B[0;32m     18\u001B[0m     )\n\u001B[0;32m     20\u001B[0m connector \u001B[38;5;241m=\u001B[39m Connector_kern_cubes(qa_qc_kern\u001B[38;5;241m=\u001B[39mkern, qa_qc_cubes\u001B[38;5;241m=\u001B[39mcubes)\n",
      "\u001B[1;31mTypeError\u001B[0m: __init__() got an unexpected keyword argument 'kpr'"
     ]
    }
   ],
   "source": [
    "%matplotlib inline\n",
    "start_time = time.time()\n",
    "df = pd.read_excel(\n",
    "    \"../../data/grdecl_data/test_data_kern-cubes.xlsx\",\n",
    "    sheet_name=\"Лист2\"\n",
    ")\n",
    "kpr = df[\"Кпр_абс\"].to_numpy()\n",
    "kp = df[\"Кп_откр\"].to_numpy()/100\n",
    "lit = df[\"Скважина\"].to_numpy()\n",
    "kern = QA_QC_kern(kpr=kpr, porosity_open=kp,lithotype=lit)\n",
    "\n",
    "cubes = QA_QC_cubes(\n",
    "    directory_path=\"../../data/grdecl_data\",\n",
    "    grid_name=\"GRID\",\n",
    "    open_porosity_file_path=\"../../data/grdecl_data/input/Poro.GRDECL.grdecl\",\n",
    "    open_perm_x_file_path=\"../../data/grdecl_data/input/Perm.GRDECL.grdecl\",\n",
    "    litatype_file_path=\"../../data/grdecl_data/input/litho.GRDECL.grdecl\"\n",
    "    )\n",
    "\n",
    "connector = Connector_kern_cubes(qa_qc_kern=kern, qa_qc_cubes=cubes)\n",
    "\n",
    "\n",
    "connector.test_kern_data_dependence_kpr_kp()\n",
    "print(\"--- %s seconds ---\" % (time.time() - start_time))"
   ],
   "metadata": {
    "collapsed": false
   }
  },
  {
   "cell_type": "code",
   "execution_count": null,
   "outputs": [],
   "source": [],
   "metadata": {
    "collapsed": false
   }
  },
  {
   "cell_type": "code",
   "execution_count": null,
   "outputs": [],
   "source": [],
   "metadata": {
    "collapsed": false
   }
  }
 ],
 "metadata": {
  "kernelspec": {
   "display_name": "Python 3",
   "language": "python",
   "name": "python3"
  },
  "language_info": {
   "codemirror_mode": {
    "name": "ipython",
    "version": 2
   },
   "file_extension": ".py",
   "mimetype": "text/x-python",
   "name": "python",
   "nbconvert_exporter": "python",
   "pygments_lexer": "ipython2",
   "version": "2.7.6"
  }
 },
 "nbformat": 4,
 "nbformat_minor": 0
}