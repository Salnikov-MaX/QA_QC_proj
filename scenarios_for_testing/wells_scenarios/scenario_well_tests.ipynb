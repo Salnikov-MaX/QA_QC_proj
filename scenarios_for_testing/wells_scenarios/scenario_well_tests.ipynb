{
 "cells": [
  {
   "cell_type": "code",
   "execution_count": null,
   "metadata": {},
   "outputs": [],
   "source": [
    "import os\n",
    "# Changing the CWD\n",
    "os.chdir('f:/QA_QC_git/QA_QC_proj/')\n",
    "os.getcwd()\n"
   ]
  },
  {
   "cell_type": "code",
   "execution_count": null,
   "metadata": {},
   "outputs": [],
   "source": [
    "#pip install git+https://github.com/equinor/ecl.git"
   ]
  },
  {
   "cell_type": "code",
   "execution_count": null,
   "metadata": {},
   "outputs": [],
   "source": [
    "import pandas as pd\n",
    "import numpy as np\n",
    "\n",
    "from qa_qc_lib.tests.wells.wells_tests import QA_QC_wells as Tests_wells_data\n",
    "from qa_qc_lib.tests.wells.wells_nodes import Nodes_wells_data\n",
    "\n",
    "import warnings\n",
    "warnings.filterwarnings(\"ignore\")\n",
    "\n",
    "%load_ext autoreload\n",
    "%autoreload 2\n"
   ]
  },
  {
   "cell_type": "code",
   "execution_count": null,
   "metadata": {},
   "outputs": [],
   "source": [
    "#nodes_obj = Nodes_wells_data('data\\wells_data', 'Добыча.vol' ) или\n",
    "nodes_obj = Nodes_wells_data('data\\wells_data', ('FULL_TNAV__626.SMSPEC', 'FULL_TNAV__626.UNSMRY'))\n"
   ]
  },
  {
   "cell_type": "code",
   "execution_count": null,
   "metadata": {},
   "outputs": [],
   "source": [
    "tests_wells = Tests_wells_data(nodes_obj, 'data\\wells_data')\n"
   ]
  },
  {
   "cell_type": "code",
   "execution_count": null,
   "metadata": {},
   "outputs": [],
   "source": [
    "first_tests = tests_wells.order_tests[1] \n",
    "second_tests = tests_wells.order_tests[2]"
   ]
  },
  {
   "cell_type": "code",
   "execution_count": null,
   "metadata": {},
   "outputs": [],
   "source": [
    "for well in nodes_obj.wells:\n",
    "\n",
    "    for k,v in nodes_obj.nodes_wells[well].items():\n",
    "        for test in first_tests:\n",
    "            test_f = getattr(tests_wells, test)\n",
    "            res_test = test_f(v, k, well, get_report= False)\n",
    "\n",
    "            if res_test['data_availability'] and not res_test['result']:\n",
    "                tests_wells.report_function[test](res_test['specification'], saving = False)\n",
    "\n",
    "    for test in second_tests:\n",
    "        test_f = getattr(tests_wells, test)\n",
    "        res_test = test_f(well, get_report= False)\n",
    "        \n",
    "        if res_test['data_availability'] and not res_test['result']:\n",
    "            tests_wells.report_function[test](res_test['specification'], saving = False)\n"
   ]
  },
  {
   "cell_type": "code",
   "execution_count": null,
   "metadata": {},
   "outputs": [],
   "source": []
  }
 ],
 "metadata": {
  "kernelspec": {
   "display_name": "QA_QC",
   "language": "python",
   "name": "python3"
  },
  "language_info": {
   "codemirror_mode": {
    "name": "ipython",
    "version": 3
   },
   "file_extension": ".py",
   "mimetype": "text/x-python",
   "name": "python",
   "nbconvert_exporter": "python",
   "pygments_lexer": "ipython3",
   "version": "3.9.18"
  },
  "orig_nbformat": 4
 },
 "nbformat": 4,
 "nbformat_minor": 2
}
