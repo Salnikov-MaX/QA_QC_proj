{
 "cells": [
  {
   "cell_type": "code",
   "execution_count": null,
   "metadata": {},
   "outputs": [],
   "source": [
    "from qa_qc_lib.readers.gis_reader import Reader_gis_data_for_well\n",
    "from qa_qc_lib.tests.gis.gis_tests import QA_QC_gis \n",
    "from qa_qc_lib.tests.gis.gis_nodes import Nodes_gis_data"
   ]
  },
  {
   "cell_type": "code",
   "execution_count": null,
   "metadata": {},
   "outputs": [],
   "source": [
    "data_folder = \"../../data/gis_data\"\n",
    "data_folder_las =\"../../data/gis_data/las\"\n",
    "tops_formation_file_name = \"Отбивки пластопересений.xlsx\"\n",
    "mnemonics_file_name = \"Мнемоники.xlsx\"\n",
    "las_file_name = \"Copy of 2003PL.las\"\n",
    "name_stratum = 'NP4'"
   ]
  },
  {
   "cell_type": "code",
   "execution_count": null,
   "metadata": {},
   "outputs": [],
   "source": [
    "GIS_Reader = Reader_gis_data_for_well(name_stratum, data_folder, mnemonics_file_name, tops_formation_file_name)"
   ]
  },
  {
   "cell_type": "code",
   "execution_count": null,
   "metadata": {},
   "outputs": [],
   "source": [
    "GIS_nodes_for_well = Nodes_gis_data(data_folder_las, las_file_name, GIS_Reader)"
   ]
  },
  {
   "cell_type": "code",
   "execution_count": null,
   "metadata": {},
   "outputs": [],
   "source": [
    "GIS_nodes_for_well.check_data()"
   ]
  },
  {
   "cell_type": "code",
   "execution_count": null,
   "metadata": {},
   "outputs": [],
   "source": [
    "tests_gis = QA_QC_gis(GIS_nodes_for_well, 'data\\gis_data')"
   ]
  },
  {
   "cell_type": "code",
   "execution_count": null,
   "metadata": {},
   "outputs": [],
   "source": [
    "first_tests = tests_gis.order_tests[1] \n",
    "second_tests = tests_gis.order_tests[2]"
   ]
  },
  {
   "cell_type": "code",
   "execution_count": null,
   "metadata": {},
   "outputs": [],
   "source": [
    "for node_name in tests_gis.nodes_obj.gis_nodes.keys():\n",
    "    for test in first_tests:\n",
    "        test_f = getattr(tests_gis, test)\n",
    "        res_test = test_f(node_name, get_report = False)\n",
    "\n",
    "        if res_test['data_availability'] and not res_test['result']:\n",
    "            tests_gis.report_function[test](res_test['specification'], saving = False)\n",
    "\n",
    "for node_name in tests_gis.nodes_obj.gis_nodes.keys():\n",
    "    for test in second_tests:\n",
    "        test_f = getattr(tests_gis, test)\n",
    "        res_test = test_f(node_name, get_report= False)\n",
    "        \n",
    "        if res_test['data_availability'] and not res_test['result']:\n",
    "            tests_gis.report_function[test](res_test['specification'], saving = False)\n"
   ]
  },
  {
   "cell_type": "code",
   "execution_count": null,
   "metadata": {},
   "outputs": [],
   "source": []
  }
 ],
 "metadata": {
  "kernelspec": {
   "display_name": "QA_QC",
   "language": "python",
   "name": "python3"
  },
  "language_info": {
   "codemirror_mode": {
    "name": "ipython",
    "version": 3
   },
   "file_extension": ".py",
   "mimetype": "text/x-python",
   "name": "python",
   "nbconvert_exporter": "python",
   "pygments_lexer": "ipython3",
   "version": "3.9.18"
  },
  "orig_nbformat": 4
 },
 "nbformat": 4,
 "nbformat_minor": 2
}
