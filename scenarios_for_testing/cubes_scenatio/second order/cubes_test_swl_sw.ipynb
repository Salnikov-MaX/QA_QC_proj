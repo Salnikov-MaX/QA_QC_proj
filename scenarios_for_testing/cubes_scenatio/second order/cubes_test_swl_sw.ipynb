{
 "cells": [
  {
   "cell_type": "code",
   "execution_count": 1,
   "metadata": {
    "collapsed": true
   },
   "outputs": [],
   "source": [
    "import numpy as np\n",
    "import pandas as pd\n",
    "import time"
   ]
  },
  {
   "cell_type": "code",
   "execution_count": 2,
   "outputs": [],
   "source": [
    "from qa_qc_lib.tests.cubes_tests.cubes import QA_QC_cubes"
   ],
   "metadata": {
    "collapsed": false
   }
  },
  {
   "cell_type": "code",
   "execution_count": 3,
   "outputs": [
    {
     "ename": "IndexError",
     "evalue": "too many indices for array: array is 1-dimensional, but 3 were indexed",
     "output_type": "error",
     "traceback": [
      "\u001B[1;31m---------------------------------------------------------------------------\u001B[0m",
      "\u001B[1;31mIndexError\u001B[0m                                Traceback (most recent call last)",
      "Cell \u001B[1;32mIn[3], line 9\u001B[0m\n\u001B[0;32m      1\u001B[0m start_time \u001B[38;5;241m=\u001B[39m time\u001B[38;5;241m.\u001B[39mtime()\n\u001B[0;32m      2\u001B[0m cubes \u001B[38;5;241m=\u001B[39m QA_QC_cubes(\n\u001B[0;32m      3\u001B[0m     directory_path\u001B[38;5;241m=\u001B[39m\u001B[38;5;124m\"\u001B[39m\u001B[38;5;124m../../../data/grdecl_data\u001B[39m\u001B[38;5;124m\"\u001B[39m,\n\u001B[0;32m      4\u001B[0m     grid_name\u001B[38;5;241m=\u001B[39m\u001B[38;5;124m\"\u001B[39m\u001B[38;5;124mGRID\u001B[39m\u001B[38;5;124m\"\u001B[39m,\n\u001B[1;32m   (...)\u001B[0m\n\u001B[0;32m      7\u001B[0m     save_wrong_data_path\u001B[38;5;241m=\u001B[39m\u001B[38;5;124m\"\u001B[39m\u001B[38;5;124m../report\u001B[39m\u001B[38;5;124m\"\u001B[39m\n\u001B[0;32m      8\u001B[0m )\n\u001B[1;32m----> 9\u001B[0m \u001B[38;5;28mprint\u001B[39m(\u001B[43mcubes\u001B[49m\u001B[38;5;241;43m.\u001B[39;49m\u001B[43mtest_swl_sw\u001B[49m\u001B[43m(\u001B[49m\u001B[43m)\u001B[49m)\n\u001B[0;32m     10\u001B[0m \u001B[38;5;28mprint\u001B[39m(\u001B[38;5;124m\"\u001B[39m\u001B[38;5;124m--- \u001B[39m\u001B[38;5;132;01m%s\u001B[39;00m\u001B[38;5;124m seconds ---\u001B[39m\u001B[38;5;124m\"\u001B[39m \u001B[38;5;241m%\u001B[39m (time\u001B[38;5;241m.\u001B[39mtime() \u001B[38;5;241m-\u001B[39m start_time))\n",
      "File \u001B[1;32mD:\\Work\\QA_QC_proj\\qa_qc_lib\\tests\\cubes_tests\\cubes.py:846\u001B[0m, in \u001B[0;36mQA_QC_cubes.test_swl_sw\u001B[1;34m(self)\u001B[0m\n\u001B[0;32m    844\u001B[0m swl_value \u001B[38;5;241m=\u001B[39m \u001B[38;5;28mself\u001B[39m\u001B[38;5;241m.\u001B[39m__get_value_grid_prop(\u001B[38;5;28mself\u001B[39m\u001B[38;5;241m.\u001B[39mswl_file_path, \u001B[38;5;28;01mFalse\u001B[39;00m)\n\u001B[0;32m    845\u001B[0m _, key \u001B[38;5;241m=\u001B[39m CubesTools()\u001B[38;5;241m.\u001B[39mfind_key(\u001B[38;5;28mself\u001B[39m\u001B[38;5;241m.\u001B[39msw_file_path)\n\u001B[1;32m--> 846\u001B[0m flag, wrong_data \u001B[38;5;241m=\u001B[39m \u001B[38;5;28;43mself\u001B[39;49m\u001B[38;5;241;43m.\u001B[39;49m\u001B[43m__test_value_conditions\u001B[49m\u001B[43m(\u001B[49m\n\u001B[0;32m    847\u001B[0m \u001B[43m    \u001B[49m\u001B[43mkey\u001B[49m\u001B[43m,\u001B[49m\n\u001B[0;32m    848\u001B[0m \u001B[43m    \u001B[49m\u001B[43m[\u001B[49m\u001B[38;5;28;43;01mlambda\u001B[39;49;00m\u001B[43m \u001B[49m\u001B[43mx\u001B[49m\u001B[43m:\u001B[49m\u001B[43m \u001B[49m\u001B[43mx\u001B[49m\u001B[43m \u001B[49m\u001B[38;5;241;43m>\u001B[39;49m\u001B[38;5;241;43m=\u001B[39;49m\u001B[43m \u001B[49m\u001B[43mswl_value\u001B[49m\u001B[43m[\u001B[49m\u001B[38;5;28;43mself\u001B[39;49m\u001B[38;5;241;43m.\u001B[39;49m\u001B[43mactnum\u001B[49m\u001B[43m \u001B[49m\u001B[38;5;241;43m==\u001B[39;49m\u001B[43m \u001B[49m\u001B[38;5;241;43m1\u001B[39;49m\u001B[43m]\u001B[49m\u001B[43m]\u001B[49m\u001B[43m,\u001B[49m\n\u001B[0;32m    849\u001B[0m \u001B[43m    \u001B[49m\u001B[38;5;28;43msum\u001B[39;49m\n\u001B[0;32m    850\u001B[0m \u001B[43m\u001B[49m\u001B[43m)\u001B[49m\n\u001B[0;32m    852\u001B[0m \u001B[38;5;28;01mif\u001B[39;00m flag:\n\u001B[0;32m    853\u001B[0m     r_text \u001B[38;5;241m=\u001B[39m \u001B[38;5;124mf\u001B[39m\u001B[38;5;124m\"\u001B[39m\u001B[38;5;124mДанные > SWL \u001B[39m\u001B[38;5;124m\"\u001B[39m\n",
      "File \u001B[1;32mD:\\Work\\QA_QC_proj\\qa_qc_lib\\tests\\cubes_tests\\cubes.py:176\u001B[0m, in \u001B[0;36mQA_QC_cubes.__test_value_conditions\u001B[1;34m(self, prop_name, lambda_list, f)\u001B[0m\n\u001B[0;32m    159\u001B[0m \u001B[38;5;28;01mdef\u001B[39;00m \u001B[38;5;21m__test_value_conditions\u001B[39m(\u001B[38;5;28mself\u001B[39m, prop_name: \u001B[38;5;28mstr\u001B[39m, lambda_list: \u001B[38;5;28mlist\u001B[39m[\u001B[38;5;28many\u001B[39m], f) \u001B[38;5;241m-\u001B[39m\u001B[38;5;241m>\u001B[39m \u001B[38;5;28mtuple\u001B[39m[\n\u001B[0;32m    160\u001B[0m     \u001B[38;5;28mbool\u001B[39m, np\u001B[38;5;241m.\u001B[39marray \u001B[38;5;129;01mor\u001B[39;00m \u001B[38;5;28;01mNone\u001B[39;00m\n\u001B[0;32m    161\u001B[0m ]:\n\u001B[0;32m    162\u001B[0m \u001B[38;5;250m    \u001B[39m\u001B[38;5;124;03m\"\"\"\u001B[39;00m\n\u001B[0;32m    163\u001B[0m \u001B[38;5;124;03m    Абистрактная функция для отправки на проверку конкретных данных из GRDECL файла\u001B[39;00m\n\u001B[0;32m    164\u001B[0m \u001B[38;5;124;03m    Args:\u001B[39;00m\n\u001B[1;32m   (...)\u001B[0m\n\u001B[0;32m    173\u001B[0m \u001B[38;5;124;03m        ]\u001B[39;00m\n\u001B[0;32m    174\u001B[0m \u001B[38;5;124;03m    \"\"\"\u001B[39;00m\n\u001B[1;32m--> 176\u001B[0m     flag, wrong_data \u001B[38;5;241m=\u001B[39m \u001B[38;5;28;43mself\u001B[39;49m\u001B[38;5;241;43m.\u001B[39;49m\u001B[43m__test_range_data\u001B[49m\u001B[43m(\u001B[49m\n\u001B[0;32m    177\u001B[0m \u001B[43m        \u001B[49m\u001B[38;5;28;43mself\u001B[39;49m\u001B[38;5;241;43m.\u001B[39;49m\u001B[43mgrid_model\u001B[49m\u001B[38;5;241;43m.\u001B[39;49m\u001B[43mget_prop_value\u001B[49m\u001B[43m(\u001B[49m\n\u001B[0;32m    178\u001B[0m \u001B[43m            \u001B[49m\u001B[38;5;28;43mself\u001B[39;49m\u001B[38;5;241;43m.\u001B[39;49m\u001B[43mgrid_model\u001B[49m\u001B[38;5;241;43m.\u001B[39;49m\u001B[43mget_grid\u001B[49m\u001B[43m(\u001B[49m\u001B[43m)\u001B[49m\u001B[38;5;241;43m.\u001B[39;49m\u001B[43mget_prop_by_name\u001B[49m\u001B[43m(\u001B[49m\u001B[43mprop_name\u001B[49m\u001B[43m)\u001B[49m\u001B[43m,\u001B[49m\n\u001B[0;32m    179\u001B[0m \u001B[43m            \u001B[49m\u001B[38;5;28;43;01mFalse\u001B[39;49;00m\n\u001B[0;32m    180\u001B[0m \u001B[43m        \u001B[49m\u001B[43m)\u001B[49m\u001B[43m,\u001B[49m\n\u001B[0;32m    181\u001B[0m \u001B[43m        \u001B[49m\u001B[43mlambda_list\u001B[49m\u001B[38;5;241;43m=\u001B[39;49m\u001B[43mlambda_list\u001B[49m\u001B[43m,\u001B[49m\n\u001B[0;32m    182\u001B[0m \u001B[43m        \u001B[49m\u001B[43mf\u001B[49m\u001B[38;5;241;43m=\u001B[39;49m\u001B[43mf\u001B[49m\u001B[43m)\u001B[49m\n\u001B[0;32m    184\u001B[0m     \u001B[38;5;28;01mif\u001B[39;00m flag:\n\u001B[0;32m    185\u001B[0m         \u001B[38;5;28;01mreturn\u001B[39;00m \u001B[38;5;28;01mTrue\u001B[39;00m, \u001B[38;5;28;01mNone\u001B[39;00m\n",
      "File \u001B[1;32mD:\\Work\\QA_QC_proj\\qa_qc_lib\\tests\\cubes_tests\\cubes.py:150\u001B[0m, in \u001B[0;36mQA_QC_cubes.__test_range_data\u001B[1;34m(self, _array, lambda_list, f)\u001B[0m\n\u001B[0;32m    136\u001B[0m \u001B[38;5;28;01mdef\u001B[39;00m \u001B[38;5;21m__test_range_data\u001B[39m(\u001B[38;5;28mself\u001B[39m, _array, lambda_list: \u001B[38;5;28mlist\u001B[39m[\u001B[38;5;28many\u001B[39m], f) \u001B[38;5;241m-\u001B[39m\u001B[38;5;241m>\u001B[39m \u001B[38;5;28mtuple\u001B[39m[\n\u001B[0;32m    137\u001B[0m     \u001B[38;5;28mbool\u001B[39m,\n\u001B[0;32m    138\u001B[0m     np\u001B[38;5;241m.\u001B[39marray \u001B[38;5;129;01mor\u001B[39;00m \u001B[38;5;28;01mNone\u001B[39;00m]:\n\u001B[0;32m    139\u001B[0m \u001B[38;5;250m    \u001B[39m\u001B[38;5;124;03m\"\"\"\u001B[39;00m\n\u001B[0;32m    140\u001B[0m \u001B[38;5;124;03m    Функция для проверки данных в диапазоне\u001B[39;00m\n\u001B[0;32m    141\u001B[0m \n\u001B[1;32m   (...)\u001B[0m\n\u001B[0;32m    148\u001B[0m \u001B[38;5;124;03m            np.array or None: массив со значениями для wrong actnum\u001B[39;00m\n\u001B[0;32m    149\u001B[0m \u001B[38;5;124;03m    \"\"\"\u001B[39;00m\n\u001B[1;32m--> 150\u001B[0m     mask_array \u001B[38;5;241m=\u001B[39m (f([func(_array[\u001B[38;5;28mself\u001B[39m\u001B[38;5;241m.\u001B[39mactnum \u001B[38;5;241m==\u001B[39m \u001B[38;5;241m1\u001B[39m]) \u001B[38;5;28;01mfor\u001B[39;00m func \u001B[38;5;129;01min\u001B[39;00m lambda_list]))\u001B[38;5;241m.\u001B[39mastype(dtype\u001B[38;5;241m=\u001B[39m\u001B[38;5;28mbool\u001B[39m)\n\u001B[0;32m    151\u001B[0m     \u001B[38;5;28;01mif\u001B[39;00m np\u001B[38;5;241m.\u001B[39mall(mask_array):\n\u001B[0;32m    152\u001B[0m         \u001B[38;5;28;01mreturn\u001B[39;00m \u001B[38;5;28;01mTrue\u001B[39;00m, \u001B[38;5;28;01mNone\u001B[39;00m\n",
      "File \u001B[1;32mD:\\Work\\QA_QC_proj\\qa_qc_lib\\tests\\cubes_tests\\cubes.py:150\u001B[0m, in \u001B[0;36m<listcomp>\u001B[1;34m(.0)\u001B[0m\n\u001B[0;32m    136\u001B[0m \u001B[38;5;28;01mdef\u001B[39;00m \u001B[38;5;21m__test_range_data\u001B[39m(\u001B[38;5;28mself\u001B[39m, _array, lambda_list: \u001B[38;5;28mlist\u001B[39m[\u001B[38;5;28many\u001B[39m], f) \u001B[38;5;241m-\u001B[39m\u001B[38;5;241m>\u001B[39m \u001B[38;5;28mtuple\u001B[39m[\n\u001B[0;32m    137\u001B[0m     \u001B[38;5;28mbool\u001B[39m,\n\u001B[0;32m    138\u001B[0m     np\u001B[38;5;241m.\u001B[39marray \u001B[38;5;129;01mor\u001B[39;00m \u001B[38;5;28;01mNone\u001B[39;00m]:\n\u001B[0;32m    139\u001B[0m \u001B[38;5;250m    \u001B[39m\u001B[38;5;124;03m\"\"\"\u001B[39;00m\n\u001B[0;32m    140\u001B[0m \u001B[38;5;124;03m    Функция для проверки данных в диапазоне\u001B[39;00m\n\u001B[0;32m    141\u001B[0m \n\u001B[1;32m   (...)\u001B[0m\n\u001B[0;32m    148\u001B[0m \u001B[38;5;124;03m            np.array or None: массив со значениями для wrong actnum\u001B[39;00m\n\u001B[0;32m    149\u001B[0m \u001B[38;5;124;03m    \"\"\"\u001B[39;00m\n\u001B[1;32m--> 150\u001B[0m     mask_array \u001B[38;5;241m=\u001B[39m (f([func(\u001B[43m_array\u001B[49m\u001B[43m[\u001B[49m\u001B[38;5;28;43mself\u001B[39;49m\u001B[38;5;241;43m.\u001B[39;49m\u001B[43mactnum\u001B[49m\u001B[43m \u001B[49m\u001B[38;5;241;43m==\u001B[39;49m\u001B[43m \u001B[49m\u001B[38;5;241;43m1\u001B[39;49m\u001B[43m]\u001B[49m) \u001B[38;5;28;01mfor\u001B[39;00m func \u001B[38;5;129;01min\u001B[39;00m lambda_list]))\u001B[38;5;241m.\u001B[39mastype(dtype\u001B[38;5;241m=\u001B[39m\u001B[38;5;28mbool\u001B[39m)\n\u001B[0;32m    151\u001B[0m     \u001B[38;5;28;01mif\u001B[39;00m np\u001B[38;5;241m.\u001B[39mall(mask_array):\n\u001B[0;32m    152\u001B[0m         \u001B[38;5;28;01mreturn\u001B[39;00m \u001B[38;5;28;01mTrue\u001B[39;00m, \u001B[38;5;28;01mNone\u001B[39;00m\n",
      "\u001B[1;31mIndexError\u001B[0m: too many indices for array: array is 1-dimensional, but 3 were indexed"
     ]
    }
   ],
   "source": [
    "start_time = time.time()\n",
    "cubes = QA_QC_cubes(\n",
    "    directory_path=\"../../../data/grdecl_data\",\n",
    "    grid_name=\"GRID\",\n",
    "    sw_file_path=\"../../../data/grdecl_data/input/Sw.GRDECL.grdecl\",\n",
    "    swl_file_path=\"../../../data/grdecl_data/input/Swl.GRDECL.grdecl\",\n",
    "    save_wrong_data_path=\"../report\"\n",
    ")\n",
    "print(cubes.test_swl_sw())\n",
    "print(\"--- %s seconds ---\" % (time.time() - start_time))"
   ],
   "metadata": {
    "collapsed": false
   }
  },
  {
   "cell_type": "code",
   "execution_count": null,
   "outputs": [],
   "source": [],
   "metadata": {
    "collapsed": false
   }
  }
 ],
 "metadata": {
  "kernelspec": {
   "display_name": "Python 3",
   "language": "python",
   "name": "python3"
  },
  "language_info": {
   "codemirror_mode": {
    "name": "ipython",
    "version": 2
   },
   "file_extension": ".py",
   "mimetype": "text/x-python",
   "name": "python",
   "nbconvert_exporter": "python",
   "pygments_lexer": "ipython2",
   "version": "2.7.6"
  }
 },
 "nbformat": 4,
 "nbformat_minor": 0
}
