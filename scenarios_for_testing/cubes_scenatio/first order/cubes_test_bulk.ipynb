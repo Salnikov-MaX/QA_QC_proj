{
 "cells": [
  {
   "cell_type": "code",
   "execution_count": 1,
   "metadata": {
    "collapsed": true,
    "ExecuteTime": {
     "end_time": "2023-11-27T07:21:06.178783600Z",
     "start_time": "2023-11-27T07:21:06.147534100Z"
    }
   },
   "outputs": [],
   "source": [
    "\n",
    "import time"
   ]
  },
  {
   "cell_type": "code",
   "execution_count": 2,
   "outputs": [],
   "source": [
    "from qa_qc_lib.tests.cubes_tests.cubes import QA_QC_cubes"
   ],
   "metadata": {
    "collapsed": false,
    "ExecuteTime": {
     "end_time": "2023-11-27T07:21:06.919908800Z",
     "start_time": "2023-11-27T07:21:06.178783600Z"
    }
   }
  },
  {
   "cell_type": "code",
   "execution_count": 3,
   "outputs": [
    {
     "name": "stdout",
     "output_type": "stream",
     "text": [
      "{'data_availability': True, 'result': True, 'specification': {'wrong_data': None}}\n",
      "--- 18.755536794662476 seconds ---\n"
     ]
    }
   ],
   "source": [
    "start_time = time.time()\n",
    "cubes = QA_QC_cubes(\n",
    "    directory_path=\"../../../data/grdecl_data\",\n",
    "    grid_name=\"GRID\",\n",
    "    save_wrong_data_path=\"../report\"\n",
    ")\n",
    "print(cubes.test_bulk())\n",
    "print(\"--- %s seconds ---\" % (time.time() - start_time))"
   ],
   "metadata": {
    "collapsed": false,
    "ExecuteTime": {
     "end_time": "2023-11-27T07:21:25.691060500Z",
     "start_time": "2023-11-27T07:21:06.919908800Z"
    }
   }
  },
  {
   "cell_type": "code",
   "execution_count": null,
   "outputs": [],
   "source": [],
   "metadata": {
    "collapsed": false
   }
  }
 ],
 "metadata": {
  "kernelspec": {
   "display_name": "Python 3",
   "language": "python",
   "name": "python3"
  },
  "language_info": {
   "codemirror_mode": {
    "name": "ipython",
    "version": 2
   },
   "file_extension": ".py",
   "mimetype": "text/x-python",
   "name": "python",
   "nbconvert_exporter": "python",
   "pygments_lexer": "ipython2",
   "version": "2.7.6"
  }
 },
 "nbformat": 4,
 "nbformat_minor": 0
}
