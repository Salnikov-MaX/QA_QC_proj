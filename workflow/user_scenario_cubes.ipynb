{
 "cells": [
  {
   "cell_type": "code",
   "execution_count": 4,
   "metadata": {
    "collapsed": true
   },
   "outputs": [],
   "source": [
    "import numpy as np\n",
    "import pandas as pd\n",
    "import time"
   ]
  },
  {
   "cell_type": "code",
   "execution_count": 5,
   "outputs": [],
   "source": [
    "from qa_qc_lib.qa_qc_kern import QA_QC_kern\n",
    "from qa_qc_lib.qa_qc_cubes import QA_QC_cubes"
   ],
   "metadata": {
    "collapsed": false
   }
  },
  {
   "cell_type": "code",
   "execution_count": 6,
   "outputs": [
    {
     "name": "stdout",
     "output_type": "stream",
     "text": [
      "Скважина 0.0 прошла тест\n",
      "Скважина 1.0 не прошла тест\n",
      "Скважина 2.0 прошла тест\n",
      "Скважина 3.0 прошла тест\n",
      "Тест не пройден!!!\n",
      "--- 9.135347366333008 seconds ---\n"
     ]
    }
   ],
   "source": [
    "start_time = time.time()\n",
    "df = pd.read_excel(\n",
    "    \"../data/grdecl_data/test_data_kern-cubes.xlsx\",\n",
    "    sheet_name=\"Лист2\"\n",
    ")\n",
    "kpr = df[\"Кпр_абс\"].to_numpy()\n",
    "kp = df[\"Кп_откр\"].to_numpy()\n",
    "lit = df[\"Скважина\"].to_numpy()\n",
    "kern = QA_QC_kern(kpr=kpr, porosity_open=kp,lithotype=lit)\n",
    "\n",
    "cubes = QA_QC_cubes(\n",
    "    directory_path=\"../data/grdecl_data\",\n",
    "    grid_name=\"GRID\",\n",
    "    qa_qc_kern=kern,\n",
    "    open_porosity_file_path=\"../data/grdecl_data/input/Poro.GRDECL.grdecl\",\n",
    "    open_perm_x_file_path=\"../data/grdecl_data/input/Perm.GRDECL.grdecl\",\n",
    "    litatype_file_path=\"../data/grdecl_data/input/litho.GRDECL.grdecl\")\n",
    "\n",
    "cubes.test_kern_data_dependence_kpr_kp()\n",
    "print(\"--- %s seconds ---\" % (time.time() - start_time))"
   ],
   "metadata": {
    "collapsed": false
   }
  },
  {
   "cell_type": "markdown",
   "source": [],
   "metadata": {
    "collapsed": false
   }
  }
 ],
 "metadata": {
  "kernelspec": {
   "display_name": "Python 3",
   "language": "python",
   "name": "python3"
  },
  "language_info": {
   "codemirror_mode": {
    "name": "ipython",
    "version": 2
   },
   "file_extension": ".py",
   "mimetype": "text/x-python",
   "name": "python",
   "nbconvert_exporter": "python",
   "pygments_lexer": "ipython2",
   "version": "2.7.6"
  }
 },
 "nbformat": 4,
 "nbformat_minor": 0
}
