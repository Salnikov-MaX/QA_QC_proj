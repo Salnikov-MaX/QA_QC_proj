{
 "cells": [
  {
   "cell_type": "code",
   "execution_count": 1,
   "metadata": {
    "collapsed": true
   },
   "outputs": [],
   "source": [
    "import numpy as np\n",
    "import pandas as pd\n",
    "import time"
   ]
  },
  {
   "cell_type": "code",
   "execution_count": 2,
   "outputs": [],
   "source": [
    "from qa_qc_lib.qa_qc_kern import QA_QC_kern\n",
    "from qa_qc_lib.qa_qc_cubes import QA_QC_cubes"
   ],
   "metadata": {
    "collapsed": false
   }
  },
  {
   "cell_type": "markdown",
   "source": [
    "Тесты первого порядка"
   ],
   "metadata": {
    "collapsed": false
   }
  },
  {
   "cell_type": "code",
   "execution_count": 3,
   "outputs": [
    {
     "name": "stdout",
     "output_type": "stream",
     "text": [
      "../data/grdecl_data/input/Poro.GRDECL.grdecl -> PORO\n",
      "Файл WRONG_ACTNUM сохранён по пути: ../report\n",
      "Тест не пройден Данные лежат не в интервале от 0 до 47,6\n",
      "--- 7.911636590957642 seconds ---\n"
     ]
    }
   ],
   "source": [
    "start_time = time.time()\n",
    "cubes = QA_QC_cubes(\n",
    "    directory_path=\"../data/grdecl_data\",\n",
    "    grid_name=\"GRID\",\n",
    "    open_porosity_file_path=\"../data/grdecl_data/input/Poro.GRDECL.grdecl\",\n",
    "    save_wrong_data_path=\"../report\"\n",
    ")\n",
    "cubes.test_open_porosity()\n",
    "print(\"--- %s seconds ---\" % (time.time() - start_time))"
   ],
   "metadata": {
    "collapsed": false
   }
  },
  {
   "cell_type": "code",
   "execution_count": 4,
   "outputs": [
    {
     "name": "stdout",
     "output_type": "stream",
     "text": [
      "../data/grdecl_data/input/Perm.GRDECL.grdecl -> PERMX\n",
      "Файл WRONG_ACTNUM сохранён по пути: ../report\n",
      "Тест не пройден Данные < 0\n",
      "--- 7.704356908798218 seconds ---\n"
     ]
    }
   ],
   "source": [
    "start_time = time.time()\n",
    "cubes = QA_QC_cubes(\n",
    "    directory_path=\"../data/grdecl_data\",\n",
    "    grid_name=\"GRID\",\n",
    "    open_perm_x_file_path=\"../data/grdecl_data/input/Perm.GRDECL.grdecl\",\n",
    "    save_wrong_data_path=\"../report\"\n",
    ")\n",
    "\n",
    "cubes.test_permeability_permX()\n",
    "print(\"--- %s seconds ---\" % (time.time() - start_time))"
   ],
   "metadata": {
    "collapsed": false
   }
  },
  {
   "cell_type": "code",
   "execution_count": 5,
   "outputs": [
    {
     "name": "stdout",
     "output_type": "stream",
     "text": [
      "../data/grdecl_data/input/Swl.GRDECL.grdecl -> IRR.WATERSATURATION\n",
      "Файл WRONG_ACTNUM сохранён по пути: ../report\n",
      "Тест не пройден Данные лежат не в интервале от 0 до 1\n",
      "--- 7.806146144866943 seconds ---\n"
     ]
    }
   ],
   "source": [
    "start_time = time.time()\n",
    "cubes = QA_QC_cubes(\n",
    "    directory_path=\"../data/grdecl_data\",\n",
    "    grid_name=\"GRID\",\n",
    "    swl_file_path =\"../data/grdecl_data/input/Swl.GRDECL.grdecl\",\n",
    "    save_wrong_data_path=\"../report\"\n",
    ")\n",
    "\n",
    "cubes.test_range_data_swl()\n",
    "print(\"--- %s seconds ---\" % (time.time() - start_time))"
   ],
   "metadata": {
    "collapsed": false
   }
  },
  {
   "cell_type": "code",
   "execution_count": 6,
   "outputs": [
    {
     "name": "stdout",
     "output_type": "stream",
     "text": [
      "Тест пройден\n",
      "--- 6.211733102798462 seconds ---\n"
     ]
    }
   ],
   "source": [
    "start_time = time.time()\n",
    "cubes = QA_QC_cubes(\n",
    "    directory_path=\"../data/grdecl_data\",\n",
    "    grid_name=\"GRID\",\n",
    "    save_wrong_data_path=\"../report\"\n",
    ")\n",
    "\n",
    "cubes.test_right_actnum()\n",
    "print(\"--- %s seconds ---\" % (time.time() - start_time))"
   ],
   "metadata": {
    "collapsed": false
   }
  },
  {
   "cell_type": "code",
   "execution_count": 7,
   "outputs": [
    {
     "name": "stdout",
     "output_type": "stream",
     "text": [
      "../data/grdecl_data/input/litho.GRDECL.grdecl -> LITHOLOGIES\n",
      "Файл WRONG_ACTNUM сохранён по пути: ../report\n",
      "Тест не пройден Данные не целочисленные\n",
      "--- 7.624594688415527 seconds ---\n"
     ]
    }
   ],
   "source": [
    "start_time = time.time()\n",
    "cubes = QA_QC_cubes(\n",
    "    directory_path=\"../data/grdecl_data\",\n",
    "    grid_name=\"GRID\",\n",
    "    litatype_file_path=\"../data/grdecl_data/input/litho.GRDECL.grdecl\",\n",
    "    save_wrong_data_path=\"../report\"\n",
    ")\n",
    "\n",
    "cubes.test_litatype()\n",
    "print(\"--- %s seconds ---\" % (time.time() - start_time))"
   ],
   "metadata": {
    "collapsed": false
   }
  },
  {
   "cell_type": "code",
   "execution_count": 8,
   "outputs": [
    {
     "name": "stdout",
     "output_type": "stream",
     "text": [
      "Тест пройден\n",
      "--- 14.962353229522705 seconds ---\n"
     ]
    }
   ],
   "source": [
    "start_time = time.time()\n",
    "cubes = QA_QC_cubes(\n",
    "    directory_path=\"../data/grdecl_data\",\n",
    "    grid_name=\"GRID\",\n",
    "    save_wrong_data_path=\"../report\"\n",
    ")\n",
    "\n",
    "cubes.test_bulk()\n",
    "print(\"--- %s seconds ---\" % (time.time() - start_time))"
   ],
   "metadata": {
    "collapsed": false
   }
  },
  {
   "cell_type": "markdown",
   "source": [
    "Тесты второго порядка"
   ],
   "metadata": {
    "collapsed": false
   }
  },
  {
   "cell_type": "code",
   "execution_count": 4,
   "outputs": [
    {
     "name": "stdout",
     "output_type": "stream",
     "text": [
      "../data/grdecl_data/input/Sw.GRDECL.grdecl -> SWAT\n",
      "../data/grdecl_data/input/So.GRDECL.grdecl -> SOIL\n",
      "../data/grdecl_data/input/Sg.GRDECL.grdecl -> SGAS\n",
      "Тест не пройден Cумма кубов != 1\n",
      "Файл WRONG_ACTNUM сохранён по пути: ../report\n",
      "--- 8.486317157745361 seconds ---\n"
     ]
    }
   ],
   "source": [
    "start_time = time.time()\n",
    "cubes = QA_QC_cubes(\n",
    "    directory_path=\"../data/grdecl_data\",\n",
    "    grid_name=\"GRID\",\n",
    "    sw_file_path=\"../data/grdecl_data/input/Sw.GRDECL.grdecl\",\n",
    "    sg_file_path=\"../data/grdecl_data/input/Sg.GRDECL.grdecl\",\n",
    "    so_file_path=\"../data/grdecl_data/input/So.GRDECL.grdecl\",\n",
    "    save_wrong_data_path=\"../report\"\n",
    ")\n",
    "\n",
    "cubes.test_sum_cubes()\n",
    "print(\"--- %s seconds ---\" % (time.time() - start_time))"
   ],
   "metadata": {
    "collapsed": false
   }
  },
  {
   "cell_type": "code",
   "execution_count": 3,
   "outputs": [
    {
     "name": "stdout",
     "output_type": "stream",
     "text": [
      "../data/grdecl_data/input/Sgcr.GRDECL.grdecl -> SGCR\n",
      "../data/grdecl_data/input/Sgl.GRDECL.grdecl -> IRR.GASSATURATION\n",
      "Тест пройден\n",
      "--- 6.776064395904541 seconds ---\n"
     ]
    }
   ],
   "source": [
    "start_time = time.time()\n",
    "cubes = QA_QC_cubes(\n",
    "    directory_path=\"../data/grdecl_data\",\n",
    "    grid_name=\"GRID\",\n",
    "    sgcr_file_path=\"../data/grdecl_data/input/Sgcr.GRDECL.grdecl\",\n",
    "    sgl_file_path=\"../data/grdecl_data/input/Sgl.GRDECL.grdecl\",\n",
    "    save_wrong_data_path=\"../report\"\n",
    ")\n",
    "\n",
    "cubes.test_affiliation_sqcr()\n",
    "print(\"--- %s seconds ---\" % (time.time() - start_time))"
   ],
   "metadata": {
    "collapsed": false
   }
  },
  {
   "cell_type": "code",
   "execution_count": 3,
   "outputs": [
    {
     "name": "stdout",
     "output_type": "stream",
     "text": [
      "../data/grdecl_data/input/Swl.GRDECL.grdecl -> IRR.WATERSATURATION\n",
      "../data/grdecl_data/input/Swcr.GRDECL.grdecl -> CRITICALWATERSATURATION\n",
      "Тест не пройден Данные < SWL \n",
      "Файл WRONG_ACTNUM сохранён по пути: ../report\n",
      "--- 8.471664190292358 seconds ---\n"
     ]
    }
   ],
   "source": [
    "start_time = time.time()\n",
    "cubes = QA_QC_cubes(\n",
    "    directory_path=\"../data/grdecl_data\",\n",
    "    grid_name=\"GRID\",\n",
    "    swcr_file_path=\"../data/grdecl_data/input/Swcr.GRDECL.grdecl\",\n",
    "    swl_file_path=\"../data/grdecl_data/input/Swl.GRDECL.grdecl\",\n",
    "    save_wrong_data_path=\"../report\"\n",
    ")\n",
    "\n",
    "cubes.test_affiliation_swcr()\n",
    "print(\"--- %s seconds ---\" % (time.time() - start_time))"
   ],
   "metadata": {
    "collapsed": false
   }
  },
  {
   "cell_type": "code",
   "execution_count": 3,
   "outputs": [
    {
     "name": "stdout",
     "output_type": "stream",
     "text": [
      "../data/grdecl_data/input/Sw.GRDECL.grdecl -> SWAT\n",
      "../data/grdecl_data/input/Swl.GRDECL.grdecl -> IRR.WATERSATURATION\n",
      "Файл WRONG_ACTNUM сохранён по пути: ../report\n",
      "Тест не пройден Данные <= SWL \n",
      "--- 8.328194618225098 seconds ---\n"
     ]
    }
   ],
   "source": [
    "start_time = time.time()\n",
    "cubes = QA_QC_cubes(\n",
    "    directory_path=\"../data/grdecl_data\",\n",
    "    grid_name=\"GRID\",\n",
    "    sw_file_path=\"../data/grdecl_data/input/Sw.GRDECL.grdecl\",\n",
    "    swl_file_path=\"../data/grdecl_data/input/Swl.GRDECL.grdecl\",\n",
    "    save_wrong_data_path=\"../report\"\n",
    ")\n",
    "\n",
    "cubes.test_swl_sw()\n",
    "print(\"--- %s seconds ---\" % (time.time() - start_time))"
   ],
   "metadata": {
    "collapsed": false
   }
  },
  {
   "cell_type": "markdown",
   "source": [
    "Тесты третьего порядка"
   ],
   "metadata": {
    "collapsed": false
   }
  },
  {
   "cell_type": "code",
   "execution_count": 5,
   "outputs": [
    {
     "name": "stdout",
     "output_type": "stream",
     "text": [
      "../data/grdecl_data/input/Poro.GRDECL.grdecl -> PORO\n",
      "../data/grdecl_data/input/Perm.GRDECL.grdecl -> PERMX\n",
      "Скважина lit_none не прошла тест\n",
      "Тест не пройден!!!\n",
      "--- 7.240238904953003 seconds ---\n"
     ]
    }
   ],
   "source": [
    "start_time = time.time()\n",
    "df = pd.read_excel(\n",
    "    \"../data/grdecl_data/test_data_kern-cubes.xlsx\",\n",
    "    sheet_name=\"Лист2\"\n",
    ")\n",
    "kpr = df[\"Кпр_абс\"].to_numpy()\n",
    "kp = df[\"Кп_откр\"].to_numpy()\n",
    "lit = df[\"Скважина\"].to_numpy()\n",
    "kern = QA_QC_kern(kpr=kpr, porosity_open=kp)#,lithotype=lit)\n",
    "\n",
    "cubes = QA_QC_cubes(\n",
    "    directory_path=\"../data/grdecl_data\",\n",
    "    grid_name=\"GRID\",\n",
    "    qa_qc_kern=kern,\n",
    "    open_porosity_file_path=\"../data/grdecl_data/input/Poro.GRDECL.grdecl\",\n",
    "    open_perm_x_file_path=\"../data/grdecl_data/input/Perm.GRDECL.grdecl\",\n",
    "    #litatype_file_path=\"../data/grdecl_data/input/litho.GRDECL.grdecl\"\n",
    "    )\n",
    "\n",
    "cubes.test_kern_data_dependence_kpr_kp()\n",
    "print(\"--- %s seconds ---\" % (time.time() - start_time))"
   ],
   "metadata": {
    "collapsed": false
   }
  },
  {
   "cell_type": "markdown",
   "source": [],
   "metadata": {
    "collapsed": false
   }
  }
 ],
 "metadata": {
  "kernelspec": {
   "display_name": "Python 3",
   "language": "python",
   "name": "python3"
  },
  "language_info": {
   "codemirror_mode": {
    "name": "ipython",
    "version": 2
   },
   "file_extension": ".py",
   "mimetype": "text/x-python",
   "name": "python",
   "nbconvert_exporter": "python",
   "pygments_lexer": "ipython2",
   "version": "2.7.6"
  }
 },
 "nbformat": 4,
 "nbformat_minor": 0
}
