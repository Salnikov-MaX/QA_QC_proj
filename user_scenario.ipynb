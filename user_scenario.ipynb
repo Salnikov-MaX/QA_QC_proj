{
 "cells": [
  {
   "cell_type": "code",
   "execution_count": null,
   "metadata": {},
   "outputs": [],
   "source": [
    "from qa_qc_lib.qa_qc_seismic import QA_QC_seismic"
   ]
  },
  {
   "cell_type": "code",
   "execution_count": null,
   "metadata": {},
   "outputs": [],
   "source": [
    "file_path = 'path to file'\n",
    "data1_tests = QA_QC_seismic(file_path=file_path)"
   ]
  },
  {
   "cell_type": "code",
   "execution_count": null,
   "metadata": {},
   "outputs": [],
   "source": [
    "list_of_tests = data1_tests.get_list_of_tests()\n",
    "list_of_tests"
   ]
  },
  {
   "cell_type": "code",
   "execution_count": null,
   "metadata": {},
   "outputs": [],
   "source": [
    "data1_tests.start_tests(list_of_tests[0:5])"
   ]
  },
  {
   "cell_type": "code",
   "execution_count": null,
   "metadata": {},
   "outputs": [],
   "source": [
    "data1_tests.generate_test_report()"
   ]
  }
 ],
 "metadata": {
  "kernelspec": {
   "display_name": "Python 3.10.0 64-bit",
   "language": "python",
   "name": "python3"
  },
  "language_info": {
   "name": "python",
   "version": "3.10.0"
  },
  "orig_nbformat": 4,
  "vscode": {
   "interpreter": {
    "hash": "2ecc67e1be80a1581bd9497160b9a03318209eae88e0db2536fc7bf961f4e4e3"
   }
  }
 },
 "nbformat": 4,
 "nbformat_minor": 2
}
