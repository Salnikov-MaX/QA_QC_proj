{
 "cells": [
  {
   "cell_type": "code",
   "execution_count": null,
   "outputs": [],
   "source": [
    "from qa_qc_lib.qa_qc_kern import QA_QC_kern\n",
    "import numpy as np\n",
    "import pandas as pd\n",
    "import time"
   ],
   "metadata": {
    "collapsed": false
   }
  },
  {
   "cell_type": "code",
   "execution_count": null,
   "outputs": [],
   "source": [
    "start_time = time.time()\n",
    "df=pd.read_excel(\"C:/Users/nikit/Downloads/DispersionFail(L-H).xlsx\")\n",
    "df=df[[\"Depth, m\",\"Porosity\"]].dropna()\n",
    "x=df[\"Depth, m\"].dropna().to_numpy()\n",
    "y=df[\"Porosity\"].dropna().to_numpy()\n",
    "path=r\"C:\\Users\\nikit\\Downloads\"\n",
    "tests = QA_QC_kern(file_path=path)\n",
    "print(tests.get_method_description(\"test_general_dependency_checking\"))\n",
    "tests.test_general_dependency_checking(x,y)\n",
    "tests.generate_test_report()\n",
    "print(\"--- %s seconds ---\" % (time.time() - start_time))"
   ],
   "metadata": {
    "collapsed": false
   }
  },
  {
   "cell_type": "code",
   "execution_count": null,
   "outputs": [],
   "source": [
    "start_time = time.time()\n",
    "df=pd.read_excel(\"C:/Users/nikit/Downloads/DispersionOK(L-H).xlsx\")\n",
    "df=df[[\"Density, g/cc\",\"Porosity\"]].dropna()\n",
    "x=df[\"Density, g/cc\"].dropna().to_numpy()\n",
    "y=df[\"Porosity\"].dropna().to_numpy()\n",
    "path=r\"C:\\Users\\nikit\\Downloads\"\n",
    "tests = QA_QC_kern(file_path=path)\n",
    "print(tests.get_method_description(\"test_general_dependency_checking\"))\n",
    "tests.test_general_dependency_checking(x,y)\n",
    "tests.generate_test_report()\n",
    "print(\"--- %s seconds ---\" % (time.time() - start_time))"
   ],
   "metadata": {
    "collapsed": false
   }
  },
  {
   "cell_type": "code",
   "execution_count": null,
   "outputs": [],
   "source": [],
   "metadata": {
    "collapsed": false
   }
  },
  {
   "cell_type": "code",
   "execution_count": null,
   "outputs": [],
   "source": [
    "start_time = time.time()\n",
    "df=pd.read_excel(\"C:/Users/nikit/Downloads/Swc-PoroFail(N-H).xlsx\")\n",
    "df=df[[\"Sw\",\"Porosity\"]].dropna()\n",
    "x=df[\"Sw\"].dropna().to_numpy()\n",
    "y=df[\"Porosity\"].dropna().to_numpy()\n",
    "path=r\"C:\\Users\\nikit\\Downloads\"\n",
    "tests = QA_QC_kern(kvo=x,kp=y,file_path=path)\n",
    "print(tests.get_method_description(\"test_quo_kp_dependence\"))\n",
    "tests.start_tests([\"test_quo_kp_dependence\"])\n",
    "tests.generate_test_report()\n",
    "print(\"--- %s seconds ---\" % (time.time() - start_time))"
   ],
   "metadata": {
    "collapsed": false
   }
  },
  {
   "cell_type": "code",
   "execution_count": null,
   "outputs": [],
   "source": [
    "start_time = time.time()\n",
    "df=pd.read_excel(\"C:/Users/nikit/Downloads/Swc-PoroOK(N-H).xlsx\")\n",
    "df=df[[\"Sw\",\"Porosity\"]].dropna()\n",
    "y=df[\"Sw\"].dropna().to_numpy()\n",
    "x=df[\"Porosity\"].dropna().to_numpy()\n",
    "path=r\"C:\\Users\\nikit\\Downloads\"\n",
    "tests = QA_QC_kern(kvo=x, kp=y,file_path=path)\n",
    "tests.get_method_description(\"test_quo_kp_dependence\")\n",
    "tests.start_tests([\"test_quo_kp_dependence\"])\n",
    "tests.generate_test_report()\n",
    "print(\"--- %s seconds ---\" % (time.time() - start_time))"
   ],
   "metadata": {
    "collapsed": false
   }
  },
  {
   "cell_type": "code",
   "execution_count": null,
   "outputs": [],
   "source": [],
   "metadata": {
    "collapsed": false
   }
  },
  {
   "cell_type": "code",
   "execution_count": null,
   "outputs": [],
   "source": [
    "start_time = time.time()\n",
    "df=pd.read_excel(\"C:/Users/nikit/Downloads/Density-PoroOK(J-H).xlsx\")\n",
    "df=df[[\"Density, g/cc\",\"Porosity\"]].dropna()\n",
    "x=df[\"Density, g/cc\"].dropna().to_numpy()\n",
    "y=df[\"Porosity\"].dropna().to_numpy()\n",
    "path=r\"C:\\Users\\nikit\\Downloads\"\n",
    "tests = QA_QC_kern(density=x, kp=y,file_path=path)\n",
    "print(tests.get_method_description(\"test_kp_density_dependence\"))\n",
    "tests.start_tests([\"test_kp_density_dependence\"])\n",
    "tests.generate_test_report()\n",
    "print(\"--- %s seconds ---\" % (time.time() - start_time))"
   ],
   "metadata": {
    "collapsed": false
   }
  },
  {
   "cell_type": "code",
   "execution_count": null,
   "outputs": [],
   "source": [
    "start_time = time.time()\n",
    "df=pd.read_excel(\"C:/Users/nikit/Downloads/Density-PoroFail(J-H) (1).xlsx\")\n",
    "df=df[[\"Density, g/cc\",\"Porosity\"]].dropna()\n",
    "x=df[\"Density, g/cc\"].dropna().to_numpy()\n",
    "y=df[\"Porosity\"].dropna().to_numpy()\n",
    "path=r\"C:\\Users\\nikit\\Downloads\"\n",
    "tests = QA_QC_kern(density=x, kp=y,file_path=path)\n",
    "print(tests.get_method_description(\"test_kp_density_dependence\"))\n",
    "tests.start_tests([\"test_kp_density_dependence\"])\n",
    "tests.generate_test_report()\n",
    "print(\"--- %s seconds ---\" % (time.time() - start_time))"
   ],
   "metadata": {
    "collapsed": false
   }
  },
  {
   "cell_type": "code",
   "execution_count": null,
   "outputs": [],
   "source": [],
   "metadata": {
    "collapsed": false
   }
  },
  {
   "cell_type": "code",
   "execution_count": null,
   "outputs": [],
   "source": [
    "start_time = time.time()\n",
    "# df=pd.read_excel(\".../file.xlsx\")\n",
    "x=np.array([8,7,6,5,4,3,2])\n",
    "y=np.array([2,3,4,5,6,7,8])\n",
    "path=r\"C:\\Users\\nikit\\Downloads\"\n",
    "tests = QA_QC_kern(kvo=x, kp_din=y,file_path=path)\n",
    "print(tests.get_method_description(\"test_kvo_kp_din_dependence\"))\n",
    "tests.start_tests([\"test_kvo_kp_din_dependence\"])\n",
    "tests.generate_test_report()\n",
    "print(\"--- %s seconds ---\" % (time.time() - start_time))"
   ],
   "metadata": {
    "collapsed": false
   }
  },
  {
   "cell_type": "code",
   "execution_count": null,
   "outputs": [],
   "source": [
    "start_time = time.time()\n",
    "# df=pd.read_excel(\".../file.xlsx\")\n",
    "x=np.array([1,2,3,4,5,6,7,50])\n",
    "y=np.array([1,2,3,4,5,6,7,50])\n",
    "path=r\"C:\\Users\\nikit\\Downloads\"\n",
    "tests = QA_QC_kern(kvo=x, kp_din=y,file_path=path)\n",
    "print(tests.get_method_description(\"test_kvo_kp_din_dependence\"))\n",
    "tests.start_tests([\"test_kvo_kp_din_dependence\"])\n",
    "tests.generate_test_report()\n",
    "print(\"--- %s seconds ---\" % (time.time() - start_time))"
   ],
   "metadata": {
    "collapsed": false
   }
  },
  {
   "cell_type": "code",
   "execution_count": null,
   "outputs": [],
   "source": [],
   "metadata": {
    "collapsed": false
   }
  },
  {
   "cell_type": "code",
   "execution_count": null,
   "outputs": [],
   "source": [
    "start_time = time.time()\n",
    "# df=pd.read_excel(\".../file.xlsx\")\n",
    "x=np.array([1,2,3,4,5,6,7,50])\n",
    "y=np.array([1,2,3,4,5,6,7,50])\n",
    "z=np.array([1,2,3,4,5,6,7,50])\n",
    "path=r\"C:\\Users\\nikit\\Downloads\"\n",
    "tests = QA_QC_kern(obplnas=x, minple=y,kp=z,file_path=path)\n",
    "print(tests.get_method_description(\"test_obblnas_kp_dependence\"))\n",
    "tests.start_tests([\"test_obblnas_kp_dependence\"])\n",
    "tests.generate_test_report()\n",
    "print(\"--- %s seconds ---\" % (time.time() - start_time))"
   ],
   "metadata": {
    "collapsed": false
   }
  },
  {
   "cell_type": "code",
   "execution_count": null,
   "outputs": [],
   "source": [
    "start_time = time.time()\n",
    "# df=pd.read_excel(\".../file.xlsx\")\n",
    "x=np.array([1,2,3,4,5,6,7,50])\n",
    "y=np.array([50,10,9,8,7,6,5,4])\n",
    "z=np.array([1,2,3,4,5,6,7,50])\n",
    "path=r\"C:\\Users\\nikit\\Downloads\"\n",
    "tests = QA_QC_kern(obplnas=x, minple=y,kp=z,file_path=path)\n",
    "print(tests.get_method_description(\"test_obblnas_kp_dependence\"))\n",
    "tests.start_tests([\"test_obblnas_kp_dependence\"])\n",
    "tests.generate_test_report()\n",
    "print(\"--- %s seconds ---\" % (time.time() - start_time))"
   ],
   "metadata": {
    "collapsed": false
   }
  },
  {
   "cell_type": "code",
   "execution_count": null,
   "outputs": [],
   "source": [],
   "metadata": {
    "collapsed": false
   }
  },
  {
   "cell_type": "code",
   "execution_count": null,
   "outputs": [],
   "source": [
    "start_time = time.time()\n",
    "# df=pd.read_excel(\".../file.xlsx\")\n",
    "x=np.array([8,7,6,5,4,3,2])\n",
    "y=np.array([2,3,4,5,6,7,8])\n",
    "path=r\"C:\\Users\\nikit\\Downloads\"\n",
    "tests = QA_QC_kern(kp_ef=x, kp_din=y,file_path=path)\n",
    "print(tests.get_method_description(\"test_kp_ef_kpdin_dependence\"))\n",
    "tests.start_tests([\"test_kp_ef_kpdin_dependence\"])\n",
    "tests.generate_test_report()\n",
    "print(\"--- %s seconds ---\" % (time.time() - start_time))"
   ],
   "metadata": {
    "collapsed": false
   }
  },
  {
   "cell_type": "code",
   "execution_count": null,
   "outputs": [],
   "source": [
    "start_time = time.time()\n",
    "# df=pd.read_excel(\".../file.xlsx\")\n",
    "x=np.array([1,2,3,4,5,6,7,50])\n",
    "y=np.array([1,2,3,4,5,6,7,50])\n",
    "path=r\"C:\\Users\\nikit\\Downloads\"\n",
    "tests = QA_QC_kern(kp_ef=x, kp_din=y,file_path=path)\n",
    "print(tests.get_method_description(\"test_kp_ef_kpdin_dependence\"))\n",
    "tests.start_tests([\"test_kp_ef_kpdin_dependence\"])\n",
    "tests.generate_test_report()\n",
    "print(\"--- %s seconds ---\" % (time.time() - start_time))"
   ],
   "metadata": {
    "collapsed": false
   }
  },
  {
   "cell_type": "code",
   "execution_count": null,
   "outputs": [],
   "source": [],
   "metadata": {
    "collapsed": false
   }
  },
  {
   "cell_type": "code",
   "execution_count": null,
   "outputs": [],
   "source": [
    "start_time = time.time()\n",
    "# df=pd.read_excel(\".../file.xlsx\")\n",
    "x=np.array([1,2,3,4,5,6,7,50])\n",
    "y=np.array([1,2,3,4,5,6,7,50])\n",
    "path=r\"C:\\Users\\nikit\\Downloads\"\n",
    "tests = QA_QC_kern(kp_ef=x, kp=y,file_path=path)\n",
    "print(tests.get_method_description(\"test_kp_ef_kp_dependence\"))\n",
    "tests.start_tests([\"test_kp_ef_kp_dependence\"])\n",
    "tests.generate_test_report()\n",
    "print(\"--- %s seconds ---\" % (time.time() - start_time))"
   ],
   "metadata": {
    "collapsed": false
   }
  },
  {
   "cell_type": "code",
   "execution_count": null,
   "outputs": [],
   "source": [
    "start_time = time.time()\n",
    "# df=pd.read_excel(\".../file.xlsx\")\n",
    "x=np.array([8,7,6,5,4,3,2])\n",
    "y=np.array([-5,-3,-4,-5,-6,-7,-8])\n",
    "path=r\"C:\\Users\\nikit\\Downloads\"\n",
    "tests = QA_QC_kern(kp_ef=x, kp=y,file_path=path)\n",
    "print(tests.get_method_description(\"test_kp_ef_kp_dependence\"))\n",
    "tests.start_tests([\"test_kp_ef_kp_dependence\"])\n",
    "tests.generate_test_report()\n",
    "print(\"--- %s seconds ---\" % (time.time() - start_time))"
   ],
   "metadata": {
    "collapsed": false
   }
  },
  {
   "cell_type": "code",
   "execution_count": null,
   "outputs": [],
   "source": [],
   "metadata": {
    "collapsed": false
   }
  },
  {
   "cell_type": "code",
   "execution_count": null,
   "outputs": [],
   "source": [
    "start_time = time.time()\n",
    "# df=pd.read_excel(\".../file.xlsx\")\n",
    "x=np.array([8,7,6,5,4,3,2])\n",
    "y=np.array([-5,-3,-4,-5,-6,-7,-8])\n",
    "path=r\"C:\\Users\\nikit\\Downloads\"\n",
    "tests = QA_QC_kern(kp=x, kp_din=y,file_path=path)\n",
    "print(tests.get_method_description(\"test_kp_kp_din_dependence\"))\n",
    "tests.start_tests([\"test_kp_kp_din_dependence\"])\n",
    "tests.generate_test_report()\n",
    "print(\"--- %s seconds ---\" % (time.time() - start_time))"
   ],
   "metadata": {
    "collapsed": false
   }
  },
  {
   "cell_type": "code",
   "execution_count": null,
   "outputs": [],
   "source": [
    "start_time = time.time()\n",
    "# df=pd.read_excel(\".../file.xlsx\")\n",
    "x=np.array([1,2,3,4,5,6,7,50])\n",
    "y=np.array([1,2,3,4,5,6,7,50])\n",
    "path=r\"C:\\Users\\nikit\\Downloads\"\n",
    "tests = QA_QC_kern(kp=x, kp_din=y,file_path=path)\n",
    "print(tests.get_method_description(\"test_kp_kp_din_dependence\"))\n",
    "tests.start_tests([\"test_kp_kp_din_dependence\"])\n",
    "tests.generate_test_report()\n",
    "print(\"--- %s seconds ---\" % (time.time() - start_time))"
   ],
   "metadata": {
    "collapsed": false
   }
  },
  {
   "cell_type": "code",
   "execution_count": null,
   "outputs": [],
   "source": [],
   "metadata": {
    "collapsed": false
   }
  },
  {
   "cell_type": "code",
   "execution_count": null,
   "outputs": [],
   "source": [
    "start_time = time.time()\n",
    "# df=pd.read_excel(\".../file.xlsx\")\n",
    "x=np.array([1,2,3,4,5,6])\n",
    "y=np.array([1,1,1,1,1,1])\n",
    "path=r\"C:\\Users\\nikit\\Downloads\"\n",
    "tests = QA_QC_kern(kpr=x, kp=y,file_path=path)\n",
    "print(tests.get_method_description(\"test_dependence_kpr_kp\"))\n",
    "tests.start_tests([\"test_dependence_kpr_kp\"])\n",
    "tests.generate_test_report()\n",
    "print(\"--- %s seconds ---\" % (time.time() - start_time))"
   ],
   "metadata": {
    "collapsed": false
   }
  },
  {
   "cell_type": "code",
   "execution_count": null,
   "outputs": [],
   "source": [
    "start_time = time.time()\n",
    "# df=pd.read_excel(\".../file.xlsx\")\n",
    "x=np.array([1,2,3,4,5,6,7,50])\n",
    "y=np.array([1,2,3,4,5,6,7,50])\n",
    "path=r\"C:\\Users\\nikit\\Downloads\"\n",
    "tests = QA_QC_kern(kpr=x, kp=y,file_path=path)\n",
    "print(tests.get_method_description(\"test_dependence_kpr_kp\"))\n",
    "tests.start_tests([\"test_dependence_kpr_kp\"])\n",
    "tests.generate_test_report()\n",
    "print(\"--- %s seconds ---\" % (time.time() - start_time))"
   ],
   "metadata": {
    "collapsed": false
   }
  },
  {
   "cell_type": "code",
   "execution_count": null,
   "outputs": [],
   "source": [],
   "metadata": {
    "collapsed": false
   }
  },
  {
   "cell_type": "code",
   "execution_count": null,
   "outputs": [],
   "source": [
    "start_time = time.time()\n",
    "# df=pd.read_excel(\".../file.xlsx\")\n",
    "x=np.array([1,2,3,4,5,6])\n",
    "y=np.array([1,1,1,1,1,1])\n",
    "path=r\"C:\\Users\\nikit\\Downloads\"\n",
    "tests = QA_QC_kern(kpr=x, kp_din=y,file_path=path)\n",
    "print(tests.get_method_description(\"test_dependence_kpr_kp_din\"))\n",
    "tests.start_tests([\"test_dependence_kpr_kp_din\"])\n",
    "tests.generate_test_report()\n",
    "print(\"--- %s seconds ---\" % (time.time() - start_time))"
   ],
   "metadata": {
    "collapsed": false
   }
  },
  {
   "cell_type": "code",
   "execution_count": null,
   "outputs": [],
   "source": [
    "print(\"--- %s seconds ---\" % (time.time() - start_time))\n",
    "start_time = time.time()\n",
    "# df=pd.read_excel(\".../file.xlsx\")\n",
    "x = np.array([1, 2, 3, 4, 5, 6, 7, 50])\n",
    "y = np.array([1, 2, 3, 4, 5, 6, 7, 50])\n",
    "path = r\"C:\\Users\\nikit\\Downloads\"\n",
    "tests = QA_QC_kern(kpr=x, kp_din=y, file_path=path)\n",
    "print(tests.get_method_description(\"test_dependence_kpr_kp_din\"))\n",
    "tests.start_tests([\"test_dependence_kpr_kp_din\"])\n",
    "tests.generate_test_report()\n",
    "print(\"--- %s seconds ---\" % (time.time() - start_time))"
   ],
   "metadata": {
    "collapsed": false
   }
  },
  {
   "cell_type": "code",
   "execution_count": null,
   "outputs": [],
   "source": [],
   "metadata": {
    "collapsed": false
   }
  },
  {
   "cell_type": "code",
   "execution_count": null,
   "outputs": [],
   "source": [
    "start_time = time.time()\n",
    "# df=pd.read_excel(\".../file.xlsx\")\n",
    "x = np.array([1, 2, 3, 4, 5, 6, 7, 50])\n",
    "y = np.array([1, 2, 3, 4, 5, 6, 7, 50])\n",
    "path = r\"C:\\Users\\nikit\\Downloads\"\n",
    "tests = QA_QC_kern(kvo=x, kpr=y, file_path=path)\n",
    "print(tests.get_method_description(\"test_dependence_kvo_kpr\"))\n",
    "tests.start_tests([\"test_dependence_kvo_kpr\"])\n",
    "tests.generate_test_report()\n",
    "print(\"--- %s seconds ---\" % (time.time() - start_time))"
   ],
   "metadata": {
    "collapsed": false
   }
  },
  {
   "cell_type": "code",
   "execution_count": null,
   "outputs": [],
   "source": [
    "start_time = time.time()\n",
    "# df=pd.read_excel(\".../file.xlsx\")\n",
    "x = np.array([10, 9, 8, 7, 6, 5, 4, 3])\n",
    "y = np.array([1, 2, 3, 4, 5, 6, 7, 8])\n",
    "path = r\"C:\\Users\\nikit\\Downloads\"\n",
    "tests = QA_QC_kern(kvo=x, kpr=y, file_path=path)\n",
    "print(tests.get_method_description(\"test_dependence_kvo_kpr\"))\n",
    "tests.start_tests([\"test_dependence_kvo_kpr\"])\n",
    "tests.generate_test_report()\n",
    "print(\"--- %s seconds ---\" % (time.time() - start_time))"
   ],
   "metadata": {
    "collapsed": false
   }
  },
  {
   "cell_type": "code",
   "execution_count": null,
   "outputs": [],
   "source": [],
   "metadata": {
    "collapsed": false
   }
  },
  {
   "cell_type": "code",
   "execution_count": null,
   "outputs": [],
   "source": [
    "start_time = time.time()\n",
    "# df=pd.read_excel(\".../file.xlsx\")\n",
    "x = np.array([10, 9, 8, 7, 6, 5, 4, 3])\n",
    "y = np.array([1, 2, 3, 4, 5, 6, 7, 8])\n",
    "path = r\"C:\\Users\\nikit\\Downloads\"\n",
    "tests = QA_QC_kern(rn=x, kv=y, file_path=path)\n",
    "print(tests.get_method_description(\"test_rn_kv_dependencies\"))\n",
    "tests.start_tests([\"test_rn_kv_dependencies\"])\n",
    "tests.generate_test_report()\n",
    "print(\"--- %s seconds ---\" % (time.time() - start_time))"
   ],
   "metadata": {
    "collapsed": false
   }
  },
  {
   "cell_type": "code",
   "execution_count": null,
   "outputs": [],
   "source": [
    "start_time = time.time()\n",
    "# df=pd.read_excel(\".../file.xlsx\")\n",
    "x = np.array([1, 2, 3, 4, 5, 6, 7,8, 12,7,6,5,4,3,2])\n",
    "y = np.array([1, 2, 3, 4, 5, 6, 7,8, 12,91,113,10,5,4,3])\n",
    "path = r\"C:\\Users\\nikit\\Downloads\"\n",
    "tests = QA_QC_kern(rn=x, kv=y, file_path=path)\n",
    "print(tests.get_method_description(\"test_rn_kv_dependencies\"))\n",
    "tests.start_tests([\"test_rn_kv_dependencies\"])\n",
    "tests.generate_test_report()\n",
    "print(\"--- %s seconds ---\" % (time.time() - start_time))"
   ],
   "metadata": {
    "collapsed": false
   }
  },
  {
   "cell_type": "code",
   "execution_count": null,
   "outputs": [],
   "source": [],
   "metadata": {
    "collapsed": false
   }
  },
  {
   "cell_type": "code",
   "execution_count": null,
   "outputs": [],
   "source": [
    "start_time = time.time()\n",
    "# df=pd.read_excel(\".../file.xlsx\")\n",
    "x = np.array([1, 2, 3, 4, 5])\n",
    "y = np.array([2.0, 1.0, 0.5, 0.3, 0.2])\n",
    "path = r\"C:\\Users\\nikit\\Downloads\"\n",
    "tests = QA_QC_kern(rp=x, kp=y, file_path=path)\n",
    "print(tests.get_method_description(\"test_rp_kp_dependencies\"))\n",
    "tests.start_tests([\"test_rp_kp_dependencies\"])\n",
    "tests.generate_test_report()\n",
    "print(\"--- %s seconds ---\" % (time.time() - start_time))"
   ],
   "metadata": {
    "collapsed": false
   }
  },
  {
   "cell_type": "code",
   "execution_count": null,
   "outputs": [],
   "source": [
    "start_time = time.time()\n",
    "# df=pd.read_excel(\".../file.xlsx\")\n",
    "x = np.array([1, 2, 3, 4, 5])\n",
    "y = np.array([0.2, 0.3, 0.5, 1.0, 2.0])\n",
    "path = r\"C:\\Users\\nikit\\Downloads\"\n",
    "tests = QA_QC_kern(rp=x, kp=y, file_path=path)\n",
    "print(tests.get_method_description(\"test_rp_kp_dependencies\"))\n",
    "tests.start_tests([\"test_rp_kp_dependencies\"])\n",
    "tests.generate_test_report()\n",
    "print(\"--- %s seconds ---\" % (time.time() - start_time))"
   ],
   "metadata": {
    "collapsed": false
   }
  },
  {
   "cell_type": "code",
   "execution_count": null,
   "outputs": [],
   "source": [],
   "metadata": {
    "collapsed": false
   }
  },
  {
   "cell_type": "code",
   "execution_count": null,
   "outputs": [],
   "source": [
    "start_time = time.time()\n",
    "# df=pd.read_excel(\".../file.xlsx\")\n",
    "x = np.array([1, 2, 3, 4, 5])\n",
    "y = np.array([0.2, 0.3, 0.5, 1.0, 2.0])\n",
    "path = r\"C:\\Users\\nikit\\Downloads\"\n",
    "tests = QA_QC_kern(roof=x, sole=y, file_path=path)\n",
    "print(tests.get_method_description(\"test_coring_depths_first\"))\n",
    "tests.start_tests([\"test_coring_depths_first\"])\n",
    "tests.generate_test_report()\n",
    "print(\"--- %s seconds ---\" % (time.time() - start_time))"
   ],
   "metadata": {
    "collapsed": false
   }
  },
  {
   "cell_type": "code",
   "execution_count": null,
   "outputs": [],
   "source": [
    "start_time = time.time()\n",
    "# df=pd.read_excel(\".../file.xlsx\")\n",
    "x = np.array([1, 2, 3, 4, 5])\n",
    "y = np.array([2, 3, 4, 5, 6])\n",
    "path = r\"C:\\Users\\nikit\\Downloads\"\n",
    "tests = QA_QC_kern(roof=x, sole=y, file_path=path)\n",
    "print(tests.get_method_description(\"test_coring_depths_first\"))\n",
    "tests.start_tests([\"test_coring_depths_first\"])\n",
    "tests.generate_test_report()\n",
    "print(\"--- %s seconds ---\" % (time.time() - start_time))"
   ],
   "metadata": {
    "collapsed": false
   }
  },
  {
   "cell_type": "code",
   "execution_count": null,
   "outputs": [],
   "source": [],
   "metadata": {
    "collapsed": false
   }
  },
  {
   "cell_type": "code",
   "execution_count": null,
   "outputs": [],
   "source": [
    "start_time = time.time()\n",
    "# df=pd.read_excel(\".../file.xlsx\")\n",
    "x = np.array([10, 11, 12, 13, 14])\n",
    "y = np.array([2, 3, 4, 5, 6])\n",
    "z= np.array([7, 6, 5, 4, 3])\n",
    "path = r\"C:\\Users\\nikit\\Downloads\"\n",
    "tests = QA_QC_kern(sole=x, roof=y,takeout=z, file_path=path)\n",
    "print(tests.get_method_description(\"test_coring_depths_second\"))\n",
    "tests.start_tests([\"test_coring_depths_second\"])\n",
    "tests.generate_test_report()\n",
    "print(\"--- %s seconds ---\" % (time.time() - start_time))"
   ],
   "metadata": {
    "collapsed": false
   }
  },
  {
   "cell_type": "code",
   "execution_count": null,
   "outputs": [],
   "source": [
    "start_time = time.time()\n",
    "# df=pd.read_excel(\".../file.xlsx\")\n",
    "x = np.array([10, 11, 12, 13, 14])\n",
    "y = np.array([2, 3, 4, 5, 6])\n",
    "z= np.array([17, 16, 15, 14, 13])\n",
    "path = r\"C:\\Users\\nikit\\Downloads\"\n",
    "tests = QA_QC_kern(roof=x, sole=y,takeout=z, file_path=path)\n",
    "print(tests.get_method_description(\"test_coring_depths_second\"))\n",
    "tests.start_tests([\"test_coring_depths_second\"])\n",
    "tests.generate_test_report()\n",
    "print(\"--- %s seconds ---\" % (time.time() - start_time))"
   ],
   "metadata": {
    "collapsed": false
   }
  },
  {
   "cell_type": "code",
   "execution_count": null,
   "outputs": [],
   "source": [],
   "metadata": {
    "collapsed": false
   }
  },
  {
   "cell_type": "code",
   "execution_count": null,
   "outputs": [],
   "source": [
    "start_time = time.time()\n",
    "# df=pd.read_excel(\".../file.xlsx\")\n",
    "x = np.array([[10,13], [1,11]])\n",
    "y = np.array([1,10])\n",
    "z=np.array([33,100])\n",
    "path = r\"C:\\Users\\nikit\\Downloads\"\n",
    "tests = QA_QC_kern(intervals=x, percentage=z, outreach_in_meters=y, file_path=path)\n",
    "print(tests.get_method_description(\"test_coring_depths_third\"))\n",
    "tests.start_tests([\"test_coring_depths_third\"])\n",
    "tests.generate_test_report()\n",
    "print(\"--- %s seconds ---\" % (time.time() - start_time))"
   ],
   "metadata": {
    "collapsed": false
   }
  },
  {
   "cell_type": "code",
   "execution_count": null,
   "outputs": [],
   "source": [
    "start_time = time.time()\n",
    "# df=pd.read_excel(\".../file.xlsx\")\n",
    "x = np.array([[10,13], [1,11]])\n",
    "y = np.array([1,10])\n",
    "z=np.array([33.333,100.0])\n",
    "path = r\"C:\\Users\\nikit\\Downloads\"\n",
    "tests = QA_QC_kern(intervals=x, percentage=z, outreach_in_meters=y, file_path=path)\n",
    "print(tests.get_method_description(\"test_coring_depths_third\"))\n",
    "tests.start_tests([\"test_coring_depths_third\"])\n",
    "tests.generate_test_report()\n",
    "print(\"--- %s seconds ---\" % (time.time() - start_time))"
   ],
   "metadata": {
    "collapsed": false
   }
  },
  {
   "cell_type": "code",
   "execution_count": null,
   "outputs": [],
   "source": [],
   "metadata": {
    "collapsed": false
   }
  },
  {
   "cell_type": "code",
   "execution_count": null,
   "outputs": [],
   "source": [
    "start_time = time.time()\n",
    "# df=pd.read_excel(\".../file.xlsx\")\n",
    "x = np.array([1, 2, 3, 4, 5])\n",
    "y = np.array([0.2, 0.3, 0.5, 1.0, 2.0])\n",
    "path = r\"C:\\Users\\nikit\\Downloads\"\n",
    "tests = QA_QC_kern(sampling_depth=x, core_sampling=y, file_path=path)\n",
    "print(tests.get_method_description(\"test_coring_depths_four\"))\n",
    "tests.start_tests([\"test_coring_depths_four\"])\n",
    "tests.generate_test_report()\n",
    "print(\"--- %s seconds ---\" % (time.time() - start_time))"
   ],
   "metadata": {
    "collapsed": false
   }
  },
  {
   "cell_type": "code",
   "execution_count": null,
   "outputs": [],
   "source": [
    "start_time = time.time()\n",
    "# df=pd.read_excel(\".../file.xlsx\")\n",
    "x = np.array([1, 2, 3, 4, 5])\n",
    "y = np.array([5, 6, 7, 1.0, 2.0])\n",
    "path = r\"C:\\Users\\nikit\\Downloads\"\n",
    "tests = QA_QC_kern(sampling_depth=x, core_sampling=y, file_path=path)\n",
    "print(tests.get_method_description(\"test_coring_depths_four\"))\n",
    "tests.start_tests([\"test_coring_depths_four\"])\n",
    "tests.generate_test_report()\n",
    "print(\"--- %s seconds ---\" % (time.time() - start_time))"
   ],
   "metadata": {
    "collapsed": false
   }
  },
  {
   "cell_type": "code",
   "execution_count": null,
   "outputs": [],
   "source": [],
   "metadata": {
    "collapsed": false
   }
  },
  {
   "cell_type": "code",
   "execution_count": null,
   "outputs": [],
   "source": [
    "start_time = time.time()\n",
    "# df=pd.read_excel(\".../file.xlsx\")\n",
    "x = np.array([\"Скол\", np.nan, np.nan, np.nan, \"Трещина\"])\n",
    "path = r\"C:\\Users\\nikit\\Downloads\"\n",
    "tests = QA_QC_kern(note=x,file_path=path)\n",
    "print(tests.get_method_description(\"test_table_notes\"))\n",
    "tests.start_tests([\"test_table_notes\"])\n",
    "tests.generate_test_report()\n",
    "print(\"--- %s seconds ---\" % (time.time() - start_time))"
   ],
   "metadata": {
    "collapsed": false
   }
  },
  {
   "cell_type": "code",
   "execution_count": null,
   "outputs": [],
   "source": [
    "start_time = time.time()\n",
    "# df=pd.read_excel(\".../file.xlsx\")\n",
    "x = np.array([np.nan, np.nan, np.nan])\n",
    "path = r\"C:\\Users\\nikit\\Downloads\"\n",
    "tests = QA_QC_kern(note=x, file_path=path)\n",
    "print(tests.get_method_description(\"test_table_notes\"))\n",
    "tests.start_tests([\"test_table_notes\"])\n",
    "tests.generate_test_report()\n",
    "print(\"--- %s seconds ---\" % (time.time() - start_time))"
   ],
   "metadata": {
    "collapsed": false
   }
  },
  {
   "cell_type": "code",
   "execution_count": null,
   "outputs": [],
   "source": [],
   "metadata": {
    "collapsed": false
   }
  },
  {
   "cell_type": "code",
   "execution_count": null,
   "outputs": [],
   "source": [
    "start_time = time.time()\n",
    "# df=pd.read_excel(\".../file.xlsx\")\n",
    "x=np.array([1,2,3])\n",
    "y=np.array([1,2,3])\n",
    "a=np.array([1,2,3])\n",
    "b=np.array([1,2,3])\n",
    "c=np.array([1,2,3])\n",
    "v=np.array([1,2,3])\n",
    "n=np.array([1,2,3])\n",
    "path = r\"C:\\Users\\nikit\\Downloads\"\n",
    "tests = QA_QC_kern(kpr=x, kp=y,rp=a,kvo=b,density=c,rn=v,kv=n, file_path=path)\n",
    "print(tests.get_method_description(\"test_data_tampering\"))\n",
    "tests.start_tests([\"test_data_tampering\"])\n",
    "tests.generate_test_report()\n",
    "print(\"--- %s seconds ---\" % (time.time() - start_time))"
   ],
   "metadata": {
    "collapsed": false
   }
  },
  {
   "cell_type": "code",
   "execution_count": null,
   "outputs": [],
   "source": [
    "start_time = time.time()\n",
    "# df=pd.read_excel(\".../file.xlsx\")\n",
    "x=np.array([1,2,3])\n",
    "y=np.array([4,5,6])\n",
    "a=np.array([7,8,9])\n",
    "b=np.array([10,11,12])\n",
    "c=np.array([13,14,15])\n",
    "v=np.array([16,17,18])\n",
    "n=np.array([19,20,21])\n",
    "path = r\"C:\\Users\\nikit\\Downloads\"\n",
    "tests = QA_QC_kern(kpr=x, kp=y,rp=a,kvo=b,density=c,rn=v,kv=n, file_path=path)\n",
    "print(tests.get_method_description(\"test_data_tampering\"))\n",
    "tests.start_tests([\"test_data_tampering\"])\n",
    "tests.generate_test_report()\n",
    "print(\"--- %s seconds ---\" % (time.time() - start_time))"
   ],
   "metadata": {
    "collapsed": false
   }
  },
  {
   "cell_type": "code",
   "execution_count": null,
   "outputs": [],
   "source": [],
   "metadata": {
    "collapsed": false
   }
  },
  {
   "cell_type": "code",
   "execution_count": null,
   "outputs": [],
   "source": [
    "start_time = time.time()\n",
    "# df=pd.read_excel(\".../file.xlsx\")\n",
    "x=np.array([0.7])\n",
    "y=np.array([0.2])\n",
    "a=np.array([0.1])\n",
    "b=np.array([2.0])\n",
    "f=np.array([0.56])\n",
    "r=np.array([0.49])\n",
    "t=np.array([2.7])\n",
    "path = r\"C:\\Users\\nikit\\Downloads\"\n",
    "tests = QA_QC_kern(kp=x, kvo=y,kno=a,pas=b,kp_ef=f, kp_din=r,pmu=t,file_path=path)\n",
    "print(tests.get_method_description(\"test_estimated_values_in_core_data\"))\n",
    "tests.start_tests([\"test_estimated_values_in_core_data\"])\n",
    "tests.generate_test_report()\n",
    "print(\"--- %s seconds ---\" % (time.time() - start_time))"
   ],
   "metadata": {
    "collapsed": false
   }
  },
  {
   "cell_type": "code",
   "execution_count": null,
   "outputs": [],
   "source": [
    "start_time = time.time()\n",
    "# df=pd.read_excel(\".../file.xlsx\")\n",
    "x=np.array([5])\n",
    "y=np.array([52])\n",
    "a=np.array([11])\n",
    "b=np.array([2.0])\n",
    "f=np.array([0.56])\n",
    "r=np.array([0.49])\n",
    "t=np.array([2.7])\n",
    "path = r\"C:\\Users\\nikit\\Downloads\"\n",
    "tests = QA_QC_kern(kp=x, kvo=y,kno=a,pas=b,kp_ef=f, kp_din=r,pmu=t,file_path=path)\n",
    "print(tests.get_method_description(\"test_estimated_values_in_core_data\"))\n",
    "tests.start_tests([\"test_estimated_values_in_core_data\"])\n",
    "tests.generate_test_report()\n",
    "print(\"--- %s seconds ---\" % (time.time() - start_time))"
   ],
   "metadata": {
    "collapsed": false
   }
  },
  {
   "cell_type": "code",
   "execution_count": null,
   "outputs": [],
   "source": [],
   "metadata": {
    "collapsed": false
   }
  },
  {
   "cell_type": "code",
   "execution_count": null,
   "outputs": [],
   "source": [
    "start_time = time.time()\n",
    "# df=pd.read_excel(\".../file.xlsx\")\n",
    "x = np.array([1, 2, 3, 4, 5])\n",
    "y = np.array([5, 6, 7, 1.0, 2.0])\n",
    "path = r\"C:\\Users\\nikit\\Downloads\"\n",
    "tests = QA_QC_kern(kp_plast=x, kp_pov=y, file_path=path)\n",
    "print(tests.get_method_description(\"test_kp_in_surface_and_reservoir_conditions\"))\n",
    "tests.start_tests([\"test_kp_in_surface_and_reservoir_conditions\"])\n",
    "tests.generate_test_report()\n",
    "print(\"--- %s seconds ---\" % (time.time() - start_time))"
   ],
   "metadata": {
    "collapsed": false
   }
  },
  {
   "cell_type": "code",
   "execution_count": null,
   "outputs": [],
   "source": [
    "start_time = time.time()\n",
    "# df=pd.read_excel(\".../file.xlsx\")\n",
    "x = np.array([5, 6, 7, 5, 6])\n",
    "y = np.array([1, 2, 3, 4, 5])\n",
    "path = r\"C:\\Users\\nikit\\Downloads\"\n",
    "tests = QA_QC_kern(kp_plast=x, kp_pov=y, file_path=path)\n",
    "print(tests.get_method_description(\"test_kp_in_surface_and_reservoir_conditions\"))\n",
    "tests.start_tests([\"test_kp_in_surface_and_reservoir_conditions\"])\n",
    "tests.generate_test_report()\n",
    "print(\"--- %s seconds ---\" % (time.time() - start_time))"
   ],
   "metadata": {
    "collapsed": false
   }
  },
  {
   "cell_type": "code",
   "execution_count": null,
   "outputs": [],
   "source": [],
   "metadata": {
    "collapsed": false
   }
  },
  {
   "cell_type": "code",
   "execution_count": null,
   "outputs": [],
   "source": [
    "start_time = time.time()\n",
    "# df=pd.read_excel(\".../file.xlsx\")\n",
    "x = np.array([0.2, 0.1, 0.5, 0.3, 0.3])\n",
    "y = np.array([0.2, 0.1, 0.2, 0.3, 0.3])\n",
    "path = r\"C:\\Users\\nikit\\Downloads\"\n",
    "tests = QA_QC_kern(kvo=x, kno=y, file_path=path)\n",
    "print(tests.get_method_description(\"test_quo_and_qno\"))\n",
    "tests.start_tests([\"test_quo_and_qno\"])\n",
    "tests.generate_test_report()\n",
    "print(\"--- %s seconds ---\" % (time.time() - start_time))"
   ],
   "metadata": {
    "collapsed": false
   }
  },
  {
   "cell_type": "code",
   "execution_count": null,
   "outputs": [],
   "source": [
    "start_time = time.time()\n",
    "# df=pd.read_excel(\".../file.xlsx\")\n",
    "x = np.array([0.2, 0.1, 0.5, 0.3, 0.3])\n",
    "y = np.array([0.2, 0.1, 0.5, 0.3, 0.3])\n",
    "path = r\"C:\\Users\\nikit\\Downloads\"\n",
    "tests = QA_QC_kern(kvo=x, kno=y, file_path=path)\n",
    "print(tests.get_method_description(\"test_quo_and_qno\"))\n",
    "tests.start_tests([\"test_quo_and_qno\"])\n",
    "tests.generate_test_report()\n",
    "print(\"--- %s seconds ---\" % (time.time() - start_time))"
   ],
   "metadata": {
    "collapsed": false
   }
  },
  {
   "cell_type": "code",
   "execution_count": null,
   "outputs": [],
   "source": [],
   "metadata": {
    "collapsed": false
   }
  },
  {
   "cell_type": "code",
   "execution_count": null,
   "outputs": [],
   "source": [
    "start_time = time.time()\n",
    "# df=pd.read_excel(\".../file.xlsx\")\n",
    "path = r\"C:\\Users\\nikit\\Downloads\"\n",
    "tests = QA_QC_kern(parallel=None,parallel_density=None,parallel_carbonate=None,parallel_porosity=None,perpendicular=None,perpendicular_density=None,perpendicular_carbonate=None,perpendicular_porosity=None, file_path=path)\n",
    "print(tests.get_method_description(\"test_correctness_of_p_sk_kp\"))\n",
    "tests.start_tests([\"test_correctness_of_p_sk_kp\"])\n",
    "tests.generate_test_report()\n",
    "print(\"--- %s seconds ---\" % (time.time() - start_time))"
   ],
   "metadata": {
    "collapsed": false
   }
  },
  {
   "cell_type": "code",
   "execution_count": null,
   "outputs": [],
   "source": [],
   "metadata": {
    "collapsed": false
   }
  },
  {
   "cell_type": "code",
   "execution_count": null,
   "outputs": [],
   "source": [
    "start_time = time.time()\n",
    "df=pd.read_excel(\"C:/Users/nikit/Downloads/SwFail(N).xlsx\")\n",
    "arr=df[\"Sw\"].dropna().to_numpy()\n",
    "path=r\"C:\\Users\\nikit\\Downloads\"\n",
    "tests = QA_QC_kern(array_for_first_order_tests=arr,file_path=path)\n",
    "tests.start_tests([\"test_water_saturation\"])\n",
    "tests.generate_test_report()\n",
    "print(\"--- %s seconds ---\" % (time.time() - start_time))"
   ],
   "metadata": {
    "collapsed": false
   }
  },
  {
   "cell_type": "code",
   "execution_count": null,
   "outputs": [],
   "source": [
    "arr=np.array([1,2,3,4,5,6,7,50])\n",
    "path=r\"C:\\Users\\nikit\\Downloads\"\n",
    "tests = QA_QC_kern(array_for_first_order_tests=arr,file_path=path)\n",
    "tests.start_tests([\"test_porosity\"])\n",
    "tests.generate_test_report()"
   ],
   "metadata": {
    "collapsed": false
   }
  },
  {
   "cell_type": "code",
   "execution_count": null,
   "outputs": [],
   "source": [
    "arr=np.array([1,2,3,4,5,6,7,13])\n",
    "path=r\"C:\\Users\\nikit\\Downloads\"\n",
    "tests = QA_QC_kern(array_for_first_order_tests=arr,file_path=path)\n",
    "tests.start_tests([\"test_porosity\"])\n",
    "tests.generate_test_report()"
   ],
   "metadata": {
    "collapsed": false
   }
  },
  {
   "cell_type": "code",
   "execution_count": null,
   "outputs": [],
   "source": [
    "start_time = time.time()\n",
    "df=pd.read_excel(\"C:/Users/nikit/Downloads/SwOK(N).xlsx\")\n",
    "arr=df[\"Sw\"].dropna().to_numpy()\n",
    "path=r\"C:\\Users\\nikit\\Downloads\"\n",
    "tests = QA_QC_kern(array_for_first_order_tests=arr,file_path=path, file_name=\"SwOK(N).xlsx\")\n",
    "tests.start_tests([\"test_water_saturation\"])\n",
    "tests.generate_test_report()\n",
    "print(\"--- %s seconds ---\" % (time.time() - start_time))"
   ],
   "metadata": {
    "collapsed": false
   }
  },
  {
   "cell_type": "code",
   "execution_count": null,
   "outputs": [],
   "source": [
    "start_time = time.time()\n",
    "df=pd.read_excel(\"C:/Users/nikit/Downloads/PermeabilityKlinkenFail(R).xlsx\")\n",
    "arr=df[\"PermKlinken\"].dropna().to_numpy()\n",
    "path=r\"C:\\Users\\nikit\\Downloads\"\n",
    "tests = QA_QC_kern(array_for_first_order_tests=arr,file_path=path)\n",
    "tests.start_tests([\"test_permeability\"])\n",
    "tests.generate_test_report()\n",
    "print(\"--- %s seconds ---\" % (time.time() - start_time))"
   ],
   "metadata": {
    "collapsed": false
   }
  },
  {
   "cell_type": "code",
   "execution_count": null,
   "outputs": [],
   "source": [
    "start_time = time.time()\n",
    "df=pd.read_excel(\"C:/Users/nikit/Downloads/PermeabilityKlinkenOK(R).xlsx\")\n",
    "arr=df[\"PermKlinken\"].dropna().to_numpy()\n",
    "path=r\"C:\\Users\\nikit\\Downloads\"\n",
    "tests = QA_QC_kern(array_for_first_order_tests=arr,file_path=path)\n",
    "tests.start_tests([\"test_permeability\"])\n",
    "tests.generate_test_report()\n",
    "print(\"--- %s seconds ---\" % (time.time() - start_time))"
   ],
   "metadata": {
    "collapsed": false
   }
  },
  {
   "cell_type": "code",
   "execution_count": null,
   "outputs": [],
   "source": [
    "start_time = time.time()\n",
    "df=pd.read_excel(\"C:/Users/nikit/Downloads/PermeabilityParallelFail(L).xlsx\")\n",
    "arr=df[\"Permeabilty, mkm2\"].dropna().to_numpy()\n",
    "path=r\"C:\\Users\\nikit\\Downloads\"\n",
    "tests = QA_QC_kern(array_for_first_order_tests=arr,file_path=path)\n",
    "tests.start_tests([\"test_permeability\"])\n",
    "tests.generate_test_report()\n",
    "print(\"--- %s seconds ---\" % (time.time() - start_time))"
   ],
   "metadata": {
    "collapsed": false
   }
  },
  {
   "cell_type": "code",
   "execution_count": null,
   "outputs": [],
   "source": [
    "start_time = time.time()\n",
    "df=pd.read_excel(\"C:/Users/nikit/Downloads/PermeabilityParallelOK(L).xlsx\")\n",
    "arr=df[\"Permeabilty, mkm2\"].dropna().to_numpy()\n",
    "path=r\"C:\\Users\\nikit\\Downloads\"\n",
    "tests = QA_QC_kern(array_for_first_order_tests=arr,file_path=path)\n",
    "tests.start_tests([\"test_permeability\"])\n",
    "tests.generate_test_report()\n",
    "print(\"--- %s seconds ---\" % (time.time() - start_time))"
   ],
   "metadata": {
    "collapsed": false
   }
  },
  {
   "cell_type": "code",
   "execution_count": null,
   "outputs": [],
   "source": [
    "start_time = time.time()\n",
    "df=pd.read_excel(\"C:/Users/nikit/Downloads/PermeabilityEffOK(R).xlsx\")\n",
    "arr=df[\"PermEFF\"].dropna().to_numpy()\n",
    "path=r\"C:\\Users\\nikit\\Downloads\"\n",
    "tests = QA_QC_kern(array_for_first_order_tests=arr,file_path=path)\n",
    "tests.start_tests([\"test_permeability\"])\n",
    "tests.generate_test_report()\n",
    "print(\"--- %s seconds ---\" % (time.time() - start_time))"
   ],
   "metadata": {
    "collapsed": false
   }
  },
  {
   "cell_type": "code",
   "execution_count": null,
   "outputs": [],
   "source": [
    "start_time = time.time()\n",
    "df=pd.read_excel(\"C:/Users/nikit/Downloads/PermeabilityEffFail(R).xlsx\")\n",
    "arr=df[\"PermEFF\"].dropna().to_numpy()\n",
    "path=r\"C:\\Users\\nikit\\Downloads\"\n",
    "tests = QA_QC_kern(array_for_first_order_tests=arr,file_path=path)\n",
    "tests.start_tests([\"test_permeability\"])\n",
    "tests.generate_test_report()\n",
    "print(\"--- %s seconds ---\" % (time.time() - start_time))"
   ],
   "metadata": {
    "collapsed": false
   }
  },
  {
   "cell_type": "code",
   "execution_count": null,
   "outputs": [],
   "source": [
    "start_time = time.time()\n",
    "df=pd.read_excel(\"C:/Users/nikit/Downloads/PermeabilityWOK(R).xlsx\")\n",
    "arr=df[\"PermW\"].dropna().to_numpy()\n",
    "path=r\"C:\\Users\\nikit\\Downloads\"\n",
    "tests = QA_QC_kern(array_for_first_order_tests=arr,file_path=path)\n",
    "tests.start_tests([\"test_permeability\"])\n",
    "tests.generate_test_report()\n",
    "print(\"--- %s seconds ---\" % (time.time() - start_time))"
   ],
   "metadata": {
    "collapsed": false
   }
  },
  {
   "cell_type": "code",
   "execution_count": null,
   "outputs": [],
   "source": [
    "start_time = time.time()\n",
    "df=pd.read_excel(\"C:/Users/nikit/Downloads/PermeabilityWFail(R).xlsx\")\n",
    "arr=df[\"PermW\"].dropna().to_numpy()\n",
    "path=r\"C:\\Users\\nikit\\Downloads\"\n",
    "tests = QA_QC_kern(array_for_first_order_tests=arr,file_path=path)\n",
    "tests.start_tests([\"test_permeability\"])\n",
    "tests.generate_test_report()\n",
    "print(\"--- %s seconds ---\" % (time.time() - start_time))"
   ],
   "metadata": {
    "collapsed": false
   }
  },
  {
   "cell_type": "code",
   "execution_count": null,
   "outputs": [],
   "source": [
    "start_time = time.time()\n",
    "df=pd.read_excel(\"C:/Users/nikit/Downloads/NumbersFail.xlsx\")\n",
    "arr=df[\"dT, km/s\"].dropna().to_numpy()\n",
    "path=r\"C:\\Users\\nikit\\Downloads\"\n",
    "tests = QA_QC_kern(array_for_first_order_tests=arr,file_path=path)\n",
    "tests.start_tests([\"test_permeability\"])\n",
    "tests.generate_test_report()\n",
    "print(\"--- %s seconds ---\" % (time.time() - start_time))"
   ],
   "metadata": {
    "collapsed": false
   }
  },
  {
   "cell_type": "code",
   "execution_count": null,
   "outputs": [],
   "source": [
    "start_time = time.time()\n",
    "df=pd.read_excel(\"C:/Users/nikit/Downloads/NumbersOK.xlsx\")\n",
    "arr=df[\"dT, km/s\"].dropna().to_numpy()\n",
    "path=r\"C:\\Users\\nikit\\Downloads\"\n",
    "tests = QA_QC_kern(array_for_first_order_tests=arr,file_path=path)\n",
    "tests.start_tests([\"test_permeability\"])\n",
    "tests.generate_test_report()\n",
    "print(\"--- %s seconds ---\" % (time.time() - start_time))"
   ],
   "metadata": {
    "collapsed": false
   }
  },
  {
   "cell_type": "code",
   "execution_count": null,
   "outputs": [],
   "source": [
    "start_time = time.time()\n",
    "df=pd.read_excel(\"C:/Users/nikit/Downloads/MonotonousOK(F).xlsx\")\n",
    "arr=df[\"Depth, m\"].dropna().to_numpy()\n",
    "path=r\"C:\\Users\\nikit\\Downloads\"\n",
    "tests = QA_QC_kern(array_for_first_order_tests=arr,file_path=path)\n",
    "tests.start_tests([\"test_monotony\"])\n",
    "tests.generate_test_report()\n",
    "print(\"--- %s seconds ---\" % (time.time() - start_time))"
   ],
   "metadata": {
    "collapsed": false
   }
  },
  {
   "cell_type": "code",
   "execution_count": null,
   "outputs": [],
   "source": [
    "start_time = time.time()\n",
    "df=pd.read_excel(\"C:/Users/nikit/Downloads/MonotonousFail(F).xlsx\")\n",
    "arr=df[\"Depth, m\"].dropna().to_numpy()\n",
    "path=r\"C:\\Users\\nikit\\Downloads\"\n",
    "tests = QA_QC_kern(array_for_first_order_tests=arr,file_path=path)\n",
    "tests.start_tests([\"test_monotony\"])\n",
    "tests.generate_test_report()\n",
    "print(\"--- %s seconds ---\" % (time.time() - start_time))"
   ],
   "metadata": {
    "collapsed": false
   }
  }
 ],
 "metadata": {
  "kernelspec": {
   "display_name": "Python 3",
   "language": "python",
   "name": "python3"
  },
  "language_info": {
   "codemirror_mode": {
    "name": "ipython",
    "version": 2
   },
   "file_extension": ".py",
   "mimetype": "text/x-python",
   "name": "python",
   "nbconvert_exporter": "python",
   "pygments_lexer": "ipython2",
   "version": "2.7.6"
  }
 },
 "nbformat": 4,
 "nbformat_minor": 0
}
