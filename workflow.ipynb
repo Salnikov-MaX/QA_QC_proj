{
 "cells": [
  {
   "cell_type": "code",
   "execution_count": null,
   "metadata": {},
   "outputs": [],
   "source": [
    "import segyio\n",
    "import numpy as np\n",
    "import matplotlib.pyplot as plt\n",
    "from mpl_toolkits.mplot3d import Axes3D\n",
    "from qa_qc_lib.qa_qc_seismic import *"
   ]
  },
  {
   "cell_type": "code",
   "execution_count": null,
   "metadata": {},
   "outputs": [],
   "source": [
    "def generate_random_nonintersecting_polygon(num_sides, min_side_length, max_side_length):\n",
    "    if num_sides < 3:\n",
    "        raise ValueError(\"A polygon must have at least 3 sides.\")\n",
    "\n",
    "    # Generate random side lengths\n",
    "    side_lengths = np.random.uniform(min_side_length, max_side_length, num_sides)\n",
    "\n",
    "    # Calculate the total perimeter of the polygon\n",
    "    total_perimeter = np.sum(side_lengths)\n",
    "\n",
    "    # Calculate the angles between the sides\n",
    "    angles = np.random.uniform(0, 360, num_sides)\n",
    "\n",
    "    # Generate the cumulative angles for vertex positions\n",
    "    cumulative_angles = np.cumsum(angles)\n",
    "\n",
    "    # Generate the coordinates of the polygon vertices\n",
    "    x_coords = total_perimeter * np.cos(np.radians(cumulative_angles))\n",
    "    y_coords = total_perimeter * np.sin(np.radians(cumulative_angles))\n",
    "\n",
    "    # Close the polygon\n",
    "    x_coords = np.append(x_coords, x_coords[0])\n",
    "    y_coords = np.append(y_coords, y_coords[0])\n",
    "\n",
    "    # Check if any of the sides intersect, and if so, regenerate the polygon\n",
    "    for i in range(num_sides):\n",
    "        x1, y1 = x_coords[i], y_coords[i]\n",
    "        x2, y2 = x_coords[(i + 1) % num_sides], y_coords[(i + 1) % num_sides]\n",
    "        for j in range(i + 2, num_sides):\n",
    "            x3, y3 = x_coords[j], y_coords[j]\n",
    "            x4, y4 = x_coords[(j + 1) % num_sides], y_coords[(j + 1) % num_sides]\n",
    "            if do_segments_intersect(x1, y1, x2, y2, x3, y3, x4, y4):\n",
    "                return generate_random_nonintersecting_polygon(num_sides, min_side_length, max_side_length)\n",
    "\n",
    "    return x_coords, y_coords\n",
    "\n",
    "def do_segments_intersect(x1, y1, x2, y2, x3, y3, x4, y4):\n",
    "    # Check if two line segments intersect using the cross product method\n",
    "    def cross_product(x1, y1, x2, y2):\n",
    "        return x1 * y2 - x2 * y1\n",
    "\n",
    "    d1 = cross_product(x4 - x3, y4 - y3, x1 - x3, y1 - y3)\n",
    "    d2 = cross_product(x4 - x3, y4 - y3, x2 - x3, y2 - y3)\n",
    "    d3 = cross_product(x2 - x1, y2 - y1, x3 - x1, y3 - y1)\n",
    "    d4 = cross_product(x2 - x1, y2 - y1, x4 - x1, y4 - y1)\n",
    "\n",
    "    if (d1 * d2 < 0) and (d3 * d4 < 0):\n",
    "        return True\n",
    "    return False\n",
    "\n",
    "\n",
    "def add_noise_to_polygon(polygon_points, noise_factor=0.1):\n",
    "    x_coords, y_coords = zip(*polygon_points)\n",
    "    noise_x = np.random.uniform(-noise_factor, noise_factor, len(x_coords))\n",
    "    noise_y = np.random.uniform(-noise_factor, noise_factor, len(y_coords))\n",
    "\n",
    "    x_coords_noisy = [x + noise for x, noise in zip(x_coords, noise_x)]\n",
    "    y_coords_noisy = [y + noise for y, noise in zip(y_coords, noise_y)]\n",
    "\n",
    "    return list(zip(x_coords_noisy, y_coords_noisy))\n",
    "    \n",
    "\n",
    "def build_polygon_from_points(x_coords, y_coords):\n",
    "    min_x, max_x = min(x_coords), max(x_coords)\n",
    "    min_y, max_y = min(y_coords), max(y_coords)\n",
    "\n",
    "    rectangle_points = [(min_x, min_y), (min_x, max_y), (max_x, max_y), (max_x, min_y)]\n",
    "    return rectangle_points"
   ]
  },
  {
   "cell_type": "code",
   "execution_count": null,
   "metadata": {},
   "outputs": [],
   "source": [
    "file_path = 'data/Глубинный куб NP cropped'\n",
    "# Example usage:\n",
    "num_sides = 5\n",
    "min_side_length = 1\n",
    "max_side_length = 5\n",
    "x_coords, y_coords = generate_random_nonintersecting_polygon(num_sides, min_side_length, max_side_length)\n",
    "\n",
    "license_area_poly = list(zip(x_coords*5000, y_coords*500))\n",
    "license_area_poly"
   ]
  },
  {
   "cell_type": "code",
   "execution_count": null,
   "metadata": {},
   "outputs": [],
   "source": [
    "seism_data_qa_qc = QA_QC_seismic(file_path)"
   ]
  },
  {
   "cell_type": "code",
   "execution_count": null,
   "metadata": {},
   "outputs": [],
   "source": [
    "seism_data_qa_qc.license_area_poly = add_noise_to_polygon(build_polygon_from_points(seism_data_qa_qc.coordinate_x, seism_data_qa_qc.coordinate_y), noise_factor=5000)\n",
    "\n",
    "seism_data_qa_qc.coordinate_validation()"
   ]
  },
  {
   "cell_type": "code",
   "execution_count": null,
   "metadata": {},
   "outputs": [],
   "source": [
    "seism_data_qa_qc.license_area_poly = license_area_poly\n",
    "seism_data_qa_qc.coordinate_validation()"
   ]
  }
 ],
 "metadata": {
  "kernelspec": {
   "display_name": "Python 3.9.17 ('qa_qc_proj')",
   "language": "python",
   "name": "python3"
  },
  "language_info": {
   "codemirror_mode": {
    "name": "ipython",
    "version": 3
   },
   "file_extension": ".py",
   "mimetype": "text/x-python",
   "name": "python",
   "nbconvert_exporter": "python",
   "pygments_lexer": "ipython3",
   "version": "3.9.17"
  },
  "orig_nbformat": 4,
  "vscode": {
   "interpreter": {
    "hash": "781f071193305b9cc4de4969365dbf8a5305068d89cb55bf119b1668ebae182b"
   }
  }
 },
 "nbformat": 4,
 "nbformat_minor": 2
}
