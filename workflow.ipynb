{
 "cells": [
  {
   "cell_type": "code",
   "execution_count": null,
   "metadata": {},
   "outputs": [],
   "source": [
    "import segyio\n",
    "import numpy as np\n",
    "import matplotlib.pyplot as plt\n",
    "from mpl_toolkits.mplot3d import Axes3D\n",
    "from qa_qc_lib.qa_qc_seismic import *"
   ]
  },
  {
   "cell_type": "code",
   "execution_count": null,
   "metadata": {},
   "outputs": [],
   "source": [
    "def generate_random_nonintersecting_polygon(num_sides, min_side_length, max_side_length):\n",
    "    if num_sides < 3:\n",
    "        raise ValueError(\"A polygon must have at least 3 sides.\")\n",
    "\n",
    "    # Generate random side lengths\n",
    "    side_lengths = np.random.uniform(min_side_length, max_side_length, num_sides)\n",
    "\n",
    "    # Calculate the total perimeter of the polygon\n",
    "    total_perimeter = np.sum(side_lengths)\n",
    "\n",
    "    # Calculate the angles between the sides\n",
    "    angles = np.random.uniform(0, 360, num_sides)\n",
    "\n",
    "    # Generate the cumulative angles for vertex positions\n",
    "    cumulative_angles = np.cumsum(angles)\n",
    "\n",
    "    # Generate the coordinates of the polygon vertices\n",
    "    x_coords = total_perimeter * np.cos(np.radians(cumulative_angles))\n",
    "    y_coords = total_perimeter * np.sin(np.radians(cumulative_angles))\n",
    "\n",
    "    # Close the polygon\n",
    "    x_coords = np.append(x_coords, x_coords[0])\n",
    "    y_coords = np.append(y_coords, y_coords[0])\n",
    "\n",
    "    # Check if any of the sides intersect, and if so, regenerate the polygon\n",
    "    for i in range(num_sides):\n",
    "        x1, y1 = x_coords[i], y_coords[i]\n",
    "        x2, y2 = x_coords[(i + 1) % num_sides], y_coords[(i + 1) % num_sides]\n",
    "        for j in range(i + 2, num_sides):\n",
    "            x3, y3 = x_coords[j], y_coords[j]\n",
    "            x4, y4 = x_coords[(j + 1) % num_sides], y_coords[(j + 1) % num_sides]\n",
    "            if do_segments_intersect(x1, y1, x2, y2, x3, y3, x4, y4):\n",
    "                return generate_random_nonintersecting_polygon(num_sides, min_side_length, max_side_length)\n",
    "\n",
    "    return x_coords, y_coords\n",
    "\n",
    "def do_segments_intersect(x1, y1, x2, y2, x3, y3, x4, y4):\n",
    "    # Check if two line segments intersect using the cross product method\n",
    "    def cross_product(x1, y1, x2, y2):\n",
    "        return x1 * y2 - x2 * y1\n",
    "\n",
    "    d1 = cross_product(x4 - x3, y4 - y3, x1 - x3, y1 - y3)\n",
    "    d2 = cross_product(x4 - x3, y4 - y3, x2 - x3, y2 - y3)\n",
    "    d3 = cross_product(x2 - x1, y2 - y1, x3 - x1, y3 - y1)\n",
    "    d4 = cross_product(x2 - x1, y2 - y1, x4 - x1, y4 - y1)\n",
    "\n",
    "    if (d1 * d2 < 0) and (d3 * d4 < 0):\n",
    "        return True\n",
    "    return False\n",
    "\n",
    "\n",
    "def add_noise_to_polygon(polygon_points, noise_factor=0.1):\n",
    "    x_coords, y_coords = zip(*polygon_points)\n",
    "    noise_x = np.random.uniform(-noise_factor, noise_factor, len(x_coords))\n",
    "    noise_y = np.random.uniform(-noise_factor, noise_factor, len(y_coords))\n",
    "\n",
    "    x_coords_noisy = [x + noise for x, noise in zip(x_coords, noise_x)]\n",
    "    y_coords_noisy = [y + noise for y, noise in zip(y_coords, noise_y)]\n",
    "\n",
    "    return list(zip(x_coords_noisy, y_coords_noisy))\n",
    "    \n",
    "\n",
    "def build_polygon_from_points(x_coords, y_coords):\n",
    "    min_x, max_x = min(x_coords), max(x_coords)\n",
    "    min_y, max_y = min(y_coords), max(y_coords)\n",
    "\n",
    "    rectangle_points = [(min_x, min_y), (min_x, max_y), (max_x, max_y), (max_x, min_y)]\n",
    "    return rectangle_points"
   ]
  },
  {
   "cell_type": "code",
   "execution_count": null,
   "metadata": {},
   "outputs": [],
   "source": [
    "\n",
    "# Example usage:\n",
    "num_sides = 5\n",
    "min_side_length = 1\n",
    "max_side_length = 5\n",
    "x_coords, y_coords = generate_random_nonintersecting_polygon(num_sides, min_side_length, max_side_length)\n",
    "\n",
    "license_area_poly = list(zip(x_coords*5000, y_coords*500))\n",
    "license_area_poly"
   ]
  },
  {
   "cell_type": "code",
   "execution_count": 1,
   "metadata": {},
   "outputs": [],
   "source": [
    "import segyio\n",
    "import numpy as np\n",
    "import matplotlib.pyplot as plt\n",
    "\n",
    "def get_seismic_grid(segy_file_path: str):\n",
    "    \"\"\"Метод предназначенный для чтения сейсмического куба из файла формата SEG-Y \n",
    "\n",
    "    Args:\n",
    "        segy_file_path (str): Путь к файлу с сейсмическими данными\n",
    "\n",
    "    Returns:\n",
    "        _type_: (куб сейсмических трасс, вектор координат X каждой из трасс, вектор координат Y каждой из трасс, вектор глубин)\n",
    "    \"\"\"\n",
    "    segy = segyio.open(segy_file_path, 'r', strict=False)  # Открываем SEGY-файл в режиме чтения\n",
    "    coordinate_x = segy.attributes(segyio.TraceField.SourceX)\n",
    "    coordinate_y = segy.attributes(segyio.TraceField.SourceY)\n",
    "    coordinate_z = segy.samples\n",
    "    seismic_data = segyio.tools.cube(segy)\n",
    "    return seismic_data, np.array(coordinate_x), np.array(coordinate_y), coordinate_z, segy\n"
   ]
  },
  {
   "cell_type": "code",
   "execution_count": 2,
   "metadata": {},
   "outputs": [],
   "source": [
    "file_path = 'data/Глубинный куб NP cropped'\n",
    "\n",
    "#file_path = 'data/Временной куб NP cropped'\n",
    "\n",
    "seismic_cube, coordinate_x, coordinate_y, coordinate_z, segy = get_seismic_grid(file_path)\n"
   ]
  },
  {
   "cell_type": "code",
   "execution_count": null,
   "metadata": {},
   "outputs": [],
   "source": [
    "segy.ilines.copy(), ilines"
   ]
  },
  {
   "cell_type": "code",
   "execution_count": null,
   "metadata": {},
   "outputs": [],
   "source": [
    "segyio.TraceField."
   ]
  },
  {
   "cell_type": "code",
   "execution_count": 16,
   "metadata": {},
   "outputs": [
    {
     "data": {
      "text/plain": [
       "(984270,)"
      ]
     },
     "execution_count": 16,
     "metadata": {},
     "output_type": "execute_result"
    }
   ],
   "source": [
    "np.array(segy.attributes(segyio.TraceField.SourceX)).shape"
   ]
  },
  {
   "cell_type": "code",
   "execution_count": 8,
   "metadata": {},
   "outputs": [
    {
     "data": {
      "text/plain": [
       "array([   0,   12,   24,   36,   48,   60,   72,   84,   96,  108,  120,\n",
       "        132,  144,  156,  168,  180,  192,  204,  216,  228,  240,  252,\n",
       "        264,  276,  288,  300,  312,  324,  336,  348,  360,  372,  384,\n",
       "        396,  408,  420,  432,  444,  456,  468,  480,  492,  504,  516,\n",
       "        528,  540,  552,  564,  576,  588,  600,  612,  624,  636,  648,\n",
       "        660,  672,  684,  696,  708,  720,  732,  744,  756,  768,  780,\n",
       "        792,  804,  816,  828,  840,  852,  864,  876,  888,  900,  912,\n",
       "        924,  936,  948,  960,  972,  984,  996, 1008, 1020, 1032, 1044,\n",
       "       1056, 1068, 1080, 1092, 1104, 1116, 1128, 1140, 1152, 1164, 1176,\n",
       "       1188, 1200, 1212, 1224, 1236, 1248, 1260, 1272, 1284, 1296, 1308,\n",
       "       1320, 1332, 1344, 1356, 1368, 1380, 1392, 1404, 1416, 1428, 1440,\n",
       "       1452, 1464, 1476, 1488, 1500, 1512, 1524], dtype=int32)"
      ]
     },
     "execution_count": 8,
     "metadata": {},
     "output_type": "execute_result"
    }
   ],
   "source": [
    "ilines[::12]"
   ]
  },
  {
   "cell_type": "code",
   "execution_count": 9,
   "metadata": {},
   "outputs": [],
   "source": [
    "ilines = segy.ilines.copy()\n",
    "ilines -= ilines[0]\n",
    "ilines = ilines[::12]\n",
    "\n",
    "xlines = segy.xlines.copy()\n",
    "xlines -= xlines[0] \n",
    "xlines = xlines[::12]\n",
    "\n",
    "# Создаём маску для отсечения отсутствующих сейсмотрасс\n",
    "seismic_cube_r = seismic_cube.reshape(-1, seismic_cube.shape[2])\n",
    "mask = np.all(seismic_cube_r == 0, axis=1)\n",
    "mask = mask.reshape((seismic_cube.shape[0], seismic_cube.shape[1]))\n",
    "\n",
    "# Рассчитываем среднее значение и стандартное отклонение для всего куба\n",
    "mean_val = np.mean(seismic_cube[~mask])\n",
    "std_val = np.std(seismic_cube[~mask])\n",
    "\n",
    "# Получаем сейсмотрассы на пересечении ilines и xlines\n",
    "seismic_cube_r = seismic_cube.copy()\n",
    "seismic_cube_r[mask] = mean_val\n",
    "cross_section = seismic_cube_r[np.ix_(ilines, xlines)]\n",
    "\n",
    "# Задаем порог для определения аномалий, 3 стандартных отклонения\n",
    "threshold = 3.0\n",
    "\n",
    "# Находим индексы аномальных значений в срезе\n",
    "anomalies = np.where((cross_section > mean_val + threshold * std_val)| \n",
    "                     (cross_section < mean_val - threshold * std_val))\n",
    "\n",
    "# Создаем словарь для подсчета аномалий на каждом пересечении\n",
    "anomaly_counts = {}\n",
    "\n",
    "# Выведем индексы аномальных значений\n",
    "for i, x, t in zip(*anomalies):\n",
    "    # real_iline = ilines[i]\n",
    "    # real_xline = xlines[x]\n",
    "\n",
    "    # # Подсчет количества аномалий в одной сейсмотрассе\n",
    "    # key = (real_iline, real_xline)\n",
    "    anomaly_counts[t] = anomaly_counts.get(t, 0) + 1"
   ]
  },
  {
   "cell_type": "code",
   "execution_count": 11,
   "metadata": {},
   "outputs": [
    {
     "data": {
      "text/plain": [
       "((128, 54, 118), (1526, 645, 118))"
      ]
     },
     "execution_count": 11,
     "metadata": {},
     "output_type": "execute_result"
    }
   ],
   "source": [
    "cross_section.shape, seismic_cube.shape"
   ]
  },
  {
   "cell_type": "code",
   "execution_count": 13,
   "metadata": {},
   "outputs": [
    {
     "name": "stdout",
     "output_type": "stream",
     "text": [
      "slice: 97 has 133 anomalies.\n",
      "slice: 102 has 103 anomalies.\n",
      "slice: 99 has 106 anomalies.\n",
      "slice: 76 has 119 anomalies.\n",
      "slice: 96 has 136 anomalies.\n",
      "slice: 100 has 113 anomalies.\n",
      "slice: 101 has 111 anomalies.\n",
      "slice: 94 has 110 anomalies.\n",
      "slice: 91 has 111 anomalies.\n",
      "slice: 92 has 112 anomalies.\n",
      "slice: 88 has 111 anomalies.\n",
      "slice: 89 has 109 anomalies.\n",
      "slice: 95 has 121 anomalies.\n",
      "slice: 93 has 117 anomalies.\n",
      "slice: 98 has 119 anomalies.\n",
      "slice: 90 has 126 anomalies.\n",
      "slice: 85 has 117 anomalies.\n",
      "slice: 87 has 114 anomalies.\n",
      "slice: 86 has 117 anomalies.\n",
      "slice: 78 has 110 anomalies.\n",
      "slice: 74 has 130 anomalies.\n",
      "slice: 84 has 103 anomalies.\n",
      "slice: 75 has 132 anomalies.\n",
      "slice: 79 has 110 anomalies.\n"
     ]
    }
   ],
   "source": [
    "for t, count in anomaly_counts.items():\n",
    "    if count > 100 : print(f\"slice: {t} has {count} anomalies.\") "
   ]
  },
  {
   "cell_type": "code",
   "execution_count": null,
   "metadata": {},
   "outputs": [],
   "source": [
    "plt.figure(figsize=(10, 10))\n",
    "plt.imshow(seismic_cube[:,:,0], cmap='seismic')\n",
    "plt.colorbar()\n",
    "plt.grid(ls=':', alpha=.5)\n",
    "plt.gca().invert_yaxis()\n",
    "plt.show()"
   ]
  },
  {
   "cell_type": "code",
   "execution_count": null,
   "metadata": {},
   "outputs": [],
   "source": [
    "file_path = 'data/Временной куб NP cropped'\n",
    "\n",
    "#file_path = 'data/Временной куб NP cropped'\n",
    "\n",
    "seismic_cube, coordinate_x, coordinate_y, coordinate_z, segy = get_seismic_grid(file_path)\n"
   ]
  },
  {
   "cell_type": "code",
   "execution_count": null,
   "metadata": {},
   "outputs": [],
   "source": [
    "def test_miss_traces(seismic_cube):\n",
    "    seismic_cube_ = seismic_cube.reshape(-1, seismic_cube.shape[2])\n",
    "    mask = np.all(seismic_cube_ ==0 ,axis=1)\n",
    "\n",
    "    percent_true = (np.sum(mask) / mask.size) * 100\n",
    "    percent_false = 100 - percent_true\n",
    "\n"
   ]
  },
  {
   "cell_type": "code",
   "execution_count": null,
   "metadata": {},
   "outputs": [],
   "source": [
    "def visualize_miss_traces(mask, percent_true, percent_false):\n",
    "    # Подсчет количества пикселей для каждого цвета\n",
    "    num_true_pixels = np.sum(mask)\n",
    "    num_false_pixels = np.sum(~mask)\n",
    "    total_pixels = mask.size\n",
    "\n",
    "    # Процентное соотношение для каждого цвета\n",
    "    percent_true = (num_true_pixels / total_pixels) * 100\n",
    "    percent_false = (num_false_pixels / total_pixels) * 100\n",
    "\n",
    "    # Определение цветов и соответствующих описаний для легенды\n",
    "    colors = ['red','blue']\n",
    "    labels = [f'Сейсмические трассы отсутствуют ({percent_true:.1f}%)',\n",
    "            f'Сейсмические трассы присутствуют ({percent_false:.1f}%)']\n",
    "\n",
    "    plt.figure(figsize=(8, 8))\n",
    "    plt.imshow(mask, cmap='seismic')\n",
    "\n",
    "    # Создание легенды\n",
    "    legend_elements = [plt.Rectangle((0, 0), 1, 1, color=colors[i], label=labels[i]) for i in range(len(colors))]\n",
    "    plt.legend(handles=legend_elements, loc='upper center', bbox_to_anchor=(0.5, 1.09))\n",
    "\n",
    "    plt.grid(ls=':', alpha=.5)\n",
    "    plt.gca().invert_yaxis()\n",
    "    plt.show()\n",
    "\n",
    "visualize_miss_traces(mask.reshape((seismic_cube.shape[0], seismic_cube.shape[1])))\n"
   ]
  },
  {
   "cell_type": "code",
   "execution_count": null,
   "metadata": {},
   "outputs": [],
   "source": [
    "seismic_cube.shape , coordinate_x.shape, coordinate_y.shape, coordinate_z.shape"
   ]
  },
  {
   "cell_type": "code",
   "execution_count": null,
   "metadata": {},
   "outputs": [],
   "source": [
    "file_path = 'data/Глубинный куб NP cropped'\n",
    "\n",
    "segy = segyio.open(file_path, 'r', strict=False)\n",
    "seismic_cube_ = segyio.tools.cube(segy)\n",
    "seismic_cube_.shape"
   ]
  },
  {
   "cell_type": "code",
   "execution_count": null,
   "metadata": {},
   "outputs": [],
   "source": [
    "plt.figure(figsize=(10, 10))\n",
    "plt.imshow(seismic_cube_[:,:,0], cmap='seismic')\n",
    "plt.colorbar()\n",
    "plt.grid(ls=':', alpha=.5)\n",
    "plt.gca().invert_yaxis()\n",
    "plt.show()"
   ]
  },
  {
   "cell_type": "code",
   "execution_count": null,
   "metadata": {},
   "outputs": [],
   "source": [
    "seism_data_qa_qc = QA_QC_seismic(file_path)"
   ]
  },
  {
   "cell_type": "code",
   "execution_count": null,
   "metadata": {},
   "outputs": [],
   "source": [
    "seism_data_qa_qc.license_area_poly = add_noise_to_polygon(build_polygon_from_points(seism_data_qa_qc.coordinate_x, seism_data_qa_qc.coordinate_y), noise_factor=5000)\n",
    "\n",
    "seism_data_qa_qc.coordinate_validation()"
   ]
  },
  {
   "cell_type": "code",
   "execution_count": null,
   "metadata": {},
   "outputs": [],
   "source": [
    "seism_data_qa_qc.license_area_poly = license_area_poly\n",
    "seism_data_qa_qc.coordinate_validation()"
   ]
  },
  {
   "cell_type": "code",
   "execution_count": 26,
   "metadata": {},
   "outputs": [],
   "source": [
    "from shapely.geometry import MultiPoint, Polygon, Point\n",
    "\n",
    "def build_polygon_from_points(x_coords:np.array, y_coords:np.array):\n",
    "    \"\"\"\n",
    "    Получение полигона из облака точек\n",
    "\n",
    "    Args:\n",
    "        x_coords (np.array): X координаты облака точек\n",
    "        y_coords (np.array): Y координаты облака точек\n",
    "\n",
    "    Returns:\n",
    "        list: список кортежей координат полигона в который вписано облако точек \n",
    "    \"\"\"    \n",
    "    points = MultiPoint(list(zip(x_coords, y_coords)))\n",
    "    convex_hull = points.convex_hull\n",
    "    return list(convex_hull.exterior.coords)"
   ]
  },
  {
   "cell_type": "code",
   "execution_count": 1,
   "metadata": {},
   "outputs": [],
   "source": [
    "import matplotlib.pyplot as plt\n",
    "from shapely.geometry import Polygon\n",
    "from scipy import ndimage\n",
    "import numpy as np\n",
    "\n",
    "def shrink_polygon(polygon_coords, distance):\n",
    "    polygon = Polygon(polygon_coords)\n",
    "    shrunk_polygon = polygon.buffer(distance)\n",
    "    return list(shrunk_polygon.exterior.coords)\n",
    "\n",
    "def visualize_polygons(original_polygon, new_polygon):\n",
    "    fig, ax = plt.subplots()\n",
    "    \n",
    "    x_original, y_original = original_polygon.exterior.xy\n",
    "    x_new, y_new = new_polygon.exterior.xy\n",
    "    \n",
    "    ax.fill(x_original, y_original, alpha=0.5, fc='blue', label=\"Original Polygon\")\n",
    "    ax.fill(x_new, y_new, alpha=0.5, fc='red', label=\"Shrunk Polygon\")\n",
    "    \n",
    "    ax.set_title(\"Polygon Shrink Visualization\")\n",
    "    ax.legend(loc=\"upper left\")\n",
    "    plt.show()\n",
    "\n",
    "def polygon_to_mask(polygon_coords, mask_shape):\n",
    "    # Создаем пустую маску\n",
    "    mask = np.zeros(mask_shape, dtype=bool)\n",
    "\n",
    "    # Создаем объект полигона из координат\n",
    "    polygon = Polygon(polygon_coords)\n",
    "\n",
    "    # Проверяем каждый пиксель, находится ли он внутри полигона\n",
    "    for i in range(mask_shape[0]):\n",
    "        for j in range(mask_shape[1]):\n",
    "            point = (i, j)\n",
    "            if polygon.contains(Point(point)):\n",
    "                mask[i, j] = True\n",
    "\n",
    "    return mask\n",
    "\n",
    "# # Создаем сложный полигон (похожий на букву \"E\")\n",
    "# polygon_coords = [(0, 0), (4, 0), (4, 2), (2, 2), (2, 3), (4, 3), (4, 5), (2, 5), (2, 6), (4, 6), (4, 8), (0, 8)]\n",
    "\n",
    "# # Уменьшаем полигон\n",
    "# new_polygon_coords = shrink_polygon(polygon_coords, -0.2)\n",
    "\n",
    "# # Визуализация результатов\n",
    "# visualize_polygons(polygon_coords, new_polygon_coords)\n"
   ]
  },
  {
   "cell_type": "code",
   "execution_count": 2,
   "metadata": {},
   "outputs": [],
   "source": [
    "from qa_qc_lib.qa_qc_seismic import QA_QC_seismic"
   ]
  },
  {
   "cell_type": "code",
   "execution_count": 3,
   "metadata": {},
   "outputs": [],
   "source": [
    "file_path = 'data/Глубинный куб NP cropped'\n",
    "seism_data_qa_qc = QA_QC_seismic(file_path=file_path)\n",
    "\n",
    "seismic_cube = seism_data_qa_qc.seismic_cube"
   ]
  },
  {
   "cell_type": "code",
   "execution_count": 4,
   "metadata": {},
   "outputs": [],
   "source": [
    "seismic_cube_r = seismic_cube.reshape(-1, seismic_cube.shape[2])\n",
    "mask = np.all(seismic_cube_r == 0, axis=1)\n",
    "mask = mask.reshape((seismic_cube.shape[0], seismic_cube.shape[1]))"
   ]
  },
  {
   "cell_type": "code",
   "execution_count": 11,
   "metadata": {},
   "outputs": [],
   "source": [
    "def shrink_polygon(polygon, distance):\n",
    "    shrunk_polygon = polygon.buffer(distance)\n",
    "    return list(shrunk_polygon.exterior.coords)\n",
    "\n",
    "def mask_to_polygon(mask):\n",
    "    # Ищем контуры с помощью метода label из scipy\n",
    "    labeled, num_objects = ndimage.label(mask)\n",
    "    slices = ndimage.find_objects(labeled)\n",
    "\n",
    "    # Предполагаем, что у нас есть только один объект\n",
    "    if num_objects == 0:\n",
    "        return None\n",
    "\n",
    "    # Для упрощения берем только первый объект (наибольший контур)\n",
    "    slice_y, slice_x = slices[0]\n",
    "    roi = mask[slice_y, slice_x]\n",
    "\n",
    "    # Получаем координаты контура\n",
    "    contours = np.argwhere(roi)\n",
    "    if len(contours) == 0:\n",
    "        return None\n",
    "\n",
    "    # Создаем полигон на основе контура\n",
    "    polygon = Polygon(contours)\n",
    "\n",
    "    return polygon\n",
    "\n",
    "\n",
    "def visualize_polygons(original_polygon, new_polygon):\n",
    "    fig, ax = plt.subplots()\n",
    "    \n",
    "    x_original, y_original = original_polygon.exterior.xy\n",
    "    x_new, y_new = new_polygon.exterior.xy\n",
    "    \n",
    "    ax.fill(x_original, y_original, alpha=0.5, fc='blue', label=\"Original Polygon\")\n",
    "    # ax.fill(x_new, y_new, alpha=0.5, fc='red', label=\"Shrunk Polygon\")\n",
    "    \n",
    "    ax.set_title(\"Polygon Shrink Visualization\")\n",
    "    ax.legend(loc=\"upper left\")\n",
    "    plt.show()\n",
    "\n",
    "\n",
    "\n",
    "from matplotlib.path import Path\n",
    "\n",
    "def coords_in_poly(tupVerts, shape):\n",
    "    sh_x, sh_y = shape[0], shape[1]\n",
    "    x, y = np.meshgrid(np.arange(sh_y), np.arange(sh_x))\n",
    "    x, y = x.flatten(), y.flatten()\n",
    "    points = np.vstack((x,y)).T\n",
    "\n",
    "    p = Path(tupVerts)\n",
    "    grid = p.contains_points(points)\n",
    "    mask = grid.reshape(sh_x, sh_y)\n",
    "    return mask\n",
    "\n",
    "\n",
    "def mask_to_polygon_coords(mask):\n",
    "    # Получите границы маски\n",
    "    contours = np.argwhere(mask)\n",
    "    \n",
    "    # Если нет контура, верните пустой список\n",
    "    if contours.size == 0:\n",
    "        return []\n",
    "\n",
    "    # Получите уникальные координаты контура\n",
    "    unique_contour_coords = np.unique(contours, axis=0)\n",
    "    \n",
    "    # Преобразуйте уникальные координаты в список кортежей\n",
    "    polygon_coords = [tuple(coord) for coord in unique_contour_coords]\n",
    "    \n",
    "    return polygon_coords"
   ]
  },
  {
   "cell_type": "code",
   "execution_count": 8,
   "metadata": {},
   "outputs": [
    {
     "data": {
      "image/png": "[encoded data removed]",
      "text/plain": [
       "<Figure size 640x480 with 1 Axes>"
      ]
     },
     "metadata": {},
     "output_type": "display_data"
    }
   ],
   "source": [
    "distance = 5\n",
    "polygon = mask_to_polygon(~mask)\n",
    "new_polygon = polygon.buffer(distance)\n",
    "\n",
    "\n",
    "visualize_polygons(polygon, new_polygon)"
   ]
  },
  {
   "cell_type": "code",
   "execution_count": 12,
   "metadata": {},
   "outputs": [],
   "source": [
    "new_mask = coords_in_poly(list(polygon.exterior.coords), mask.shape)\n",
    "new_mask"
   ]
  },
  {
   "cell_type": "code",
   "execution_count": null,
   "metadata": {},
   "outputs": [],
   "source": []
  },
  {
   "cell_type": "code",
   "execution_count": 55,
   "metadata": {},
   "outputs": [],
   "source": [
    "import numpy as np\n",
    "from matplotlib.path import Path\n",
    "from shapely.geometry import Polygon\n",
    "from scipy import ndimage\n",
    "from qa_qc_lib.qa_qc_seismic import QA_QC_seismic\n",
    "import matplotlib.pyplot as plt\n",
    "from scipy.signal import convolve2d\n",
    "\n",
    "def find_border(mask):\n",
    "    # Создаем 3x3 ядро (kernel) с единицами\n",
    "    kernel = np.ones((3, 3))\n",
    "\n",
    "    # Применяем свертку к маске с ядром\n",
    "    conv_result = convolve2d(mask, kernel, mode='same')\n",
    "\n",
    "    # Идентифицируем границы: все пиксели в результирующем изображении, которые меньше 9\n",
    "    # (и соответствующие пиксели в исходной маске равны True), являются границами.\n",
    "    border = np.logical_and(conv_result < 9, mask)\n",
    "    \n",
    "    return border\n",
    "\n",
    "\n",
    "def compute_variance(arr):\n",
    "    # Вычисляем среднее значение\n",
    "    mean_val = np.mean(arr)\n",
    "    \n",
    "    # Вычисляем дисперсию\n",
    "    variance = np.mean((arr - mean_val) ** 2)\n",
    "    \n",
    "    return variance\n",
    "\n",
    "\n",
    "\n",
    "compute_variance(seismic_cube[border_mask])\n",
    "\n",
    "file_path = 'data/Глубинный куб NP cropped'\n",
    "seism_data_qa_qc = QA_QC_seismic(file_path=file_path)\n",
    "\n",
    "\n",
    "\n"
   ]
  },
  {
   "cell_type": "code",
   "execution_count": 104,
   "metadata": {},
   "outputs": [],
   "source": []
  },
  {
   "cell_type": "code",
   "execution_count": 107,
   "metadata": {},
   "outputs": [
    {
     "name": "stdout",
     "output_type": "stream",
     "text": [
      "676659 1617508.8\n",
      "672047 1720421.2\n",
      "667457 1807432.1\n",
      "662881 1884600.1\n",
      "658317 1949360.9\n",
      "653764 2013024.6\n",
      "649229 2075065.0\n",
      "644705 2137319.0\n",
      "640193 2200857.5\n",
      "635691 2263626.0\n",
      "631198 2326916.2\n",
      "626717 2387554.8\n",
      "622250 2441871.5\n",
      "617792 2492998.5\n",
      "613343 2543889.5\n",
      "608903 2593957.8\n",
      "604475 2644352.8\n",
      "600060 2692625.2\n",
      "595655 2737771.0\n",
      "591260 2779641.8\n",
      "586876 2818822.2\n",
      "582504 2857315.0\n",
      "578141 2894489.5\n",
      "573787 2930707.8\n",
      "569443 2966736.2\n",
      "565107 3001044.5\n",
      "560783 3032519.0\n",
      "556469 3062020.8\n",
      "552166 3088483.8\n",
      "547873 3113355.0\n",
      "543591 3137023.2\n",
      "539321 3159292.5\n",
      "535065 3181224.5\n",
      "530817 3202388.2\n",
      "526580 3222622.2\n",
      "522352 3241996.2\n",
      "518135 3259375.0\n",
      "513930 3275214.0\n",
      "509734 3289502.0\n",
      "505548 3303326.2\n",
      "501373 3317161.2\n",
      "497209 3330515.2\n",
      "493056 3343180.2\n",
      "488914 3354841.5\n",
      "484786 3364484.0\n",
      "480669 3373465.5\n",
      "476562 3381891.5\n",
      "472465 3389975.2\n",
      "468380 3398146.0\n",
      "464307 3406189.0\n",
      "460244 3413599.2\n",
      "456192 3420620.2\n",
      "452151 3426761.5\n",
      "448122 3432685.0\n",
      "444107 3438011.8\n",
      "440103 3442996.2\n",
      "436111 3448651.8\n",
      "432127 3454779.0\n",
      "428157 3460760.8\n",
      "424199 3466361.5\n",
      "420253 3471572.0\n",
      "416318 3476695.8\n",
      "412396 3481099.0\n",
      "408486 3484738.8\n",
      "404590 3488339.0\n",
      "400707 3491964.5\n",
      "396837 3495380.0\n",
      "392979 3498711.5\n",
      "389133 3501796.5\n",
      "385300 3505108.2\n",
      "381477 3508322.5\n",
      "377667 3511262.0\n",
      "373869 3514303.2\n",
      "370082 3517157.5\n",
      "366307 3519985.0\n",
      "362544 3522717.2\n",
      "358793 3524820.8\n",
      "355052 3526557.2\n",
      "351324 3527852.8\n",
      "347609 3529035.0\n",
      "343905 3530534.5\n",
      "340216 3531784.2\n",
      "336537 3532613.2\n",
      "332872 3533194.8\n",
      "329219 3533346.5\n",
      "325579 3533278.2\n",
      "321951 3533180.0\n",
      "318334 3533199.2\n",
      "314731 3533372.5\n",
      "311140 3533312.0\n",
      "307562 3533098.2\n",
      "303995 3532757.0\n",
      "300444 3532003.2\n",
      "296906 3531223.8\n",
      "293379 3530318.8\n",
      "289866 3529520.0\n",
      "286367 3529320.8\n",
      "282883 3529560.5\n",
      "279411 3529855.8\n",
      "275951 3530102.8\n",
      "272504 3530155.5\n",
      "269071 3530485.8\n",
      "265649 3531003.8\n",
      "262241 3531788.8\n",
      "258849 3532831.0\n",
      "255470 3533806.5\n",
      "252102 3534744.5\n",
      "248747 3535657.8\n",
      "245407 3536299.8\n",
      "242081 3537001.5\n",
      "238772 3537548.0\n",
      "235479 3538103.2\n",
      "232198 3539043.5\n",
      "228932 3540168.5\n",
      "225678 3541369.2\n",
      "222441 3542546.0\n",
      "219219 3543321.0\n",
      "216011 3544063.0\n",
      "212815 3544699.2\n",
      "209634 3545550.0\n",
      "206463 3546904.5\n",
      "203308 3548368.5\n",
      "200166 3549629.0\n",
      "197035 3550697.0\n",
      "193916 3551443.0\n",
      "190808 3552186.2\n",
      "187712 3553083.8\n",
      "184628 3554244.8\n",
      "181562 3555615.8\n",
      "178510 3557043.5\n",
      "175471 3558448.8\n",
      "172445 3559823.8\n",
      "169433 3560913.5\n",
      "166436 3562128.0\n",
      "163450 3563353.5\n",
      "160480 3564734.0\n",
      "157523 3566449.0\n",
      "154580 3568377.0\n",
      "151650 3570328.2\n",
      "148733 3572206.8\n",
      "145832 3573825.2\n",
      "142945 3575375.2\n",
      "140072 3576710.8\n",
      "137215 3578001.2\n",
      "134373 3579485.5\n",
      "131547 3581124.5\n",
      "128735 3582833.5\n",
      "125938 3584523.8\n",
      "123156 3586024.2\n",
      "120390 3587626.0\n",
      "117641 3589155.2\n",
      "114910 3590914.2\n",
      "112226 3593021.8\n",
      "109589 3595295.8\n",
      "107016 3597565.2\n",
      "104516 3599727.8\n",
      "102045 3601748.8\n",
      "99589 3603841.8\n",
      "97148 3605907.8\n",
      "94723 3608202.5\n"
     ]
    }
   ],
   "source": [
    "from scipy.signal import convolve2d\n",
    "\n",
    "def find_border(mask):\n",
    "    # Создаем 3x3 ядро (kernel) с единицами\n",
    "    kernel = np.ones((3, 3))\n",
    "    # Применяем свертку к маске с ядром\n",
    "    conv_result = convolve2d(mask, kernel, mode='same')\n",
    "    # Идентифицируем границы: все пиксели в результирующем изображении, которые меньше 9\n",
    "    # (и соответствующие пиксели в исходной маске равны True), являются границами.\n",
    "    border = np.logical_and(conv_result < 9, mask)\n",
    "    return border\n",
    "\n",
    "\n",
    "def compute_variance(arr):\n",
    "    # Вычисляем среднее значение\n",
    "    mean_val = np.mean(arr)\n",
    "    # Вычисляем дисперсию\n",
    "    variance = np.mean((arr - mean_val) ** 2)\n",
    "    return variance\n",
    "\n",
    "\n",
    "# Создаём маску которая будет отражать наличие сейсмотрасс, а значит и геометрию сейсмополя\n",
    "seismic_cube = seism_data_qa_qc.seismic_cube.copy()\n",
    "seismic_cube_r = seismic_cube.reshape(-1, seismic_cube.shape[2])\n",
    "mask = np.all(seismic_cube_r == 0, axis=1)\n",
    "mask = mask.reshape((seismic_cube.shape[0], seismic_cube.shape[1]))\n",
    "\n",
    "# Создаём маску которая будет хранить условниые классы (0 - сейсмотрассы отсутствуют, \n",
    "#                                                       1 - сейсмотрассы присутствуют / основная часть куба, \n",
    "#                                                       2 - сейсмотрассы присутствуют / краевая часть куба )\n",
    "numeric_mask = (~mask).astype(int)\n",
    "# Далее итеративно расширяем границы краевой зоны и обсчитываем для неё дисперсию\n",
    "variance_list = []\n",
    "while (numeric_mask==1).sum() > 95655:    # Условие остановки\n",
    "    # find_border определяет пиксели/дискреты лежащие на границе полигона, после чего они переклассифицируются в краевую чать куба\n",
    "    numeric_mask[find_border(numeric_mask==1)] = 2  \n",
    "    variance = compute_variance(seismic_cube[numeric_mask==2])\n",
    "    variance_list.append(variance)\n",
    "    print((numeric_mask==1).sum(), variance)\n"
   ]
  },
  {
   "cell_type": "code",
   "execution_count": 112,
   "metadata": {},
   "outputs": [
    {
     "data": {
      "text/plain": [
       "{'result': 'Fail', 'file_name': 'file_name', 'date': '%Y-%m-%d %H:%M:%S'}"
      ]
     },
     "execution_count": 112,
     "metadata": {},
     "output_type": "execute_result"
    }
   ],
   "source": [
    "all_results_dict = {}\n",
    "\n",
    "all_results_dict[\"result\"] = 'Fail'\n",
    "\n",
    "timestamp = \"%Y-%m-%d %H:%M:%S\"\n",
    "\n",
    "all_results_dict | {\"file_name\": \"file_name\", \"date\": timestamp}"
   ]
  },
  {
   "cell_type": "code",
   "execution_count": 108,
   "metadata": {},
   "outputs": [
    {
     "data": {
      "image/png": "[encoded data removed]",
      "text/plain": [
       "<Figure size 640x480 with 1 Axes>"
      ]
     },
     "metadata": {},
     "output_type": "display_data"
    }
   ],
   "source": [
    "plt.imshow(numeric_mask)\n",
    "plt.show()"
   ]
  },
  {
   "cell_type": "code",
   "execution_count": 110,
   "metadata": {},
   "outputs": [
    {
     "data": {
      "image/png": "[encoded data removed]",
      "text/plain": [
       "<Figure size 640x480 with 1 Axes>"
      ]
     },
     "metadata": {},
     "output_type": "display_data"
    }
   ],
   "source": [
    "plt.plot(variance_list)\n",
    "plt.show()"
   ]
  },
  {
   "cell_type": "code",
   "execution_count": null,
   "metadata": {},
   "outputs": [],
   "source": []
  }
 ],
 "metadata": {
  "kernelspec": {
   "display_name": "Python 3.9.17 ('qa_qc_proj')",
   "language": "python",
   "name": "python3"
  },
  "language_info": {
   "codemirror_mode": {
    "name": "ipython",
    "version": 3
   },
   "file_extension": ".py",
   "mimetype": "text/x-python",
   "name": "python",
   "nbconvert_exporter": "python",
   "pygments_lexer": "ipython3",
   "version": "3.9.17"
  },
  "orig_nbformat": 4,
  "vscode": {
   "interpreter": {
    "hash": "781f071193305b9cc4de4969365dbf8a5305068d89cb55bf119b1668ebae182b"
   }
  }
 },
 "nbformat": 4,
 "nbformat_minor": 2
}
