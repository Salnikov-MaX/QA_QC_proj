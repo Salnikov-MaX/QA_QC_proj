{
 "cells": [
  {
   "cell_type": "code",
   "execution_count": 37,
   "metadata": {},
   "outputs": [],
   "source": [
    "from qaqc_gis_new import QA_QC_GIS\n",
    "import pandas as pd\n",
    "from qaqc_gis import QA_QC_GIS as qaqcfirst"
   ]
  },
  {
   "cell_type": "code",
   "execution_count": 38,
   "metadata": {},
   "outputs": [],
   "source": [
    "kern = pd.read_excel('../../Данные/qaqc/Керн1.xlsx')\n",
    "las_path = '../../Данные/qaqc/ГИС/4001PL.las'\n",
    "depth = kern['Глубина отбора образца после привязки к ГИС, м'].to_numpy()\n",
    "poro = kern['Открытая пористость по воде, Кп, %'].to_numpy()\n",
    "lithology = kern['Литологическое описание'].to_numpy()\n",
    "poroeff = kern['Эффективная пористость, Кп эф, %'].to_numpy()\n",
    "perm = kern['Газопроницаемость параллельно напластованию, Кпр, мД'].to_numpy()"
   ]
  },
  {
   "cell_type": "code",
   "execution_count": 41,
   "metadata": {},
   "outputs": [
    {
     "ename": "FileNotFoundError",
     "evalue": "[WinError 3] Системе не удается найти указанный путь: '../Данные/qaqc/ГИС/9281PL.las'",
     "output_type": "error",
     "traceback": [
      "\u001b[1;31m---------------------------------------------------------------------------\u001b[0m",
      "\u001b[1;31mFileNotFoundError\u001b[0m                         Traceback (most recent call last)",
      "Cell \u001b[1;32mIn[41], line 2\u001b[0m\n\u001b[0;32m      1\u001b[0m las_path \u001b[39m=\u001b[39m \u001b[39m'\u001b[39m\u001b[39m../../Данные/qaqc/ГИС/4001PL.las\u001b[39m\u001b[39m'\u001b[39m\n\u001b[1;32m----> 2\u001b[0m qaqcc \u001b[39m=\u001b[39m qaqcfirst(las_path)\n\u001b[0;32m      3\u001b[0m qaqcc\u001b[39m.\u001b[39mget_list_of_tests()\n",
      "File \u001b[1;32mc:\\Users\\zinatyllinai\\Desktop\\Программирование\\Код\\qaqc\\qaqc_gis.py:18\u001b[0m, in \u001b[0;36mQA_QC_GIS.__init__\u001b[1;34m(self, filename, las_path)\u001b[0m\n\u001b[0;32m     15\u001b[0m \u001b[39mself\u001b[39m\u001b[39m.\u001b[39mfilename \u001b[39m=\u001b[39m filename\n\u001b[0;32m     16\u001b[0m \u001b[39mself\u001b[39m\u001b[39m.\u001b[39mfile \u001b[39m=\u001b[39m \u001b[39mopen\u001b[39m(\u001b[39mself\u001b[39m\u001b[39m.\u001b[39mfilename, \u001b[39m\"\u001b[39m\u001b[39mw\u001b[39m\u001b[39m\"\u001b[39m)\n\u001b[1;32m---> 18\u001b[0m \u001b[39mself\u001b[39m\u001b[39m.\u001b[39mlas \u001b[39m=\u001b[39m lasio\u001b[39m.\u001b[39;49mread(las_path)\u001b[39m.\u001b[39mdf()\n\u001b[0;32m     19\u001b[0m \u001b[39mself\u001b[39m\u001b[39m.\u001b[39mdata \u001b[39m=\u001b[39m lasio\u001b[39m.\u001b[39mread(las_path)\n\u001b[0;32m     20\u001b[0m \u001b[39mself\u001b[39m\u001b[39m.\u001b[39mgis, \u001b[39mself\u001b[39m\u001b[39m.\u001b[39munit \u001b[39m=\u001b[39m \u001b[39mself\u001b[39m\u001b[39m.\u001b[39mgis_preparing(top \u001b[39m=\u001b[39m \u001b[39mself\u001b[39m\u001b[39m.\u001b[39mlas\u001b[39m.\u001b[39mindex[\u001b[39m0\u001b[39m], bottom \u001b[39m=\u001b[39m \u001b[39mself\u001b[39m\u001b[39m.\u001b[39mlas\u001b[39m.\u001b[39mindex[\u001b[39m-\u001b[39m\u001b[39m1\u001b[39m])\n",
      "File \u001b[1;32mc:\\ProgramData\\Anaconda3\\lib\\site-packages\\lasio\\__init__.py:41\u001b[0m, in \u001b[0;36mread\u001b[1;34m(file_ref, **kwargs)\u001b[0m\n\u001b[0;32m     18\u001b[0m \u001b[39mdef\u001b[39;00m \u001b[39mread\u001b[39m(file_ref, \u001b[39m*\u001b[39m\u001b[39m*\u001b[39mkwargs):\n\u001b[0;32m     19\u001b[0m \u001b[39m    \u001b[39m\u001b[39m\"\"\"Read a LAS file.\u001b[39;00m\n\u001b[0;32m     20\u001b[0m \n\u001b[0;32m     21\u001b[0m \u001b[39m    Note that only versions 1.2 and 2.0 of the LAS file specification\u001b[39;00m\n\u001b[1;32m   (...)\u001b[0m\n\u001b[0;32m     39\u001b[0m \n\u001b[0;32m     40\u001b[0m \u001b[39m    \"\"\"\u001b[39;00m\n\u001b[1;32m---> 41\u001b[0m     \u001b[39mreturn\u001b[39;00m LASFile(file_ref, \u001b[39m*\u001b[39m\u001b[39m*\u001b[39mkwargs)\n",
      "File \u001b[1;32mc:\\ProgramData\\Anaconda3\\lib\\site-packages\\lasio\\las.py:78\u001b[0m, in \u001b[0;36mLASFile.__init__\u001b[1;34m(self, file_ref, **read_kwargs)\u001b[0m\n\u001b[0;32m     69\u001b[0m \u001b[39mself\u001b[39m\u001b[39m.\u001b[39msections \u001b[39m=\u001b[39m {\n\u001b[0;32m     70\u001b[0m     \u001b[39m\"\u001b[39m\u001b[39mVersion\u001b[39m\u001b[39m\"\u001b[39m: default_items[\u001b[39m\"\u001b[39m\u001b[39mVersion\u001b[39m\u001b[39m\"\u001b[39m],\n\u001b[0;32m     71\u001b[0m     \u001b[39m\"\u001b[39m\u001b[39mWell\u001b[39m\u001b[39m\"\u001b[39m: default_items[\u001b[39m\"\u001b[39m\u001b[39mWell\u001b[39m\u001b[39m\"\u001b[39m],\n\u001b[1;32m   (...)\u001b[0m\n\u001b[0;32m     74\u001b[0m     \u001b[39m\"\u001b[39m\u001b[39mOther\u001b[39m\u001b[39m\"\u001b[39m: \u001b[39mstr\u001b[39m(default_items[\u001b[39m\"\u001b[39m\u001b[39mOther\u001b[39m\u001b[39m\"\u001b[39m]),\n\u001b[0;32m     75\u001b[0m }\n\u001b[0;32m     77\u001b[0m \u001b[39mif\u001b[39;00m \u001b[39mnot\u001b[39;00m (file_ref \u001b[39mis\u001b[39;00m \u001b[39mNone\u001b[39;00m):\n\u001b[1;32m---> 78\u001b[0m     \u001b[39mself\u001b[39m\u001b[39m.\u001b[39mread(file_ref, \u001b[39m*\u001b[39m\u001b[39m*\u001b[39mread_kwargs)\n",
      "File \u001b[1;32mc:\\ProgramData\\Anaconda3\\lib\\site-packages\\lasio\\las.py:128\u001b[0m, in \u001b[0;36mLASFile.read\u001b[1;34m(self, file_ref, ignore_data, read_policy, null_policy, ignore_header_errors, ignore_comments, mnemonic_case, index_unit, remove_data_line_filter, **kwargs)\u001b[0m\n\u001b[0;32m    126\u001b[0m file_obj \u001b[39m=\u001b[39m \u001b[39m\"\u001b[39m\u001b[39m\"\u001b[39m\n\u001b[0;32m    127\u001b[0m \u001b[39mtry\u001b[39;00m:\n\u001b[1;32m--> 128\u001b[0m     file_obj, \u001b[39mself\u001b[39m\u001b[39m.\u001b[39mencoding \u001b[39m=\u001b[39m reader\u001b[39m.\u001b[39mopen_file(file_ref, \u001b[39m*\u001b[39m\u001b[39m*\u001b[39mkwargs)\n\u001b[0;32m    130\u001b[0m     logger\u001b[39m.\u001b[39mdebug(\n\u001b[0;32m    131\u001b[0m         \u001b[39m\"\u001b[39m\u001b[39mFetching substitutions for read_policy \u001b[39m\u001b[39m{}\u001b[39;00m\u001b[39m and null policy \u001b[39m\u001b[39m{}\u001b[39;00m\u001b[39m\"\u001b[39m\u001b[39m.\u001b[39mformat(\n\u001b[0;32m    132\u001b[0m             read_policy, null_policy\n\u001b[0;32m    133\u001b[0m         )\n\u001b[0;32m    134\u001b[0m     )\n\u001b[0;32m    135\u001b[0m     regexp_subs, value_null_subs, version_NULL \u001b[39m=\u001b[39m reader\u001b[39m.\u001b[39mget_substitutions(\n\u001b[0;32m    136\u001b[0m         read_policy, null_policy\n\u001b[0;32m    137\u001b[0m     )\n",
      "File \u001b[1;32mc:\\ProgramData\\Anaconda3\\lib\\site-packages\\lasio\\reader.py:113\u001b[0m, in \u001b[0;36mopen_file\u001b[1;34m(file_ref, **encoding_kwargs)\u001b[0m\n\u001b[0;32m    111\u001b[0m         file_ref \u001b[39m=\u001b[39m StringIO(file_ref)\n\u001b[0;32m    112\u001b[0m     \u001b[39melse\u001b[39;00m:  \u001b[39m# it must be a filename\u001b[39;00m\n\u001b[1;32m--> 113\u001b[0m         file_ref, encoding \u001b[39m=\u001b[39m open_with_codecs(first_line, \u001b[39m*\u001b[39m\u001b[39m*\u001b[39mencoding_kwargs)\n\u001b[0;32m    114\u001b[0m \u001b[39mreturn\u001b[39;00m file_ref, encoding\n",
      "File \u001b[1;32mc:\\ProgramData\\Anaconda3\\lib\\site-packages\\lasio\\reader.py:158\u001b[0m, in \u001b[0;36mopen_with_codecs\u001b[1;34m(filename, encoding, encoding_errors, autodetect_encoding, autodetect_encoding_chars)\u001b[0m\n\u001b[0;32m    155\u001b[0m     nbytes \u001b[39m=\u001b[39m \u001b[39mNone\u001b[39;00m\n\u001b[0;32m    157\u001b[0m \u001b[39m# Forget [c]chardet - if we can locate the BOM we just assume that's correct.\u001b[39;00m\n\u001b[1;32m--> 158\u001b[0m nbytes_test \u001b[39m=\u001b[39m \u001b[39mmin\u001b[39m(\u001b[39m32\u001b[39m, os\u001b[39m.\u001b[39;49mpath\u001b[39m.\u001b[39;49mgetsize(filename))\n\u001b[0;32m    159\u001b[0m \u001b[39mwith\u001b[39;00m \u001b[39mopen\u001b[39m(filename, mode\u001b[39m=\u001b[39m\u001b[39m\"\u001b[39m\u001b[39mrb\u001b[39m\u001b[39m\"\u001b[39m) \u001b[39mas\u001b[39;00m test:\n\u001b[0;32m    160\u001b[0m     raw \u001b[39m=\u001b[39m test\u001b[39m.\u001b[39mread(nbytes_test)\n",
      "File \u001b[1;32mc:\\ProgramData\\Anaconda3\\lib\\genericpath.py:50\u001b[0m, in \u001b[0;36mgetsize\u001b[1;34m(filename)\u001b[0m\n\u001b[0;32m     48\u001b[0m \u001b[39mdef\u001b[39;00m \u001b[39mgetsize\u001b[39m(filename):\n\u001b[0;32m     49\u001b[0m \u001b[39m    \u001b[39m\u001b[39m\"\"\"Return the size of a file, reported by os.stat().\"\"\"\u001b[39;00m\n\u001b[1;32m---> 50\u001b[0m     \u001b[39mreturn\u001b[39;00m os\u001b[39m.\u001b[39;49mstat(filename)\u001b[39m.\u001b[39mst_size\n",
      "\u001b[1;31mFileNotFoundError\u001b[0m: [WinError 3] Системе не удается найти указанный путь: '../Данные/qaqc/ГИС/9281PL.las'"
     ]
    }
   ],
   "source": [
    "las_path = '../../Данные/qaqc/ГИС/4001PL.las'\n",
    "qaqcc = qaqcfirst(las_path)\n",
    "qaqcc.get_list_of_tests()"
   ]
  },
  {
   "cell_type": "code",
   "execution_count": 30,
   "metadata": {},
   "outputs": [],
   "source": [
    "list_of_tests = qaqc.get_list_of_tests()"
   ]
  },
  {
   "cell_type": "code",
   "execution_count": 31,
   "metadata": {},
   "outputs": [
    {
     "ename": "TypeError",
     "evalue": "start_tests() missing 1 required positional argument: 'list_of_tests'",
     "output_type": "error",
     "traceback": [
      "\u001b[1;31m---------------------------------------------------------------------------\u001b[0m",
      "\u001b[1;31mTypeError\u001b[0m                                 Traceback (most recent call last)",
      "Cell \u001b[1;32mIn[31], line 1\u001b[0m\n\u001b[1;32m----> 1\u001b[0m qaqc\u001b[39m.\u001b[39;49mstart_tests()\n",
      "\u001b[1;31mTypeError\u001b[0m: start_tests() missing 1 required positional argument: 'list_of_tests'"
     ]
    }
   ],
   "source": [
    "qaqc.start_tests()"
   ]
  },
  {
   "cell_type": "code",
   "execution_count": 7,
   "metadata": {},
   "outputs": [
    {
     "data": {
      "text/plain": [
       "[]"
      ]
     },
     "execution_count": 7,
     "metadata": {},
     "output_type": "execute_result"
    }
   ],
   "source": [
    "list_of_tests"
   ]
  }
 ],
 "metadata": {
  "kernelspec": {
   "display_name": "base",
   "language": "python",
   "name": "python3"
  },
  "language_info": {
   "codemirror_mode": {
    "name": "ipython",
    "version": 3
   },
   "file_extension": ".py",
   "mimetype": "text/x-python",
   "name": "python",
   "nbconvert_exporter": "python",
   "pygments_lexer": "ipython3",
   "version": "3.9.16"
  },
  "orig_nbformat": 4
 },
 "nbformat": 4,
 "nbformat_minor": 2
}
